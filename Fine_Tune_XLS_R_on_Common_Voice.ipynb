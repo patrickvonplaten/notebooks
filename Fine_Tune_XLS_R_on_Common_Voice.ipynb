{
  "nbformat": 4,
  "nbformat_minor": 0,
  "metadata": {
    "accelerator": "GPU",
    "colab": {
      "name": "Copy of Fine-Tune XLS-R on Common Voice.ipynb",
      "provenance": [],
      "collapsed_sections": [],
      "toc_visible": true,
      "machine_shape": "hm",
      "include_colab_link": true
    },
    "kernelspec": {
      "display_name": "Python 3",
      "name": "python3"
    },
    "widgets": {
      "application/vnd.jupyter.widget-state+json": {
        "b896566369e3403091e357af18648740": {
          "model_module": "@jupyter-widgets/controls",
          "model_name": "VBoxModel",
          "model_module_version": "1.5.0",
          "state": {
            "_dom_classes": [],
            "_model_module": "@jupyter-widgets/controls",
            "_model_module_version": "1.5.0",
            "_model_name": "VBoxModel",
            "_view_count": null,
            "_view_module": "@jupyter-widgets/controls",
            "_view_module_version": "1.5.0",
            "_view_name": "VBoxView",
            "box_style": "",
            "children": [
              "IPY_MODEL_26bf8a70fe5449a99ca1b06430b2fc8f",
              "IPY_MODEL_dd5d9b3f70ee4a0dabe18e87ab38145c",
              "IPY_MODEL_2d4eb3e5acc348948299c506db83ca90"
            ],
            "layout": "IPY_MODEL_384228b409cb4bb0bbd77ef259b9a568"
          }
        },
        "26bf8a70fe5449a99ca1b06430b2fc8f": {
          "model_module": "@jupyter-widgets/controls",
          "model_name": "HTMLModel",
          "model_module_version": "1.5.0",
          "state": {
            "_dom_classes": [],
            "_model_module": "@jupyter-widgets/controls",
            "_model_module_version": "1.5.0",
            "_model_name": "HTMLModel",
            "_view_count": null,
            "_view_module": "@jupyter-widgets/controls",
            "_view_module_version": "1.5.0",
            "_view_name": "HTMLView",
            "description": "",
            "description_tooltip": null,
            "layout": "IPY_MODEL_0c01a04a8a924740af301c5c53a51315",
            "placeholder": "​",
            "style": "IPY_MODEL_15f8964842df434ca0dee00d7dc1bd9a",
            "value": "<center>\n<img src=https://huggingface.co/front/assets/huggingface_logo-noborder.svg alt='Hugging Face'>\n<br>\n<b>The AI community building the future</b>\n<br>\nImmediately click login after typing your password or it might be stored in plain text in this notebook file.\n</center>"
          }
        },
        "dd5d9b3f70ee4a0dabe18e87ab38145c": {
          "model_module": "@jupyter-widgets/controls",
          "model_name": "HBoxModel",
          "model_module_version": "1.5.0",
          "state": {
            "_dom_classes": [],
            "_model_module": "@jupyter-widgets/controls",
            "_model_module_version": "1.5.0",
            "_model_name": "HBoxModel",
            "_view_count": null,
            "_view_module": "@jupyter-widgets/controls",
            "_view_module_version": "1.5.0",
            "_view_name": "HBoxView",
            "box_style": "",
            "children": [
              "IPY_MODEL_49f98244a8634be9b2305bb87731e765",
              "IPY_MODEL_a28d3e82e04646b79c89f93cf40ee596"
            ],
            "layout": "IPY_MODEL_4c3e043e600641538a479df6ad389784"
          }
        },
        "2d4eb3e5acc348948299c506db83ca90": {
          "model_module": "@jupyter-widgets/controls",
          "model_name": "ButtonModel",
          "model_module_version": "1.5.0",
          "state": {
            "_dom_classes": [],
            "_model_module": "@jupyter-widgets/controls",
            "_model_module_version": "1.5.0",
            "_model_name": "ButtonModel",
            "_view_count": null,
            "_view_module": "@jupyter-widgets/controls",
            "_view_module_version": "1.5.0",
            "_view_name": "ButtonView",
            "button_style": "",
            "description": "Login",
            "disabled": false,
            "icon": "",
            "layout": "IPY_MODEL_d11d94912b26401a860c80eba767907a",
            "style": "IPY_MODEL_6dd7aa6b17b34d18ba46d834ffd559bc",
            "tooltip": ""
          }
        },
        "384228b409cb4bb0bbd77ef259b9a568": {
          "model_module": "@jupyter-widgets/base",
          "model_name": "LayoutModel",
          "model_module_version": "1.2.0",
          "state": {
            "_model_module": "@jupyter-widgets/base",
            "_model_module_version": "1.2.0",
            "_model_name": "LayoutModel",
            "_view_count": null,
            "_view_module": "@jupyter-widgets/base",
            "_view_module_version": "1.2.0",
            "_view_name": "LayoutView",
            "align_content": null,
            "align_items": "center",
            "align_self": null,
            "border": null,
            "bottom": null,
            "display": "flex",
            "flex": null,
            "flex_flow": "column",
            "grid_area": null,
            "grid_auto_columns": null,
            "grid_auto_flow": null,
            "grid_auto_rows": null,
            "grid_column": null,
            "grid_gap": null,
            "grid_row": null,
            "grid_template_areas": null,
            "grid_template_columns": null,
            "grid_template_rows": null,
            "height": null,
            "justify_content": null,
            "justify_items": null,
            "left": null,
            "margin": null,
            "max_height": null,
            "max_width": null,
            "min_height": null,
            "min_width": null,
            "object_fit": null,
            "object_position": null,
            "order": null,
            "overflow": null,
            "overflow_x": null,
            "overflow_y": null,
            "padding": null,
            "right": null,
            "top": null,
            "visibility": null,
            "width": "50%"
          }
        },
        "0c01a04a8a924740af301c5c53a51315": {
          "model_module": "@jupyter-widgets/base",
          "model_name": "LayoutModel",
          "model_module_version": "1.2.0",
          "state": {
            "_model_module": "@jupyter-widgets/base",
            "_model_module_version": "1.2.0",
            "_model_name": "LayoutModel",
            "_view_count": null,
            "_view_module": "@jupyter-widgets/base",
            "_view_module_version": "1.2.0",
            "_view_name": "LayoutView",
            "align_content": null,
            "align_items": null,
            "align_self": null,
            "border": null,
            "bottom": null,
            "display": null,
            "flex": null,
            "flex_flow": null,
            "grid_area": null,
            "grid_auto_columns": null,
            "grid_auto_flow": null,
            "grid_auto_rows": null,
            "grid_column": null,
            "grid_gap": null,
            "grid_row": null,
            "grid_template_areas": null,
            "grid_template_columns": null,
            "grid_template_rows": null,
            "height": null,
            "justify_content": null,
            "justify_items": null,
            "left": null,
            "margin": null,
            "max_height": null,
            "max_width": null,
            "min_height": null,
            "min_width": null,
            "object_fit": null,
            "object_position": null,
            "order": null,
            "overflow": null,
            "overflow_x": null,
            "overflow_y": null,
            "padding": null,
            "right": null,
            "top": null,
            "visibility": null,
            "width": null
          }
        },
        "15f8964842df434ca0dee00d7dc1bd9a": {
          "model_module": "@jupyter-widgets/controls",
          "model_name": "DescriptionStyleModel",
          "model_module_version": "1.5.0",
          "state": {
            "_model_module": "@jupyter-widgets/controls",
            "_model_module_version": "1.5.0",
            "_model_name": "DescriptionStyleModel",
            "_view_count": null,
            "_view_module": "@jupyter-widgets/base",
            "_view_module_version": "1.2.0",
            "_view_name": "StyleView",
            "description_width": ""
          }
        },
        "49f98244a8634be9b2305bb87731e765": {
          "model_module": "@jupyter-widgets/controls",
          "model_name": "TextModel",
          "model_module_version": "1.5.0",
          "state": {
            "_dom_classes": [],
            "_model_module": "@jupyter-widgets/controls",
            "_model_module_version": "1.5.0",
            "_model_name": "TextModel",
            "_view_count": null,
            "_view_module": "@jupyter-widgets/controls",
            "_view_module_version": "1.5.0",
            "_view_name": "TextView",
            "continuous_update": true,
            "description": "Username:",
            "description_tooltip": null,
            "disabled": false,
            "layout": "IPY_MODEL_4bf1f9d3031e4877aa6ef704e9a227d7",
            "placeholder": "​",
            "style": "IPY_MODEL_bfb6a1e47f6e4f74af4db7e71227ef3e",
            "value": ""
          }
        },
        "a28d3e82e04646b79c89f93cf40ee596": {
          "model_module": "@jupyter-widgets/controls",
          "model_name": "PasswordModel",
          "model_module_version": "1.5.0",
          "state": {
            "_dom_classes": [],
            "_model_module": "@jupyter-widgets/controls",
            "_model_module_version": "1.5.0",
            "_model_name": "PasswordModel",
            "_view_count": null,
            "_view_module": "@jupyter-widgets/controls",
            "_view_module_version": "1.5.0",
            "_view_name": "PasswordView",
            "continuous_update": true,
            "description": "Password:",
            "description_tooltip": null,
            "disabled": false,
            "layout": "IPY_MODEL_8541f8f949ea49b7a1335aaf31ca4f81",
            "placeholder": "​",
            "style": "IPY_MODEL_c237b5686d3e48aeb226c87aa703f63d",
            "value": ""
          }
        },
        "4c3e043e600641538a479df6ad389784": {
          "model_module": "@jupyter-widgets/base",
          "model_name": "LayoutModel",
          "model_module_version": "1.2.0",
          "state": {
            "_model_module": "@jupyter-widgets/base",
            "_model_module_version": "1.2.0",
            "_model_name": "LayoutModel",
            "_view_count": null,
            "_view_module": "@jupyter-widgets/base",
            "_view_module_version": "1.2.0",
            "_view_name": "LayoutView",
            "align_content": null,
            "align_items": null,
            "align_self": null,
            "border": null,
            "bottom": null,
            "display": null,
            "flex": null,
            "flex_flow": null,
            "grid_area": null,
            "grid_auto_columns": null,
            "grid_auto_flow": null,
            "grid_auto_rows": null,
            "grid_column": null,
            "grid_gap": null,
            "grid_row": null,
            "grid_template_areas": null,
            "grid_template_columns": null,
            "grid_template_rows": null,
            "height": null,
            "justify_content": null,
            "justify_items": null,
            "left": null,
            "margin": null,
            "max_height": null,
            "max_width": null,
            "min_height": null,
            "min_width": null,
            "object_fit": null,
            "object_position": null,
            "order": null,
            "overflow": null,
            "overflow_x": null,
            "overflow_y": null,
            "padding": null,
            "right": null,
            "top": null,
            "visibility": null,
            "width": null
          }
        },
        "d11d94912b26401a860c80eba767907a": {
          "model_module": "@jupyter-widgets/base",
          "model_name": "LayoutModel",
          "model_module_version": "1.2.0",
          "state": {
            "_model_module": "@jupyter-widgets/base",
            "_model_module_version": "1.2.0",
            "_model_name": "LayoutModel",
            "_view_count": null,
            "_view_module": "@jupyter-widgets/base",
            "_view_module_version": "1.2.0",
            "_view_name": "LayoutView",
            "align_content": null,
            "align_items": null,
            "align_self": null,
            "border": null,
            "bottom": null,
            "display": null,
            "flex": null,
            "flex_flow": null,
            "grid_area": null,
            "grid_auto_columns": null,
            "grid_auto_flow": null,
            "grid_auto_rows": null,
            "grid_column": null,
            "grid_gap": null,
            "grid_row": null,
            "grid_template_areas": null,
            "grid_template_columns": null,
            "grid_template_rows": null,
            "height": null,
            "justify_content": null,
            "justify_items": null,
            "left": null,
            "margin": null,
            "max_height": null,
            "max_width": null,
            "min_height": null,
            "min_width": null,
            "object_fit": null,
            "object_position": null,
            "order": null,
            "overflow": null,
            "overflow_x": null,
            "overflow_y": null,
            "padding": null,
            "right": null,
            "top": null,
            "visibility": null,
            "width": null
          }
        },
        "6dd7aa6b17b34d18ba46d834ffd559bc": {
          "model_module": "@jupyter-widgets/controls",
          "model_name": "ButtonStyleModel",
          "model_module_version": "1.5.0",
          "state": {
            "_model_module": "@jupyter-widgets/controls",
            "_model_module_version": "1.5.0",
            "_model_name": "ButtonStyleModel",
            "_view_count": null,
            "_view_module": "@jupyter-widgets/base",
            "_view_module_version": "1.2.0",
            "_view_name": "StyleView",
            "button_color": null,
            "font_weight": ""
          }
        },
        "4bf1f9d3031e4877aa6ef704e9a227d7": {
          "model_module": "@jupyter-widgets/base",
          "model_name": "LayoutModel",
          "model_module_version": "1.2.0",
          "state": {
            "_model_module": "@jupyter-widgets/base",
            "_model_module_version": "1.2.0",
            "_model_name": "LayoutModel",
            "_view_count": null,
            "_view_module": "@jupyter-widgets/base",
            "_view_module_version": "1.2.0",
            "_view_name": "LayoutView",
            "align_content": null,
            "align_items": null,
            "align_self": null,
            "border": null,
            "bottom": null,
            "display": null,
            "flex": null,
            "flex_flow": null,
            "grid_area": null,
            "grid_auto_columns": null,
            "grid_auto_flow": null,
            "grid_auto_rows": null,
            "grid_column": null,
            "grid_gap": null,
            "grid_row": null,
            "grid_template_areas": null,
            "grid_template_columns": null,
            "grid_template_rows": null,
            "height": null,
            "justify_content": null,
            "justify_items": null,
            "left": null,
            "margin": null,
            "max_height": null,
            "max_width": null,
            "min_height": null,
            "min_width": null,
            "object_fit": null,
            "object_position": null,
            "order": null,
            "overflow": null,
            "overflow_x": null,
            "overflow_y": null,
            "padding": null,
            "right": null,
            "top": null,
            "visibility": null,
            "width": null
          }
        },
        "bfb6a1e47f6e4f74af4db7e71227ef3e": {
          "model_module": "@jupyter-widgets/controls",
          "model_name": "DescriptionStyleModel",
          "model_module_version": "1.5.0",
          "state": {
            "_model_module": "@jupyter-widgets/controls",
            "_model_module_version": "1.5.0",
            "_model_name": "DescriptionStyleModel",
            "_view_count": null,
            "_view_module": "@jupyter-widgets/base",
            "_view_module_version": "1.2.0",
            "_view_name": "StyleView",
            "description_width": ""
          }
        },
        "8541f8f949ea49b7a1335aaf31ca4f81": {
          "model_module": "@jupyter-widgets/base",
          "model_name": "LayoutModel",
          "model_module_version": "1.2.0",
          "state": {
            "_model_module": "@jupyter-widgets/base",
            "_model_module_version": "1.2.0",
            "_model_name": "LayoutModel",
            "_view_count": null,
            "_view_module": "@jupyter-widgets/base",
            "_view_module_version": "1.2.0",
            "_view_name": "LayoutView",
            "align_content": null,
            "align_items": null,
            "align_self": null,
            "border": null,
            "bottom": null,
            "display": null,
            "flex": null,
            "flex_flow": null,
            "grid_area": null,
            "grid_auto_columns": null,
            "grid_auto_flow": null,
            "grid_auto_rows": null,
            "grid_column": null,
            "grid_gap": null,
            "grid_row": null,
            "grid_template_areas": null,
            "grid_template_columns": null,
            "grid_template_rows": null,
            "height": null,
            "justify_content": null,
            "justify_items": null,
            "left": null,
            "margin": null,
            "max_height": null,
            "max_width": null,
            "min_height": null,
            "min_width": null,
            "object_fit": null,
            "object_position": null,
            "order": null,
            "overflow": null,
            "overflow_x": null,
            "overflow_y": null,
            "padding": null,
            "right": null,
            "top": null,
            "visibility": null,
            "width": null
          }
        },
        "c237b5686d3e48aeb226c87aa703f63d": {
          "model_module": "@jupyter-widgets/controls",
          "model_name": "DescriptionStyleModel",
          "model_module_version": "1.5.0",
          "state": {
            "_model_module": "@jupyter-widgets/controls",
            "_model_module_version": "1.5.0",
            "_model_name": "DescriptionStyleModel",
            "_view_count": null,
            "_view_module": "@jupyter-widgets/base",
            "_view_module_version": "1.2.0",
            "_view_name": "StyleView",
            "description_width": ""
          }
        },
        "e78238c96d6a4152bf40f5d7a81e5495": {
          "model_module": "@jupyter-widgets/controls",
          "model_name": "HBoxModel",
          "model_module_version": "1.5.0",
          "state": {
            "_dom_classes": [],
            "_model_module": "@jupyter-widgets/controls",
            "_model_module_version": "1.5.0",
            "_model_name": "HBoxModel",
            "_view_count": null,
            "_view_module": "@jupyter-widgets/controls",
            "_view_module_version": "1.5.0",
            "_view_name": "HBoxView",
            "box_style": "",
            "children": [
              "IPY_MODEL_75b26f4a95d24e9d8939d1f7b376eb51",
              "IPY_MODEL_f58af0561fc242238cfd0163f0ad5e5f",
              "IPY_MODEL_a1419cc920324f62be58d6e48a82e275"
            ],
            "layout": "IPY_MODEL_6ec3c80319fb45f3b6f7715049c9bce0"
          }
        },
        "75b26f4a95d24e9d8939d1f7b376eb51": {
          "model_module": "@jupyter-widgets/controls",
          "model_name": "HTMLModel",
          "model_module_version": "1.5.0",
          "state": {
            "_dom_classes": [],
            "_model_module": "@jupyter-widgets/controls",
            "_model_module_version": "1.5.0",
            "_model_name": "HTMLModel",
            "_view_count": null,
            "_view_module": "@jupyter-widgets/controls",
            "_view_module_version": "1.5.0",
            "_view_name": "HTMLView",
            "description": "",
            "description_tooltip": null,
            "layout": "IPY_MODEL_02519344818c40d0b961c5ea210a5c62",
            "placeholder": "​",
            "style": "IPY_MODEL_e575e46791b24f449b8afcb773e46dcc",
            "value": "100%"
          }
        },
        "f58af0561fc242238cfd0163f0ad5e5f": {
          "model_module": "@jupyter-widgets/controls",
          "model_name": "FloatProgressModel",
          "model_module_version": "1.5.0",
          "state": {
            "_dom_classes": [],
            "_model_module": "@jupyter-widgets/controls",
            "_model_module_version": "1.5.0",
            "_model_name": "FloatProgressModel",
            "_view_count": null,
            "_view_module": "@jupyter-widgets/controls",
            "_view_module_version": "1.5.0",
            "_view_name": "ProgressView",
            "bar_style": "success",
            "description": "",
            "description_tooltip": null,
            "layout": "IPY_MODEL_5cff6b2dd6944c59b8c2f205db5f49bf",
            "max": 1,
            "min": 0,
            "orientation": "horizontal",
            "style": "IPY_MODEL_5ba2a38c71e64253a4fd39cf7d3b3326",
            "value": 1
          }
        },
        "a1419cc920324f62be58d6e48a82e275": {
          "model_module": "@jupyter-widgets/controls",
          "model_name": "HTMLModel",
          "model_module_version": "1.5.0",
          "state": {
            "_dom_classes": [],
            "_model_module": "@jupyter-widgets/controls",
            "_model_module_version": "1.5.0",
            "_model_name": "HTMLModel",
            "_view_count": null,
            "_view_module": "@jupyter-widgets/controls",
            "_view_module_version": "1.5.0",
            "_view_name": "HTMLView",
            "description": "",
            "description_tooltip": null,
            "layout": "IPY_MODEL_bc11f833cc9c441b9a58d69ea792fa9c",
            "placeholder": "​",
            "style": "IPY_MODEL_4f81e460906a428f9f74a0aa469ba63f",
            "value": " 1/1 [00:00&lt;00:00, 12.65ba/s]"
          }
        },
        "6ec3c80319fb45f3b6f7715049c9bce0": {
          "model_module": "@jupyter-widgets/base",
          "model_name": "LayoutModel",
          "model_module_version": "1.2.0",
          "state": {
            "_model_module": "@jupyter-widgets/base",
            "_model_module_version": "1.2.0",
            "_model_name": "LayoutModel",
            "_view_count": null,
            "_view_module": "@jupyter-widgets/base",
            "_view_module_version": "1.2.0",
            "_view_name": "LayoutView",
            "align_content": null,
            "align_items": null,
            "align_self": null,
            "border": null,
            "bottom": null,
            "display": null,
            "flex": null,
            "flex_flow": null,
            "grid_area": null,
            "grid_auto_columns": null,
            "grid_auto_flow": null,
            "grid_auto_rows": null,
            "grid_column": null,
            "grid_gap": null,
            "grid_row": null,
            "grid_template_areas": null,
            "grid_template_columns": null,
            "grid_template_rows": null,
            "height": null,
            "justify_content": null,
            "justify_items": null,
            "left": null,
            "margin": null,
            "max_height": null,
            "max_width": null,
            "min_height": null,
            "min_width": null,
            "object_fit": null,
            "object_position": null,
            "order": null,
            "overflow": null,
            "overflow_x": null,
            "overflow_y": null,
            "padding": null,
            "right": null,
            "top": null,
            "visibility": null,
            "width": null
          }
        },
        "02519344818c40d0b961c5ea210a5c62": {
          "model_module": "@jupyter-widgets/base",
          "model_name": "LayoutModel",
          "model_module_version": "1.2.0",
          "state": {
            "_model_module": "@jupyter-widgets/base",
            "_model_module_version": "1.2.0",
            "_model_name": "LayoutModel",
            "_view_count": null,
            "_view_module": "@jupyter-widgets/base",
            "_view_module_version": "1.2.0",
            "_view_name": "LayoutView",
            "align_content": null,
            "align_items": null,
            "align_self": null,
            "border": null,
            "bottom": null,
            "display": null,
            "flex": null,
            "flex_flow": null,
            "grid_area": null,
            "grid_auto_columns": null,
            "grid_auto_flow": null,
            "grid_auto_rows": null,
            "grid_column": null,
            "grid_gap": null,
            "grid_row": null,
            "grid_template_areas": null,
            "grid_template_columns": null,
            "grid_template_rows": null,
            "height": null,
            "justify_content": null,
            "justify_items": null,
            "left": null,
            "margin": null,
            "max_height": null,
            "max_width": null,
            "min_height": null,
            "min_width": null,
            "object_fit": null,
            "object_position": null,
            "order": null,
            "overflow": null,
            "overflow_x": null,
            "overflow_y": null,
            "padding": null,
            "right": null,
            "top": null,
            "visibility": null,
            "width": null
          }
        },
        "e575e46791b24f449b8afcb773e46dcc": {
          "model_module": "@jupyter-widgets/controls",
          "model_name": "DescriptionStyleModel",
          "model_module_version": "1.5.0",
          "state": {
            "_model_module": "@jupyter-widgets/controls",
            "_model_module_version": "1.5.0",
            "_model_name": "DescriptionStyleModel",
            "_view_count": null,
            "_view_module": "@jupyter-widgets/base",
            "_view_module_version": "1.2.0",
            "_view_name": "StyleView",
            "description_width": ""
          }
        },
        "5cff6b2dd6944c59b8c2f205db5f49bf": {
          "model_module": "@jupyter-widgets/base",
          "model_name": "LayoutModel",
          "model_module_version": "1.2.0",
          "state": {
            "_model_module": "@jupyter-widgets/base",
            "_model_module_version": "1.2.0",
            "_model_name": "LayoutModel",
            "_view_count": null,
            "_view_module": "@jupyter-widgets/base",
            "_view_module_version": "1.2.0",
            "_view_name": "LayoutView",
            "align_content": null,
            "align_items": null,
            "align_self": null,
            "border": null,
            "bottom": null,
            "display": null,
            "flex": null,
            "flex_flow": null,
            "grid_area": null,
            "grid_auto_columns": null,
            "grid_auto_flow": null,
            "grid_auto_rows": null,
            "grid_column": null,
            "grid_gap": null,
            "grid_row": null,
            "grid_template_areas": null,
            "grid_template_columns": null,
            "grid_template_rows": null,
            "height": null,
            "justify_content": null,
            "justify_items": null,
            "left": null,
            "margin": null,
            "max_height": null,
            "max_width": null,
            "min_height": null,
            "min_width": null,
            "object_fit": null,
            "object_position": null,
            "order": null,
            "overflow": null,
            "overflow_x": null,
            "overflow_y": null,
            "padding": null,
            "right": null,
            "top": null,
            "visibility": null,
            "width": null
          }
        },
        "5ba2a38c71e64253a4fd39cf7d3b3326": {
          "model_module": "@jupyter-widgets/controls",
          "model_name": "ProgressStyleModel",
          "model_module_version": "1.5.0",
          "state": {
            "_model_module": "@jupyter-widgets/controls",
            "_model_module_version": "1.5.0",
            "_model_name": "ProgressStyleModel",
            "_view_count": null,
            "_view_module": "@jupyter-widgets/base",
            "_view_module_version": "1.2.0",
            "_view_name": "StyleView",
            "bar_color": null,
            "description_width": ""
          }
        },
        "bc11f833cc9c441b9a58d69ea792fa9c": {
          "model_module": "@jupyter-widgets/base",
          "model_name": "LayoutModel",
          "model_module_version": "1.2.0",
          "state": {
            "_model_module": "@jupyter-widgets/base",
            "_model_module_version": "1.2.0",
            "_model_name": "LayoutModel",
            "_view_count": null,
            "_view_module": "@jupyter-widgets/base",
            "_view_module_version": "1.2.0",
            "_view_name": "LayoutView",
            "align_content": null,
            "align_items": null,
            "align_self": null,
            "border": null,
            "bottom": null,
            "display": null,
            "flex": null,
            "flex_flow": null,
            "grid_area": null,
            "grid_auto_columns": null,
            "grid_auto_flow": null,
            "grid_auto_rows": null,
            "grid_column": null,
            "grid_gap": null,
            "grid_row": null,
            "grid_template_areas": null,
            "grid_template_columns": null,
            "grid_template_rows": null,
            "height": null,
            "justify_content": null,
            "justify_items": null,
            "left": null,
            "margin": null,
            "max_height": null,
            "max_width": null,
            "min_height": null,
            "min_width": null,
            "object_fit": null,
            "object_position": null,
            "order": null,
            "overflow": null,
            "overflow_x": null,
            "overflow_y": null,
            "padding": null,
            "right": null,
            "top": null,
            "visibility": null,
            "width": null
          }
        },
        "4f81e460906a428f9f74a0aa469ba63f": {
          "model_module": "@jupyter-widgets/controls",
          "model_name": "DescriptionStyleModel",
          "model_module_version": "1.5.0",
          "state": {
            "_model_module": "@jupyter-widgets/controls",
            "_model_module_version": "1.5.0",
            "_model_name": "DescriptionStyleModel",
            "_view_count": null,
            "_view_module": "@jupyter-widgets/base",
            "_view_module_version": "1.2.0",
            "_view_name": "StyleView",
            "description_width": ""
          }
        },
        "093927de0d86406290365759e88fd4e7": {
          "model_module": "@jupyter-widgets/controls",
          "model_name": "HBoxModel",
          "model_module_version": "1.5.0",
          "state": {
            "_dom_classes": [],
            "_model_module": "@jupyter-widgets/controls",
            "_model_module_version": "1.5.0",
            "_model_name": "HBoxModel",
            "_view_count": null,
            "_view_module": "@jupyter-widgets/controls",
            "_view_module_version": "1.5.0",
            "_view_name": "HBoxView",
            "box_style": "",
            "children": [
              "IPY_MODEL_f6e777f3a1684a7da3efc63281553b5e",
              "IPY_MODEL_609781a3f55d4d3dbf0b3640972755fa",
              "IPY_MODEL_8783792878a64402981a416989924348"
            ],
            "layout": "IPY_MODEL_92e295e353624110880cff6835b9e119"
          }
        },
        "f6e777f3a1684a7da3efc63281553b5e": {
          "model_module": "@jupyter-widgets/controls",
          "model_name": "HTMLModel",
          "model_module_version": "1.5.0",
          "state": {
            "_dom_classes": [],
            "_model_module": "@jupyter-widgets/controls",
            "_model_module_version": "1.5.0",
            "_model_name": "HTMLModel",
            "_view_count": null,
            "_view_module": "@jupyter-widgets/controls",
            "_view_module_version": "1.5.0",
            "_view_name": "HTMLView",
            "description": "",
            "description_tooltip": null,
            "layout": "IPY_MODEL_db7a9c27eabb4ba391bfb9d819d7a36e",
            "placeholder": "​",
            "style": "IPY_MODEL_fd2ba2bf4b2946078a0761b773626b64",
            "value": "100%"
          }
        },
        "609781a3f55d4d3dbf0b3640972755fa": {
          "model_module": "@jupyter-widgets/controls",
          "model_name": "FloatProgressModel",
          "model_module_version": "1.5.0",
          "state": {
            "_dom_classes": [],
            "_model_module": "@jupyter-widgets/controls",
            "_model_module_version": "1.5.0",
            "_model_name": "FloatProgressModel",
            "_view_count": null,
            "_view_module": "@jupyter-widgets/controls",
            "_view_module_version": "1.5.0",
            "_view_name": "ProgressView",
            "bar_style": "success",
            "description": "",
            "description_tooltip": null,
            "layout": "IPY_MODEL_a5777207c788498fb4ac4900af91d7cf",
            "max": 1,
            "min": 0,
            "orientation": "horizontal",
            "style": "IPY_MODEL_890ff54dc35e460b9108e2690966fafe",
            "value": 1
          }
        },
        "8783792878a64402981a416989924348": {
          "model_module": "@jupyter-widgets/controls",
          "model_name": "HTMLModel",
          "model_module_version": "1.5.0",
          "state": {
            "_dom_classes": [],
            "_model_module": "@jupyter-widgets/controls",
            "_model_module_version": "1.5.0",
            "_model_name": "HTMLModel",
            "_view_count": null,
            "_view_module": "@jupyter-widgets/controls",
            "_view_module_version": "1.5.0",
            "_view_name": "HTMLView",
            "description": "",
            "description_tooltip": null,
            "layout": "IPY_MODEL_cc70741031664fa89bfe8e8e672c5b2b",
            "placeholder": "​",
            "style": "IPY_MODEL_46c8681bd36f419495d33b06c96311ed",
            "value": " 1/1 [00:00&lt;00:00, 18.54ba/s]"
          }
        },
        "92e295e353624110880cff6835b9e119": {
          "model_module": "@jupyter-widgets/base",
          "model_name": "LayoutModel",
          "model_module_version": "1.2.0",
          "state": {
            "_model_module": "@jupyter-widgets/base",
            "_model_module_version": "1.2.0",
            "_model_name": "LayoutModel",
            "_view_count": null,
            "_view_module": "@jupyter-widgets/base",
            "_view_module_version": "1.2.0",
            "_view_name": "LayoutView",
            "align_content": null,
            "align_items": null,
            "align_self": null,
            "border": null,
            "bottom": null,
            "display": null,
            "flex": null,
            "flex_flow": null,
            "grid_area": null,
            "grid_auto_columns": null,
            "grid_auto_flow": null,
            "grid_auto_rows": null,
            "grid_column": null,
            "grid_gap": null,
            "grid_row": null,
            "grid_template_areas": null,
            "grid_template_columns": null,
            "grid_template_rows": null,
            "height": null,
            "justify_content": null,
            "justify_items": null,
            "left": null,
            "margin": null,
            "max_height": null,
            "max_width": null,
            "min_height": null,
            "min_width": null,
            "object_fit": null,
            "object_position": null,
            "order": null,
            "overflow": null,
            "overflow_x": null,
            "overflow_y": null,
            "padding": null,
            "right": null,
            "top": null,
            "visibility": null,
            "width": null
          }
        },
        "db7a9c27eabb4ba391bfb9d819d7a36e": {
          "model_module": "@jupyter-widgets/base",
          "model_name": "LayoutModel",
          "model_module_version": "1.2.0",
          "state": {
            "_model_module": "@jupyter-widgets/base",
            "_model_module_version": "1.2.0",
            "_model_name": "LayoutModel",
            "_view_count": null,
            "_view_module": "@jupyter-widgets/base",
            "_view_module_version": "1.2.0",
            "_view_name": "LayoutView",
            "align_content": null,
            "align_items": null,
            "align_self": null,
            "border": null,
            "bottom": null,
            "display": null,
            "flex": null,
            "flex_flow": null,
            "grid_area": null,
            "grid_auto_columns": null,
            "grid_auto_flow": null,
            "grid_auto_rows": null,
            "grid_column": null,
            "grid_gap": null,
            "grid_row": null,
            "grid_template_areas": null,
            "grid_template_columns": null,
            "grid_template_rows": null,
            "height": null,
            "justify_content": null,
            "justify_items": null,
            "left": null,
            "margin": null,
            "max_height": null,
            "max_width": null,
            "min_height": null,
            "min_width": null,
            "object_fit": null,
            "object_position": null,
            "order": null,
            "overflow": null,
            "overflow_x": null,
            "overflow_y": null,
            "padding": null,
            "right": null,
            "top": null,
            "visibility": null,
            "width": null
          }
        },
        "fd2ba2bf4b2946078a0761b773626b64": {
          "model_module": "@jupyter-widgets/controls",
          "model_name": "DescriptionStyleModel",
          "model_module_version": "1.5.0",
          "state": {
            "_model_module": "@jupyter-widgets/controls",
            "_model_module_version": "1.5.0",
            "_model_name": "DescriptionStyleModel",
            "_view_count": null,
            "_view_module": "@jupyter-widgets/base",
            "_view_module_version": "1.2.0",
            "_view_name": "StyleView",
            "description_width": ""
          }
        },
        "a5777207c788498fb4ac4900af91d7cf": {
          "model_module": "@jupyter-widgets/base",
          "model_name": "LayoutModel",
          "model_module_version": "1.2.0",
          "state": {
            "_model_module": "@jupyter-widgets/base",
            "_model_module_version": "1.2.0",
            "_model_name": "LayoutModel",
            "_view_count": null,
            "_view_module": "@jupyter-widgets/base",
            "_view_module_version": "1.2.0",
            "_view_name": "LayoutView",
            "align_content": null,
            "align_items": null,
            "align_self": null,
            "border": null,
            "bottom": null,
            "display": null,
            "flex": null,
            "flex_flow": null,
            "grid_area": null,
            "grid_auto_columns": null,
            "grid_auto_flow": null,
            "grid_auto_rows": null,
            "grid_column": null,
            "grid_gap": null,
            "grid_row": null,
            "grid_template_areas": null,
            "grid_template_columns": null,
            "grid_template_rows": null,
            "height": null,
            "justify_content": null,
            "justify_items": null,
            "left": null,
            "margin": null,
            "max_height": null,
            "max_width": null,
            "min_height": null,
            "min_width": null,
            "object_fit": null,
            "object_position": null,
            "order": null,
            "overflow": null,
            "overflow_x": null,
            "overflow_y": null,
            "padding": null,
            "right": null,
            "top": null,
            "visibility": null,
            "width": null
          }
        },
        "890ff54dc35e460b9108e2690966fafe": {
          "model_module": "@jupyter-widgets/controls",
          "model_name": "ProgressStyleModel",
          "model_module_version": "1.5.0",
          "state": {
            "_model_module": "@jupyter-widgets/controls",
            "_model_module_version": "1.5.0",
            "_model_name": "ProgressStyleModel",
            "_view_count": null,
            "_view_module": "@jupyter-widgets/base",
            "_view_module_version": "1.2.0",
            "_view_name": "StyleView",
            "bar_color": null,
            "description_width": ""
          }
        },
        "cc70741031664fa89bfe8e8e672c5b2b": {
          "model_module": "@jupyter-widgets/base",
          "model_name": "LayoutModel",
          "model_module_version": "1.2.0",
          "state": {
            "_model_module": "@jupyter-widgets/base",
            "_model_module_version": "1.2.0",
            "_model_name": "LayoutModel",
            "_view_count": null,
            "_view_module": "@jupyter-widgets/base",
            "_view_module_version": "1.2.0",
            "_view_name": "LayoutView",
            "align_content": null,
            "align_items": null,
            "align_self": null,
            "border": null,
            "bottom": null,
            "display": null,
            "flex": null,
            "flex_flow": null,
            "grid_area": null,
            "grid_auto_columns": null,
            "grid_auto_flow": null,
            "grid_auto_rows": null,
            "grid_column": null,
            "grid_gap": null,
            "grid_row": null,
            "grid_template_areas": null,
            "grid_template_columns": null,
            "grid_template_rows": null,
            "height": null,
            "justify_content": null,
            "justify_items": null,
            "left": null,
            "margin": null,
            "max_height": null,
            "max_width": null,
            "min_height": null,
            "min_width": null,
            "object_fit": null,
            "object_position": null,
            "order": null,
            "overflow": null,
            "overflow_x": null,
            "overflow_y": null,
            "padding": null,
            "right": null,
            "top": null,
            "visibility": null,
            "width": null
          }
        },
        "46c8681bd36f419495d33b06c96311ed": {
          "model_module": "@jupyter-widgets/controls",
          "model_name": "DescriptionStyleModel",
          "model_module_version": "1.5.0",
          "state": {
            "_model_module": "@jupyter-widgets/controls",
            "_model_module_version": "1.5.0",
            "_model_name": "DescriptionStyleModel",
            "_view_count": null,
            "_view_module": "@jupyter-widgets/base",
            "_view_module_version": "1.2.0",
            "_view_name": "StyleView",
            "description_width": ""
          }
        },
        "012b09b271a842d0a7f1cd1260654c82": {
          "model_module": "@jupyter-widgets/controls",
          "model_name": "HBoxModel",
          "model_module_version": "1.5.0",
          "state": {
            "_dom_classes": [],
            "_model_module": "@jupyter-widgets/controls",
            "_model_module_version": "1.5.0",
            "_model_name": "HBoxModel",
            "_view_count": null,
            "_view_module": "@jupyter-widgets/controls",
            "_view_module_version": "1.5.0",
            "_view_name": "HBoxView",
            "box_style": "",
            "children": [
              "IPY_MODEL_6a40faf77bf445308534e7acada6bf0d",
              "IPY_MODEL_a62ff1ee03dc47c9834b43720df991ea",
              "IPY_MODEL_03d00b443bfd445d9286f64fd8556031"
            ],
            "layout": "IPY_MODEL_557063bf861648f7aefacf71aa53ea9b"
          }
        },
        "6a40faf77bf445308534e7acada6bf0d": {
          "model_module": "@jupyter-widgets/controls",
          "model_name": "HTMLModel",
          "model_module_version": "1.5.0",
          "state": {
            "_dom_classes": [],
            "_model_module": "@jupyter-widgets/controls",
            "_model_module_version": "1.5.0",
            "_model_name": "HTMLModel",
            "_view_count": null,
            "_view_module": "@jupyter-widgets/controls",
            "_view_module_version": "1.5.0",
            "_view_name": "HTMLView",
            "description": "",
            "description_tooltip": null,
            "layout": "IPY_MODEL_21af0f39c0ce40a5846b980f98481940",
            "placeholder": "​",
            "style": "IPY_MODEL_f6e0ea791e5a44abb5d5891bb3e254ad",
            "value": "100%"
          }
        },
        "a62ff1ee03dc47c9834b43720df991ea": {
          "model_module": "@jupyter-widgets/controls",
          "model_name": "FloatProgressModel",
          "model_module_version": "1.5.0",
          "state": {
            "_dom_classes": [],
            "_model_module": "@jupyter-widgets/controls",
            "_model_module_version": "1.5.0",
            "_model_name": "FloatProgressModel",
            "_view_count": null,
            "_view_module": "@jupyter-widgets/controls",
            "_view_module_version": "1.5.0",
            "_view_name": "ProgressView",
            "bar_style": "success",
            "description": "",
            "description_tooltip": null,
            "layout": "IPY_MODEL_6323e35581be4b338a904266a5e85005",
            "max": 3478,
            "min": 0,
            "orientation": "horizontal",
            "style": "IPY_MODEL_6da7072e7f634a3aa2927fca1bcf38c0",
            "value": 3478
          }
        },
        "03d00b443bfd445d9286f64fd8556031": {
          "model_module": "@jupyter-widgets/controls",
          "model_name": "HTMLModel",
          "model_module_version": "1.5.0",
          "state": {
            "_dom_classes": [],
            "_model_module": "@jupyter-widgets/controls",
            "_model_module_version": "1.5.0",
            "_model_name": "HTMLModel",
            "_view_count": null,
            "_view_module": "@jupyter-widgets/controls",
            "_view_module_version": "1.5.0",
            "_view_name": "HTMLView",
            "description": "",
            "description_tooltip": null,
            "layout": "IPY_MODEL_716dc4ab4fe74abab49f3c0f009357f5",
            "placeholder": "​",
            "style": "IPY_MODEL_8a669878b8354867944e577860910001",
            "value": " 3478/3478 [00:39&lt;00:00, 86.00ex/s]"
          }
        },
        "557063bf861648f7aefacf71aa53ea9b": {
          "model_module": "@jupyter-widgets/base",
          "model_name": "LayoutModel",
          "model_module_version": "1.2.0",
          "state": {
            "_model_module": "@jupyter-widgets/base",
            "_model_module_version": "1.2.0",
            "_model_name": "LayoutModel",
            "_view_count": null,
            "_view_module": "@jupyter-widgets/base",
            "_view_module_version": "1.2.0",
            "_view_name": "LayoutView",
            "align_content": null,
            "align_items": null,
            "align_self": null,
            "border": null,
            "bottom": null,
            "display": null,
            "flex": null,
            "flex_flow": null,
            "grid_area": null,
            "grid_auto_columns": null,
            "grid_auto_flow": null,
            "grid_auto_rows": null,
            "grid_column": null,
            "grid_gap": null,
            "grid_row": null,
            "grid_template_areas": null,
            "grid_template_columns": null,
            "grid_template_rows": null,
            "height": null,
            "justify_content": null,
            "justify_items": null,
            "left": null,
            "margin": null,
            "max_height": null,
            "max_width": null,
            "min_height": null,
            "min_width": null,
            "object_fit": null,
            "object_position": null,
            "order": null,
            "overflow": null,
            "overflow_x": null,
            "overflow_y": null,
            "padding": null,
            "right": null,
            "top": null,
            "visibility": null,
            "width": null
          }
        },
        "21af0f39c0ce40a5846b980f98481940": {
          "model_module": "@jupyter-widgets/base",
          "model_name": "LayoutModel",
          "model_module_version": "1.2.0",
          "state": {
            "_model_module": "@jupyter-widgets/base",
            "_model_module_version": "1.2.0",
            "_model_name": "LayoutModel",
            "_view_count": null,
            "_view_module": "@jupyter-widgets/base",
            "_view_module_version": "1.2.0",
            "_view_name": "LayoutView",
            "align_content": null,
            "align_items": null,
            "align_self": null,
            "border": null,
            "bottom": null,
            "display": null,
            "flex": null,
            "flex_flow": null,
            "grid_area": null,
            "grid_auto_columns": null,
            "grid_auto_flow": null,
            "grid_auto_rows": null,
            "grid_column": null,
            "grid_gap": null,
            "grid_row": null,
            "grid_template_areas": null,
            "grid_template_columns": null,
            "grid_template_rows": null,
            "height": null,
            "justify_content": null,
            "justify_items": null,
            "left": null,
            "margin": null,
            "max_height": null,
            "max_width": null,
            "min_height": null,
            "min_width": null,
            "object_fit": null,
            "object_position": null,
            "order": null,
            "overflow": null,
            "overflow_x": null,
            "overflow_y": null,
            "padding": null,
            "right": null,
            "top": null,
            "visibility": null,
            "width": null
          }
        },
        "f6e0ea791e5a44abb5d5891bb3e254ad": {
          "model_module": "@jupyter-widgets/controls",
          "model_name": "DescriptionStyleModel",
          "model_module_version": "1.5.0",
          "state": {
            "_model_module": "@jupyter-widgets/controls",
            "_model_module_version": "1.5.0",
            "_model_name": "DescriptionStyleModel",
            "_view_count": null,
            "_view_module": "@jupyter-widgets/base",
            "_view_module_version": "1.2.0",
            "_view_name": "StyleView",
            "description_width": ""
          }
        },
        "6323e35581be4b338a904266a5e85005": {
          "model_module": "@jupyter-widgets/base",
          "model_name": "LayoutModel",
          "model_module_version": "1.2.0",
          "state": {
            "_model_module": "@jupyter-widgets/base",
            "_model_module_version": "1.2.0",
            "_model_name": "LayoutModel",
            "_view_count": null,
            "_view_module": "@jupyter-widgets/base",
            "_view_module_version": "1.2.0",
            "_view_name": "LayoutView",
            "align_content": null,
            "align_items": null,
            "align_self": null,
            "border": null,
            "bottom": null,
            "display": null,
            "flex": null,
            "flex_flow": null,
            "grid_area": null,
            "grid_auto_columns": null,
            "grid_auto_flow": null,
            "grid_auto_rows": null,
            "grid_column": null,
            "grid_gap": null,
            "grid_row": null,
            "grid_template_areas": null,
            "grid_template_columns": null,
            "grid_template_rows": null,
            "height": null,
            "justify_content": null,
            "justify_items": null,
            "left": null,
            "margin": null,
            "max_height": null,
            "max_width": null,
            "min_height": null,
            "min_width": null,
            "object_fit": null,
            "object_position": null,
            "order": null,
            "overflow": null,
            "overflow_x": null,
            "overflow_y": null,
            "padding": null,
            "right": null,
            "top": null,
            "visibility": null,
            "width": null
          }
        },
        "6da7072e7f634a3aa2927fca1bcf38c0": {
          "model_module": "@jupyter-widgets/controls",
          "model_name": "ProgressStyleModel",
          "model_module_version": "1.5.0",
          "state": {
            "_model_module": "@jupyter-widgets/controls",
            "_model_module_version": "1.5.0",
            "_model_name": "ProgressStyleModel",
            "_view_count": null,
            "_view_module": "@jupyter-widgets/base",
            "_view_module_version": "1.2.0",
            "_view_name": "StyleView",
            "bar_color": null,
            "description_width": ""
          }
        },
        "716dc4ab4fe74abab49f3c0f009357f5": {
          "model_module": "@jupyter-widgets/base",
          "model_name": "LayoutModel",
          "model_module_version": "1.2.0",
          "state": {
            "_model_module": "@jupyter-widgets/base",
            "_model_module_version": "1.2.0",
            "_model_name": "LayoutModel",
            "_view_count": null,
            "_view_module": "@jupyter-widgets/base",
            "_view_module_version": "1.2.0",
            "_view_name": "LayoutView",
            "align_content": null,
            "align_items": null,
            "align_self": null,
            "border": null,
            "bottom": null,
            "display": null,
            "flex": null,
            "flex_flow": null,
            "grid_area": null,
            "grid_auto_columns": null,
            "grid_auto_flow": null,
            "grid_auto_rows": null,
            "grid_column": null,
            "grid_gap": null,
            "grid_row": null,
            "grid_template_areas": null,
            "grid_template_columns": null,
            "grid_template_rows": null,
            "height": null,
            "justify_content": null,
            "justify_items": null,
            "left": null,
            "margin": null,
            "max_height": null,
            "max_width": null,
            "min_height": null,
            "min_width": null,
            "object_fit": null,
            "object_position": null,
            "order": null,
            "overflow": null,
            "overflow_x": null,
            "overflow_y": null,
            "padding": null,
            "right": null,
            "top": null,
            "visibility": null,
            "width": null
          }
        },
        "8a669878b8354867944e577860910001": {
          "model_module": "@jupyter-widgets/controls",
          "model_name": "DescriptionStyleModel",
          "model_module_version": "1.5.0",
          "state": {
            "_model_module": "@jupyter-widgets/controls",
            "_model_module_version": "1.5.0",
            "_model_name": "DescriptionStyleModel",
            "_view_count": null,
            "_view_module": "@jupyter-widgets/base",
            "_view_module_version": "1.2.0",
            "_view_name": "StyleView",
            "description_width": ""
          }
        },
        "3aa317d2b42e4674b38dafa87b5599c5": {
          "model_module": "@jupyter-widgets/controls",
          "model_name": "HBoxModel",
          "model_module_version": "1.5.0",
          "state": {
            "_dom_classes": [],
            "_model_module": "@jupyter-widgets/controls",
            "_model_module_version": "1.5.0",
            "_model_name": "HBoxModel",
            "_view_count": null,
            "_view_module": "@jupyter-widgets/controls",
            "_view_module_version": "1.5.0",
            "_view_name": "HBoxView",
            "box_style": "",
            "children": [
              "IPY_MODEL_0a7c2124936345febe50288a476a12a6",
              "IPY_MODEL_bdcf9380af5d4601b9b2de84b06ecb40",
              "IPY_MODEL_b9c5532ffabb44078de8a6f76a4b8be6"
            ],
            "layout": "IPY_MODEL_7732bb1317f940faa455f992f4fd2b26"
          }
        },
        "0a7c2124936345febe50288a476a12a6": {
          "model_module": "@jupyter-widgets/controls",
          "model_name": "HTMLModel",
          "model_module_version": "1.5.0",
          "state": {
            "_dom_classes": [],
            "_model_module": "@jupyter-widgets/controls",
            "_model_module_version": "1.5.0",
            "_model_name": "HTMLModel",
            "_view_count": null,
            "_view_module": "@jupyter-widgets/controls",
            "_view_module_version": "1.5.0",
            "_view_name": "HTMLView",
            "description": "",
            "description_tooltip": null,
            "layout": "IPY_MODEL_f28c64f34f9540b6b6bdc765c84e2307",
            "placeholder": "​",
            "style": "IPY_MODEL_02016dcc44994c15b69e7f2c4dd0d9c4",
            "value": "100%"
          }
        },
        "bdcf9380af5d4601b9b2de84b06ecb40": {
          "model_module": "@jupyter-widgets/controls",
          "model_name": "FloatProgressModel",
          "model_module_version": "1.5.0",
          "state": {
            "_dom_classes": [],
            "_model_module": "@jupyter-widgets/controls",
            "_model_module_version": "1.5.0",
            "_model_name": "FloatProgressModel",
            "_view_count": null,
            "_view_module": "@jupyter-widgets/controls",
            "_view_module_version": "1.5.0",
            "_view_name": "ProgressView",
            "bar_style": "success",
            "description": "",
            "description_tooltip": null,
            "layout": "IPY_MODEL_bbfc45e0cf5644f6bc24118fa9c6c098",
            "max": 1647,
            "min": 0,
            "orientation": "horizontal",
            "style": "IPY_MODEL_eca458b185ae4570b1ec1e77389c871e",
            "value": 1647
          }
        },
        "b9c5532ffabb44078de8a6f76a4b8be6": {
          "model_module": "@jupyter-widgets/controls",
          "model_name": "HTMLModel",
          "model_module_version": "1.5.0",
          "state": {
            "_dom_classes": [],
            "_model_module": "@jupyter-widgets/controls",
            "_model_module_version": "1.5.0",
            "_model_name": "HTMLModel",
            "_view_count": null,
            "_view_module": "@jupyter-widgets/controls",
            "_view_module_version": "1.5.0",
            "_view_name": "HTMLView",
            "description": "",
            "description_tooltip": null,
            "layout": "IPY_MODEL_fe156fa95ee9410daff8f7c9a8b0d3a3",
            "placeholder": "​",
            "style": "IPY_MODEL_a5e2e1fe3ab94cc6ae1a73cc1ab6f9a8",
            "value": " 1647/1647 [00:20&lt;00:00, 89.86ex/s]"
          }
        },
        "7732bb1317f940faa455f992f4fd2b26": {
          "model_module": "@jupyter-widgets/base",
          "model_name": "LayoutModel",
          "model_module_version": "1.2.0",
          "state": {
            "_model_module": "@jupyter-widgets/base",
            "_model_module_version": "1.2.0",
            "_model_name": "LayoutModel",
            "_view_count": null,
            "_view_module": "@jupyter-widgets/base",
            "_view_module_version": "1.2.0",
            "_view_name": "LayoutView",
            "align_content": null,
            "align_items": null,
            "align_self": null,
            "border": null,
            "bottom": null,
            "display": null,
            "flex": null,
            "flex_flow": null,
            "grid_area": null,
            "grid_auto_columns": null,
            "grid_auto_flow": null,
            "grid_auto_rows": null,
            "grid_column": null,
            "grid_gap": null,
            "grid_row": null,
            "grid_template_areas": null,
            "grid_template_columns": null,
            "grid_template_rows": null,
            "height": null,
            "justify_content": null,
            "justify_items": null,
            "left": null,
            "margin": null,
            "max_height": null,
            "max_width": null,
            "min_height": null,
            "min_width": null,
            "object_fit": null,
            "object_position": null,
            "order": null,
            "overflow": null,
            "overflow_x": null,
            "overflow_y": null,
            "padding": null,
            "right": null,
            "top": null,
            "visibility": null,
            "width": null
          }
        },
        "f28c64f34f9540b6b6bdc765c84e2307": {
          "model_module": "@jupyter-widgets/base",
          "model_name": "LayoutModel",
          "model_module_version": "1.2.0",
          "state": {
            "_model_module": "@jupyter-widgets/base",
            "_model_module_version": "1.2.0",
            "_model_name": "LayoutModel",
            "_view_count": null,
            "_view_module": "@jupyter-widgets/base",
            "_view_module_version": "1.2.0",
            "_view_name": "LayoutView",
            "align_content": null,
            "align_items": null,
            "align_self": null,
            "border": null,
            "bottom": null,
            "display": null,
            "flex": null,
            "flex_flow": null,
            "grid_area": null,
            "grid_auto_columns": null,
            "grid_auto_flow": null,
            "grid_auto_rows": null,
            "grid_column": null,
            "grid_gap": null,
            "grid_row": null,
            "grid_template_areas": null,
            "grid_template_columns": null,
            "grid_template_rows": null,
            "height": null,
            "justify_content": null,
            "justify_items": null,
            "left": null,
            "margin": null,
            "max_height": null,
            "max_width": null,
            "min_height": null,
            "min_width": null,
            "object_fit": null,
            "object_position": null,
            "order": null,
            "overflow": null,
            "overflow_x": null,
            "overflow_y": null,
            "padding": null,
            "right": null,
            "top": null,
            "visibility": null,
            "width": null
          }
        },
        "02016dcc44994c15b69e7f2c4dd0d9c4": {
          "model_module": "@jupyter-widgets/controls",
          "model_name": "DescriptionStyleModel",
          "model_module_version": "1.5.0",
          "state": {
            "_model_module": "@jupyter-widgets/controls",
            "_model_module_version": "1.5.0",
            "_model_name": "DescriptionStyleModel",
            "_view_count": null,
            "_view_module": "@jupyter-widgets/base",
            "_view_module_version": "1.2.0",
            "_view_name": "StyleView",
            "description_width": ""
          }
        },
        "bbfc45e0cf5644f6bc24118fa9c6c098": {
          "model_module": "@jupyter-widgets/base",
          "model_name": "LayoutModel",
          "model_module_version": "1.2.0",
          "state": {
            "_model_module": "@jupyter-widgets/base",
            "_model_module_version": "1.2.0",
            "_model_name": "LayoutModel",
            "_view_count": null,
            "_view_module": "@jupyter-widgets/base",
            "_view_module_version": "1.2.0",
            "_view_name": "LayoutView",
            "align_content": null,
            "align_items": null,
            "align_self": null,
            "border": null,
            "bottom": null,
            "display": null,
            "flex": null,
            "flex_flow": null,
            "grid_area": null,
            "grid_auto_columns": null,
            "grid_auto_flow": null,
            "grid_auto_rows": null,
            "grid_column": null,
            "grid_gap": null,
            "grid_row": null,
            "grid_template_areas": null,
            "grid_template_columns": null,
            "grid_template_rows": null,
            "height": null,
            "justify_content": null,
            "justify_items": null,
            "left": null,
            "margin": null,
            "max_height": null,
            "max_width": null,
            "min_height": null,
            "min_width": null,
            "object_fit": null,
            "object_position": null,
            "order": null,
            "overflow": null,
            "overflow_x": null,
            "overflow_y": null,
            "padding": null,
            "right": null,
            "top": null,
            "visibility": null,
            "width": null
          }
        },
        "eca458b185ae4570b1ec1e77389c871e": {
          "model_module": "@jupyter-widgets/controls",
          "model_name": "ProgressStyleModel",
          "model_module_version": "1.5.0",
          "state": {
            "_model_module": "@jupyter-widgets/controls",
            "_model_module_version": "1.5.0",
            "_model_name": "ProgressStyleModel",
            "_view_count": null,
            "_view_module": "@jupyter-widgets/base",
            "_view_module_version": "1.2.0",
            "_view_name": "StyleView",
            "bar_color": null,
            "description_width": ""
          }
        },
        "fe156fa95ee9410daff8f7c9a8b0d3a3": {
          "model_module": "@jupyter-widgets/base",
          "model_name": "LayoutModel",
          "model_module_version": "1.2.0",
          "state": {
            "_model_module": "@jupyter-widgets/base",
            "_model_module_version": "1.2.0",
            "_model_name": "LayoutModel",
            "_view_count": null,
            "_view_module": "@jupyter-widgets/base",
            "_view_module_version": "1.2.0",
            "_view_name": "LayoutView",
            "align_content": null,
            "align_items": null,
            "align_self": null,
            "border": null,
            "bottom": null,
            "display": null,
            "flex": null,
            "flex_flow": null,
            "grid_area": null,
            "grid_auto_columns": null,
            "grid_auto_flow": null,
            "grid_auto_rows": null,
            "grid_column": null,
            "grid_gap": null,
            "grid_row": null,
            "grid_template_areas": null,
            "grid_template_columns": null,
            "grid_template_rows": null,
            "height": null,
            "justify_content": null,
            "justify_items": null,
            "left": null,
            "margin": null,
            "max_height": null,
            "max_width": null,
            "min_height": null,
            "min_width": null,
            "object_fit": null,
            "object_position": null,
            "order": null,
            "overflow": null,
            "overflow_x": null,
            "overflow_y": null,
            "padding": null,
            "right": null,
            "top": null,
            "visibility": null,
            "width": null
          }
        },
        "a5e2e1fe3ab94cc6ae1a73cc1ab6f9a8": {
          "model_module": "@jupyter-widgets/controls",
          "model_name": "DescriptionStyleModel",
          "model_module_version": "1.5.0",
          "state": {
            "_model_module": "@jupyter-widgets/controls",
            "_model_module_version": "1.5.0",
            "_model_name": "DescriptionStyleModel",
            "_view_count": null,
            "_view_module": "@jupyter-widgets/base",
            "_view_module_version": "1.2.0",
            "_view_name": "StyleView",
            "description_width": ""
          }
        },
        "7c81059d35534b799623afe872095cac": {
          "model_module": "@jupyter-widgets/controls",
          "model_name": "HBoxModel",
          "model_module_version": "1.5.0",
          "state": {
            "_dom_classes": [],
            "_model_module": "@jupyter-widgets/controls",
            "_model_module_version": "1.5.0",
            "_model_name": "HBoxModel",
            "_view_count": null,
            "_view_module": "@jupyter-widgets/controls",
            "_view_module_version": "1.5.0",
            "_view_name": "HBoxView",
            "box_style": "",
            "children": [
              "IPY_MODEL_379128a308ab43ee9e785e234bb94049",
              "IPY_MODEL_ff8e746cf8ef4f988617b8d4c0dd3c9c",
              "IPY_MODEL_0204a7bc668746a68f6e5e5632753c1c"
            ],
            "layout": "IPY_MODEL_84361b363998428a87b9e50b6625cca9"
          }
        },
        "379128a308ab43ee9e785e234bb94049": {
          "model_module": "@jupyter-widgets/controls",
          "model_name": "HTMLModel",
          "model_module_version": "1.5.0",
          "state": {
            "_dom_classes": [],
            "_model_module": "@jupyter-widgets/controls",
            "_model_module_version": "1.5.0",
            "_model_name": "HTMLModel",
            "_view_count": null,
            "_view_module": "@jupyter-widgets/controls",
            "_view_module_version": "1.5.0",
            "_view_name": "HTMLView",
            "description": "",
            "description_tooltip": null,
            "layout": "IPY_MODEL_c0919f3c8d594911815ce63273f7fe51",
            "placeholder": "​",
            "style": "IPY_MODEL_69f2a9e473534148b96b2e9bd639a087",
            "value": "Downloading: "
          }
        },
        "ff8e746cf8ef4f988617b8d4c0dd3c9c": {
          "model_module": "@jupyter-widgets/controls",
          "model_name": "FloatProgressModel",
          "model_module_version": "1.5.0",
          "state": {
            "_dom_classes": [],
            "_model_module": "@jupyter-widgets/controls",
            "_model_module_version": "1.5.0",
            "_model_name": "FloatProgressModel",
            "_view_count": null,
            "_view_module": "@jupyter-widgets/controls",
            "_view_module_version": "1.5.0",
            "_view_name": "ProgressView",
            "bar_style": "success",
            "description": "",
            "description_tooltip": null,
            "layout": "IPY_MODEL_5cd8c74ba2e845d498afdc1c25009767",
            "max": 1947,
            "min": 0,
            "orientation": "horizontal",
            "style": "IPY_MODEL_3f0c587f7b764d96837c8e16254aab12",
            "value": 1947
          }
        },
        "0204a7bc668746a68f6e5e5632753c1c": {
          "model_module": "@jupyter-widgets/controls",
          "model_name": "HTMLModel",
          "model_module_version": "1.5.0",
          "state": {
            "_dom_classes": [],
            "_model_module": "@jupyter-widgets/controls",
            "_model_module_version": "1.5.0",
            "_model_name": "HTMLModel",
            "_view_count": null,
            "_view_module": "@jupyter-widgets/controls",
            "_view_module_version": "1.5.0",
            "_view_name": "HTMLView",
            "description": "",
            "description_tooltip": null,
            "layout": "IPY_MODEL_d3b5f5a0d35642e0b606ac63c38f88fa",
            "placeholder": "​",
            "style": "IPY_MODEL_7ce84a97d72848c0967f732734afdd68",
            "value": " 4.55k/? [00:00&lt;00:00, 87.8kB/s]"
          }
        },
        "84361b363998428a87b9e50b6625cca9": {
          "model_module": "@jupyter-widgets/base",
          "model_name": "LayoutModel",
          "model_module_version": "1.2.0",
          "state": {
            "_model_module": "@jupyter-widgets/base",
            "_model_module_version": "1.2.0",
            "_model_name": "LayoutModel",
            "_view_count": null,
            "_view_module": "@jupyter-widgets/base",
            "_view_module_version": "1.2.0",
            "_view_name": "LayoutView",
            "align_content": null,
            "align_items": null,
            "align_self": null,
            "border": null,
            "bottom": null,
            "display": null,
            "flex": null,
            "flex_flow": null,
            "grid_area": null,
            "grid_auto_columns": null,
            "grid_auto_flow": null,
            "grid_auto_rows": null,
            "grid_column": null,
            "grid_gap": null,
            "grid_row": null,
            "grid_template_areas": null,
            "grid_template_columns": null,
            "grid_template_rows": null,
            "height": null,
            "justify_content": null,
            "justify_items": null,
            "left": null,
            "margin": null,
            "max_height": null,
            "max_width": null,
            "min_height": null,
            "min_width": null,
            "object_fit": null,
            "object_position": null,
            "order": null,
            "overflow": null,
            "overflow_x": null,
            "overflow_y": null,
            "padding": null,
            "right": null,
            "top": null,
            "visibility": null,
            "width": null
          }
        },
        "c0919f3c8d594911815ce63273f7fe51": {
          "model_module": "@jupyter-widgets/base",
          "model_name": "LayoutModel",
          "model_module_version": "1.2.0",
          "state": {
            "_model_module": "@jupyter-widgets/base",
            "_model_module_version": "1.2.0",
            "_model_name": "LayoutModel",
            "_view_count": null,
            "_view_module": "@jupyter-widgets/base",
            "_view_module_version": "1.2.0",
            "_view_name": "LayoutView",
            "align_content": null,
            "align_items": null,
            "align_self": null,
            "border": null,
            "bottom": null,
            "display": null,
            "flex": null,
            "flex_flow": null,
            "grid_area": null,
            "grid_auto_columns": null,
            "grid_auto_flow": null,
            "grid_auto_rows": null,
            "grid_column": null,
            "grid_gap": null,
            "grid_row": null,
            "grid_template_areas": null,
            "grid_template_columns": null,
            "grid_template_rows": null,
            "height": null,
            "justify_content": null,
            "justify_items": null,
            "left": null,
            "margin": null,
            "max_height": null,
            "max_width": null,
            "min_height": null,
            "min_width": null,
            "object_fit": null,
            "object_position": null,
            "order": null,
            "overflow": null,
            "overflow_x": null,
            "overflow_y": null,
            "padding": null,
            "right": null,
            "top": null,
            "visibility": null,
            "width": null
          }
        },
        "69f2a9e473534148b96b2e9bd639a087": {
          "model_module": "@jupyter-widgets/controls",
          "model_name": "DescriptionStyleModel",
          "model_module_version": "1.5.0",
          "state": {
            "_model_module": "@jupyter-widgets/controls",
            "_model_module_version": "1.5.0",
            "_model_name": "DescriptionStyleModel",
            "_view_count": null,
            "_view_module": "@jupyter-widgets/base",
            "_view_module_version": "1.2.0",
            "_view_name": "StyleView",
            "description_width": ""
          }
        },
        "5cd8c74ba2e845d498afdc1c25009767": {
          "model_module": "@jupyter-widgets/base",
          "model_name": "LayoutModel",
          "model_module_version": "1.2.0",
          "state": {
            "_model_module": "@jupyter-widgets/base",
            "_model_module_version": "1.2.0",
            "_model_name": "LayoutModel",
            "_view_count": null,
            "_view_module": "@jupyter-widgets/base",
            "_view_module_version": "1.2.0",
            "_view_name": "LayoutView",
            "align_content": null,
            "align_items": null,
            "align_self": null,
            "border": null,
            "bottom": null,
            "display": null,
            "flex": null,
            "flex_flow": null,
            "grid_area": null,
            "grid_auto_columns": null,
            "grid_auto_flow": null,
            "grid_auto_rows": null,
            "grid_column": null,
            "grid_gap": null,
            "grid_row": null,
            "grid_template_areas": null,
            "grid_template_columns": null,
            "grid_template_rows": null,
            "height": null,
            "justify_content": null,
            "justify_items": null,
            "left": null,
            "margin": null,
            "max_height": null,
            "max_width": null,
            "min_height": null,
            "min_width": null,
            "object_fit": null,
            "object_position": null,
            "order": null,
            "overflow": null,
            "overflow_x": null,
            "overflow_y": null,
            "padding": null,
            "right": null,
            "top": null,
            "visibility": null,
            "width": null
          }
        },
        "3f0c587f7b764d96837c8e16254aab12": {
          "model_module": "@jupyter-widgets/controls",
          "model_name": "ProgressStyleModel",
          "model_module_version": "1.5.0",
          "state": {
            "_model_module": "@jupyter-widgets/controls",
            "_model_module_version": "1.5.0",
            "_model_name": "ProgressStyleModel",
            "_view_count": null,
            "_view_module": "@jupyter-widgets/base",
            "_view_module_version": "1.2.0",
            "_view_name": "StyleView",
            "bar_color": null,
            "description_width": ""
          }
        },
        "d3b5f5a0d35642e0b606ac63c38f88fa": {
          "model_module": "@jupyter-widgets/base",
          "model_name": "LayoutModel",
          "model_module_version": "1.2.0",
          "state": {
            "_model_module": "@jupyter-widgets/base",
            "_model_module_version": "1.2.0",
            "_model_name": "LayoutModel",
            "_view_count": null,
            "_view_module": "@jupyter-widgets/base",
            "_view_module_version": "1.2.0",
            "_view_name": "LayoutView",
            "align_content": null,
            "align_items": null,
            "align_self": null,
            "border": null,
            "bottom": null,
            "display": null,
            "flex": null,
            "flex_flow": null,
            "grid_area": null,
            "grid_auto_columns": null,
            "grid_auto_flow": null,
            "grid_auto_rows": null,
            "grid_column": null,
            "grid_gap": null,
            "grid_row": null,
            "grid_template_areas": null,
            "grid_template_columns": null,
            "grid_template_rows": null,
            "height": null,
            "justify_content": null,
            "justify_items": null,
            "left": null,
            "margin": null,
            "max_height": null,
            "max_width": null,
            "min_height": null,
            "min_width": null,
            "object_fit": null,
            "object_position": null,
            "order": null,
            "overflow": null,
            "overflow_x": null,
            "overflow_y": null,
            "padding": null,
            "right": null,
            "top": null,
            "visibility": null,
            "width": null
          }
        },
        "7ce84a97d72848c0967f732734afdd68": {
          "model_module": "@jupyter-widgets/controls",
          "model_name": "DescriptionStyleModel",
          "model_module_version": "1.5.0",
          "state": {
            "_model_module": "@jupyter-widgets/controls",
            "_model_module_version": "1.5.0",
            "_model_name": "DescriptionStyleModel",
            "_view_count": null,
            "_view_module": "@jupyter-widgets/base",
            "_view_module_version": "1.2.0",
            "_view_name": "StyleView",
            "description_width": ""
          }
        },
        "1ca82f9af3ae423096661a1ffd8a165f": {
          "model_module": "@jupyter-widgets/controls",
          "model_name": "HBoxModel",
          "model_module_version": "1.5.0",
          "state": {
            "_dom_classes": [],
            "_model_module": "@jupyter-widgets/controls",
            "_model_module_version": "1.5.0",
            "_model_name": "HBoxModel",
            "_view_count": null,
            "_view_module": "@jupyter-widgets/controls",
            "_view_module_version": "1.5.0",
            "_view_name": "HBoxView",
            "box_style": "",
            "children": [
              "IPY_MODEL_ce429683f48349c083e5fc3253a897d7",
              "IPY_MODEL_acc35dfdfca542828d1bb02cbde15dfe",
              "IPY_MODEL_aa92ff120d9c4dd68ae941d7a1f33a81"
            ],
            "layout": "IPY_MODEL_731a283141f642b9ab5bf9f7053381d2"
          }
        },
        "ce429683f48349c083e5fc3253a897d7": {
          "model_module": "@jupyter-widgets/controls",
          "model_name": "HTMLModel",
          "model_module_version": "1.5.0",
          "state": {
            "_dom_classes": [],
            "_model_module": "@jupyter-widgets/controls",
            "_model_module_version": "1.5.0",
            "_model_name": "HTMLModel",
            "_view_count": null,
            "_view_module": "@jupyter-widgets/controls",
            "_view_module_version": "1.5.0",
            "_view_name": "HTMLView",
            "description": "",
            "description_tooltip": null,
            "layout": "IPY_MODEL_4246da00789f44e2abce952906bde6f1",
            "placeholder": "​",
            "style": "IPY_MODEL_059588e34a88476eb6bbc1860ddc27ef",
            "value": "Downloading: 100%"
          }
        },
        "acc35dfdfca542828d1bb02cbde15dfe": {
          "model_module": "@jupyter-widgets/controls",
          "model_name": "FloatProgressModel",
          "model_module_version": "1.5.0",
          "state": {
            "_dom_classes": [],
            "_model_module": "@jupyter-widgets/controls",
            "_model_module_version": "1.5.0",
            "_model_name": "FloatProgressModel",
            "_view_count": null,
            "_view_module": "@jupyter-widgets/controls",
            "_view_module_version": "1.5.0",
            "_view_name": "ProgressView",
            "bar_style": "success",
            "description": "",
            "description_tooltip": null,
            "layout": "IPY_MODEL_6ae3b3139e6641fc9e62ae5744349add",
            "max": 1568,
            "min": 0,
            "orientation": "horizontal",
            "style": "IPY_MODEL_92c30a7c6102443cad2f6f03211c32e0",
            "value": 1568
          }
        },
        "aa92ff120d9c4dd68ae941d7a1f33a81": {
          "model_module": "@jupyter-widgets/controls",
          "model_name": "HTMLModel",
          "model_module_version": "1.5.0",
          "state": {
            "_dom_classes": [],
            "_model_module": "@jupyter-widgets/controls",
            "_model_module_version": "1.5.0",
            "_model_name": "HTMLModel",
            "_view_count": null,
            "_view_module": "@jupyter-widgets/controls",
            "_view_module_version": "1.5.0",
            "_view_name": "HTMLView",
            "description": "",
            "description_tooltip": null,
            "layout": "IPY_MODEL_ad95ae421231492e814238bde2ecb551",
            "placeholder": "​",
            "style": "IPY_MODEL_136f973d9623421eb38e09c73c6b6810",
            "value": " 1.53k/1.53k [00:00&lt;00:00, 36.6kB/s]"
          }
        },
        "731a283141f642b9ab5bf9f7053381d2": {
          "model_module": "@jupyter-widgets/base",
          "model_name": "LayoutModel",
          "model_module_version": "1.2.0",
          "state": {
            "_model_module": "@jupyter-widgets/base",
            "_model_module_version": "1.2.0",
            "_model_name": "LayoutModel",
            "_view_count": null,
            "_view_module": "@jupyter-widgets/base",
            "_view_module_version": "1.2.0",
            "_view_name": "LayoutView",
            "align_content": null,
            "align_items": null,
            "align_self": null,
            "border": null,
            "bottom": null,
            "display": null,
            "flex": null,
            "flex_flow": null,
            "grid_area": null,
            "grid_auto_columns": null,
            "grid_auto_flow": null,
            "grid_auto_rows": null,
            "grid_column": null,
            "grid_gap": null,
            "grid_row": null,
            "grid_template_areas": null,
            "grid_template_columns": null,
            "grid_template_rows": null,
            "height": null,
            "justify_content": null,
            "justify_items": null,
            "left": null,
            "margin": null,
            "max_height": null,
            "max_width": null,
            "min_height": null,
            "min_width": null,
            "object_fit": null,
            "object_position": null,
            "order": null,
            "overflow": null,
            "overflow_x": null,
            "overflow_y": null,
            "padding": null,
            "right": null,
            "top": null,
            "visibility": null,
            "width": null
          }
        },
        "4246da00789f44e2abce952906bde6f1": {
          "model_module": "@jupyter-widgets/base",
          "model_name": "LayoutModel",
          "model_module_version": "1.2.0",
          "state": {
            "_model_module": "@jupyter-widgets/base",
            "_model_module_version": "1.2.0",
            "_model_name": "LayoutModel",
            "_view_count": null,
            "_view_module": "@jupyter-widgets/base",
            "_view_module_version": "1.2.0",
            "_view_name": "LayoutView",
            "align_content": null,
            "align_items": null,
            "align_self": null,
            "border": null,
            "bottom": null,
            "display": null,
            "flex": null,
            "flex_flow": null,
            "grid_area": null,
            "grid_auto_columns": null,
            "grid_auto_flow": null,
            "grid_auto_rows": null,
            "grid_column": null,
            "grid_gap": null,
            "grid_row": null,
            "grid_template_areas": null,
            "grid_template_columns": null,
            "grid_template_rows": null,
            "height": null,
            "justify_content": null,
            "justify_items": null,
            "left": null,
            "margin": null,
            "max_height": null,
            "max_width": null,
            "min_height": null,
            "min_width": null,
            "object_fit": null,
            "object_position": null,
            "order": null,
            "overflow": null,
            "overflow_x": null,
            "overflow_y": null,
            "padding": null,
            "right": null,
            "top": null,
            "visibility": null,
            "width": null
          }
        },
        "059588e34a88476eb6bbc1860ddc27ef": {
          "model_module": "@jupyter-widgets/controls",
          "model_name": "DescriptionStyleModel",
          "model_module_version": "1.5.0",
          "state": {
            "_model_module": "@jupyter-widgets/controls",
            "_model_module_version": "1.5.0",
            "_model_name": "DescriptionStyleModel",
            "_view_count": null,
            "_view_module": "@jupyter-widgets/base",
            "_view_module_version": "1.2.0",
            "_view_name": "StyleView",
            "description_width": ""
          }
        },
        "6ae3b3139e6641fc9e62ae5744349add": {
          "model_module": "@jupyter-widgets/base",
          "model_name": "LayoutModel",
          "model_module_version": "1.2.0",
          "state": {
            "_model_module": "@jupyter-widgets/base",
            "_model_module_version": "1.2.0",
            "_model_name": "LayoutModel",
            "_view_count": null,
            "_view_module": "@jupyter-widgets/base",
            "_view_module_version": "1.2.0",
            "_view_name": "LayoutView",
            "align_content": null,
            "align_items": null,
            "align_self": null,
            "border": null,
            "bottom": null,
            "display": null,
            "flex": null,
            "flex_flow": null,
            "grid_area": null,
            "grid_auto_columns": null,
            "grid_auto_flow": null,
            "grid_auto_rows": null,
            "grid_column": null,
            "grid_gap": null,
            "grid_row": null,
            "grid_template_areas": null,
            "grid_template_columns": null,
            "grid_template_rows": null,
            "height": null,
            "justify_content": null,
            "justify_items": null,
            "left": null,
            "margin": null,
            "max_height": null,
            "max_width": null,
            "min_height": null,
            "min_width": null,
            "object_fit": null,
            "object_position": null,
            "order": null,
            "overflow": null,
            "overflow_x": null,
            "overflow_y": null,
            "padding": null,
            "right": null,
            "top": null,
            "visibility": null,
            "width": null
          }
        },
        "92c30a7c6102443cad2f6f03211c32e0": {
          "model_module": "@jupyter-widgets/controls",
          "model_name": "ProgressStyleModel",
          "model_module_version": "1.5.0",
          "state": {
            "_model_module": "@jupyter-widgets/controls",
            "_model_module_version": "1.5.0",
            "_model_name": "ProgressStyleModel",
            "_view_count": null,
            "_view_module": "@jupyter-widgets/base",
            "_view_module_version": "1.2.0",
            "_view_name": "StyleView",
            "bar_color": null,
            "description_width": ""
          }
        },
        "ad95ae421231492e814238bde2ecb551": {
          "model_module": "@jupyter-widgets/base",
          "model_name": "LayoutModel",
          "model_module_version": "1.2.0",
          "state": {
            "_model_module": "@jupyter-widgets/base",
            "_model_module_version": "1.2.0",
            "_model_name": "LayoutModel",
            "_view_count": null,
            "_view_module": "@jupyter-widgets/base",
            "_view_module_version": "1.2.0",
            "_view_name": "LayoutView",
            "align_content": null,
            "align_items": null,
            "align_self": null,
            "border": null,
            "bottom": null,
            "display": null,
            "flex": null,
            "flex_flow": null,
            "grid_area": null,
            "grid_auto_columns": null,
            "grid_auto_flow": null,
            "grid_auto_rows": null,
            "grid_column": null,
            "grid_gap": null,
            "grid_row": null,
            "grid_template_areas": null,
            "grid_template_columns": null,
            "grid_template_rows": null,
            "height": null,
            "justify_content": null,
            "justify_items": null,
            "left": null,
            "margin": null,
            "max_height": null,
            "max_width": null,
            "min_height": null,
            "min_width": null,
            "object_fit": null,
            "object_position": null,
            "order": null,
            "overflow": null,
            "overflow_x": null,
            "overflow_y": null,
            "padding": null,
            "right": null,
            "top": null,
            "visibility": null,
            "width": null
          }
        },
        "136f973d9623421eb38e09c73c6b6810": {
          "model_module": "@jupyter-widgets/controls",
          "model_name": "DescriptionStyleModel",
          "model_module_version": "1.5.0",
          "state": {
            "_model_module": "@jupyter-widgets/controls",
            "_model_module_version": "1.5.0",
            "_model_name": "DescriptionStyleModel",
            "_view_count": null,
            "_view_module": "@jupyter-widgets/base",
            "_view_module_version": "1.2.0",
            "_view_name": "StyleView",
            "description_width": ""
          }
        },
        "367c85905a024248bce6c620b822b2ee": {
          "model_module": "@jupyter-widgets/controls",
          "model_name": "HBoxModel",
          "model_module_version": "1.5.0",
          "state": {
            "_dom_classes": [],
            "_model_module": "@jupyter-widgets/controls",
            "_model_module_version": "1.5.0",
            "_model_name": "HBoxModel",
            "_view_count": null,
            "_view_module": "@jupyter-widgets/controls",
            "_view_module_version": "1.5.0",
            "_view_name": "HBoxView",
            "box_style": "",
            "children": [
              "IPY_MODEL_7ea310732a56432da1a095a8d30edc1c",
              "IPY_MODEL_2d2b8b8d5774494aa73d872e9a4c10d9",
              "IPY_MODEL_f4af6a0756e241e49e5d325f1bdb18b4"
            ],
            "layout": "IPY_MODEL_2b7e52a9be904663ae74226691de6ebd"
          }
        },
        "7ea310732a56432da1a095a8d30edc1c": {
          "model_module": "@jupyter-widgets/controls",
          "model_name": "HTMLModel",
          "model_module_version": "1.5.0",
          "state": {
            "_dom_classes": [],
            "_model_module": "@jupyter-widgets/controls",
            "_model_module_version": "1.5.0",
            "_model_name": "HTMLModel",
            "_view_count": null,
            "_view_module": "@jupyter-widgets/controls",
            "_view_module_version": "1.5.0",
            "_view_name": "HTMLView",
            "description": "",
            "description_tooltip": null,
            "layout": "IPY_MODEL_771530ea22364f1ea8963e2d542fcf49",
            "placeholder": "​",
            "style": "IPY_MODEL_1cdac9cda666466ca1e09f32661d40ed",
            "value": "Downloading: 100%"
          }
        },
        "2d2b8b8d5774494aa73d872e9a4c10d9": {
          "model_module": "@jupyter-widgets/controls",
          "model_name": "FloatProgressModel",
          "model_module_version": "1.5.0",
          "state": {
            "_dom_classes": [],
            "_model_module": "@jupyter-widgets/controls",
            "_model_module_version": "1.5.0",
            "_model_name": "FloatProgressModel",
            "_view_count": null,
            "_view_module": "@jupyter-widgets/controls",
            "_view_module_version": "1.5.0",
            "_view_name": "ProgressView",
            "bar_style": "success",
            "description": "",
            "description_tooltip": null,
            "layout": "IPY_MODEL_3ec9917890f4452883bcaeac444d056c",
            "max": 1269737156,
            "min": 0,
            "orientation": "horizontal",
            "style": "IPY_MODEL_e9531fcd48b74929bfdb45cd3f3315e7",
            "value": 1269737156
          }
        },
        "f4af6a0756e241e49e5d325f1bdb18b4": {
          "model_module": "@jupyter-widgets/controls",
          "model_name": "HTMLModel",
          "model_module_version": "1.5.0",
          "state": {
            "_dom_classes": [],
            "_model_module": "@jupyter-widgets/controls",
            "_model_module_version": "1.5.0",
            "_model_name": "HTMLModel",
            "_view_count": null,
            "_view_module": "@jupyter-widgets/controls",
            "_view_module_version": "1.5.0",
            "_view_name": "HTMLView",
            "description": "",
            "description_tooltip": null,
            "layout": "IPY_MODEL_349c9e8b2a8846c1bff5a03d2a28066a",
            "placeholder": "​",
            "style": "IPY_MODEL_de1e5c31eacf4fa59cfa51926354acca",
            "value": " 1.18G/1.18G [00:39&lt;00:00, 35.4MB/s]"
          }
        },
        "2b7e52a9be904663ae74226691de6ebd": {
          "model_module": "@jupyter-widgets/base",
          "model_name": "LayoutModel",
          "model_module_version": "1.2.0",
          "state": {
            "_model_module": "@jupyter-widgets/base",
            "_model_module_version": "1.2.0",
            "_model_name": "LayoutModel",
            "_view_count": null,
            "_view_module": "@jupyter-widgets/base",
            "_view_module_version": "1.2.0",
            "_view_name": "LayoutView",
            "align_content": null,
            "align_items": null,
            "align_self": null,
            "border": null,
            "bottom": null,
            "display": null,
            "flex": null,
            "flex_flow": null,
            "grid_area": null,
            "grid_auto_columns": null,
            "grid_auto_flow": null,
            "grid_auto_rows": null,
            "grid_column": null,
            "grid_gap": null,
            "grid_row": null,
            "grid_template_areas": null,
            "grid_template_columns": null,
            "grid_template_rows": null,
            "height": null,
            "justify_content": null,
            "justify_items": null,
            "left": null,
            "margin": null,
            "max_height": null,
            "max_width": null,
            "min_height": null,
            "min_width": null,
            "object_fit": null,
            "object_position": null,
            "order": null,
            "overflow": null,
            "overflow_x": null,
            "overflow_y": null,
            "padding": null,
            "right": null,
            "top": null,
            "visibility": null,
            "width": null
          }
        },
        "771530ea22364f1ea8963e2d542fcf49": {
          "model_module": "@jupyter-widgets/base",
          "model_name": "LayoutModel",
          "model_module_version": "1.2.0",
          "state": {
            "_model_module": "@jupyter-widgets/base",
            "_model_module_version": "1.2.0",
            "_model_name": "LayoutModel",
            "_view_count": null,
            "_view_module": "@jupyter-widgets/base",
            "_view_module_version": "1.2.0",
            "_view_name": "LayoutView",
            "align_content": null,
            "align_items": null,
            "align_self": null,
            "border": null,
            "bottom": null,
            "display": null,
            "flex": null,
            "flex_flow": null,
            "grid_area": null,
            "grid_auto_columns": null,
            "grid_auto_flow": null,
            "grid_auto_rows": null,
            "grid_column": null,
            "grid_gap": null,
            "grid_row": null,
            "grid_template_areas": null,
            "grid_template_columns": null,
            "grid_template_rows": null,
            "height": null,
            "justify_content": null,
            "justify_items": null,
            "left": null,
            "margin": null,
            "max_height": null,
            "max_width": null,
            "min_height": null,
            "min_width": null,
            "object_fit": null,
            "object_position": null,
            "order": null,
            "overflow": null,
            "overflow_x": null,
            "overflow_y": null,
            "padding": null,
            "right": null,
            "top": null,
            "visibility": null,
            "width": null
          }
        },
        "1cdac9cda666466ca1e09f32661d40ed": {
          "model_module": "@jupyter-widgets/controls",
          "model_name": "DescriptionStyleModel",
          "model_module_version": "1.5.0",
          "state": {
            "_model_module": "@jupyter-widgets/controls",
            "_model_module_version": "1.5.0",
            "_model_name": "DescriptionStyleModel",
            "_view_count": null,
            "_view_module": "@jupyter-widgets/base",
            "_view_module_version": "1.2.0",
            "_view_name": "StyleView",
            "description_width": ""
          }
        },
        "3ec9917890f4452883bcaeac444d056c": {
          "model_module": "@jupyter-widgets/base",
          "model_name": "LayoutModel",
          "model_module_version": "1.2.0",
          "state": {
            "_model_module": "@jupyter-widgets/base",
            "_model_module_version": "1.2.0",
            "_model_name": "LayoutModel",
            "_view_count": null,
            "_view_module": "@jupyter-widgets/base",
            "_view_module_version": "1.2.0",
            "_view_name": "LayoutView",
            "align_content": null,
            "align_items": null,
            "align_self": null,
            "border": null,
            "bottom": null,
            "display": null,
            "flex": null,
            "flex_flow": null,
            "grid_area": null,
            "grid_auto_columns": null,
            "grid_auto_flow": null,
            "grid_auto_rows": null,
            "grid_column": null,
            "grid_gap": null,
            "grid_row": null,
            "grid_template_areas": null,
            "grid_template_columns": null,
            "grid_template_rows": null,
            "height": null,
            "justify_content": null,
            "justify_items": null,
            "left": null,
            "margin": null,
            "max_height": null,
            "max_width": null,
            "min_height": null,
            "min_width": null,
            "object_fit": null,
            "object_position": null,
            "order": null,
            "overflow": null,
            "overflow_x": null,
            "overflow_y": null,
            "padding": null,
            "right": null,
            "top": null,
            "visibility": null,
            "width": null
          }
        },
        "e9531fcd48b74929bfdb45cd3f3315e7": {
          "model_module": "@jupyter-widgets/controls",
          "model_name": "ProgressStyleModel",
          "model_module_version": "1.5.0",
          "state": {
            "_model_module": "@jupyter-widgets/controls",
            "_model_module_version": "1.5.0",
            "_model_name": "ProgressStyleModel",
            "_view_count": null,
            "_view_module": "@jupyter-widgets/base",
            "_view_module_version": "1.2.0",
            "_view_name": "StyleView",
            "bar_color": null,
            "description_width": ""
          }
        },
        "349c9e8b2a8846c1bff5a03d2a28066a": {
          "model_module": "@jupyter-widgets/base",
          "model_name": "LayoutModel",
          "model_module_version": "1.2.0",
          "state": {
            "_model_module": "@jupyter-widgets/base",
            "_model_module_version": "1.2.0",
            "_model_name": "LayoutModel",
            "_view_count": null,
            "_view_module": "@jupyter-widgets/base",
            "_view_module_version": "1.2.0",
            "_view_name": "LayoutView",
            "align_content": null,
            "align_items": null,
            "align_self": null,
            "border": null,
            "bottom": null,
            "display": null,
            "flex": null,
            "flex_flow": null,
            "grid_area": null,
            "grid_auto_columns": null,
            "grid_auto_flow": null,
            "grid_auto_rows": null,
            "grid_column": null,
            "grid_gap": null,
            "grid_row": null,
            "grid_template_areas": null,
            "grid_template_columns": null,
            "grid_template_rows": null,
            "height": null,
            "justify_content": null,
            "justify_items": null,
            "left": null,
            "margin": null,
            "max_height": null,
            "max_width": null,
            "min_height": null,
            "min_width": null,
            "object_fit": null,
            "object_position": null,
            "order": null,
            "overflow": null,
            "overflow_x": null,
            "overflow_y": null,
            "padding": null,
            "right": null,
            "top": null,
            "visibility": null,
            "width": null
          }
        },
        "de1e5c31eacf4fa59cfa51926354acca": {
          "model_module": "@jupyter-widgets/controls",
          "model_name": "DescriptionStyleModel",
          "model_module_version": "1.5.0",
          "state": {
            "_model_module": "@jupyter-widgets/controls",
            "_model_module_version": "1.5.0",
            "_model_name": "DescriptionStyleModel",
            "_view_count": null,
            "_view_module": "@jupyter-widgets/base",
            "_view_module_version": "1.2.0",
            "_view_name": "StyleView",
            "description_width": ""
          }
        }
      }
    }
  },
  "cells": [
    {
      "cell_type": "markdown",
      "metadata": {
        "id": "view-in-github",
        "colab_type": "text"
      },
      "source": [
        "<a href=\"https://colab.research.google.com/github/patrickvonplaten/notebooks/blob/master/Fine_Tune_XLS_R_on_Common_Voice.ipynb\" target=\"_parent\"><img src=\"https://colab.research.google.com/assets/colab-badge.svg\" alt=\"Open In Colab\"/></a>"
      ]
    },
    {
      "cell_type": "markdown",
      "metadata": {
        "id": "LBSYoWbi-45k"
      },
      "source": [
        "# **Fine-tuning XLS-R for Multi-Lingual ASR with 🤗 Transformers**\n",
        "\n",
        "***New (11/2021)***: *This blog post has been updated to feature XLSR's successor, called [XLS-R](https://huggingface.co/models?other=xls_r)*."
      ]
    },
    {
      "cell_type": "markdown",
      "metadata": {
        "id": "V7YOT2mnUiea"
      },
      "source": [
        "**Wav2Vec2** is a pretrained model for Automatic Speech Recognition (ASR) and was released in [September 2020](https://ai.facebook.com/blog/wav2vec-20-learning-the-structure-of-speech-from-raw-audio/) by *Alexei Baevski, Michael Auli, and Alex Conneau*.  Soon after the superior performance of Wav2Vec2 was demonstrated on one of the most popular English datasets for ASR, called [LibriSpeech](https://huggingface.co/datasets/librispeech_asr), *Facebook AI* presented a multi-lingual version of Wav2Vec2, called [XLSR](https://arxiv.org/abs/2006.13979). XLSR stands for *cross-lingual speech representations* and refers to model's ability to learn speech representations that are useful across multiple languages.\n",
        "\n",
        "XLSR's successor, simply called **XLS-R** (refering to the [*''XLM-R*](https://ai.facebook.com/blog/-xlm-r-state-of-the-art-cross-lingual-understanding-through-self-supervision/) *for Speech''*), was released in [November 2021](https://ai.facebook.com/blog/xls-r-self-supervised-speech-processing-for-128-languages) by *Arun Babu, Changhan Wang, Andros Tjandra, et al.* XLS-R used almost **half a million** hours of audio data in 128 languages for self-supervised pre-training and comes in sizes ranging from 300 milion up to **two billion** parameters. You can find the pretrained checkpoints on the 🤗 Hub:\n",
        "\n",
        "- [**Wav2Vec2-XLS-R-300M**](https://huggingface.co/facebook/wav2vec2-xls-r-300m)\n",
        "- [**Wav2Vec2-XLS-R-1B**](https://huggingface.co/facebook/wav2vec2-xls-r-1b)\n",
        "- [**Wav2Vec2-XLS-R-2B**](https://huggingface.co/facebook/wav2vec2-xls-r-2b)\n",
        "\n",
        "Similar to [BERT's masked language modeling objective](http://jalammar.github.io/illustrated-bert/), XLS-R learns contextualized speech representations by randomly masking feature vectors before passing them to a transformer network during self-supervised pre-training (*i.e.* diagram on the left below). \n",
        "\n",
        "For fine-tuning, a single linear layer is added on top of the pre-trained network to train the model on labeled data of audio downstream tasks such as speech recognition, speech translation and audio classification (*i.e.* diagram on the right below).\n",
        "\n",
        "![wav2vec2_structure](https://raw.githubusercontent.com/patrickvonplaten/scientific_images/master/xls_r.png)\n",
        "\n",
        "XLS-R shows impressive improvements over previous state-of-the-art results on both speech recognition, speech translation and speaker/language identification, *cf.* with Table 3-6, Table 7-10, and Table 11-12 respectively of the official [paper](https://ai.facebook.com/blog/xls-r-self-supervised-speech-processing-for-128-languages)."
      ]
    },
    {
      "cell_type": "markdown",
      "metadata": {
        "id": "nT_QrfWtsxIz"
      },
      "source": [
        "## Notebook Setup"
      ]
    },
    {
      "cell_type": "markdown",
      "metadata": {
        "id": "kruqixOYHaIo"
      },
      "source": [
        "\n",
        "In this notebook, we will give an in-detail explanation of how XLS-R - more specifically the pre-trained checkpoint [**Wav2Vec2-XLS-R-300M**](https://huggingface.co/facebook/wav2vec2-xls-r-300m) - can be fine-tuned for ASR.  \n",
        "\n",
        "For demonstration purposes, we fine-tune the model on the low resource ASR dataset of [Common Voice](https://huggingface.co/datasets/common_voice) that contains only *ca.* 4h of validated training data."
      ]
    },
    {
      "cell_type": "markdown",
      "metadata": {
        "id": "Gx9OdDYrCtQ1"
      },
      "source": [
        "XLS-R is fine-tuned using Connectionist Temporal Classification (CTC), which is an algorithm that is used to train neural networks for sequence-to-sequence problems, such as ASR and handwriting recognition. \n",
        "\n",
        "I highly recommend reading the well-written blog post [*Sequence Modeling with CTC (2017)*](https://distill.pub/2017/ctc/) by Awni Hannun."
      ]
    },
    {
      "cell_type": "markdown",
      "metadata": {
        "id": "wcHuXIaWyHZU"
      },
      "source": [
        "First, let's try to get a good GPU in our colab! With Google Colab's free version it's sadly becoming much harder to get access to a good GPU. With Google Colab Pro, however, one should easily get either a V100 or P100 GPU."
      ]
    },
    {
      "cell_type": "code",
      "metadata": {
        "colab": {
          "base_uri": "https://localhost:8080/"
        },
        "id": "YELVqGxMxnbG",
        "outputId": "1ab7eb67-409d-4371-b99e-7eb1171cb5fb"
      },
      "source": [
        "gpu_info = !nvidia-smi\n",
        "gpu_info = '\\n'.join(gpu_info)\n",
        "if gpu_info.find('failed') >= 0:\n",
        "  print('Not connected to a GPU')\n",
        "else:\n",
        "  print(gpu_info)"
      ],
      "execution_count": null,
      "outputs": [
        {
          "name": "stdout",
          "output_type": "stream",
          "text": [
            "Fri Nov 12 14:31:29 2021       \n",
            "+-----------------------------------------------------------------------------+\n",
            "| NVIDIA-SMI 495.44       Driver Version: 460.32.03    CUDA Version: 11.2     |\n",
            "|-------------------------------+----------------------+----------------------+\n",
            "| GPU  Name        Persistence-M| Bus-Id        Disp.A | Volatile Uncorr. ECC |\n",
            "| Fan  Temp  Perf  Pwr:Usage/Cap|         Memory-Usage | GPU-Util  Compute M. |\n",
            "|                               |                      |               MIG M. |\n",
            "|===============================+======================+======================|\n",
            "|   0  Tesla P100-PCIE...  Off  | 00000000:00:04.0 Off |                    0 |\n",
            "| N/A   41C    P0    26W / 250W |      0MiB / 16280MiB |      0%      Default |\n",
            "|                               |                      |                  N/A |\n",
            "+-------------------------------+----------------------+----------------------+\n",
            "                                                                               \n",
            "+-----------------------------------------------------------------------------+\n",
            "| Processes:                                                                  |\n",
            "|  GPU   GI   CI        PID   Type   Process name                  GPU Memory |\n",
            "|        ID   ID                                                   Usage      |\n",
            "|=============================================================================|\n",
            "|  No running processes found                                                 |\n",
            "+-----------------------------------------------------------------------------+\n"
          ]
        }
      ]
    },
    {
      "cell_type": "markdown",
      "metadata": {
        "id": "e335hPmdtASZ"
      },
      "source": [
        "Before we start, let's install `datasets` and `transformers`. Also, we need the `torchaudio` to load audio files and `jiwer` to evaluate our fine-tuned model using the [word error rate (WER)](https://huggingface.co/metrics/wer) metric ${}^1$."
      ]
    },
    {
      "cell_type": "code",
      "metadata": {
        "id": "c8eh87Hoee5d"
      },
      "source": [
        "%%capture\n",
        "!pip install datasets==1.18.3\n",
        "!pip install transformers==4.11.3\n",
        "!pip install torchaudio==0.10.0+cu113 -f https://download.pytorch.org/whl/cu113/torch_stable.html\n",
        "!pip install jiwer"
      ],
      "execution_count": null,
      "outputs": []
    },
    {
      "cell_type": "markdown",
      "metadata": {
        "id": "0xxt_LwxDQlO"
      },
      "source": [
        "We strongly suggest to upload your training checkpoints directly to the [🤗 Hub](https://huggingface.co/) while training. The [🤗 Hub](https://huggingface.co/) has integrated version control so you can be sure that no model checkpoint is getting lost during training. \n",
        "\n",
        "To do so you have to store your authentication token from the Hugging Face website (sign up [here](https://huggingface.co/join) if you haven't already!)"
      ]
    },
    {
      "cell_type": "code",
      "metadata": {
        "colab": {
          "base_uri": "https://localhost:8080/",
          "height": 239,
          "referenced_widgets": [
            "b896566369e3403091e357af18648740",
            "26bf8a70fe5449a99ca1b06430b2fc8f",
            "dd5d9b3f70ee4a0dabe18e87ab38145c",
            "2d4eb3e5acc348948299c506db83ca90",
            "384228b409cb4bb0bbd77ef259b9a568",
            "0c01a04a8a924740af301c5c53a51315",
            "15f8964842df434ca0dee00d7dc1bd9a",
            "49f98244a8634be9b2305bb87731e765",
            "a28d3e82e04646b79c89f93cf40ee596",
            "4c3e043e600641538a479df6ad389784",
            "d11d94912b26401a860c80eba767907a",
            "6dd7aa6b17b34d18ba46d834ffd559bc",
            "4bf1f9d3031e4877aa6ef704e9a227d7",
            "bfb6a1e47f6e4f74af4db7e71227ef3e",
            "8541f8f949ea49b7a1335aaf31ca4f81",
            "c237b5686d3e48aeb226c87aa703f63d"
          ]
        },
        "id": "mlMSH3T3EazV",
        "outputId": "cecdacd4-9e12-4878-d5ae-fd2eeeb7d355"
      },
      "source": [
        "from huggingface_hub import notebook_login\n",
        "\n",
        "notebook_login()"
      ],
      "execution_count": null,
      "outputs": [
        {
          "data": {
            "application/vnd.jupyter.widget-view+json": {
              "model_id": "b896566369e3403091e357af18648740",
              "version_major": 2,
              "version_minor": 0
            },
            "text/plain": [
              "VBox(children=(HTML(value=\"<center>\\n<img src=https://huggingface.co/front/assets/huggingface_logo-noborder.sv…"
            ]
          },
          "metadata": {},
          "output_type": "display_data"
        }
      ]
    },
    {
      "cell_type": "markdown",
      "metadata": {
        "id": "ujdZ2TxhElk6"
      },
      "source": [
        "\n",
        "Then you need to install Git-LFS to upload your model checkpoints:"
      ]
    },
    {
      "cell_type": "code",
      "metadata": {
        "id": "WcR-d83OEkqb"
      },
      "source": [
        "%%capture\n",
        "!apt install git-lfs"
      ],
      "execution_count": null,
      "outputs": []
    },
    {
      "cell_type": "markdown",
      "metadata": {
        "id": "Mn9swf6EQ9Vd"
      },
      "source": [
        "\n",
        "\n",
        "\n",
        "---\n",
        "\n",
        "${}^1$ In the [paper](https://arxiv.org/pdf/2006.13979.pdf), the model was evaluated using the phoneme error rate (PER), but by far the most common metric in ASR is the word error rate (WER). To keep this notebook as general as possible we decided to evaluate the model using WER."
      ]
    },
    {
      "cell_type": "markdown",
      "metadata": {
        "id": "0mW-C1Nt-j7k"
      },
      "source": [
        "## Prepare Data, Tokenizer, Feature Extractor"
      ]
    },
    {
      "cell_type": "markdown",
      "metadata": {
        "id": "BeBosnY9BH3e"
      },
      "source": [
        "ASR models transcribe speech to text, which means that we both need a feature extractor that processes the speech signal to the model's input format, *e.g.* a feature vector, and a tokenizer that processes the model's output format to text. \n",
        "\n",
        "In 🤗 Transformers, the XLS-R model is thus accompanied by both a tokenizer, called [Wav2Vec2CTCTokenizer](https://huggingface.co/transformers/master/model_doc/wav2vec2.html#wav2vec2ctctokenizer), and a feature extractor, called [Wav2Vec2FeatureExtractor](https://huggingface.co/transformers/master/model_doc/wav2vec2.html#wav2vec2featureextractor).\n",
        "\n",
        "Let's start by creating the tokenizer to decode the predicted output classes to the output transcription."
      ]
    },
    {
      "cell_type": "markdown",
      "metadata": {
        "id": "sEXEWEJGQPqD"
      },
      "source": [
        "### Create `Wav2Vec2CTCTokenizer`"
      ]
    },
    {
      "cell_type": "markdown",
      "metadata": {
        "id": "tWmMikuNEKl_"
      },
      "source": [
        "A pre-trained XLS-R model maps the speech signal to a sequence of context representations as illustrated in the figure above. However, for speech recognition the model has to to map this sequence of context representations to its corresponding transcription which means that a linear layer has to be added on top of the transformer block (shown in yellow in the diagram above). This linear layer is used to classifies each context representation to a token class analogous how, *e.g.*, after pretraining a linear layer is added on top of BERT's embeddings for further classification - *cf.* with *'BERT'* section of this [blog post](https://huggingface.co/blog/warm-starting-encoder-decoder)."
      ]
    },
    {
      "cell_type": "markdown",
      "metadata": {
        "id": "v5oRE8XjIUH3"
      },
      "source": [
        "The output size of this layer corresponds to the number of tokens in the vocabulary, which does **not** depend onXLS-R's pretraining task, but only on the labeled dataset used for fine-tuning. So in the first step, we will take a look at the chosen dataset of Common Voice and define a vocabulary based on the transcriptions."
      ]
    },
    {
      "cell_type": "markdown",
      "metadata": {
        "id": "idBczw8mWzgt"
      },
      "source": [
        "First, let's go to Common Voice [official website](https://commonvoice.mozilla.org/en/datasets) and pick a language to fine-tune XLS-R on. For this notebook, we will use Turkish. \n",
        "\n",
        "For each language-specific dataset, you can find a language code corresponding to your chosen language. On [Common Voice](https://commonvoice.mozilla.org/en/datasets), look for the field \"Version\". The language code then corresponds to the prefix before the underscore. For Turkish, *e.g.* the language code is `\"tr\"`.\n",
        "\n",
        "Great, now we can use 🤗 Datasets' simple API to download the data. The dataset name is `\"common_voice\"`, the configuration name corresponds to the language code, which is `\"tr\"` in our case."
      ]
    },
    {
      "cell_type": "markdown",
      "metadata": {
        "id": "bee4g9rpLxll"
      },
      "source": [
        "Common Voice has many different splits including `invalidated`, which refers to data that was not rated as \"clean enough\" to be considered useful. In this notebook, we will only make use of the splits `\"train\"`, `\"validation\"` and `\"test\"`. \n",
        "\n",
        "Because the Turkish dataset is so small, we will merge both the validation and training data into a training dataset and only use the test data for validation."
      ]
    },
    {
      "cell_type": "code",
      "metadata": {
        "colab": {
          "base_uri": "https://localhost:8080/"
        },
        "id": "2MMXcWFFgCXU",
        "outputId": "00961862-9e79-4e0e-c887-db62adafa553"
      },
      "source": [
        "from datasets import load_dataset, load_metric, Audio\n",
        "\n",
        "common_voice_train = load_dataset(\"common_voice\", \"tr\", split=\"train+validation\")\n",
        "common_voice_test = load_dataset(\"common_voice\", \"tr\", split=\"test\")"
      ],
      "execution_count": null,
      "outputs": [
        {
          "name": "stderr",
          "output_type": "stream",
          "text": [
            "Reusing dataset common_voice (/root/.cache/huggingface/datasets/common_voice/tr/6.1.0/f7a9d973839b7706e9e281c19b7e512f31badf3c0fdbd21c671f3c4bf9acf3b9)\n",
            "Reusing dataset common_voice (/root/.cache/huggingface/datasets/common_voice/tr/6.1.0/f7a9d973839b7706e9e281c19b7e512f31badf3c0fdbd21c671f3c4bf9acf3b9)\n"
          ]
        }
      ]
    },
    {
      "cell_type": "markdown",
      "metadata": {
        "id": "ri5y5N_HMANq"
      },
      "source": [
        "Many ASR datasets only provide the target text, `'sentence'` for each audio array `'audio'` and file `'path'`. Common Voice actually provides much more information about each audio file, such as the `'accent'`, etc. Keeping the notebook as general as possible, we only consider the transcribed text for fine-tuning.\n",
        "\n"
      ]
    },
    {
      "cell_type": "code",
      "metadata": {
        "id": "kbyq6lDgQc2a"
      },
      "source": [
        "common_voice_train = common_voice_train.remove_columns([\"accent\", \"age\", \"client_id\", \"down_votes\", \"gender\", \"locale\", \"segment\", \"up_votes\"])\n",
        "common_voice_test = common_voice_test.remove_columns([\"accent\", \"age\", \"client_id\", \"down_votes\", \"gender\", \"locale\", \"segment\", \"up_votes\"])"
      ],
      "execution_count": null,
      "outputs": []
    },
    {
      "cell_type": "markdown",
      "metadata": {
        "id": "Go9Hq4e4NDT9"
      },
      "source": [
        "Let's write a short function to display some random samples of the dataset and run it a couple of times to get a feeling for the transcriptions."
      ]
    },
    {
      "cell_type": "code",
      "metadata": {
        "id": "72737oog2F6U"
      },
      "source": [
        "from datasets import ClassLabel\n",
        "import random\n",
        "import pandas as pd\n",
        "from IPython.display import display, HTML\n",
        "\n",
        "def show_random_elements(dataset, num_examples=10):\n",
        "    assert num_examples <= len(dataset), \"Can't pick more elements than there are in the dataset.\"\n",
        "    picks = []\n",
        "    for _ in range(num_examples):\n",
        "        pick = random.randint(0, len(dataset)-1)\n",
        "        while pick in picks:\n",
        "            pick = random.randint(0, len(dataset)-1)\n",
        "        picks.append(pick)\n",
        "    \n",
        "    df = pd.DataFrame(dataset[picks])\n",
        "    display(HTML(df.to_html()))"
      ],
      "execution_count": null,
      "outputs": []
    },
    {
      "cell_type": "code",
      "metadata": {
        "colab": {
          "base_uri": "https://localhost:8080/",
          "height": 359
        },
        "id": "K_JUmf3G3b9S",
        "outputId": "e3a0d9c8-4b68-4255-fd29-8dba65632a24"
      },
      "source": [
        "show_random_elements(common_voice_train.remove_columns([\"path\", \"audio\"]), num_examples=10)"
      ],
      "execution_count": null,
      "outputs": [
        {
          "data": {
            "text/html": [
              "<table border=\"1\" class=\"dataframe\">\n",
              "  <thead>\n",
              "    <tr style=\"text-align: right;\">\n",
              "      <th></th>\n",
              "      <th>sentence</th>\n",
              "    </tr>\n",
              "  </thead>\n",
              "  <tbody>\n",
              "    <tr>\n",
              "      <th>0</th>\n",
              "      <td>Etkinliğe dünyadan otuzdan fazla sanatçı katıldı.</td>\n",
              "    </tr>\n",
              "    <tr>\n",
              "      <th>1</th>\n",
              "      <td>İnşaat iki bin dokuz yılında başlayacak.</td>\n",
              "    </tr>\n",
              "    <tr>\n",
              "      <th>2</th>\n",
              "      <td>Lükse yer kalmıyor.</td>\n",
              "    </tr>\n",
              "    <tr>\n",
              "      <th>3</th>\n",
              "      <td>Gümrük idaresi beş yüz yetmiş iki virgül iki milyon avro topladı.</td>\n",
              "    </tr>\n",
              "    <tr>\n",
              "      <th>4</th>\n",
              "      <td>Pahor bu hareketi eleştirdi.</td>\n",
              "    </tr>\n",
              "    <tr>\n",
              "      <th>5</th>\n",
              "      <td>İki tane vardı.</td>\n",
              "    </tr>\n",
              "    <tr>\n",
              "      <th>6</th>\n",
              "      <td>Mali sorunlara rağmen, bunu tekrar başardı.</td>\n",
              "    </tr>\n",
              "    <tr>\n",
              "      <th>7</th>\n",
              "      <td>Ancak yakında bu durum değişebilir.</td>\n",
              "    </tr>\n",
              "    <tr>\n",
              "      <th>8</th>\n",
              "      <td>Bu teklifleri hangi koşullarda kabul edersiniz?</td>\n",
              "    </tr>\n",
              "    <tr>\n",
              "      <th>9</th>\n",
              "      <td>Fakat bu yaz, bunların bir kısmı adadan ayrıldı.</td>\n",
              "    </tr>\n",
              "  </tbody>\n",
              "</table>"
            ],
            "text/plain": [
              "<IPython.core.display.HTML object>"
            ]
          },
          "metadata": {},
          "output_type": "display_data"
        }
      ]
    },
    {
      "cell_type": "markdown",
      "metadata": {
        "id": "fowcOllGNNju"
      },
      "source": [
        "Alright! The transcriptions look fairly clean. Having translated the transcribed sentences, it seems that the language corresponds more to written-out text than noisy dialogue. This makes sense considering that [Common Voice](https://huggingface.co/datasets/common_voice) is a crowd-sourced read speech corpus."
      ]
    },
    {
      "cell_type": "markdown",
      "metadata": {
        "id": "vq7OR50LN49m"
      },
      "source": [
        "We can see that the transcriptions contain some special characters, such as `,.?!;:`. Without a language model, it is much harder to classify speech chunks to such special characters because they don't really correspond to a characteristic sound unit. *E.g.*, the letter `\"s\"` has a more or less clear sound, whereas the special character `\".\"` does not.\n",
        "Also in order to understand the meaning of a speech signal, it is usually not necessary to include special characters in the transcription.\n",
        "\n",
        "Let's simply remove all characters that don't contribute to the meaning of a word and cannot really be represented by an acoustic sound and normalize the text."
      ]
    },
    {
      "cell_type": "code",
      "metadata": {
        "id": "svKzVJ_hQGK6"
      },
      "source": [
        "import re\n",
        "chars_to_remove_regex = '[\\,\\?\\.\\!\\-\\;\\:\\\"\\“\\%\\‘\\”\\�\\']'\n",
        "\n",
        "def remove_special_characters(batch):\n",
        "    batch[\"sentence\"] = re.sub(chars_to_remove_regex, '', batch[\"sentence\"]).lower()\n",
        "    return batch"
      ],
      "execution_count": null,
      "outputs": []
    },
    {
      "cell_type": "code",
      "metadata": {
        "colab": {
          "base_uri": "https://localhost:8080/"
        },
        "id": "XIHocAuTQbBR",
        "outputId": "32b09453-6f60-42c4-e417-4e87edad58dd"
      },
      "source": [
        "common_voice_train = common_voice_train.map(remove_special_characters)\n",
        "common_voice_test = common_voice_test.map(remove_special_characters)"
      ],
      "execution_count": null,
      "outputs": [
        {
          "name": "stderr",
          "output_type": "stream",
          "text": [
            "Loading cached processed dataset at /root/.cache/huggingface/datasets/common_voice/tr/6.1.0/f7a9d973839b7706e9e281c19b7e512f31badf3c0fdbd21c671f3c4bf9acf3b9/cache-2963c9a6418469ef.arrow\n",
            "Loading cached processed dataset at /root/.cache/huggingface/datasets/common_voice/tr/6.1.0/f7a9d973839b7706e9e281c19b7e512f31badf3c0fdbd21c671f3c4bf9acf3b9/cache-a3aa7587e4d2fd25.arrow\n"
          ]
        }
      ]
    },
    {
      "cell_type": "markdown",
      "metadata": {
        "id": "TxnVS9gIhIma"
      },
      "source": [
        "Let's look at the processed text labels again."
      ]
    },
    {
      "cell_type": "code",
      "metadata": {
        "colab": {
          "base_uri": "https://localhost:8080/",
          "height": 359
        },
        "id": "RBDRAAYxRE6n",
        "outputId": "5bbca4d5-57b3-48ca-e591-b5feeab0db3d"
      },
      "source": [
        "show_random_elements(common_voice_train.remove_columns([\"path\",\"audio\"]))"
      ],
      "execution_count": null,
      "outputs": [
        {
          "data": {
            "text/html": [
              "<table border=\"1\" class=\"dataframe\">\n",
              "  <thead>\n",
              "    <tr style=\"text-align: right;\">\n",
              "      <th></th>\n",
              "      <th>sentence</th>\n",
              "    </tr>\n",
              "  </thead>\n",
              "  <tbody>\n",
              "    <tr>\n",
              "      <th>0</th>\n",
              "      <td>ama sonra pazarlık başlıyordu</td>\n",
              "    </tr>\n",
              "    <tr>\n",
              "      <th>1</th>\n",
              "      <td>diğerleri de hep birlikte işi bırakabilir</td>\n",
              "    </tr>\n",
              "    <tr>\n",
              "      <th>2</th>\n",
              "      <td>tüm bölge liderleri başsağlığı dilediler</td>\n",
              "    </tr>\n",
              "    <tr>\n",
              "      <th>3</th>\n",
              "      <td>onurun gözlerindeki büyü</td>\n",
              "    </tr>\n",
              "    <tr>\n",
              "      <th>4</th>\n",
              "      <td>i̇lkiyse bin dokuz yüz elli dokuz yılında meydana gelmişti</td>\n",
              "    </tr>\n",
              "    <tr>\n",
              "      <th>5</th>\n",
              "      <td>selin kontrol edilememesi ihtimali hakkındaki fikri sorulan cumhurbaşkanı allah korusun dedi</td>\n",
              "    </tr>\n",
              "    <tr>\n",
              "      <th>6</th>\n",
              "      <td>bunlar iyi işlemesi gereken ufak çarklar</td>\n",
              "    </tr>\n",
              "    <tr>\n",
              "      <th>7</th>\n",
              "      <td>halkın yaklaşık yüzde otuz üçü oy kullanmayacak</td>\n",
              "    </tr>\n",
              "    <tr>\n",
              "      <th>8</th>\n",
              "      <td>güzel alternatif hedefler aramadığını belirtti</td>\n",
              "    </tr>\n",
              "    <tr>\n",
              "      <th>9</th>\n",
              "      <td>kamuoyu denktaşa karşı</td>\n",
              "    </tr>\n",
              "  </tbody>\n",
              "</table>"
            ],
            "text/plain": [
              "<IPython.core.display.HTML object>"
            ]
          },
          "metadata": {},
          "output_type": "display_data"
        }
      ]
    },
    {
      "cell_type": "markdown",
      "metadata": {
        "id": "jwfaptH5RJwA"
      },
      "source": [
        "Good! This looks better. We have removed most special characters from transcriptions and normalized them to lower-case only.\n",
        "\n",
        "Before finalizing the pre-processing, it is always advantageous to consult a native speaker of the target language to see whether the text can be further simplified. \n",
        "For this blog post, [Merve](https://twitter.com/mervenoyann) was kind enough to take a quick look and noted that \"hatted\" characters - like `â` - aren't really used anymore in Turkish and can be replaced by their \"un-hatted\" equivalent, *e.g.* `a`. \n",
        "\n",
        "This means that we should replace a sentence like `\"yargı sistemi hâlâ sağlıksız\"` to `\"yargı sistemi hala sağlıksız\"`.\n",
        "\n",
        "Let's write another short mapping function to further simplify the text labels. Remember - the simler the text labels, the easier it is for the model to learn to predict those labels.\n",
        "\n"
      ]
    },
    {
      "cell_type": "code",
      "metadata": {
        "id": "aZcrz6z7lgGm"
      },
      "source": [
        "def replace_hatted_characters(batch):\n",
        "    batch[\"sentence\"] = re.sub('[â]', 'a', batch[\"sentence\"])\n",
        "    batch[\"sentence\"] = re.sub('[î]', 'i', batch[\"sentence\"])\n",
        "    batch[\"sentence\"] = re.sub('[ô]', 'o', batch[\"sentence\"])\n",
        "    batch[\"sentence\"] = re.sub('[û]', 'u', batch[\"sentence\"])\n",
        "    return batch"
      ],
      "execution_count": null,
      "outputs": []
    },
    {
      "cell_type": "code",
      "metadata": {
        "colab": {
          "base_uri": "https://localhost:8080/"
        },
        "id": "ieGhhND5mSwI",
        "outputId": "2f5cee33-a98a-45ae-a8b4-0f10d97f4d15"
      },
      "source": [
        "common_voice_train = common_voice_train.map(replace_hatted_characters)\n",
        "common_voice_test = common_voice_test.map(replace_hatted_characters)"
      ],
      "execution_count": null,
      "outputs": [
        {
          "name": "stderr",
          "output_type": "stream",
          "text": [
            "Loading cached processed dataset at /root/.cache/huggingface/datasets/common_voice/tr/6.1.0/f7a9d973839b7706e9e281c19b7e512f31badf3c0fdbd21c671f3c4bf9acf3b9/cache-42d8bb33221ffcb6.arrow\n",
            "Loading cached processed dataset at /root/.cache/huggingface/datasets/common_voice/tr/6.1.0/f7a9d973839b7706e9e281c19b7e512f31badf3c0fdbd21c671f3c4bf9acf3b9/cache-7feed192f520d0a3.arrow\n"
          ]
        }
      ]
    },
    {
      "cell_type": "markdown",
      "metadata": {
        "id": "3ORHDb2Th2TW"
      },
      "source": [
        "In CTC, it is common to classify speech chunks into letters, so we will do the same here. \n",
        "Let's extract all distinct letters of the training and test data and build our vocabulary from this set of letters.\n",
        "\n",
        "We write a mapping function that concatenates all transcriptions into one long transcription and then transforms the string into a set of chars. \n",
        "It is important to pass the argument `batched=True` to the `map(...)` function so that the mapping function has access to all transcriptions at once."
      ]
    },
    {
      "cell_type": "code",
      "metadata": {
        "id": "LwCshNbbeRZR"
      },
      "source": [
        "def extract_all_chars(batch):\n",
        "  all_text = \" \".join(batch[\"sentence\"])\n",
        "  vocab = list(set(all_text))\n",
        "  return {\"vocab\": [vocab], \"all_text\": [all_text]}"
      ],
      "execution_count": null,
      "outputs": []
    },
    {
      "cell_type": "code",
      "metadata": {
        "colab": {
          "base_uri": "https://localhost:8080/",
          "height": 81,
          "referenced_widgets": [
            "e78238c96d6a4152bf40f5d7a81e5495",
            "75b26f4a95d24e9d8939d1f7b376eb51",
            "f58af0561fc242238cfd0163f0ad5e5f",
            "a1419cc920324f62be58d6e48a82e275",
            "6ec3c80319fb45f3b6f7715049c9bce0",
            "02519344818c40d0b961c5ea210a5c62",
            "e575e46791b24f449b8afcb773e46dcc",
            "5cff6b2dd6944c59b8c2f205db5f49bf",
            "5ba2a38c71e64253a4fd39cf7d3b3326",
            "bc11f833cc9c441b9a58d69ea792fa9c",
            "4f81e460906a428f9f74a0aa469ba63f",
            "093927de0d86406290365759e88fd4e7",
            "f6e777f3a1684a7da3efc63281553b5e",
            "609781a3f55d4d3dbf0b3640972755fa",
            "8783792878a64402981a416989924348",
            "92e295e353624110880cff6835b9e119",
            "db7a9c27eabb4ba391bfb9d819d7a36e",
            "fd2ba2bf4b2946078a0761b773626b64",
            "a5777207c788498fb4ac4900af91d7cf",
            "890ff54dc35e460b9108e2690966fafe",
            "cc70741031664fa89bfe8e8e672c5b2b",
            "46c8681bd36f419495d33b06c96311ed"
          ]
        },
        "id": "_m6uUjjcfbjH",
        "outputId": "67fa96dd-2df9-4393-f551-4d599c42efff"
      },
      "source": [
        "vocab_train = common_voice_train.map(extract_all_chars, batched=True, batch_size=-1, keep_in_memory=True, remove_columns=common_voice_train.column_names)\n",
        "vocab_test = common_voice_test.map(extract_all_chars, batched=True, batch_size=-1, keep_in_memory=True, remove_columns=common_voice_test.column_names)"
      ],
      "execution_count": null,
      "outputs": [
        {
          "data": {
            "application/vnd.jupyter.widget-view+json": {
              "model_id": "e78238c96d6a4152bf40f5d7a81e5495",
              "version_major": 2,
              "version_minor": 0
            },
            "text/plain": [
              "  0%|          | 0/1 [00:00<?, ?ba/s]"
            ]
          },
          "metadata": {},
          "output_type": "display_data"
        },
        {
          "data": {
            "application/vnd.jupyter.widget-view+json": {
              "model_id": "093927de0d86406290365759e88fd4e7",
              "version_major": 2,
              "version_minor": 0
            },
            "text/plain": [
              "  0%|          | 0/1 [00:00<?, ?ba/s]"
            ]
          },
          "metadata": {},
          "output_type": "display_data"
        }
      ]
    },
    {
      "cell_type": "markdown",
      "metadata": {
        "id": "7oVgE8RZSJNP"
      },
      "source": [
        "Now, we create the union of all distinct letters in the training dataset and test dataset and convert the resulting list into an enumerated dictionary."
      ]
    },
    {
      "cell_type": "code",
      "metadata": {
        "id": "aQfneNsmlJI0"
      },
      "source": [
        "vocab_list = list(set(vocab_train[\"vocab\"][0]) | set(vocab_test[\"vocab\"][0]))"
      ],
      "execution_count": null,
      "outputs": []
    },
    {
      "cell_type": "code",
      "metadata": {
        "colab": {
          "base_uri": "https://localhost:8080/"
        },
        "id": "_0kRndSvqaKk",
        "outputId": "63440dfc-3f58-42c1-db78-3369f96f103f"
      },
      "source": [
        "vocab_dict = {v: k for k, v in enumerate(sorted(vocab_list))}\n",
        "vocab_dict"
      ],
      "execution_count": null,
      "outputs": [
        {
          "data": {
            "text/plain": [
              "{' ': 0,\n",
              " 'a': 1,\n",
              " 'b': 2,\n",
              " 'c': 3,\n",
              " 'd': 4,\n",
              " 'e': 5,\n",
              " 'f': 6,\n",
              " 'g': 7,\n",
              " 'h': 8,\n",
              " 'i': 9,\n",
              " 'j': 10,\n",
              " 'k': 11,\n",
              " 'l': 12,\n",
              " 'm': 13,\n",
              " 'n': 14,\n",
              " 'o': 15,\n",
              " 'p': 16,\n",
              " 'q': 17,\n",
              " 'r': 18,\n",
              " 's': 19,\n",
              " 't': 20,\n",
              " 'u': 21,\n",
              " 'v': 22,\n",
              " 'w': 23,\n",
              " 'x': 24,\n",
              " 'y': 25,\n",
              " 'z': 26,\n",
              " 'ç': 27,\n",
              " 'ë': 28,\n",
              " 'ö': 29,\n",
              " 'ü': 30,\n",
              " 'ğ': 31,\n",
              " 'ı': 32,\n",
              " 'ş': 33,\n",
              " '̇': 34}"
            ]
          },
          "execution_count": 47,
          "metadata": {},
          "output_type": "execute_result"
        }
      ]
    },
    {
      "cell_type": "markdown",
      "metadata": {
        "id": "JOSzbvs9SXT1"
      },
      "source": [
        "Cool, we see that all letters of the alphabet occur in the dataset (which is not really surprising) and we also extracted the special characters `\"\"` and `'`. Note that we did not exclude those special characters because: \n",
        "\n",
        "The model has to learn to predict when a word is finished or else the model prediction would always be a sequence of chars which would make it impossible to separate words from each other.\n",
        "\n",
        "One should always keep in mind that pre-processing is a very important step before training your model. E.g., we don't want our model to differentiate between `a` and `A` just because we forgot to normalize the data. The difference between `a` and `A` does not depend on the \"sound\" of the letter at all, but more on grammatical rules - *e.g.* use a capitalized letter at the beginning of the sentence. So it is sensible to remove the difference between capitalized and non-capitalized letters so that the model has an easier time learning to transcribe speech. "
      ]
    },
    {
      "cell_type": "markdown",
      "metadata": {
        "id": "b1fBRCn-TRaO"
      },
      "source": [
        "To make it clearer that `\" \"` has its own token class, we give it a more visible character `|`. In addition, we also add an \"unknown\" token so that the model can later deal with characters not encountered in Common Voice's training set. "
      ]
    },
    {
      "cell_type": "code",
      "metadata": {
        "id": "npbIbBoLgaFX"
      },
      "source": [
        "vocab_dict[\"|\"] = vocab_dict[\" \"]\n",
        "del vocab_dict[\" \"]"
      ],
      "execution_count": null,
      "outputs": []
    },
    {
      "cell_type": "markdown",
      "metadata": {
        "id": "_9yCWg4Sd0cb"
      },
      "source": [
        "Finally, we also add a padding token that corresponds to CTC's \"*blank token*\". The \"blank token\" is a core component of the CTC algorithm. For more information, please take a look at the \"Alignment\" section [here](https://distill.pub/2017/ctc/)."
      ]
    },
    {
      "cell_type": "code",
      "metadata": {
        "colab": {
          "base_uri": "https://localhost:8080/"
        },
        "id": "znF0bNunsjbl",
        "outputId": "314ca989-0587-485e-d7d2-3e6efe2158ee"
      },
      "source": [
        "vocab_dict[\"[UNK]\"] = len(vocab_dict)\n",
        "vocab_dict[\"[PAD]\"] = len(vocab_dict)\n",
        "len(vocab_dict)"
      ],
      "execution_count": null,
      "outputs": [
        {
          "data": {
            "text/plain": [
              "37"
            ]
          },
          "execution_count": 49,
          "metadata": {},
          "output_type": "execute_result"
        }
      ]
    },
    {
      "cell_type": "markdown",
      "metadata": {
        "id": "SFPGfet8U5sL"
      },
      "source": [
        "Cool, now our vocabulary is complete and consists of 39 tokens, which means that the linear layer that we will add on top of the pretrained XLS-R checkpoint will have an output dimension of 39."
      ]
    },
    {
      "cell_type": "markdown",
      "metadata": {
        "id": "1CujRgBNVRaD"
      },
      "source": [
        "Let's now save the vocabulary as a json file."
      ]
    },
    {
      "cell_type": "code",
      "metadata": {
        "id": "ehyUoh9vk191"
      },
      "source": [
        "import json\n",
        "with open('vocab.json', 'w') as vocab_file:\n",
        "    json.dump(vocab_dict, vocab_file)"
      ],
      "execution_count": null,
      "outputs": []
    },
    {
      "cell_type": "markdown",
      "metadata": {
        "id": "SHJDaKlIVVim"
      },
      "source": [
        "In a final step, we use the json file to load the vocabulary into an instance of the `Wav2Vec2CTCTokenizer` class."
      ]
    },
    {
      "cell_type": "code",
      "metadata": {
        "colab": {
          "base_uri": "https://localhost:8080/"
        },
        "id": "xriFGEWQkO4M",
        "outputId": "95e57a04-c48e-4748-8d77-bac71dd2750e"
      },
      "source": [
        "from transformers import Wav2Vec2CTCTokenizer\n",
        "\n",
        "tokenizer = Wav2Vec2CTCTokenizer.from_pretrained(\"./\", unk_token=\"[UNK]\", pad_token=\"[PAD]\", word_delimiter_token=\"|\")"
      ],
      "execution_count": null,
      "outputs": [
        {
          "name": "stderr",
          "output_type": "stream",
          "text": [
            "file ./config.json not found\n",
            "Special tokens have been added in the vocabulary, make sure the associated word embeddings are fine-tuned or trained.\n"
          ]
        }
      ]
    },
    {
      "cell_type": "markdown",
      "metadata": {
        "id": "KvL12DrNV4cx"
      },
      "source": [
        "If one wants to re-use tokenizer that just created with the fine-tuned model of this notebook, it is strongly advised to upload the `tokenizer` to the [🤗 Hub](https://huggingface.co/). Let's call the repo to which we will upload the files\n",
        "`\"wav2vec2-large-xlsr-turkish-demo-colab\"`:"
      ]
    },
    {
      "cell_type": "code",
      "metadata": {
        "id": "A1XApZBAF2zr"
      },
      "source": [
        "repo_name = \"wav2vec2-large-xls-r-300m-turkish-colab\""
      ],
      "execution_count": null,
      "outputs": []
    },
    {
      "cell_type": "markdown",
      "metadata": {
        "id": "B1BiezWZF16d"
      },
      "source": [
        "and upload the tokenizer to the [🤗 Hub](https://huggingface.co/)."
      ]
    },
    {
      "cell_type": "code",
      "metadata": {
        "colab": {
          "base_uri": "https://localhost:8080/",
          "height": 199
        },
        "id": "zytE1175GAKM",
        "outputId": "bbe63dbe-0639-4468-9a3a-687bb8b3bb6e"
      },
      "source": [
        "tokenizer.push_to_hub(repo_name)"
      ],
      "execution_count": null,
      "outputs": [
        {
          "name": "stderr",
          "output_type": "stream",
          "text": [
            "/usr/local/lib/python3.7/dist-packages/huggingface_hub/hf_api.py:718: FutureWarning: `create_repo` now takes `token` as an optional positional argument. Be sure to adapt your code!\n",
            "  FutureWarning,\n",
            "/usr/local/lib/python3.7/dist-packages/huggingface_hub/hf_api.py:718: FutureWarning: `create_repo` now takes `token` as an optional positional argument. Be sure to adapt your code!\n",
            "  FutureWarning,\n",
            "Cloning https://huggingface.co/patrickvonplaten/wav2vec2-large-xls-r-300m-turkish-colab into local empty directory.\n",
            "To https://huggingface.co/patrickvonplaten/wav2vec2-large-xls-r-300m-turkish-colab\n",
            "   54dbd42..56ebe74  main -> main\n",
            "\n"
          ]
        },
        {
          "data": {
            "application/vnd.google.colaboratory.intrinsic+json": {
              "type": "string"
            },
            "text/plain": [
              "'https://huggingface.co/patrickvonplaten/wav2vec2-large-xls-r-300m-turkish-colab/commit/56ebe744b5acf5853233e4425bd914b938c4f013'"
            ]
          },
          "execution_count": 53,
          "metadata": {},
          "output_type": "execute_result"
        }
      ]
    },
    {
      "cell_type": "markdown",
      "metadata": {
        "id": "SwQM8lH_GGuP"
      },
      "source": [
        "Great, you can see the just created repository under `https://huggingface.co/<your-username>/wav2vec2-large-xls-r-300m-tr-colab`"
      ]
    },
    {
      "cell_type": "markdown",
      "metadata": {
        "id": "mYcIiR2FQ96i"
      },
      "source": [
        "### Create `Wav2Vec2FeatureExtractor`"
      ]
    },
    {
      "cell_type": "markdown",
      "metadata": {
        "id": "Y6mDEyW719rx"
      },
      "source": [
        "Speech is a continuous signal and to be treated by computers, it first has to be discretized, which is usually called **sampling**. The sampling rate hereby plays an important role in that it defines how many data points of the speech signal are measured per second. Therefore, sampling with a higher sampling rate results in a better approximation of the *real* speech signal but also necessitates more values per second.\n",
        "\n",
        "A pretrained checkpoint expects its input data to have been sampled more or less from the same distribution as the data it was trained on. The same speech signals sampled at two different rates have a very different distribution, *e.g.*, doubling the sampling rate results in data points being twice as long. Thus, \n",
        "before fine-tuning a pretrained checkpoint of an ASR model, it is crucial to verify that the sampling rate of the data that was used to pretrain the model matches the sampling rate of the dataset used to fine-tune the model.\n",
        "\n",
        "XLS-R was pretrained on audio data of [Babel](http://www.reading.ac.uk/AcaDepts/ll/speechlab/babel/r), \n",
        "[Multilingual LibriSpeech (MLS)](https://huggingface.co/datasets/multilingual_librispeech), [Common Voice](https://huggingface.co/datasets/common_voice), [VoxPopuli](https://arxiv.org/abs/2101.00390), and [VoxLingua107](https://arxiv.org/abs/2011.12998) at a sampling rate of 16kHz. Common Voice, in its original form, has a sampling rate of 48kHz, thus we will have to downsample the fine-tuning data to 16kHz in the following.\n",
        "\n"
      ]
    },
    {
      "cell_type": "markdown",
      "metadata": {
        "id": "KuUbPW7oV-B5"
      },
      "source": [
        "A `Wav2Vec2FeatureExtractor` object requires the following parameters to be instantiated:\n",
        "\n",
        "- `feature_size`: Speech models take a sequence of feature vectors as an input. While the length of this sequence obviously varies, the feature size should not. In the case of Wav2Vec2, the feature size is 1 because the model was trained on the raw speech signal ${}^2$.\n",
        "- `sampling_rate`: The sampling rate at which the model is trained on.\n",
        "- `padding_value`: For batched inference, shorter inputs need to be padded with a specific value\n",
        "- `do_normalize`: Whether the input should be *zero-mean-unit-variance* normalized or not. Usually, speech models perform better when normalizing the input\n",
        "- `return_attention_mask`: Whether the model should make use of an `attention_mask` for batched inference. In general, XLS-R models checkpoints should **always** use the `attention_mask`."
      ]
    },
    {
      "cell_type": "code",
      "metadata": {
        "id": "kAR0-2KLkopp"
      },
      "source": [
        "from transformers import Wav2Vec2FeatureExtractor\n",
        "\n",
        "feature_extractor = Wav2Vec2FeatureExtractor(feature_size=1, sampling_rate=16000, padding_value=0.0, do_normalize=True, return_attention_mask=True)"
      ],
      "execution_count": null,
      "outputs": []
    },
    {
      "cell_type": "markdown",
      "metadata": {
        "id": "qUETetgqYC3W"
      },
      "source": [
        "Great, XLS-R's feature extraction pipeline is thereby fully defined!\n",
        "\n",
        "For improved user-friendliness, the feature extractor and tokenizer are *wrapped* into a single `Wav2Vec2Processor` class so that one only needs a `model` and `processor` object."
      ]
    },
    {
      "cell_type": "code",
      "metadata": {
        "id": "KYZtoW-tlZgl"
      },
      "source": [
        "from transformers import Wav2Vec2Processor\n",
        "\n",
        "processor = Wav2Vec2Processor(feature_extractor=feature_extractor, tokenizer=tokenizer)"
      ],
      "execution_count": null,
      "outputs": []
    },
    {
      "cell_type": "markdown",
      "metadata": {
        "id": "DrKnYuvDIoOO"
      },
      "source": [
        "Next, we can prepare the dataset."
      ]
    },
    {
      "cell_type": "markdown",
      "metadata": {
        "id": "YFmShnl7RE35"
      },
      "source": [
        "### Preprocess Data\n",
        "\n",
        "So far, we have not looked at the actual values of the speech signal but just the transcription. In addition to `sentence`, our datasets include two more column names `path` and `audio`. `path` states the absolute path of the audio file. Let's take a look.\n"
      ]
    },
    {
      "cell_type": "code",
      "metadata": {
        "colab": {
          "base_uri": "https://localhost:8080/",
          "height": 53
        },
        "id": "TTCS7W6XJ9BG",
        "outputId": "d4b375f8-a536-4be9-b995-578fd321acfe"
      },
      "source": [
        "common_voice_train[0][\"path\"]"
      ],
      "execution_count": null,
      "outputs": [
        {
          "data": {
            "application/vnd.google.colaboratory.intrinsic+json": {
              "type": "string"
            },
            "text/plain": [
              "'/root/.cache/huggingface/datasets/downloads/extracted/05be0c29807a73c9b099873d2f5975dae6d05e9f7d577458a2466ecb9a2b0c6b/cv-corpus-6.1-2020-12-11/tr/clips/common_voice_tr_21921195.mp3'"
            ]
          },
          "execution_count": 56,
          "metadata": {},
          "output_type": "execute_result"
        }
      ]
    },
    {
      "cell_type": "markdown",
      "metadata": {
        "id": "T6ndIjHGFp0W"
      },
      "source": [
        "XLS-R expects the input in the format of a 1-dimensional array of 16 kHz. This means that the audio file has to be loaded and resampled.\n",
        "\n",
        " Thankfully, `datasets` does this automatically by calling the other column `audio`. Let try it out. "
      ]
    },
    {
      "cell_type": "code",
      "metadata": {
        "colab": {
          "base_uri": "https://localhost:8080/"
        },
        "id": "qj_z5Zc3GAs9",
        "outputId": "6b0dca9c-aadc-493f-f754-b01d0f35fe28"
      },
      "source": [
        "common_voice_train[0][\"audio\"]"
      ],
      "execution_count": null,
      "outputs": [
        {
          "data": {
            "text/plain": [
              "{'array': array([ 0.0000000e+00,  0.0000000e+00,  0.0000000e+00, ...,\n",
              "        -8.8930130e-05, -3.8027763e-05, -2.9146671e-05], dtype=float32),\n",
              " 'path': '/root/.cache/huggingface/datasets/downloads/extracted/05be0c29807a73c9b099873d2f5975dae6d05e9f7d577458a2466ecb9a2b0c6b/cv-corpus-6.1-2020-12-11/tr/clips/common_voice_tr_21921195.mp3',\n",
              " 'sampling_rate': 48000}"
            ]
          },
          "execution_count": 57,
          "metadata": {},
          "output_type": "execute_result"
        }
      ]
    },
    {
      "cell_type": "markdown",
      "metadata": {
        "id": "WUUTgI1bGHW-"
      },
      "source": [
        "Great, we can see that the audio file has automatically been loaded. This is thanks to the new [`\"Audio\"` feature](https://huggingface.co/docs/datasets/package_reference/main_classes.html?highlight=audio#datasets.Audio) introduced in `datasets == 4.13.3`, which loads and resamples audio files on-the-fly upon calling.\n",
        "\n",
        "In the example above we can see that the audio data is loaded with a sampling rate of 48kHz whereas 16kHz are expected by the model. We can set the audio feature to the correct sampling rate by making use of [`cast_column`](https://huggingface.co/docs/datasets/package_reference/main_classes.html?highlight=cast_column#datasets.DatasetDict.cast_column):"
      ]
    },
    {
      "cell_type": "code",
      "metadata": {
        "id": "rrv65aj7G95i"
      },
      "source": [
        "common_voice_train = common_voice_train.cast_column(\"audio\", Audio(sampling_rate=16_000))\n",
        "common_voice_test = common_voice_test.cast_column(\"audio\", Audio(sampling_rate=16_000))"
      ],
      "execution_count": null,
      "outputs": []
    },
    {
      "cell_type": "markdown",
      "metadata": {
        "id": "PcnO4x-NGBEi"
      },
      "source": [
        "Let's take a look at `\"audio\"` again."
      ]
    },
    {
      "cell_type": "code",
      "metadata": {
        "colab": {
          "base_uri": "https://localhost:8080/"
        },
        "id": "aKtkc1o_HWHC",
        "outputId": "c2c1375e-4812-4112-d843-9e3da6dd327d"
      },
      "source": [
        "common_voice_train[0][\"audio\"]"
      ],
      "execution_count": null,
      "outputs": [
        {
          "data": {
            "text/plain": [
              "{'array': array([ 0.0000000e+00,  0.0000000e+00,  0.0000000e+00, ...,\n",
              "        -7.4556941e-05, -1.4621433e-05, -5.7861507e-05], dtype=float32),\n",
              " 'path': '/root/.cache/huggingface/datasets/downloads/extracted/05be0c29807a73c9b099873d2f5975dae6d05e9f7d577458a2466ecb9a2b0c6b/cv-corpus-6.1-2020-12-11/tr/clips/common_voice_tr_21921195.mp3',\n",
              " 'sampling_rate': 16000}"
            ]
          },
          "execution_count": 59,
          "metadata": {},
          "output_type": "execute_result"
        }
      ]
    },
    {
      "cell_type": "markdown",
      "metadata": {
        "id": "SOckzFd4Mbzq"
      },
      "source": [
        "This seemed to have worked! Let's listen to a couple of audio files to better understand the dataset and verify that the audio was correctly loaded. \n",
        "\n",
        "**Note**: *You can click the following cell a couple of times to listen to different speech samples.*"
      ]
    },
    {
      "cell_type": "code",
      "metadata": {
        "colab": {
          "base_uri": "https://localhost:8080/",
          "height": 92
        },
        "id": "dueM6U7Ev0OA",
        "outputId": "1a771d0a-085d-441b-cc1b-f05438425ce4"
      },
      "source": [
        "import IPython.display as ipd\n",
        "import numpy as np\n",
        "import random\n",
        "\n",
        "rand_int = random.randint(0, len(common_voice_train)-1)\n",
        "\n",
        "print(common_voice_train[rand_int][\"sentence\"])\n",
        "ipd.Audio(data=common_voice_train[rand_int][\"audio\"][\"array\"], autoplay=True, rate=16000)"
      ],
      "execution_count": null,
      "outputs": [
        {
          "name": "stdout",
          "output_type": "stream",
          "text": [
            "yapabileceklerine inanıyorum\n"
          ]
        },
        {
          "data": {
            "text/html": [
              "\n",
              "                <audio controls=\"controls\" autoplay=\"autoplay\">\n",
              "                    <source src=\"data:audio/wav;base64,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\" type=\"audio/wav\" />\n",
              "                    Your browser does not support the audio element.\n",
              "                </audio>\n",
              "              "
            ],
            "text/plain": [
              "<IPython.lib.display.Audio object>"
            ]
          },
          "execution_count": 60,
          "metadata": {},
          "output_type": "execute_result"
        }
      ]
    },
    {
      "cell_type": "markdown",
      "metadata": {
        "id": "gY8m3vARHYTa"
      },
      "source": [
        "It seems like the data is now correctly loaded and resampled. "
      ]
    },
    {
      "cell_type": "markdown",
      "metadata": {
        "id": "1MaL9J2dNVtG"
      },
      "source": [
        "It can be heard, that the speakers change along with their speaking rate, accent, and background environment, etc. Overall, the recordings sound acceptably clear though, which is to be expected from a crowd-sourced read speech corpus.\n",
        "\n",
        "Let's do a final check that the data is correctly prepared, by printing the shape of the speech input, its transcription, and the corresponding sampling rate.\n",
        "\n",
        "**Note**: *You can click the following cell a couple of times to verify multiple samples.*"
      ]
    },
    {
      "cell_type": "code",
      "metadata": {
        "colab": {
          "base_uri": "https://localhost:8080/"
        },
        "id": "1Po2g7YPuRTx",
        "outputId": "63478ae9-2927-4ec1-c13c-41fb3754e18e"
      },
      "source": [
        "rand_int = random.randint(0, len(common_voice_train)-1)\n",
        "\n",
        "print(\"Target text:\", common_voice_train[rand_int][\"sentence\"])\n",
        "print(\"Input array shape:\", common_voice_train[rand_int][\"audio\"][\"array\"].shape)\n",
        "print(\"Sampling rate:\", common_voice_train[rand_int][\"audio\"][\"sampling_rate\"])"
      ],
      "execution_count": null,
      "outputs": [
        {
          "name": "stdout",
          "output_type": "stream",
          "text": [
            "Target text: ülke olimpiyatları yirmi ikinci sırada tamamladı\n",
            "Input array shape: (74880,)\n",
            "Sampling rate: 16000\n"
          ]
        }
      ]
    },
    {
      "cell_type": "markdown",
      "metadata": {
        "id": "M9teZcSwOBJ4"
      },
      "source": [
        "Good! Everything looks fine - the data is a 1-dimensional array, the sampling rate always corresponds to 16kHz, and the target text is normalized."
      ]
    },
    {
      "cell_type": "markdown",
      "metadata": {
        "id": "k3Pbn5WvOYZF"
      },
      "source": [
        "Finally, we can leverage `Wav2Vec2Processor` to process the data to the format expected by `Wav2Vec2ForCTC` for training. To do so let's make use of Dataset's [`map(...)`](https://huggingface.co/docs/datasets/package_reference/main_classes.html?highlight=map#datasets.DatasetDict.map) function.\n",
        "\n",
        "First, we load and resample the audio data, simply by calling `batch[\"audio\"]`.\n",
        "Second, we extract the `input_values` from the loaded audio file. In our case, the `Wav2Vec2Processor` only normalizes the data. For other speech models, however, this step can include more complex feature extraction, such as [Log-Mel feature extraction](https://en.wikipedia.org/wiki/Mel-frequency_cepstrum). \n",
        "Third, we encode the transcriptions to label ids.\n",
        "\n",
        "**Note**: This mapping function is a good example of how the `Wav2Vec2Processor` class should be used. In \"normal\" context, calling `processor(...)` is redirected to `Wav2Vec2FeatureExtractor`'s call method. When wrapping the processor into the `as_target_processor` context, however, the same method is redirected to `Wav2Vec2CTCTokenizer`'s call method.\n",
        "For more information please check the [docs](https://huggingface.co/transformers/master/model_doc/wav2vec2.html#transformers.Wav2Vec2Processor.__call__)."
      ]
    },
    {
      "cell_type": "code",
      "metadata": {
        "id": "eJY7I0XAwe9p"
      },
      "source": [
        "def prepare_dataset(batch):\n",
        "    audio = batch[\"audio\"]\n",
        "\n",
        "    # batched output is \"un-batched\"\n",
        "    batch[\"input_values\"] = processor(audio[\"array\"], sampling_rate=audio[\"sampling_rate\"]).input_values[0]\n",
        "    batch[\"input_length\"] = len(batch[\"input_values\"])\n",
        "    \n",
        "    with processor.as_target_processor():\n",
        "        batch[\"labels\"] = processor(batch[\"sentence\"]).input_ids\n",
        "    return batch"
      ],
      "execution_count": null,
      "outputs": []
    },
    {
      "cell_type": "markdown",
      "metadata": {
        "id": "q6Pg_WR3OGAP"
      },
      "source": [
        "Let's apply the data preparation function to all examples."
      ]
    },
    {
      "cell_type": "code",
      "metadata": {
        "colab": {
          "base_uri": "https://localhost:8080/",
          "height": 81,
          "referenced_widgets": [
            "012b09b271a842d0a7f1cd1260654c82",
            "6a40faf77bf445308534e7acada6bf0d",
            "a62ff1ee03dc47c9834b43720df991ea",
            "03d00b443bfd445d9286f64fd8556031",
            "557063bf861648f7aefacf71aa53ea9b",
            "21af0f39c0ce40a5846b980f98481940",
            "f6e0ea791e5a44abb5d5891bb3e254ad",
            "6323e35581be4b338a904266a5e85005",
            "6da7072e7f634a3aa2927fca1bcf38c0",
            "716dc4ab4fe74abab49f3c0f009357f5",
            "8a669878b8354867944e577860910001",
            "3aa317d2b42e4674b38dafa87b5599c5",
            "0a7c2124936345febe50288a476a12a6",
            "bdcf9380af5d4601b9b2de84b06ecb40",
            "b9c5532ffabb44078de8a6f76a4b8be6",
            "7732bb1317f940faa455f992f4fd2b26",
            "f28c64f34f9540b6b6bdc765c84e2307",
            "02016dcc44994c15b69e7f2c4dd0d9c4",
            "bbfc45e0cf5644f6bc24118fa9c6c098",
            "eca458b185ae4570b1ec1e77389c871e",
            "fe156fa95ee9410daff8f7c9a8b0d3a3",
            "a5e2e1fe3ab94cc6ae1a73cc1ab6f9a8"
          ]
        },
        "id": "-np9xYK-wl8q",
        "outputId": "00d6940a-a7bf-4128-896b-76bc289e5b7f"
      },
      "source": [
        "common_voice_train = common_voice_train.map(prepare_dataset, remove_columns=common_voice_train.column_names)\n",
        "common_voice_test = common_voice_test.map(prepare_dataset, remove_columns=common_voice_test.column_names)"
      ],
      "execution_count": null,
      "outputs": [
        {
          "data": {
            "application/vnd.jupyter.widget-view+json": {
              "model_id": "012b09b271a842d0a7f1cd1260654c82",
              "version_major": 2,
              "version_minor": 0
            },
            "text/plain": [
              "  0%|          | 0/3478 [00:00<?, ?ex/s]"
            ]
          },
          "metadata": {},
          "output_type": "display_data"
        },
        {
          "data": {
            "application/vnd.jupyter.widget-view+json": {
              "model_id": "3aa317d2b42e4674b38dafa87b5599c5",
              "version_major": 2,
              "version_minor": 0
            },
            "text/plain": [
              "  0%|          | 0/1647 [00:00<?, ?ex/s]"
            ]
          },
          "metadata": {},
          "output_type": "display_data"
        }
      ]
    },
    {
      "cell_type": "markdown",
      "metadata": {
        "id": "nKcEWHvKI1by"
      },
      "source": [
        "**Note**: Currently `datasets` make use of [`torchaudio`](https://pytorch.org/audio/stable/index.html) and [`librosa`](https://librosa.org/doc/latest/index.html) for audio loading and resampling. If you wish to implement your own costumized data loading/sampling, feel free to just make use of the `\"path\"` column instead and disregard the `\"audio\"` column."
      ]
    },
    {
      "cell_type": "markdown",
      "metadata": {
        "id": "24CxHd5ewI4T"
      },
      "source": [
        "Long input sequences require a lot of memory. XLS-R is based on `self-attention` the memory requirement scales quadratically with the input length for long input sequences (*cf.* with [this](https://www.reddit.com/r/MachineLearning/comments/genjvb/d_why_is_the_maximum_input_sequence_length_of/) reddit post). In case this demo crashes with an \"Out-of-memory\" error for you, you might want to uncomment the following lines to filter all sequences that are longer than 5 seconds for training."
      ]
    },
    {
      "cell_type": "code",
      "metadata": {
        "id": "tdHfbUJ_09iA"
      },
      "source": [
        "#max_input_length_in_sec = 5.0\n",
        "#common_voice_train = common_voice_train.filter(lambda x: x < max_input_length_in_sec * processor.feature_extractor.sampling_rate, input_columns=[\"input_length\"])"
      ],
      "execution_count": null,
      "outputs": []
    },
    {
      "cell_type": "markdown",
      "metadata": {
        "id": "1ZWDCCKqwcfS"
      },
      "source": [
        "Awesome, now we are ready to start training!"
      ]
    },
    {
      "cell_type": "markdown",
      "metadata": {
        "id": "gYlQkKVoRUos"
      },
      "source": [
        "## Training\n",
        "\n",
        "The data is processed so that we are ready to start setting up the training pipeline. We will make use of 🤗's [Trainer](https://huggingface.co/transformers/master/main_classes/trainer.html?highlight=trainer) for which we essentially need to do the following:\n",
        "\n",
        "- Define a data collator. In contrast to most NLP models, XLS-R has a much larger input length than output length. *E.g.*, a sample of input length 50000 has an output length of no more than 100. Given the large input sizes, it is much more efficient to pad the training batches dynamically meaning that all training samples should only be padded to the longest sample in their batch and not the overall longest sample. Therefore, fine-tuning XLS-R requires a special padding data collator, which we will define below\n",
        "\n",
        "- Evaluation metric. During training, the model should be evaluated on the word error rate. We should define a `compute_metrics` function accordingly\n",
        "\n",
        "- Load a pretrained checkpoint. We need to load a pretrained checkpoint and configure it correctly for training.\n",
        "\n",
        "- Define the training configuration.\n",
        "\n",
        "After having fine-tuned the model, we will correctly evaluate it on the test data and verify that it has indeed learned to correctly transcribe speech."
      ]
    },
    {
      "cell_type": "markdown",
      "metadata": {
        "id": "Slk403unUS91"
      },
      "source": [
        "### Set-up Trainer\n",
        "\n",
        "Let's start by defining the data collator. The code for the data collator was copied from [this example](https://github.com/huggingface/transformers/blob/7e61d56a45c19284cfda0cee8995fb552f6b1f4e/examples/pytorch/speech-recognition/run_speech_recognition_ctc.py#L219).\n",
        "\n",
        "Without going into too many details, in contrast to the common data collators, this data collator treats the `input_values` and `labels` differently and thus applies to separate padding functions on them (again making use of XLS-R processor's context manager). This is necessary because in speech input and output are of different modalities meaning that they should not be treated by the same padding function.\n",
        "Analogous to the common data collators, the padding tokens in the labels with `-100` so that those tokens are **not** taken into account when computing the loss."
      ]
    },
    {
      "cell_type": "code",
      "metadata": {
        "id": "tborvC9hx88e"
      },
      "source": [
        "import torch\n",
        "\n",
        "from dataclasses import dataclass, field\n",
        "from typing import Any, Dict, List, Optional, Union\n",
        "\n",
        "@dataclass\n",
        "class DataCollatorCTCWithPadding:\n",
        "    \"\"\"\n",
        "    Data collator that will dynamically pad the inputs received.\n",
        "    Args:\n",
        "        processor (:class:`~transformers.Wav2Vec2Processor`)\n",
        "            The processor used for proccessing the data.\n",
        "        padding (:obj:`bool`, :obj:`str` or :class:`~transformers.tokenization_utils_base.PaddingStrategy`, `optional`, defaults to :obj:`True`):\n",
        "            Select a strategy to pad the returned sequences (according to the model's padding side and padding index)\n",
        "            among:\n",
        "            * :obj:`True` or :obj:`'longest'`: Pad to the longest sequence in the batch (or no padding if only a single\n",
        "              sequence if provided).\n",
        "            * :obj:`'max_length'`: Pad to a maximum length specified with the argument :obj:`max_length` or to the\n",
        "              maximum acceptable input length for the model if that argument is not provided.\n",
        "            * :obj:`False` or :obj:`'do_not_pad'` (default): No padding (i.e., can output a batch with sequences of\n",
        "              different lengths).\n",
        "    \"\"\"\n",
        "\n",
        "    processor: Wav2Vec2Processor\n",
        "    padding: Union[bool, str] = True\n",
        "\n",
        "    def __call__(self, features: List[Dict[str, Union[List[int], torch.Tensor]]]) -> Dict[str, torch.Tensor]:\n",
        "        # split inputs and labels since they have to be of different lenghts and need\n",
        "        # different padding methods\n",
        "        input_features = [{\"input_values\": feature[\"input_values\"]} for feature in features]\n",
        "        label_features = [{\"input_ids\": feature[\"labels\"]} for feature in features]\n",
        "\n",
        "        batch = self.processor.pad(\n",
        "            input_features,\n",
        "            padding=self.padding,\n",
        "            return_tensors=\"pt\",\n",
        "        )\n",
        "        with self.processor.as_target_processor():\n",
        "            labels_batch = self.processor.pad(\n",
        "                label_features,\n",
        "                padding=self.padding,\n",
        "                return_tensors=\"pt\",\n",
        "            )\n",
        "\n",
        "        # replace padding with -100 to ignore loss correctly\n",
        "        labels = labels_batch[\"input_ids\"].masked_fill(labels_batch.attention_mask.ne(1), -100)\n",
        "\n",
        "        batch[\"labels\"] = labels\n",
        "\n",
        "        return batch"
      ],
      "execution_count": null,
      "outputs": []
    },
    {
      "cell_type": "code",
      "metadata": {
        "id": "lbQf5GuZyQ4_"
      },
      "source": [
        "data_collator = DataCollatorCTCWithPadding(processor=processor, padding=True)"
      ],
      "execution_count": null,
      "outputs": []
    },
    {
      "cell_type": "markdown",
      "metadata": {
        "id": "xO-Zdj-5cxXp"
      },
      "source": [
        "Next, the evaluation metric is defined. As mentioned earlier, the \n",
        "predominant metric in ASR is the word error rate (WER), hence we will use it in this notebook as well."
      ]
    },
    {
      "cell_type": "code",
      "metadata": {
        "colab": {
          "base_uri": "https://localhost:8080/",
          "height": 49,
          "referenced_widgets": [
            "7c81059d35534b799623afe872095cac",
            "379128a308ab43ee9e785e234bb94049",
            "ff8e746cf8ef4f988617b8d4c0dd3c9c",
            "0204a7bc668746a68f6e5e5632753c1c",
            "84361b363998428a87b9e50b6625cca9",
            "c0919f3c8d594911815ce63273f7fe51",
            "69f2a9e473534148b96b2e9bd639a087",
            "5cd8c74ba2e845d498afdc1c25009767",
            "3f0c587f7b764d96837c8e16254aab12",
            "d3b5f5a0d35642e0b606ac63c38f88fa",
            "7ce84a97d72848c0967f732734afdd68"
          ]
        },
        "id": "9Xsux2gmyXso",
        "outputId": "18ceeb9e-1a0d-4ee8-f511-a12ad3608bf1"
      },
      "source": [
        "wer_metric = load_metric(\"wer\")"
      ],
      "execution_count": null,
      "outputs": [
        {
          "data": {
            "application/vnd.jupyter.widget-view+json": {
              "model_id": "7c81059d35534b799623afe872095cac",
              "version_major": 2,
              "version_minor": 0
            },
            "text/plain": [
              "Downloading:   0%|          | 0.00/1.95k [00:00<?, ?B/s]"
            ]
          },
          "metadata": {},
          "output_type": "display_data"
        }
      ]
    },
    {
      "cell_type": "markdown",
      "metadata": {
        "id": "E1qZU5p-deqB"
      },
      "source": [
        "The model will return a sequence of logit vectors:\n",
        "$\\mathbf{y}_1, \\ldots, \\mathbf{y}_m$ with $\\mathbf{y}_1 = f_{\\theta}(x_1, \\ldots, x_n)[0]$ and $n >> m$.\n",
        "\n",
        "A logit vector $\\mathbf{y}_1$ contains the log-odds for each word in the vocabulary we defined earlier, thus $\\text{len}(\\mathbf{y}_i) =$ `config.vocab_size`. We are interested in the most likely prediction of the model and thus take the `argmax(...)` of the logits. Also, we transform the encoded labels back to the original string by replacing `-100` with the `pad_token_id` and decoding the ids while making sure that consecutive tokens are **not** grouped to the same token in CTC style ${}^1$."
      ]
    },
    {
      "cell_type": "code",
      "metadata": {
        "id": "1XZ-kjweyTy_"
      },
      "source": [
        "def compute_metrics(pred):\n",
        "    pred_logits = pred.predictions\n",
        "    pred_ids = np.argmax(pred_logits, axis=-1)\n",
        "\n",
        "    pred.label_ids[pred.label_ids == -100] = processor.tokenizer.pad_token_id\n",
        "\n",
        "    pred_str = processor.batch_decode(pred_ids)\n",
        "    # we do not want to group tokens when computing the metrics\n",
        "    label_str = processor.batch_decode(pred.label_ids, group_tokens=False)\n",
        "\n",
        "    wer = wer_metric.compute(predictions=pred_str, references=label_str)\n",
        "\n",
        "    return {\"wer\": wer}"
      ],
      "execution_count": null,
      "outputs": []
    },
    {
      "cell_type": "markdown",
      "metadata": {
        "id": "Xmgrx4bRwLIH"
      },
      "source": [
        "Now, we can load the pretrained checkpoint of [Wav2Vec2-XLS-R-300M](https://huggingface.co/facebook/wav2vec2-xls-r-300m). The tokenizer's `pad_token_id` must be to define the model's `pad_token_id` or in the case of `Wav2Vec2ForCTC` also CTC's *blank token* ${}^2$. To save GPU memory, we enable PyTorch's [gradient checkpointing](https://pytorch.org/docs/stable/checkpoint.html) and also set the loss reduction to \"*mean*\".\n",
        "\n",
        "Because the dataset is quite small (~6h of training data) and because Common Voice is quite noisy, fine-tuning Facebook's [wav2vec2-xls-r-300m checkpoint](https://huggingface.co/facebook/wav2vec2-xls-r-300m) seems to require some hyper-parameter tuning. Therefore, I had to play around a bit with different values for dropout, [SpecAugment](https://arxiv.org/abs/1904.08779)'s masking dropout rate, layer dropout, and the learning rate until training seemed to be stable enough. \n",
        "\n",
        "**Note**: When using this notebook to train XLS-R on another language of Common Voice those hyper-parameter settings might not work very well. Feel free to adapt those depending on your use case. "
      ]
    },
    {
      "cell_type": "code",
      "metadata": {
        "colab": {
          "base_uri": "https://localhost:8080/",
          "height": 191,
          "referenced_widgets": [
            "1ca82f9af3ae423096661a1ffd8a165f",
            "ce429683f48349c083e5fc3253a897d7",
            "acc35dfdfca542828d1bb02cbde15dfe",
            "aa92ff120d9c4dd68ae941d7a1f33a81",
            "731a283141f642b9ab5bf9f7053381d2",
            "4246da00789f44e2abce952906bde6f1",
            "059588e34a88476eb6bbc1860ddc27ef",
            "6ae3b3139e6641fc9e62ae5744349add",
            "92c30a7c6102443cad2f6f03211c32e0",
            "ad95ae421231492e814238bde2ecb551",
            "136f973d9623421eb38e09c73c6b6810",
            "367c85905a024248bce6c620b822b2ee",
            "7ea310732a56432da1a095a8d30edc1c",
            "2d2b8b8d5774494aa73d872e9a4c10d9",
            "f4af6a0756e241e49e5d325f1bdb18b4",
            "2b7e52a9be904663ae74226691de6ebd",
            "771530ea22364f1ea8963e2d542fcf49",
            "1cdac9cda666466ca1e09f32661d40ed",
            "3ec9917890f4452883bcaeac444d056c",
            "e9531fcd48b74929bfdb45cd3f3315e7",
            "349c9e8b2a8846c1bff5a03d2a28066a",
            "de1e5c31eacf4fa59cfa51926354acca"
          ]
        },
        "id": "e7cqAWIayn6w",
        "outputId": "3e6cebea-78ef-45df-87b0-f63b78ba9644"
      },
      "source": [
        "from transformers import Wav2Vec2ForCTC\n",
        "\n",
        "model = Wav2Vec2ForCTC.from_pretrained(\n",
        "    \"facebook/wav2vec2-xls-r-300m\", \n",
        "    attention_dropout=0.0,\n",
        "    hidden_dropout=0.0,\n",
        "    feat_proj_dropout=0.0,\n",
        "    mask_time_prob=0.05,\n",
        "    layerdrop=0.0,\n",
        "    ctc_loss_reduction=\"mean\", \n",
        "    pad_token_id=processor.tokenizer.pad_token_id,\n",
        "    vocab_size=len(processor.tokenizer),\n",
        ")"
      ],
      "execution_count": null,
      "outputs": [
        {
          "data": {
            "application/vnd.jupyter.widget-view+json": {
              "model_id": "1ca82f9af3ae423096661a1ffd8a165f",
              "version_major": 2,
              "version_minor": 0
            },
            "text/plain": [
              "Downloading:   0%|          | 0.00/1.53k [00:00<?, ?B/s]"
            ]
          },
          "metadata": {},
          "output_type": "display_data"
        },
        {
          "data": {
            "application/vnd.jupyter.widget-view+json": {
              "model_id": "367c85905a024248bce6c620b822b2ee",
              "version_major": 2,
              "version_minor": 0
            },
            "text/plain": [
              "Downloading:   0%|          | 0.00/1.18G [00:00<?, ?B/s]"
            ]
          },
          "metadata": {},
          "output_type": "display_data"
        },
        {
          "name": "stderr",
          "output_type": "stream",
          "text": [
            "Some weights of the model checkpoint at facebook/wav2vec2-xls-r-300m were not used when initializing Wav2Vec2ForCTC: ['project_hid.weight', 'project_q.bias', 'quantizer.weight_proj.weight', 'quantizer.weight_proj.bias', 'project_q.weight', 'project_hid.bias', 'quantizer.codevectors']\n",
            "- This IS expected if you are initializing Wav2Vec2ForCTC from the checkpoint of a model trained on another task or with another architecture (e.g. initializing a BertForSequenceClassification model from a BertForPreTraining model).\n",
            "- This IS NOT expected if you are initializing Wav2Vec2ForCTC from the checkpoint of a model that you expect to be exactly identical (initializing a BertForSequenceClassification model from a BertForSequenceClassification model).\n",
            "Some weights of Wav2Vec2ForCTC were not initialized from the model checkpoint at facebook/wav2vec2-xls-r-300m and are newly initialized: ['lm_head.bias', 'lm_head.weight']\n",
            "You should probably TRAIN this model on a down-stream task to be able to use it for predictions and inference.\n"
          ]
        }
      ]
    },
    {
      "cell_type": "markdown",
      "metadata": {
        "id": "1DwR3XLSzGDD"
      },
      "source": [
        "The first component of XLS-R consists of a stack of CNN layers that are used to extract acoustically meaningful - but contextually independent - features from the raw speech signal. This part of the model has already been sufficiently trained during pretraining and as stated in the [paper](https://arxiv.org/pdf/2006.13979.pdf) does not need to be fine-tuned anymore. \n",
        "Thus, we can set the `requires_grad` to `False` for all parameters of the *feature extraction* part."
      ]
    },
    {
      "cell_type": "code",
      "metadata": {
        "id": "oGI8zObtZ3V0"
      },
      "source": [
        "model.freeze_feature_extractor()"
      ],
      "execution_count": null,
      "outputs": []
    },
    {
      "cell_type": "markdown",
      "metadata": {
        "id": "lD4aGhQM0K-D"
      },
      "source": [
        "In a final step, we define all parameters related to training. \n",
        "To give more explanation on some of the parameters:\n",
        "- `group_by_length` makes training more efficient by grouping training samples of similar input length into one batch. This can significantly speed up training time by heavily reducing the overall number of useless padding tokens that are passed through the model\n",
        "- `learning_rate` and `weight_decay` were heuristically tuned until fine-tuning has become stable. Note that those parameters strongly depend on the Common Voice dataset and might be suboptimal for other speech datasets.\n",
        "\n",
        "For more explanations on other parameters, one can take a look at the [docs](https://huggingface.co/transformers/master/main_classes/trainer.html?highlight=trainer#trainingarguments).\n",
        "\n",
        "During training, a checkpoint will be uploaded asynchronously to the hub every 400 training steps. It allows you to also play around with the demo widget even while your model is still training.\n",
        "\n",
        "**Note**: If one does not want to upload the model checkpoints to the hub, simply set `push_to_hub=False`."
      ]
    },
    {
      "cell_type": "code",
      "metadata": {
        "id": "KbeKSV7uzGPP"
      },
      "source": [
        "from transformers import TrainingArguments\n",
        "\n",
        "training_args = TrainingArguments(\n",
        "  output_dir=repo_name,\n",
        "  group_by_length=True,\n",
        "  per_device_train_batch_size=16,\n",
        "  gradient_accumulation_steps=2,\n",
        "  evaluation_strategy=\"steps\",\n",
        "  num_train_epochs=30,\n",
        "  gradient_checkpointing=True,\n",
        "  fp16=True,\n",
        "  save_steps=400,\n",
        "  eval_steps=400,\n",
        "  logging_steps=400,\n",
        "  learning_rate=3e-4,\n",
        "  warmup_steps=500,\n",
        "  save_total_limit=2,\n",
        "  push_to_hub=True,\n",
        ")"
      ],
      "execution_count": null,
      "outputs": []
    },
    {
      "cell_type": "markdown",
      "metadata": {
        "id": "OsW-WZcL1ZtN"
      },
      "source": [
        "Now, all instances can be passed to Trainer and we are ready to start training!"
      ]
    },
    {
      "cell_type": "code",
      "metadata": {
        "colab": {
          "base_uri": "https://localhost:8080/"
        },
        "id": "rY7vBmFCPFgC",
        "outputId": "c47ecc78-5259-44db-c121-5bd7945defb8"
      },
      "source": [
        "from transformers import Trainer\n",
        "\n",
        "trainer = Trainer(\n",
        "    model=model,\n",
        "    data_collator=data_collator,\n",
        "    args=training_args,\n",
        "    compute_metrics=compute_metrics,\n",
        "    train_dataset=common_voice_train,\n",
        "    eval_dataset=common_voice_test,\n",
        "    tokenizer=processor.feature_extractor,\n",
        ")"
      ],
      "execution_count": null,
      "outputs": [
        {
          "name": "stderr",
          "output_type": "stream",
          "text": [
            "/usr/local/lib/python3.7/dist-packages/huggingface_hub/hf_api.py:718: FutureWarning: `create_repo` now takes `token` as an optional positional argument. Be sure to adapt your code!\n",
            "  FutureWarning,\n",
            "/content/wav2vec2-large-xls-r-300m-turkish-colab is already a clone of https://huggingface.co/patrickvonplaten/wav2vec2-large-xls-r-300m-turkish-colab. Make sure you pull the latest changes with `repo.git_pull()`.\n",
            "Using amp fp16 backend\n"
          ]
        }
      ]
    },
    {
      "cell_type": "markdown",
      "metadata": {
        "id": "UoXBx1JAA0DX"
      },
      "source": [
        "\n",
        "\n",
        "---\n",
        "\n",
        "${}^1$ To allow models to become independent of the speaker rate, in CTC, consecutive tokens that are identical are simply grouped as a single token. However, the encoded labels should not be grouped when decoding since they don't correspond to the predicted tokens of the model, which is why the `group_tokens=False` parameter has to be passed. If we wouldn't pass this parameter a word like `\"hello\"` would incorrectly be encoded, and decoded as `\"helo\"`.\n",
        "\n",
        "${}^2$ The blank token allows the model to predict a word, such as `\"hello\"` by forcing it to insert the blank token between the two l's. A CTC-conform prediction of `\"hello\"` of our model would be `[PAD] [PAD] \"h\" \"e\" \"e\" \"l\" \"l\" [PAD] \"l\" \"o\" \"o\" [PAD]`."
      ]
    },
    {
      "cell_type": "markdown",
      "metadata": {
        "id": "rpvZHM1xReIW"
      },
      "source": [
        "### Training"
      ]
    },
    {
      "cell_type": "markdown",
      "metadata": {
        "id": "j-3oKSzZ1hGq"
      },
      "source": [
        "Training will take multiple hours depending on the GPU allocated to this notebook. While the trained model yields somewhat satisfying results on *Common Voice*'s test data of Turkish, it is by no means an optimally fine-tuned model. The purpose of this notebook is just to demonstrate how to fine-tune XLS-R on an ASR dataset.\n",
        "\n",
        "In case you want to use this google colab to fine-tune your model, you should make sure that your training doesn't stop due to inactivity. A simple hack to prevent this is to paste the following code into the console of this tab (*right mouse click -> inspect -> Console tab and insert code*)."
      ]
    },
    {
      "cell_type": "markdown",
      "metadata": {
        "id": "VYYAvgkW4P0m"
      },
      "source": [
        "```javascript\n",
        "function ConnectButton(){\n",
        "    console.log(\"Connect pushed\"); \n",
        "    document.querySelector(\"#top-toolbar > colab-connect-button\").shadowRoot.querySelector(\"#connect\").click() \n",
        "}\n",
        "setInterval(ConnectButton,60000);\n",
        "```"
      ]
    },
    {
      "cell_type": "markdown",
      "metadata": {
        "id": "7bGgLV2r0yvZ"
      },
      "source": [
        "Depending on what GPU was allocated to your google colab it might be possible that you are seeing an `\"out-of-memory\"` error here. In this case, it's probably best to reduce `per_device_train_batch_size` to 8 or even less and increase [`gradient_accumulation`](https://huggingface.co/transformers/master/main_classes/trainer.html#trainingarguments)."
      ]
    },
    {
      "cell_type": "code",
      "metadata": {
        "colab": {
          "background_save": true,
          "base_uri": "https://localhost:8080/",
          "height": 311
        },
        "id": "9fRr9TG5pGBl",
        "outputId": "122ea040-7b24-452a-c7d4-7e72e1c46973"
      },
      "source": [
        "trainer.train()"
      ],
      "execution_count": null,
      "outputs": [
        {
          "name": "stderr",
          "output_type": "stream",
          "text": [
            "The following columns in the training set  don't have a corresponding argument in `Wav2Vec2ForCTC.forward` and have been ignored: input_length.\n",
            "***** Running training *****\n",
            "  Num examples = 3478\n",
            "  Num Epochs = 30\n",
            "  Instantaneous batch size per device = 16\n",
            "  Total train batch size (w. parallel, distributed & accumulation) = 32\n",
            "  Gradient Accumulation steps = 2\n",
            "  Total optimization steps = 3270\n",
            "/usr/local/lib/python3.7/dist-packages/transformers/feature_extraction_utils.py:158: UserWarning: Creating a tensor from a list of numpy.ndarrays is extremely slow. Please consider converting the list to a single numpy.ndarray with numpy.array() before converting to a tensor. (Triggered internally at  ../torch/csrc/utils/tensor_new.cpp:201.)\n",
            "  tensor = as_tensor(value)\n",
            "/usr/local/lib/python3.7/dist-packages/transformers/models/wav2vec2/modeling_wav2vec2.py:882: UserWarning: __floordiv__ is deprecated, and its behavior will change in a future version of pytorch. It currently rounds toward 0 (like the 'trunc' function NOT 'floor'). This results in incorrect rounding for negative values. To keep the current behavior, use torch.div(a, b, rounding_mode='trunc'), or for actual floor division, use torch.div(a, b, rounding_mode='floor').\n",
            "  return (input_length - kernel_size) // stride + 1\n"
          ]
        },
        {
          "data": {
            "text/html": [
              "\n",
              "    <div>\n",
              "      \n",
              "      <progress value='3270' max='3270' style='width:300px; height:20px; vertical-align: middle;'></progress>\n",
              "      [3270/3270 4:41:48, Epoch 30/30]\n",
              "    </div>\n",
              "    <table border=\"1\" class=\"dataframe\">\n",
              "  <thead>\n",
              "    <tr style=\"text-align: left;\">\n",
              "      <th>Step</th>\n",
              "      <th>Training Loss</th>\n",
              "      <th>Validation Loss</th>\n",
              "      <th>Wer</th>\n",
              "    </tr>\n",
              "  </thead>\n",
              "  <tbody>\n",
              "    <tr>\n",
              "      <td>400</td>\n",
              "      <td>3.765200</td>\n",
              "      <td>0.625533</td>\n",
              "      <td>0.693290</td>\n",
              "    </tr>\n",
              "    <tr>\n",
              "      <td>800</td>\n",
              "      <td>0.371600</td>\n",
              "      <td>0.405785</td>\n",
              "      <td>0.456337</td>\n",
              "    </tr>\n",
              "    <tr>\n",
              "      <td>1200</td>\n",
              "      <td>0.177900</td>\n",
              "      <td>0.412796</td>\n",
              "      <td>0.408028</td>\n",
              "    </tr>\n",
              "    <tr>\n",
              "      <td>1600</td>\n",
              "      <td>0.122600</td>\n",
              "      <td>0.399832</td>\n",
              "      <td>0.394137</td>\n",
              "    </tr>\n",
              "    <tr>\n",
              "      <td>2000</td>\n",
              "      <td>0.092700</td>\n",
              "      <td>0.408412</td>\n",
              "      <td>0.371259</td>\n",
              "    </tr>\n",
              "    <tr>\n",
              "      <td>2400</td>\n",
              "      <td>0.073700</td>\n",
              "      <td>0.394867</td>\n",
              "      <td>0.351956</td>\n",
              "    </tr>\n",
              "    <tr>\n",
              "      <td>2800</td>\n",
              "      <td>0.058100</td>\n",
              "      <td>0.369830</td>\n",
              "      <td>0.331120</td>\n",
              "    </tr>\n",
              "    <tr>\n",
              "      <td>3200</td>\n",
              "      <td>0.045300</td>\n",
              "      <td>0.359626</td>\n",
              "      <td>0.324175</td>\n",
              "    </tr>\n",
              "  </tbody>\n",
              "</table><p>"
            ],
            "text/plain": [
              "<IPython.core.display.HTML object>"
            ]
          },
          "metadata": {},
          "output_type": "display_data"
        },
        {
          "name": "stderr",
          "output_type": "stream",
          "text": [
            "The following columns in the evaluation set  don't have a corresponding argument in `Wav2Vec2ForCTC.forward` and have been ignored: input_length.\n",
            "***** Running Evaluation *****\n",
            "  Num examples = 1647\n",
            "  Batch size = 8\n",
            "Saving model checkpoint to wav2vec2-large-xls-r-300m-turkish-colab/checkpoint-400\n",
            "Configuration saved in wav2vec2-large-xls-r-300m-turkish-colab/checkpoint-400/config.json\n",
            "Model weights saved in wav2vec2-large-xls-r-300m-turkish-colab/checkpoint-400/pytorch_model.bin\n",
            "Configuration saved in wav2vec2-large-xls-r-300m-turkish-colab/checkpoint-400/preprocessor_config.json\n",
            "Configuration saved in wav2vec2-large-xls-r-300m-turkish-colab/preprocessor_config.json\n",
            "/usr/local/lib/python3.7/dist-packages/transformers/models/wav2vec2/modeling_wav2vec2.py:882: UserWarning: __floordiv__ is deprecated, and its behavior will change in a future version of pytorch. It currently rounds toward 0 (like the 'trunc' function NOT 'floor'). This results in incorrect rounding for negative values. To keep the current behavior, use torch.div(a, b, rounding_mode='trunc'), or for actual floor division, use torch.div(a, b, rounding_mode='floor').\n",
            "  return (input_length - kernel_size) // stride + 1\n",
            "The following columns in the evaluation set  don't have a corresponding argument in `Wav2Vec2ForCTC.forward` and have been ignored: input_length.\n",
            "***** Running Evaluation *****\n",
            "  Num examples = 1647\n",
            "  Batch size = 8\n",
            "Saving model checkpoint to wav2vec2-large-xls-r-300m-turkish-colab/checkpoint-800\n",
            "Configuration saved in wav2vec2-large-xls-r-300m-turkish-colab/checkpoint-800/config.json\n",
            "Model weights saved in wav2vec2-large-xls-r-300m-turkish-colab/checkpoint-800/pytorch_model.bin\n",
            "Configuration saved in wav2vec2-large-xls-r-300m-turkish-colab/checkpoint-800/preprocessor_config.json\n",
            "/usr/local/lib/python3.7/dist-packages/transformers/models/wav2vec2/modeling_wav2vec2.py:882: UserWarning: __floordiv__ is deprecated, and its behavior will change in a future version of pytorch. It currently rounds toward 0 (like the 'trunc' function NOT 'floor'). This results in incorrect rounding for negative values. To keep the current behavior, use torch.div(a, b, rounding_mode='trunc'), or for actual floor division, use torch.div(a, b, rounding_mode='floor').\n",
            "  return (input_length - kernel_size) // stride + 1\n",
            "The following columns in the evaluation set  don't have a corresponding argument in `Wav2Vec2ForCTC.forward` and have been ignored: input_length.\n",
            "***** Running Evaluation *****\n",
            "  Num examples = 1647\n",
            "  Batch size = 8\n",
            "Saving model checkpoint to wav2vec2-large-xls-r-300m-turkish-colab/checkpoint-1200\n",
            "Configuration saved in wav2vec2-large-xls-r-300m-turkish-colab/checkpoint-1200/config.json\n",
            "Model weights saved in wav2vec2-large-xls-r-300m-turkish-colab/checkpoint-1200/pytorch_model.bin\n",
            "Configuration saved in wav2vec2-large-xls-r-300m-turkish-colab/checkpoint-1200/preprocessor_config.json\n",
            "Deleting older checkpoint [wav2vec2-large-xls-r-300m-turkish-colab/checkpoint-400] due to args.save_total_limit\n",
            "/usr/local/lib/python3.7/dist-packages/transformers/models/wav2vec2/modeling_wav2vec2.py:882: UserWarning: __floordiv__ is deprecated, and its behavior will change in a future version of pytorch. It currently rounds toward 0 (like the 'trunc' function NOT 'floor'). This results in incorrect rounding for negative values. To keep the current behavior, use torch.div(a, b, rounding_mode='trunc'), or for actual floor division, use torch.div(a, b, rounding_mode='floor').\n",
            "  return (input_length - kernel_size) // stride + 1\n",
            "The following columns in the evaluation set  don't have a corresponding argument in `Wav2Vec2ForCTC.forward` and have been ignored: input_length.\n",
            "***** Running Evaluation *****\n",
            "  Num examples = 1647\n",
            "  Batch size = 8\n",
            "Saving model checkpoint to wav2vec2-large-xls-r-300m-turkish-colab/checkpoint-1600\n",
            "Configuration saved in wav2vec2-large-xls-r-300m-turkish-colab/checkpoint-1600/config.json\n",
            "Model weights saved in wav2vec2-large-xls-r-300m-turkish-colab/checkpoint-1600/pytorch_model.bin\n",
            "Configuration saved in wav2vec2-large-xls-r-300m-turkish-colab/checkpoint-1600/preprocessor_config.json\n",
            "Deleting older checkpoint [wav2vec2-large-xls-r-300m-turkish-colab/checkpoint-800] due to args.save_total_limit\n",
            "/usr/local/lib/python3.7/dist-packages/transformers/models/wav2vec2/modeling_wav2vec2.py:882: UserWarning: __floordiv__ is deprecated, and its behavior will change in a future version of pytorch. It currently rounds toward 0 (like the 'trunc' function NOT 'floor'). This results in incorrect rounding for negative values. To keep the current behavior, use torch.div(a, b, rounding_mode='trunc'), or for actual floor division, use torch.div(a, b, rounding_mode='floor').\n",
            "  return (input_length - kernel_size) // stride + 1\n",
            "The following columns in the evaluation set  don't have a corresponding argument in `Wav2Vec2ForCTC.forward` and have been ignored: input_length.\n",
            "***** Running Evaluation *****\n",
            "  Num examples = 1647\n",
            "  Batch size = 8\n",
            "Saving model checkpoint to wav2vec2-large-xls-r-300m-turkish-colab/checkpoint-2000\n",
            "Configuration saved in wav2vec2-large-xls-r-300m-turkish-colab/checkpoint-2000/config.json\n",
            "Model weights saved in wav2vec2-large-xls-r-300m-turkish-colab/checkpoint-2000/pytorch_model.bin\n",
            "Configuration saved in wav2vec2-large-xls-r-300m-turkish-colab/checkpoint-2000/preprocessor_config.json\n",
            "Deleting older checkpoint [wav2vec2-large-xls-r-300m-turkish-colab/checkpoint-1200] due to args.save_total_limit\n",
            "/usr/local/lib/python3.7/dist-packages/transformers/models/wav2vec2/modeling_wav2vec2.py:882: UserWarning: __floordiv__ is deprecated, and its behavior will change in a future version of pytorch. It currently rounds toward 0 (like the 'trunc' function NOT 'floor'). This results in incorrect rounding for negative values. To keep the current behavior, use torch.div(a, b, rounding_mode='trunc'), or for actual floor division, use torch.div(a, b, rounding_mode='floor').\n",
            "  return (input_length - kernel_size) // stride + 1\n",
            "The following columns in the evaluation set  don't have a corresponding argument in `Wav2Vec2ForCTC.forward` and have been ignored: input_length.\n",
            "***** Running Evaluation *****\n",
            "  Num examples = 1647\n",
            "  Batch size = 8\n",
            "Saving model checkpoint to wav2vec2-large-xls-r-300m-turkish-colab/checkpoint-2400\n",
            "Configuration saved in wav2vec2-large-xls-r-300m-turkish-colab/checkpoint-2400/config.json\n",
            "Model weights saved in wav2vec2-large-xls-r-300m-turkish-colab/checkpoint-2400/pytorch_model.bin\n",
            "Configuration saved in wav2vec2-large-xls-r-300m-turkish-colab/checkpoint-2400/preprocessor_config.json\n",
            "Deleting older checkpoint [wav2vec2-large-xls-r-300m-turkish-colab/checkpoint-1600] due to args.save_total_limit\n",
            "/usr/local/lib/python3.7/dist-packages/transformers/models/wav2vec2/modeling_wav2vec2.py:882: UserWarning: __floordiv__ is deprecated, and its behavior will change in a future version of pytorch. It currently rounds toward 0 (like the 'trunc' function NOT 'floor'). This results in incorrect rounding for negative values. To keep the current behavior, use torch.div(a, b, rounding_mode='trunc'), or for actual floor division, use torch.div(a, b, rounding_mode='floor').\n",
            "  return (input_length - kernel_size) // stride + 1\n",
            "The following columns in the evaluation set  don't have a corresponding argument in `Wav2Vec2ForCTC.forward` and have been ignored: input_length.\n",
            "***** Running Evaluation *****\n",
            "  Num examples = 1647\n",
            "  Batch size = 8\n",
            "Saving model checkpoint to wav2vec2-large-xls-r-300m-turkish-colab/checkpoint-2800\n",
            "Configuration saved in wav2vec2-large-xls-r-300m-turkish-colab/checkpoint-2800/config.json\n",
            "Model weights saved in wav2vec2-large-xls-r-300m-turkish-colab/checkpoint-2800/pytorch_model.bin\n",
            "Configuration saved in wav2vec2-large-xls-r-300m-turkish-colab/checkpoint-2800/preprocessor_config.json\n",
            "Deleting older checkpoint [wav2vec2-large-xls-r-300m-turkish-colab/checkpoint-2000] due to args.save_total_limit\n",
            "/usr/local/lib/python3.7/dist-packages/transformers/models/wav2vec2/modeling_wav2vec2.py:882: UserWarning: __floordiv__ is deprecated, and its behavior will change in a future version of pytorch. It currently rounds toward 0 (like the 'trunc' function NOT 'floor'). This results in incorrect rounding for negative values. To keep the current behavior, use torch.div(a, b, rounding_mode='trunc'), or for actual floor division, use torch.div(a, b, rounding_mode='floor').\n",
            "  return (input_length - kernel_size) // stride + 1\n",
            "The following columns in the evaluation set  don't have a corresponding argument in `Wav2Vec2ForCTC.forward` and have been ignored: input_length.\n",
            "***** Running Evaluation *****\n",
            "  Num examples = 1647\n",
            "  Batch size = 8\n",
            "Saving model checkpoint to wav2vec2-large-xls-r-300m-turkish-colab/checkpoint-3200\n",
            "Configuration saved in wav2vec2-large-xls-r-300m-turkish-colab/checkpoint-3200/config.json\n",
            "Model weights saved in wav2vec2-large-xls-r-300m-turkish-colab/checkpoint-3200/pytorch_model.bin\n",
            "Configuration saved in wav2vec2-large-xls-r-300m-turkish-colab/checkpoint-3200/preprocessor_config.json\n",
            "Deleting older checkpoint [wav2vec2-large-xls-r-300m-turkish-colab/checkpoint-2400] due to args.save_total_limit\n",
            "/usr/local/lib/python3.7/dist-packages/transformers/models/wav2vec2/modeling_wav2vec2.py:882: UserWarning: __floordiv__ is deprecated, and its behavior will change in a future version of pytorch. It currently rounds toward 0 (like the 'trunc' function NOT 'floor'). This results in incorrect rounding for negative values. To keep the current behavior, use torch.div(a, b, rounding_mode='trunc'), or for actual floor division, use torch.div(a, b, rounding_mode='floor').\n",
            "  return (input_length - kernel_size) // stride + 1\n",
            "\n",
            "\n",
            "Training completed. Do not forget to share your model on huggingface.co/models =)\n",
            "\n",
            "\n"
          ]
        },
        {
          "data": {
            "text/plain": [
              "TrainOutput(global_step=3270, training_loss=0.5767540113641582, metrics={'train_runtime': 16918.4457, 'train_samples_per_second': 6.167, 'train_steps_per_second': 0.193, 'total_flos': 1.2873093995838829e+19, 'train_loss': 0.5767540113641582, 'epoch': 30.0})"
            ]
          },
          "execution_count": null,
          "metadata": {},
          "output_type": "execute_result"
        }
      ]
    },
    {
      "cell_type": "markdown",
      "metadata": {
        "id": "a9q4mgMZplr_"
      },
      "source": [
        "The training loss and validation WER go down nicely."
      ]
    },
    {
      "cell_type": "markdown",
      "metadata": {
        "id": "4Ya7WEy0pd13"
      },
      "source": [
        "You can now upload the result of the training to the 🤗 Hub, just execute this instruction:"
      ]
    },
    {
      "cell_type": "code",
      "metadata": {
        "colab": {
          "background_save": true,
          "referenced_widgets": [
            "2d2f71d2c70d466cb9a0d3317fb3095e",
            "2e894a5b95cb489db8b27c6617fd9533"
          ]
        },
        "id": "ArG1Thf6NBWm",
        "outputId": "62ef1c3d-786c-4e25-f9c5-4020e71aa298"
      },
      "source": [
        "trainer.push_to_hub()"
      ],
      "execution_count": null,
      "outputs": [
        {
          "name": "stderr",
          "output_type": "stream",
          "text": [
            "Saving model checkpoint to wav2vec2-large-xls-r-300m-turkish-colab\n",
            "Configuration saved in wav2vec2-large-xls-r-300m-turkish-colab/config.json\n",
            "Model weights saved in wav2vec2-large-xls-r-300m-turkish-colab/pytorch_model.bin\n",
            "Configuration saved in wav2vec2-large-xls-r-300m-turkish-colab/preprocessor_config.json\n",
            "Several commits (2) will be pushed upstream.\n",
            "The progress bars may be unreliable.\n"
          ]
        },
        {
          "data": {
            "application/vnd.jupyter.widget-view+json": {
              "model_id": "2d2f71d2c70d466cb9a0d3317fb3095e",
              "version_major": 2,
              "version_minor": 0
            },
            "text/plain": [
              "Upload file pytorch_model.bin:   0%|          | 3.35k/1.18G [00:00<?, ?B/s]"
            ]
          },
          "metadata": {},
          "output_type": "display_data"
        },
        {
          "data": {
            "application/vnd.jupyter.widget-view+json": {
              "model_id": "2e894a5b95cb489db8b27c6617fd9533",
              "version_major": 2,
              "version_minor": 0
            },
            "text/plain": [
              "Upload file runs/Nov12_14-33-48_c2d4142f9305/events.out.tfevents.1636727730.c2d4142f9305.1468.0:  41%|####1   …"
            ]
          },
          "metadata": {},
          "output_type": "display_data"
        },
        {
          "name": "stderr",
          "output_type": "stream",
          "text": [
            "To https://huggingface.co/patrickvonplaten/wav2vec2-large-xls-r-300m-turkish-colab\n",
            "   56ebe74..fe76946  main -> main\n",
            "\n",
            "Dropping the following result as it does not have all the necessary field:\n",
            "{'dataset': {'name': 'common_voice', 'type': 'common_voice', 'args': 'tr'}}\n",
            "To https://huggingface.co/patrickvonplaten/wav2vec2-large-xls-r-300m-turkish-colab\n",
            "   fe76946..5f0d67b  main -> main\n",
            "\n"
          ]
        },
        {
          "data": {
            "application/vnd.google.colaboratory.intrinsic+json": {
              "type": "string"
            },
            "text/plain": [
              "'https://huggingface.co/patrickvonplaten/wav2vec2-large-xls-r-300m-turkish-colab/commit/fe769461e4e2fb9534740e6c278a0cfabf268474'"
            ]
          },
          "execution_count": null,
          "metadata": {},
          "output_type": "execute_result"
        }
      ]
    },
    {
      "cell_type": "markdown",
      "metadata": {
        "id": "RHIVc44_fY2N"
      },
      "source": [
        "You can now share this model with all your friends, family, favorite pets: they can all load it with the identifier \"your-username/the-name-you-picked\" so for instance:"
      ]
    },
    {
      "cell_type": "markdown",
      "metadata": {
        "id": "5lWWIKyBpx1h"
      },
      "source": [
        "```python\n",
        "from transformers import AutoModelForCTC, Wav2Vec2Processor\n",
        "\n",
        "model = AutoModelForCTC.from_pretrained(\"patrickvonplaten/wav2vec2-large-xls-r-300m-tr-colab\")\n",
        "processor = Wav2Vec2Processor.from_pretrained(\"patrickvonplaten/wav2vec2-large-xls-r-300m-tr-colab\")\n",
        "```"
      ]
    },
    {
      "cell_type": "markdown",
      "metadata": {
        "id": "pmi1cX0fRBit"
      },
      "source": [
        "For more examples of how XLS-R can be fine-tuned, please take a look at the [official speech recognition examples](https://github.com/huggingface/transformers/tree/master/examples/pytorch/speech-recognition#examples)."
      ]
    },
    {
      "cell_type": "markdown",
      "metadata": {
        "id": "L8b8Qkoy3KyS"
      },
      "source": [
        "### Evaluation\n",
        "\n",
        "As a final check, let's load the model and verify that it indeed has learned to transcribe Turkish speech.\n",
        "\n",
        "Let's first load the pretrained checkpoint."
      ]
    },
    {
      "cell_type": "code",
      "metadata": {
        "colab": {
          "background_save": true
        },
        "id": "R351I9IQp_9D",
        "outputId": "f2a2ee99-7db6-4962-e140-0107054102d3"
      },
      "source": [
        "model = Wav2Vec2ForCTC.from_pretrained(repo_name).to(\"cuda\")\n",
        "processor = Wav2Vec2Processor.from_pretrained(repo_name)"
      ],
      "execution_count": null,
      "outputs": [
        {
          "name": "stderr",
          "output_type": "stream",
          "text": [
            "loading configuration file wav2vec2-large-xls-r-300m-turkish-colab/config.json\n",
            "Model config Wav2Vec2Config {\n",
            "  \"_name_or_path\": \"facebook/wav2vec2-xls-r-300m\",\n",
            "  \"activation_dropout\": 0.0,\n",
            "  \"apply_spec_augment\": true,\n",
            "  \"architectures\": [\n",
            "    \"Wav2Vec2ForCTC\"\n",
            "  ],\n",
            "  \"attention_dropout\": 0.0,\n",
            "  \"bos_token_id\": 1,\n",
            "  \"classifier_proj_size\": 256,\n",
            "  \"codevector_dim\": 768,\n",
            "  \"contrastive_logits_temperature\": 0.1,\n",
            "  \"conv_bias\": true,\n",
            "  \"conv_dim\": [\n",
            "    512,\n",
            "    512,\n",
            "    512,\n",
            "    512,\n",
            "    512,\n",
            "    512,\n",
            "    512\n",
            "  ],\n",
            "  \"conv_kernel\": [\n",
            "    10,\n",
            "    3,\n",
            "    3,\n",
            "    3,\n",
            "    3,\n",
            "    2,\n",
            "    2\n",
            "  ],\n",
            "  \"conv_stride\": [\n",
            "    5,\n",
            "    2,\n",
            "    2,\n",
            "    2,\n",
            "    2,\n",
            "    2,\n",
            "    2\n",
            "  ],\n",
            "  \"ctc_loss_reduction\": \"mean\",\n",
            "  \"ctc_zero_infinity\": false,\n",
            "  \"diversity_loss_weight\": 0.1,\n",
            "  \"do_stable_layer_norm\": true,\n",
            "  \"eos_token_id\": 2,\n",
            "  \"feat_extract_activation\": \"gelu\",\n",
            "  \"feat_extract_dropout\": 0.0,\n",
            "  \"feat_extract_norm\": \"layer\",\n",
            "  \"feat_proj_dropout\": 0.0,\n",
            "  \"feat_quantizer_dropout\": 0.0,\n",
            "  \"final_dropout\": 0.0,\n",
            "  \"gradient_checkpointing\": false,\n",
            "  \"hidden_act\": \"gelu\",\n",
            "  \"hidden_dropout\": 0.0,\n",
            "  \"hidden_size\": 1024,\n",
            "  \"initializer_range\": 0.02,\n",
            "  \"intermediate_size\": 4096,\n",
            "  \"layer_norm_eps\": 1e-05,\n",
            "  \"layerdrop\": 0.0,\n",
            "  \"mask_feature_length\": 10,\n",
            "  \"mask_feature_prob\": 0.0,\n",
            "  \"mask_time_length\": 10,\n",
            "  \"mask_time_prob\": 0.05,\n",
            "  \"model_type\": \"wav2vec2\",\n",
            "  \"num_attention_heads\": 16,\n",
            "  \"num_codevector_groups\": 2,\n",
            "  \"num_codevectors_per_group\": 320,\n",
            "  \"num_conv_pos_embedding_groups\": 16,\n",
            "  \"num_conv_pos_embeddings\": 128,\n",
            "  \"num_feat_extract_layers\": 7,\n",
            "  \"num_hidden_layers\": 24,\n",
            "  \"num_negatives\": 100,\n",
            "  \"pad_token_id\": 36,\n",
            "  \"proj_codevector_dim\": 768,\n",
            "  \"torch_dtype\": \"float32\",\n",
            "  \"transformers_version\": \"4.11.3\",\n",
            "  \"use_weighted_layer_sum\": false,\n",
            "  \"vocab_size\": 39\n",
            "}\n",
            "\n",
            "loading weights file wav2vec2-large-xls-r-300m-turkish-colab/pytorch_model.bin\n",
            "All model checkpoint weights were used when initializing Wav2Vec2ForCTC.\n",
            "\n",
            "All the weights of Wav2Vec2ForCTC were initialized from the model checkpoint at wav2vec2-large-xls-r-300m-turkish-colab.\n",
            "If your task is similar to the task the model of the checkpoint was trained on, you can already use Wav2Vec2ForCTC for predictions without further training.\n",
            "loading feature extractor configuration file wav2vec2-large-xls-r-300m-turkish-colab/preprocessor_config.json\n",
            "Feature extractor Wav2Vec2FeatureExtractor {\n",
            "  \"do_normalize\": true,\n",
            "  \"feature_extractor_type\": \"Wav2Vec2FeatureExtractor\",\n",
            "  \"feature_size\": 1,\n",
            "  \"padding_side\": \"right\",\n",
            "  \"padding_value\": 0.0,\n",
            "  \"return_attention_mask\": true,\n",
            "  \"sampling_rate\": 16000\n",
            "}\n",
            "\n",
            "Didn't find file wav2vec2-large-xls-r-300m-turkish-colab/tokenizer.json. We won't load it.\n",
            "loading file wav2vec2-large-xls-r-300m-turkish-colab/vocab.json\n",
            "loading file wav2vec2-large-xls-r-300m-turkish-colab/tokenizer_config.json\n",
            "loading file wav2vec2-large-xls-r-300m-turkish-colab/added_tokens.json\n",
            "loading file wav2vec2-large-xls-r-300m-turkish-colab/special_tokens_map.json\n",
            "loading file None\n",
            "Adding <s> to the vocabulary\n",
            "Adding </s> to the vocabulary\n"
          ]
        }
      ]
    },
    {
      "cell_type": "markdown",
      "metadata": {
        "id": "jD7TZ1YS3S_K"
      },
      "source": [
        "\n",
        "Now, we will just take the first example of the test set, run it through the model and take the `argmax(...)` of the logits to retrieve the predicted token ids."
      ]
    },
    {
      "cell_type": "code",
      "metadata": {
        "colab": {
          "background_save": true
        },
        "id": "pax07TnL3WZn",
        "outputId": "867787ff-0cb7-41e9-f926-96f7b53e7134"
      },
      "source": [
        "input_dict = processor(common_voice_test[0][\"input_values\"], return_tensors=\"pt\", padding=True)\n",
        "\n",
        "logits = model(input_dict.input_values.to(\"cuda\")).logits\n",
        "\n",
        "pred_ids = torch.argmax(logits, dim=-1)[0]"
      ],
      "execution_count": null,
      "outputs": [
        {
          "name": "stderr",
          "output_type": "stream",
          "text": [
            "It is strongly recommended to pass the ``sampling_rate`` argument to this function.Failing to do so can result in silent errors that might be hard to debug.\n"
          ]
        }
      ]
    },
    {
      "cell_type": "markdown",
      "metadata": {
        "id": "7nkzSQu53Zs2"
      },
      "source": [
        "We adapted `common_voice_test` quite a bit so that the dataset instance does not contain the original sentence label anymore. Thus, we re-use the original dataset to get the label of the first example."
      ]
    },
    {
      "cell_type": "code",
      "metadata": {
        "colab": {
          "background_save": true,
          "referenced_widgets": [
            "54097a6c744849128d7cc3da8aad6609",
            "b8827ecbec9e44f09216f62c1ee12840",
            "8728bb32478240b7abe576375b01e640",
            "19b8a530352a423794395979e6415bea",
            "5fc8ec04870e4bb7b63b20844c355ab6"
          ]
        },
        "id": "fe2AE-2xqKHx",
        "outputId": "1d8321b3-4f41-4d71-e74e-f33f32a7b261"
      },
      "source": [
        "common_voice_test_transcription = load_dataset(\"common_voice\", \"tr\", data_dir=\"./cv-corpus-6.1-2020-12-11\", split=\"test\")"
      ],
      "execution_count": null,
      "outputs": [
        {
          "name": "stderr",
          "output_type": "stream",
          "text": [
            "Using custom data configuration tr-ad9f7b76efa9f3a0\n"
          ]
        },
        {
          "name": "stdout",
          "output_type": "stream",
          "text": [
            "Downloading and preparing dataset common_voice/tr (download: 592.09 MiB, generated: 2.89 MiB, post-processed: Unknown size, total: 594.98 MiB) to /root/.cache/huggingface/datasets/common_voice/tr-ad9f7b76efa9f3a0/6.1.0/f7a9d973839b7706e9e281c19b7e512f31badf3c0fdbd21c671f3c4bf9acf3b9...\n"
          ]
        },
        {
          "data": {
            "application/vnd.jupyter.widget-view+json": {
              "model_id": "54097a6c744849128d7cc3da8aad6609",
              "version_major": 2,
              "version_minor": 0
            },
            "text/plain": [
              "0 examples [00:00, ? examples/s]"
            ]
          },
          "metadata": {},
          "output_type": "display_data"
        },
        {
          "data": {
            "application/vnd.jupyter.widget-view+json": {
              "model_id": "b8827ecbec9e44f09216f62c1ee12840",
              "version_major": 2,
              "version_minor": 0
            },
            "text/plain": [
              "0 examples [00:00, ? examples/s]"
            ]
          },
          "metadata": {},
          "output_type": "display_data"
        },
        {
          "data": {
            "application/vnd.jupyter.widget-view+json": {
              "model_id": "8728bb32478240b7abe576375b01e640",
              "version_major": 2,
              "version_minor": 0
            },
            "text/plain": [
              "0 examples [00:00, ? examples/s]"
            ]
          },
          "metadata": {},
          "output_type": "display_data"
        },
        {
          "data": {
            "application/vnd.jupyter.widget-view+json": {
              "model_id": "19b8a530352a423794395979e6415bea",
              "version_major": 2,
              "version_minor": 0
            },
            "text/plain": [
              "0 examples [00:00, ? examples/s]"
            ]
          },
          "metadata": {},
          "output_type": "display_data"
        },
        {
          "data": {
            "application/vnd.jupyter.widget-view+json": {
              "model_id": "5fc8ec04870e4bb7b63b20844c355ab6",
              "version_major": 2,
              "version_minor": 0
            },
            "text/plain": [
              "0 examples [00:00, ? examples/s]"
            ]
          },
          "metadata": {},
          "output_type": "display_data"
        },
        {
          "name": "stdout",
          "output_type": "stream",
          "text": [
            "Dataset common_voice downloaded and prepared to /root/.cache/huggingface/datasets/common_voice/tr-ad9f7b76efa9f3a0/6.1.0/f7a9d973839b7706e9e281c19b7e512f31badf3c0fdbd21c671f3c4bf9acf3b9. Subsequent calls will reuse this data.\n"
          ]
        }
      ]
    },
    {
      "cell_type": "markdown",
      "metadata": {
        "id": "epu8kCQZ3h70"
      },
      "source": [
        "\n",
        "Finally, we can decode the example."
      ]
    },
    {
      "cell_type": "code",
      "metadata": {
        "colab": {
          "background_save": true
        },
        "id": "K4xWqmk_qMn0",
        "outputId": "d9e40b3c-f02a-48a1-d081-6d7e8b37dcaf"
      },
      "source": [
        "print(\"Prediction:\")\n",
        "print(processor.decode(pred_ids))\n",
        "\n",
        "print(\"\\nReference:\")\n",
        "print(common_voice_test_transcription[0][\"sentence\"].lower())"
      ],
      "execution_count": null,
      "outputs": [
        {
          "name": "stdout",
          "output_type": "stream",
          "text": [
            "Prediction:\n",
            "ha ta küçük şeyleri için bir büyük biş şeylir koğoluyor ve yeneküçük şeyler için bir birmizi incilkiyoruz\n",
            "\n",
            "Reference:\n",
            "hayatta küçük şeyleri kovalıyor ve yine küçük şeyler için birbirimizi incitiyoruz.\n"
          ]
        }
      ]
    },
    {
      "cell_type": "markdown",
      "metadata": {
        "id": "HwhyoMml3oOT"
      },
      "source": [
        "Alright! The transcription can definitely be recognized from our prediction, but it is not perfect yet. Training the model a bit longer, spending more time on the data preprocessing, and especially using a language model for decoding would certainly improve the model's overall performance.\n",
        "\n",
        "For a demonstration model on a low-resource language, the results are quite acceptable however 🤗."
      ]
    }
  ]
}
