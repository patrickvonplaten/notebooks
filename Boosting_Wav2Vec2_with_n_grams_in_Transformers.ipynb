{
  "nbformat": 4,
  "nbformat_minor": 0,
  "metadata": {
    "colab": {
      "name": "Boosting Wav2Vec2 with n-grams in 🤗 Transformers",
      "provenance": [],
      "collapsed_sections": [],
      "authorship_tag": "ABX9TyPCwqLrccfLuheQ9zJG1iuO",
      "include_colab_link": true
    },
    "kernelspec": {
      "name": "python3",
      "display_name": "Python 3"
    },
    "language_info": {
      "name": "python"
    },
    "widgets": {
      "application/vnd.jupyter.widget-state+json": {
        "7830943670c647e2acc786e9a7ef103e": {
          "model_module": "@jupyter-widgets/controls",
          "model_name": "HBoxModel",
          "model_module_version": "1.5.0",
          "state": {
            "_view_name": "HBoxView",
            "_dom_classes": [],
            "_model_name": "HBoxModel",
            "_view_module": "@jupyter-widgets/controls",
            "_model_module_version": "1.5.0",
            "_view_count": null,
            "_view_module_version": "1.5.0",
            "box_style": "",
            "layout": "IPY_MODEL_d99f9340c4934c4499f36e4ad3b6e058",
            "_model_module": "@jupyter-widgets/controls",
            "children": [
              "IPY_MODEL_c774e4b19776448f96c52bc10c8c0f14",
              "IPY_MODEL_5d390778f917446baa13022eac784d2b",
              "IPY_MODEL_f3ae537bfceb4f31b51aaeaa18005375"
            ]
          }
        },
        "d99f9340c4934c4499f36e4ad3b6e058": {
          "model_module": "@jupyter-widgets/base",
          "model_name": "LayoutModel",
          "model_module_version": "1.2.0",
          "state": {
            "_view_name": "LayoutView",
            "grid_template_rows": null,
            "right": null,
            "justify_content": null,
            "_view_module": "@jupyter-widgets/base",
            "overflow": null,
            "_model_module_version": "1.2.0",
            "_view_count": null,
            "flex_flow": null,
            "width": null,
            "min_width": null,
            "border": null,
            "align_items": null,
            "bottom": null,
            "_model_module": "@jupyter-widgets/base",
            "top": null,
            "grid_column": null,
            "overflow_y": null,
            "overflow_x": null,
            "grid_auto_flow": null,
            "grid_area": null,
            "grid_template_columns": null,
            "flex": null,
            "_model_name": "LayoutModel",
            "justify_items": null,
            "grid_row": null,
            "max_height": null,
            "align_content": null,
            "visibility": null,
            "align_self": null,
            "height": null,
            "min_height": null,
            "padding": null,
            "grid_auto_rows": null,
            "grid_gap": null,
            "max_width": null,
            "order": null,
            "_view_module_version": "1.2.0",
            "grid_template_areas": null,
            "object_position": null,
            "object_fit": null,
            "grid_auto_columns": null,
            "margin": null,
            "display": null,
            "left": null
          }
        },
        "c774e4b19776448f96c52bc10c8c0f14": {
          "model_module": "@jupyter-widgets/controls",
          "model_name": "HTMLModel",
          "model_module_version": "1.5.0",
          "state": {
            "_view_name": "HTMLView",
            "style": "IPY_MODEL_0ccb0717dcfd4190bd9d1eb7c7960346",
            "_dom_classes": [],
            "description": "",
            "_model_name": "HTMLModel",
            "placeholder": "​",
            "_view_module": "@jupyter-widgets/controls",
            "_model_module_version": "1.5.0",
            "value": "Downloading: ",
            "_view_count": null,
            "_view_module_version": "1.5.0",
            "description_tooltip": null,
            "_model_module": "@jupyter-widgets/controls",
            "layout": "IPY_MODEL_3f6896738e7747f1b98944cc1a992f2d"
          }
        },
        "5d390778f917446baa13022eac784d2b": {
          "model_module": "@jupyter-widgets/controls",
          "model_name": "FloatProgressModel",
          "model_module_version": "1.5.0",
          "state": {
            "_view_name": "ProgressView",
            "style": "IPY_MODEL_bdc026a9eead4f2cbd91dc8e87d6429b",
            "_dom_classes": [],
            "description": "",
            "_model_name": "FloatProgressModel",
            "bar_style": "success",
            "max": 2604,
            "_view_module": "@jupyter-widgets/controls",
            "_model_module_version": "1.5.0",
            "value": 2604,
            "_view_count": null,
            "_view_module_version": "1.5.0",
            "orientation": "horizontal",
            "min": 0,
            "description_tooltip": null,
            "_model_module": "@jupyter-widgets/controls",
            "layout": "IPY_MODEL_ff5acc78c9ef4de7b3b885a99e24ca7a"
          }
        },
        "f3ae537bfceb4f31b51aaeaa18005375": {
          "model_module": "@jupyter-widgets/controls",
          "model_name": "HTMLModel",
          "model_module_version": "1.5.0",
          "state": {
            "_view_name": "HTMLView",
            "style": "IPY_MODEL_5d3ae82cc5a84f7c82d09ab2133ec27a",
            "_dom_classes": [],
            "description": "",
            "_model_name": "HTMLModel",
            "placeholder": "​",
            "_view_module": "@jupyter-widgets/controls",
            "_model_module_version": "1.5.0",
            "value": " 6.92k/? [00:00&lt;00:00, 171kB/s]",
            "_view_count": null,
            "_view_module_version": "1.5.0",
            "description_tooltip": null,
            "_model_module": "@jupyter-widgets/controls",
            "layout": "IPY_MODEL_f3cb069591e74375832a4a3c5f14e37f"
          }
        },
        "0ccb0717dcfd4190bd9d1eb7c7960346": {
          "model_module": "@jupyter-widgets/controls",
          "model_name": "DescriptionStyleModel",
          "model_module_version": "1.5.0",
          "state": {
            "_view_name": "StyleView",
            "_model_name": "DescriptionStyleModel",
            "description_width": "",
            "_view_module": "@jupyter-widgets/base",
            "_model_module_version": "1.5.0",
            "_view_count": null,
            "_view_module_version": "1.2.0",
            "_model_module": "@jupyter-widgets/controls"
          }
        },
        "3f6896738e7747f1b98944cc1a992f2d": {
          "model_module": "@jupyter-widgets/base",
          "model_name": "LayoutModel",
          "model_module_version": "1.2.0",
          "state": {
            "_view_name": "LayoutView",
            "grid_template_rows": null,
            "right": null,
            "justify_content": null,
            "_view_module": "@jupyter-widgets/base",
            "overflow": null,
            "_model_module_version": "1.2.0",
            "_view_count": null,
            "flex_flow": null,
            "width": null,
            "min_width": null,
            "border": null,
            "align_items": null,
            "bottom": null,
            "_model_module": "@jupyter-widgets/base",
            "top": null,
            "grid_column": null,
            "overflow_y": null,
            "overflow_x": null,
            "grid_auto_flow": null,
            "grid_area": null,
            "grid_template_columns": null,
            "flex": null,
            "_model_name": "LayoutModel",
            "justify_items": null,
            "grid_row": null,
            "max_height": null,
            "align_content": null,
            "visibility": null,
            "align_self": null,
            "height": null,
            "min_height": null,
            "padding": null,
            "grid_auto_rows": null,
            "grid_gap": null,
            "max_width": null,
            "order": null,
            "_view_module_version": "1.2.0",
            "grid_template_areas": null,
            "object_position": null,
            "object_fit": null,
            "grid_auto_columns": null,
            "margin": null,
            "display": null,
            "left": null
          }
        },
        "bdc026a9eead4f2cbd91dc8e87d6429b": {
          "model_module": "@jupyter-widgets/controls",
          "model_name": "ProgressStyleModel",
          "model_module_version": "1.5.0",
          "state": {
            "_view_name": "StyleView",
            "_model_name": "ProgressStyleModel",
            "description_width": "",
            "_view_module": "@jupyter-widgets/base",
            "_model_module_version": "1.5.0",
            "_view_count": null,
            "_view_module_version": "1.2.0",
            "bar_color": null,
            "_model_module": "@jupyter-widgets/controls"
          }
        },
        "ff5acc78c9ef4de7b3b885a99e24ca7a": {
          "model_module": "@jupyter-widgets/base",
          "model_name": "LayoutModel",
          "model_module_version": "1.2.0",
          "state": {
            "_view_name": "LayoutView",
            "grid_template_rows": null,
            "right": null,
            "justify_content": null,
            "_view_module": "@jupyter-widgets/base",
            "overflow": null,
            "_model_module_version": "1.2.0",
            "_view_count": null,
            "flex_flow": null,
            "width": null,
            "min_width": null,
            "border": null,
            "align_items": null,
            "bottom": null,
            "_model_module": "@jupyter-widgets/base",
            "top": null,
            "grid_column": null,
            "overflow_y": null,
            "overflow_x": null,
            "grid_auto_flow": null,
            "grid_area": null,
            "grid_template_columns": null,
            "flex": null,
            "_model_name": "LayoutModel",
            "justify_items": null,
            "grid_row": null,
            "max_height": null,
            "align_content": null,
            "visibility": null,
            "align_self": null,
            "height": null,
            "min_height": null,
            "padding": null,
            "grid_auto_rows": null,
            "grid_gap": null,
            "max_width": null,
            "order": null,
            "_view_module_version": "1.2.0",
            "grid_template_areas": null,
            "object_position": null,
            "object_fit": null,
            "grid_auto_columns": null,
            "margin": null,
            "display": null,
            "left": null
          }
        },
        "5d3ae82cc5a84f7c82d09ab2133ec27a": {
          "model_module": "@jupyter-widgets/controls",
          "model_name": "DescriptionStyleModel",
          "model_module_version": "1.5.0",
          "state": {
            "_view_name": "StyleView",
            "_model_name": "DescriptionStyleModel",
            "description_width": "",
            "_view_module": "@jupyter-widgets/base",
            "_model_module_version": "1.5.0",
            "_view_count": null,
            "_view_module_version": "1.2.0",
            "_model_module": "@jupyter-widgets/controls"
          }
        },
        "f3cb069591e74375832a4a3c5f14e37f": {
          "model_module": "@jupyter-widgets/base",
          "model_name": "LayoutModel",
          "model_module_version": "1.2.0",
          "state": {
            "_view_name": "LayoutView",
            "grid_template_rows": null,
            "right": null,
            "justify_content": null,
            "_view_module": "@jupyter-widgets/base",
            "overflow": null,
            "_model_module_version": "1.2.0",
            "_view_count": null,
            "flex_flow": null,
            "width": null,
            "min_width": null,
            "border": null,
            "align_items": null,
            "bottom": null,
            "_model_module": "@jupyter-widgets/base",
            "top": null,
            "grid_column": null,
            "overflow_y": null,
            "overflow_x": null,
            "grid_auto_flow": null,
            "grid_area": null,
            "grid_template_columns": null,
            "flex": null,
            "_model_name": "LayoutModel",
            "justify_items": null,
            "grid_row": null,
            "max_height": null,
            "align_content": null,
            "visibility": null,
            "align_self": null,
            "height": null,
            "min_height": null,
            "padding": null,
            "grid_auto_rows": null,
            "grid_gap": null,
            "max_width": null,
            "order": null,
            "_view_module_version": "1.2.0",
            "grid_template_areas": null,
            "object_position": null,
            "object_fit": null,
            "grid_auto_columns": null,
            "margin": null,
            "display": null,
            "left": null
          }
        },
        "700d5a80528741a99a23446b754ae63b": {
          "model_module": "@jupyter-widgets/controls",
          "model_name": "HBoxModel",
          "model_module_version": "1.5.0",
          "state": {
            "_view_name": "HBoxView",
            "_dom_classes": [],
            "_model_name": "HBoxModel",
            "_view_module": "@jupyter-widgets/controls",
            "_model_module_version": "1.5.0",
            "_view_count": null,
            "_view_module_version": "1.5.0",
            "box_style": "",
            "layout": "IPY_MODEL_6b67eb50c94e4223aa19a3b7ff9e000b",
            "_model_module": "@jupyter-widgets/controls",
            "children": [
              "IPY_MODEL_0b38debae1fe49179c0618a8345f7edd",
              "IPY_MODEL_b92dc5b737234642992c24ab51c3a618",
              "IPY_MODEL_db94e0efc80748fc9a250a19ed228055"
            ]
          }
        },
        "6b67eb50c94e4223aa19a3b7ff9e000b": {
          "model_module": "@jupyter-widgets/base",
          "model_name": "LayoutModel",
          "model_module_version": "1.2.0",
          "state": {
            "_view_name": "LayoutView",
            "grid_template_rows": null,
            "right": null,
            "justify_content": null,
            "_view_module": "@jupyter-widgets/base",
            "overflow": null,
            "_model_module_version": "1.2.0",
            "_view_count": null,
            "flex_flow": null,
            "width": null,
            "min_width": null,
            "border": null,
            "align_items": null,
            "bottom": null,
            "_model_module": "@jupyter-widgets/base",
            "top": null,
            "grid_column": null,
            "overflow_y": null,
            "overflow_x": null,
            "grid_auto_flow": null,
            "grid_area": null,
            "grid_template_columns": null,
            "flex": null,
            "_model_name": "LayoutModel",
            "justify_items": null,
            "grid_row": null,
            "max_height": null,
            "align_content": null,
            "visibility": null,
            "align_self": null,
            "height": null,
            "min_height": null,
            "padding": null,
            "grid_auto_rows": null,
            "grid_gap": null,
            "max_width": null,
            "order": null,
            "_view_module_version": "1.2.0",
            "grid_template_areas": null,
            "object_position": null,
            "object_fit": null,
            "grid_auto_columns": null,
            "margin": null,
            "display": null,
            "left": null
          }
        },
        "0b38debae1fe49179c0618a8345f7edd": {
          "model_module": "@jupyter-widgets/controls",
          "model_name": "HTMLModel",
          "model_module_version": "1.5.0",
          "state": {
            "_view_name": "HTMLView",
            "style": "IPY_MODEL_50416acba7e2414ebc038cab753810d5",
            "_dom_classes": [],
            "description": "",
            "_model_name": "HTMLModel",
            "placeholder": "​",
            "_view_module": "@jupyter-widgets/controls",
            "_model_module_version": "1.5.0",
            "value": "Downloading: ",
            "_view_count": null,
            "_view_module_version": "1.5.0",
            "description_tooltip": null,
            "_model_module": "@jupyter-widgets/controls",
            "layout": "IPY_MODEL_5567471b84404f4daae83ede67e4e683"
          }
        },
        "b92dc5b737234642992c24ab51c3a618": {
          "model_module": "@jupyter-widgets/controls",
          "model_name": "FloatProgressModel",
          "model_module_version": "1.5.0",
          "state": {
            "_view_name": "ProgressView",
            "style": "IPY_MODEL_7afb72afa7ae463c9c0e2066b0d394c9",
            "_dom_classes": [],
            "description": "",
            "_model_name": "FloatProgressModel",
            "bar_style": "success",
            "max": 29616,
            "_view_module": "@jupyter-widgets/controls",
            "_model_module_version": "1.5.0",
            "value": 29616,
            "_view_count": null,
            "_view_module_version": "1.5.0",
            "orientation": "horizontal",
            "min": 0,
            "description_tooltip": null,
            "_model_module": "@jupyter-widgets/controls",
            "layout": "IPY_MODEL_83fe3a36a08d4fbbbdfa9fd9c8adfadb"
          }
        },
        "db94e0efc80748fc9a250a19ed228055": {
          "model_module": "@jupyter-widgets/controls",
          "model_name": "HTMLModel",
          "model_module_version": "1.5.0",
          "state": {
            "_view_name": "HTMLView",
            "style": "IPY_MODEL_a19388b2d8a94eee865c7a5dcfb25ad0",
            "_dom_classes": [],
            "description": "",
            "_model_name": "HTMLModel",
            "placeholder": "​",
            "_view_module": "@jupyter-widgets/controls",
            "_model_module_version": "1.5.0",
            "value": " 457k/? [00:00&lt;00:00, 9.78MB/s]",
            "_view_count": null,
            "_view_module_version": "1.5.0",
            "description_tooltip": null,
            "_model_module": "@jupyter-widgets/controls",
            "layout": "IPY_MODEL_35c82d7720d54545964631502b3acea1"
          }
        },
        "50416acba7e2414ebc038cab753810d5": {
          "model_module": "@jupyter-widgets/controls",
          "model_name": "DescriptionStyleModel",
          "model_module_version": "1.5.0",
          "state": {
            "_view_name": "StyleView",
            "_model_name": "DescriptionStyleModel",
            "description_width": "",
            "_view_module": "@jupyter-widgets/base",
            "_model_module_version": "1.5.0",
            "_view_count": null,
            "_view_module_version": "1.2.0",
            "_model_module": "@jupyter-widgets/controls"
          }
        },
        "5567471b84404f4daae83ede67e4e683": {
          "model_module": "@jupyter-widgets/base",
          "model_name": "LayoutModel",
          "model_module_version": "1.2.0",
          "state": {
            "_view_name": "LayoutView",
            "grid_template_rows": null,
            "right": null,
            "justify_content": null,
            "_view_module": "@jupyter-widgets/base",
            "overflow": null,
            "_model_module_version": "1.2.0",
            "_view_count": null,
            "flex_flow": null,
            "width": null,
            "min_width": null,
            "border": null,
            "align_items": null,
            "bottom": null,
            "_model_module": "@jupyter-widgets/base",
            "top": null,
            "grid_column": null,
            "overflow_y": null,
            "overflow_x": null,
            "grid_auto_flow": null,
            "grid_area": null,
            "grid_template_columns": null,
            "flex": null,
            "_model_name": "LayoutModel",
            "justify_items": null,
            "grid_row": null,
            "max_height": null,
            "align_content": null,
            "visibility": null,
            "align_self": null,
            "height": null,
            "min_height": null,
            "padding": null,
            "grid_auto_rows": null,
            "grid_gap": null,
            "max_width": null,
            "order": null,
            "_view_module_version": "1.2.0",
            "grid_template_areas": null,
            "object_position": null,
            "object_fit": null,
            "grid_auto_columns": null,
            "margin": null,
            "display": null,
            "left": null
          }
        },
        "7afb72afa7ae463c9c0e2066b0d394c9": {
          "model_module": "@jupyter-widgets/controls",
          "model_name": "ProgressStyleModel",
          "model_module_version": "1.5.0",
          "state": {
            "_view_name": "StyleView",
            "_model_name": "ProgressStyleModel",
            "description_width": "",
            "_view_module": "@jupyter-widgets/base",
            "_model_module_version": "1.5.0",
            "_view_count": null,
            "_view_module_version": "1.2.0",
            "bar_color": null,
            "_model_module": "@jupyter-widgets/controls"
          }
        },
        "83fe3a36a08d4fbbbdfa9fd9c8adfadb": {
          "model_module": "@jupyter-widgets/base",
          "model_name": "LayoutModel",
          "model_module_version": "1.2.0",
          "state": {
            "_view_name": "LayoutView",
            "grid_template_rows": null,
            "right": null,
            "justify_content": null,
            "_view_module": "@jupyter-widgets/base",
            "overflow": null,
            "_model_module_version": "1.2.0",
            "_view_count": null,
            "flex_flow": null,
            "width": null,
            "min_width": null,
            "border": null,
            "align_items": null,
            "bottom": null,
            "_model_module": "@jupyter-widgets/base",
            "top": null,
            "grid_column": null,
            "overflow_y": null,
            "overflow_x": null,
            "grid_auto_flow": null,
            "grid_area": null,
            "grid_template_columns": null,
            "flex": null,
            "_model_name": "LayoutModel",
            "justify_items": null,
            "grid_row": null,
            "max_height": null,
            "align_content": null,
            "visibility": null,
            "align_self": null,
            "height": null,
            "min_height": null,
            "padding": null,
            "grid_auto_rows": null,
            "grid_gap": null,
            "max_width": null,
            "order": null,
            "_view_module_version": "1.2.0",
            "grid_template_areas": null,
            "object_position": null,
            "object_fit": null,
            "grid_auto_columns": null,
            "margin": null,
            "display": null,
            "left": null
          }
        },
        "a19388b2d8a94eee865c7a5dcfb25ad0": {
          "model_module": "@jupyter-widgets/controls",
          "model_name": "DescriptionStyleModel",
          "model_module_version": "1.5.0",
          "state": {
            "_view_name": "StyleView",
            "_model_name": "DescriptionStyleModel",
            "description_width": "",
            "_view_module": "@jupyter-widgets/base",
            "_model_module_version": "1.5.0",
            "_view_count": null,
            "_view_module_version": "1.2.0",
            "_model_module": "@jupyter-widgets/controls"
          }
        },
        "35c82d7720d54545964631502b3acea1": {
          "model_module": "@jupyter-widgets/base",
          "model_name": "LayoutModel",
          "model_module_version": "1.2.0",
          "state": {
            "_view_name": "LayoutView",
            "grid_template_rows": null,
            "right": null,
            "justify_content": null,
            "_view_module": "@jupyter-widgets/base",
            "overflow": null,
            "_model_module_version": "1.2.0",
            "_view_count": null,
            "flex_flow": null,
            "width": null,
            "min_width": null,
            "border": null,
            "align_items": null,
            "bottom": null,
            "_model_module": "@jupyter-widgets/base",
            "top": null,
            "grid_column": null,
            "overflow_y": null,
            "overflow_x": null,
            "grid_auto_flow": null,
            "grid_area": null,
            "grid_template_columns": null,
            "flex": null,
            "_model_name": "LayoutModel",
            "justify_items": null,
            "grid_row": null,
            "max_height": null,
            "align_content": null,
            "visibility": null,
            "align_self": null,
            "height": null,
            "min_height": null,
            "padding": null,
            "grid_auto_rows": null,
            "grid_gap": null,
            "max_width": null,
            "order": null,
            "_view_module_version": "1.2.0",
            "grid_template_areas": null,
            "object_position": null,
            "object_fit": null,
            "grid_auto_columns": null,
            "margin": null,
            "display": null,
            "left": null
          }
        },
        "6818b169b69c4c689f382449666f9090": {
          "model_module": "@jupyter-widgets/controls",
          "model_name": "HBoxModel",
          "model_module_version": "1.5.0",
          "state": {
            "_view_name": "HBoxView",
            "_dom_classes": [],
            "_model_name": "HBoxModel",
            "_view_module": "@jupyter-widgets/controls",
            "_model_module_version": "1.5.0",
            "_view_count": null,
            "_view_module_version": "1.5.0",
            "box_style": "",
            "layout": "IPY_MODEL_f59853fe53754a46a16bc483d63567ca",
            "_model_module": "@jupyter-widgets/controls",
            "children": [
              "IPY_MODEL_5f68506b6e394d3d9cd89898032c52b4",
              "IPY_MODEL_adb99f5d7fab4fe5bc8cb21a94b84ca1",
              "IPY_MODEL_cc5b87a2c3804058977f281d410c03c2"
            ]
          }
        },
        "f59853fe53754a46a16bc483d63567ca": {
          "model_module": "@jupyter-widgets/base",
          "model_name": "LayoutModel",
          "model_module_version": "1.2.0",
          "state": {
            "_view_name": "LayoutView",
            "grid_template_rows": null,
            "right": null,
            "justify_content": null,
            "_view_module": "@jupyter-widgets/base",
            "overflow": null,
            "_model_module_version": "1.2.0",
            "_view_count": null,
            "flex_flow": null,
            "width": null,
            "min_width": null,
            "border": null,
            "align_items": null,
            "bottom": null,
            "_model_module": "@jupyter-widgets/base",
            "top": null,
            "grid_column": null,
            "overflow_y": null,
            "overflow_x": null,
            "grid_auto_flow": null,
            "grid_area": null,
            "grid_template_columns": null,
            "flex": null,
            "_model_name": "LayoutModel",
            "justify_items": null,
            "grid_row": null,
            "max_height": null,
            "align_content": null,
            "visibility": null,
            "align_self": null,
            "height": null,
            "min_height": null,
            "padding": null,
            "grid_auto_rows": null,
            "grid_gap": null,
            "max_width": null,
            "order": null,
            "_view_module_version": "1.2.0",
            "grid_template_areas": null,
            "object_position": null,
            "object_fit": null,
            "grid_auto_columns": null,
            "margin": null,
            "display": null,
            "left": null
          }
        },
        "5f68506b6e394d3d9cd89898032c52b4": {
          "model_module": "@jupyter-widgets/controls",
          "model_name": "HTMLModel",
          "model_module_version": "1.5.0",
          "state": {
            "_view_name": "HTMLView",
            "style": "IPY_MODEL_0d9493bb59f74df19801c8cee4b30f86",
            "_dom_classes": [],
            "description": "",
            "_model_name": "HTMLModel",
            "placeholder": "​",
            "_view_module": "@jupyter-widgets/controls",
            "_model_module_version": "1.5.0",
            "value": "Downloading: 100%",
            "_view_count": null,
            "_view_module_version": "1.5.0",
            "description_tooltip": null,
            "_model_module": "@jupyter-widgets/controls",
            "layout": "IPY_MODEL_cb030d4e259a4125821848c7e88b8ea4"
          }
        },
        "adb99f5d7fab4fe5bc8cb21a94b84ca1": {
          "model_module": "@jupyter-widgets/controls",
          "model_name": "FloatProgressModel",
          "model_module_version": "1.5.0",
          "state": {
            "_view_name": "ProgressView",
            "style": "IPY_MODEL_5fde4fda09524af8ac11b6a3b8c080a6",
            "_dom_classes": [],
            "description": "",
            "_model_name": "FloatProgressModel",
            "bar_style": "success",
            "max": 142174450,
            "_view_module": "@jupyter-widgets/controls",
            "_model_module_version": "1.5.0",
            "value": 142174450,
            "_view_count": null,
            "_view_module_version": "1.5.0",
            "orientation": "horizontal",
            "min": 0,
            "description_tooltip": null,
            "_model_module": "@jupyter-widgets/controls",
            "layout": "IPY_MODEL_4d037c9b9c0044d8a3c10781afef2ead"
          }
        },
        "cc5b87a2c3804058977f281d410c03c2": {
          "model_module": "@jupyter-widgets/controls",
          "model_name": "HTMLModel",
          "model_module_version": "1.5.0",
          "state": {
            "_view_name": "HTMLView",
            "style": "IPY_MODEL_6d5d8e2ca10f4dc7920a75dc7f8c2044",
            "_dom_classes": [],
            "description": "",
            "_model_name": "HTMLModel",
            "placeholder": "​",
            "_view_module": "@jupyter-widgets/controls",
            "_model_module_version": "1.5.0",
            "value": " 142M/142M [00:07&lt;00:00, 25.7MB/s]",
            "_view_count": null,
            "_view_module_version": "1.5.0",
            "description_tooltip": null,
            "_model_module": "@jupyter-widgets/controls",
            "layout": "IPY_MODEL_842acfadced34c90a6b90e974d4de536"
          }
        },
        "0d9493bb59f74df19801c8cee4b30f86": {
          "model_module": "@jupyter-widgets/controls",
          "model_name": "DescriptionStyleModel",
          "model_module_version": "1.5.0",
          "state": {
            "_view_name": "StyleView",
            "_model_name": "DescriptionStyleModel",
            "description_width": "",
            "_view_module": "@jupyter-widgets/base",
            "_model_module_version": "1.5.0",
            "_view_count": null,
            "_view_module_version": "1.2.0",
            "_model_module": "@jupyter-widgets/controls"
          }
        },
        "cb030d4e259a4125821848c7e88b8ea4": {
          "model_module": "@jupyter-widgets/base",
          "model_name": "LayoutModel",
          "model_module_version": "1.2.0",
          "state": {
            "_view_name": "LayoutView",
            "grid_template_rows": null,
            "right": null,
            "justify_content": null,
            "_view_module": "@jupyter-widgets/base",
            "overflow": null,
            "_model_module_version": "1.2.0",
            "_view_count": null,
            "flex_flow": null,
            "width": null,
            "min_width": null,
            "border": null,
            "align_items": null,
            "bottom": null,
            "_model_module": "@jupyter-widgets/base",
            "top": null,
            "grid_column": null,
            "overflow_y": null,
            "overflow_x": null,
            "grid_auto_flow": null,
            "grid_area": null,
            "grid_template_columns": null,
            "flex": null,
            "_model_name": "LayoutModel",
            "justify_items": null,
            "grid_row": null,
            "max_height": null,
            "align_content": null,
            "visibility": null,
            "align_self": null,
            "height": null,
            "min_height": null,
            "padding": null,
            "grid_auto_rows": null,
            "grid_gap": null,
            "max_width": null,
            "order": null,
            "_view_module_version": "1.2.0",
            "grid_template_areas": null,
            "object_position": null,
            "object_fit": null,
            "grid_auto_columns": null,
            "margin": null,
            "display": null,
            "left": null
          }
        },
        "5fde4fda09524af8ac11b6a3b8c080a6": {
          "model_module": "@jupyter-widgets/controls",
          "model_name": "ProgressStyleModel",
          "model_module_version": "1.5.0",
          "state": {
            "_view_name": "StyleView",
            "_model_name": "ProgressStyleModel",
            "description_width": "",
            "_view_module": "@jupyter-widgets/base",
            "_model_module_version": "1.5.0",
            "_view_count": null,
            "_view_module_version": "1.2.0",
            "bar_color": null,
            "_model_module": "@jupyter-widgets/controls"
          }
        },
        "4d037c9b9c0044d8a3c10781afef2ead": {
          "model_module": "@jupyter-widgets/base",
          "model_name": "LayoutModel",
          "model_module_version": "1.2.0",
          "state": {
            "_view_name": "LayoutView",
            "grid_template_rows": null,
            "right": null,
            "justify_content": null,
            "_view_module": "@jupyter-widgets/base",
            "overflow": null,
            "_model_module_version": "1.2.0",
            "_view_count": null,
            "flex_flow": null,
            "width": null,
            "min_width": null,
            "border": null,
            "align_items": null,
            "bottom": null,
            "_model_module": "@jupyter-widgets/base",
            "top": null,
            "grid_column": null,
            "overflow_y": null,
            "overflow_x": null,
            "grid_auto_flow": null,
            "grid_area": null,
            "grid_template_columns": null,
            "flex": null,
            "_model_name": "LayoutModel",
            "justify_items": null,
            "grid_row": null,
            "max_height": null,
            "align_content": null,
            "visibility": null,
            "align_self": null,
            "height": null,
            "min_height": null,
            "padding": null,
            "grid_auto_rows": null,
            "grid_gap": null,
            "max_width": null,
            "order": null,
            "_view_module_version": "1.2.0",
            "grid_template_areas": null,
            "object_position": null,
            "object_fit": null,
            "grid_auto_columns": null,
            "margin": null,
            "display": null,
            "left": null
          }
        },
        "6d5d8e2ca10f4dc7920a75dc7f8c2044": {
          "model_module": "@jupyter-widgets/controls",
          "model_name": "DescriptionStyleModel",
          "model_module_version": "1.5.0",
          "state": {
            "_view_name": "StyleView",
            "_model_name": "DescriptionStyleModel",
            "description_width": "",
            "_view_module": "@jupyter-widgets/base",
            "_model_module_version": "1.5.0",
            "_view_count": null,
            "_view_module_version": "1.2.0",
            "_model_module": "@jupyter-widgets/controls"
          }
        },
        "842acfadced34c90a6b90e974d4de536": {
          "model_module": "@jupyter-widgets/base",
          "model_name": "LayoutModel",
          "model_module_version": "1.2.0",
          "state": {
            "_view_name": "LayoutView",
            "grid_template_rows": null,
            "right": null,
            "justify_content": null,
            "_view_module": "@jupyter-widgets/base",
            "overflow": null,
            "_model_module_version": "1.2.0",
            "_view_count": null,
            "flex_flow": null,
            "width": null,
            "min_width": null,
            "border": null,
            "align_items": null,
            "bottom": null,
            "_model_module": "@jupyter-widgets/base",
            "top": null,
            "grid_column": null,
            "overflow_y": null,
            "overflow_x": null,
            "grid_auto_flow": null,
            "grid_area": null,
            "grid_template_columns": null,
            "flex": null,
            "_model_name": "LayoutModel",
            "justify_items": null,
            "grid_row": null,
            "max_height": null,
            "align_content": null,
            "visibility": null,
            "align_self": null,
            "height": null,
            "min_height": null,
            "padding": null,
            "grid_auto_rows": null,
            "grid_gap": null,
            "max_width": null,
            "order": null,
            "_view_module_version": "1.2.0",
            "grid_template_areas": null,
            "object_position": null,
            "object_fit": null,
            "grid_auto_columns": null,
            "margin": null,
            "display": null,
            "left": null
          }
        },
        "32101323a7a648ff87a3348da0a1a997": {
          "model_module": "@jupyter-widgets/controls",
          "model_name": "HBoxModel",
          "model_module_version": "1.5.0",
          "state": {
            "_view_name": "HBoxView",
            "_dom_classes": [],
            "_model_name": "HBoxModel",
            "_view_module": "@jupyter-widgets/controls",
            "_model_module_version": "1.5.0",
            "_view_count": null,
            "_view_module_version": "1.5.0",
            "box_style": "",
            "layout": "IPY_MODEL_28a1463958874651b13793a404d7821e",
            "_model_module": "@jupyter-widgets/controls",
            "children": [
              "IPY_MODEL_a80248b900504fbdbfc850a5af86a902",
              "IPY_MODEL_d2000fb6441740179384584dafd25557",
              "IPY_MODEL_18407378be464639995c442035481ef2"
            ]
          }
        },
        "28a1463958874651b13793a404d7821e": {
          "model_module": "@jupyter-widgets/base",
          "model_name": "LayoutModel",
          "model_module_version": "1.2.0",
          "state": {
            "_view_name": "LayoutView",
            "grid_template_rows": null,
            "right": null,
            "justify_content": null,
            "_view_module": "@jupyter-widgets/base",
            "overflow": null,
            "_model_module_version": "1.2.0",
            "_view_count": null,
            "flex_flow": null,
            "width": null,
            "min_width": null,
            "border": null,
            "align_items": null,
            "bottom": null,
            "_model_module": "@jupyter-widgets/base",
            "top": null,
            "grid_column": null,
            "overflow_y": null,
            "overflow_x": null,
            "grid_auto_flow": null,
            "grid_area": null,
            "grid_template_columns": null,
            "flex": null,
            "_model_name": "LayoutModel",
            "justify_items": null,
            "grid_row": null,
            "max_height": null,
            "align_content": null,
            "visibility": null,
            "align_self": null,
            "height": null,
            "min_height": null,
            "padding": null,
            "grid_auto_rows": null,
            "grid_gap": null,
            "max_width": null,
            "order": null,
            "_view_module_version": "1.2.0",
            "grid_template_areas": null,
            "object_position": null,
            "object_fit": null,
            "grid_auto_columns": null,
            "margin": null,
            "display": null,
            "left": null
          }
        },
        "a80248b900504fbdbfc850a5af86a902": {
          "model_module": "@jupyter-widgets/controls",
          "model_name": "HTMLModel",
          "model_module_version": "1.5.0",
          "state": {
            "_view_name": "HTMLView",
            "style": "IPY_MODEL_9d8f1345c4ee4c4f8fd9863784a8287a",
            "_dom_classes": [],
            "description": "",
            "_model_name": "HTMLModel",
            "placeholder": "​",
            "_view_module": "@jupyter-widgets/controls",
            "_model_module_version": "1.5.0",
            "value": "Downloading: 100%",
            "_view_count": null,
            "_view_module_version": "1.5.0",
            "description_tooltip": null,
            "_model_module": "@jupyter-widgets/controls",
            "layout": "IPY_MODEL_c60dfab7b8cf4f489a77c687e33c3c6e"
          }
        },
        "d2000fb6441740179384584dafd25557": {
          "model_module": "@jupyter-widgets/controls",
          "model_name": "FloatProgressModel",
          "model_module_version": "1.5.0",
          "state": {
            "_view_name": "ProgressView",
            "style": "IPY_MODEL_463796a8f34b49ca8c5c55c026150fb5",
            "_dom_classes": [],
            "description": "",
            "_model_name": "FloatProgressModel",
            "bar_style": "success",
            "max": 126679235,
            "_view_module": "@jupyter-widgets/controls",
            "_model_module_version": "1.5.0",
            "value": 126679235,
            "_view_count": null,
            "_view_module_version": "1.5.0",
            "orientation": "horizontal",
            "min": 0,
            "description_tooltip": null,
            "_model_module": "@jupyter-widgets/controls",
            "layout": "IPY_MODEL_7c68506bcef74a97a4abacfa21581c88"
          }
        },
        "18407378be464639995c442035481ef2": {
          "model_module": "@jupyter-widgets/controls",
          "model_name": "HTMLModel",
          "model_module_version": "1.5.0",
          "state": {
            "_view_name": "HTMLView",
            "style": "IPY_MODEL_6fdd4d8527ae48028d7e692e8df31fe0",
            "_dom_classes": [],
            "description": "",
            "_model_name": "HTMLModel",
            "placeholder": "​",
            "_view_module": "@jupyter-widgets/controls",
            "_model_module_version": "1.5.0",
            "value": " 127M/127M [00:06&lt;00:00, 23.6MB/s]",
            "_view_count": null,
            "_view_module_version": "1.5.0",
            "description_tooltip": null,
            "_model_module": "@jupyter-widgets/controls",
            "layout": "IPY_MODEL_27ac434d28f942f3952710ebf6a53727"
          }
        },
        "9d8f1345c4ee4c4f8fd9863784a8287a": {
          "model_module": "@jupyter-widgets/controls",
          "model_name": "DescriptionStyleModel",
          "model_module_version": "1.5.0",
          "state": {
            "_view_name": "StyleView",
            "_model_name": "DescriptionStyleModel",
            "description_width": "",
            "_view_module": "@jupyter-widgets/base",
            "_model_module_version": "1.5.0",
            "_view_count": null,
            "_view_module_version": "1.2.0",
            "_model_module": "@jupyter-widgets/controls"
          }
        },
        "c60dfab7b8cf4f489a77c687e33c3c6e": {
          "model_module": "@jupyter-widgets/base",
          "model_name": "LayoutModel",
          "model_module_version": "1.2.0",
          "state": {
            "_view_name": "LayoutView",
            "grid_template_rows": null,
            "right": null,
            "justify_content": null,
            "_view_module": "@jupyter-widgets/base",
            "overflow": null,
            "_model_module_version": "1.2.0",
            "_view_count": null,
            "flex_flow": null,
            "width": null,
            "min_width": null,
            "border": null,
            "align_items": null,
            "bottom": null,
            "_model_module": "@jupyter-widgets/base",
            "top": null,
            "grid_column": null,
            "overflow_y": null,
            "overflow_x": null,
            "grid_auto_flow": null,
            "grid_area": null,
            "grid_template_columns": null,
            "flex": null,
            "_model_name": "LayoutModel",
            "justify_items": null,
            "grid_row": null,
            "max_height": null,
            "align_content": null,
            "visibility": null,
            "align_self": null,
            "height": null,
            "min_height": null,
            "padding": null,
            "grid_auto_rows": null,
            "grid_gap": null,
            "max_width": null,
            "order": null,
            "_view_module_version": "1.2.0",
            "grid_template_areas": null,
            "object_position": null,
            "object_fit": null,
            "grid_auto_columns": null,
            "margin": null,
            "display": null,
            "left": null
          }
        },
        "463796a8f34b49ca8c5c55c026150fb5": {
          "model_module": "@jupyter-widgets/controls",
          "model_name": "ProgressStyleModel",
          "model_module_version": "1.5.0",
          "state": {
            "_view_name": "StyleView",
            "_model_name": "ProgressStyleModel",
            "description_width": "",
            "_view_module": "@jupyter-widgets/base",
            "_model_module_version": "1.5.0",
            "_view_count": null,
            "_view_module_version": "1.2.0",
            "bar_color": null,
            "_model_module": "@jupyter-widgets/controls"
          }
        },
        "7c68506bcef74a97a4abacfa21581c88": {
          "model_module": "@jupyter-widgets/base",
          "model_name": "LayoutModel",
          "model_module_version": "1.2.0",
          "state": {
            "_view_name": "LayoutView",
            "grid_template_rows": null,
            "right": null,
            "justify_content": null,
            "_view_module": "@jupyter-widgets/base",
            "overflow": null,
            "_model_module_version": "1.2.0",
            "_view_count": null,
            "flex_flow": null,
            "width": null,
            "min_width": null,
            "border": null,
            "align_items": null,
            "bottom": null,
            "_model_module": "@jupyter-widgets/base",
            "top": null,
            "grid_column": null,
            "overflow_y": null,
            "overflow_x": null,
            "grid_auto_flow": null,
            "grid_area": null,
            "grid_template_columns": null,
            "flex": null,
            "_model_name": "LayoutModel",
            "justify_items": null,
            "grid_row": null,
            "max_height": null,
            "align_content": null,
            "visibility": null,
            "align_self": null,
            "height": null,
            "min_height": null,
            "padding": null,
            "grid_auto_rows": null,
            "grid_gap": null,
            "max_width": null,
            "order": null,
            "_view_module_version": "1.2.0",
            "grid_template_areas": null,
            "object_position": null,
            "object_fit": null,
            "grid_auto_columns": null,
            "margin": null,
            "display": null,
            "left": null
          }
        },
        "6fdd4d8527ae48028d7e692e8df31fe0": {
          "model_module": "@jupyter-widgets/controls",
          "model_name": "DescriptionStyleModel",
          "model_module_version": "1.5.0",
          "state": {
            "_view_name": "StyleView",
            "_model_name": "DescriptionStyleModel",
            "description_width": "",
            "_view_module": "@jupyter-widgets/base",
            "_model_module_version": "1.5.0",
            "_view_count": null,
            "_view_module_version": "1.2.0",
            "_model_module": "@jupyter-widgets/controls"
          }
        },
        "27ac434d28f942f3952710ebf6a53727": {
          "model_module": "@jupyter-widgets/base",
          "model_name": "LayoutModel",
          "model_module_version": "1.2.0",
          "state": {
            "_view_name": "LayoutView",
            "grid_template_rows": null,
            "right": null,
            "justify_content": null,
            "_view_module": "@jupyter-widgets/base",
            "overflow": null,
            "_model_module_version": "1.2.0",
            "_view_count": null,
            "flex_flow": null,
            "width": null,
            "min_width": null,
            "border": null,
            "align_items": null,
            "bottom": null,
            "_model_module": "@jupyter-widgets/base",
            "top": null,
            "grid_column": null,
            "overflow_y": null,
            "overflow_x": null,
            "grid_auto_flow": null,
            "grid_area": null,
            "grid_template_columns": null,
            "flex": null,
            "_model_name": "LayoutModel",
            "justify_items": null,
            "grid_row": null,
            "max_height": null,
            "align_content": null,
            "visibility": null,
            "align_self": null,
            "height": null,
            "min_height": null,
            "padding": null,
            "grid_auto_rows": null,
            "grid_gap": null,
            "max_width": null,
            "order": null,
            "_view_module_version": "1.2.0",
            "grid_template_areas": null,
            "object_position": null,
            "object_fit": null,
            "grid_auto_columns": null,
            "margin": null,
            "display": null,
            "left": null
          }
        },
        "d19500bd258e45179242d1292e0c2a6a": {
          "model_module": "@jupyter-widgets/controls",
          "model_name": "HBoxModel",
          "model_module_version": "1.5.0",
          "state": {
            "_view_name": "HBoxView",
            "_dom_classes": [],
            "_model_name": "HBoxModel",
            "_view_module": "@jupyter-widgets/controls",
            "_model_module_version": "1.5.0",
            "_view_count": null,
            "_view_module_version": "1.5.0",
            "box_style": "",
            "layout": "IPY_MODEL_b35f4164c9a6424ca6cb00a4bd2b2e3f",
            "_model_module": "@jupyter-widgets/controls",
            "children": [
              "IPY_MODEL_db4d149310d44c2990e42f1ddcd7324e",
              "IPY_MODEL_37dcda9b3fff4a7786985a552079120b",
              "IPY_MODEL_43305fbd971d4c8aa007e8e176b6dbf0"
            ]
          }
        },
        "b35f4164c9a6424ca6cb00a4bd2b2e3f": {
          "model_module": "@jupyter-widgets/base",
          "model_name": "LayoutModel",
          "model_module_version": "1.2.0",
          "state": {
            "_view_name": "LayoutView",
            "grid_template_rows": null,
            "right": null,
            "justify_content": null,
            "_view_module": "@jupyter-widgets/base",
            "overflow": null,
            "_model_module_version": "1.2.0",
            "_view_count": null,
            "flex_flow": null,
            "width": null,
            "min_width": null,
            "border": null,
            "align_items": null,
            "bottom": null,
            "_model_module": "@jupyter-widgets/base",
            "top": null,
            "grid_column": null,
            "overflow_y": null,
            "overflow_x": null,
            "grid_auto_flow": null,
            "grid_area": null,
            "grid_template_columns": null,
            "flex": null,
            "_model_name": "LayoutModel",
            "justify_items": null,
            "grid_row": null,
            "max_height": null,
            "align_content": null,
            "visibility": null,
            "align_self": null,
            "height": null,
            "min_height": null,
            "padding": null,
            "grid_auto_rows": null,
            "grid_gap": null,
            "max_width": null,
            "order": null,
            "_view_module_version": "1.2.0",
            "grid_template_areas": null,
            "object_position": null,
            "object_fit": null,
            "grid_auto_columns": null,
            "margin": null,
            "display": null,
            "left": null
          }
        },
        "db4d149310d44c2990e42f1ddcd7324e": {
          "model_module": "@jupyter-widgets/controls",
          "model_name": "HTMLModel",
          "model_module_version": "1.5.0",
          "state": {
            "_view_name": "HTMLView",
            "style": "IPY_MODEL_eeb49043b4db4b0396b0a792d8af7d8a",
            "_dom_classes": [],
            "description": "",
            "_model_name": "HTMLModel",
            "placeholder": "​",
            "_view_module": "@jupyter-widgets/controls",
            "_model_module_version": "1.5.0",
            "value": "Downloading: 100%",
            "_view_count": null,
            "_view_module_version": "1.5.0",
            "description_tooltip": null,
            "_model_module": "@jupyter-widgets/controls",
            "layout": "IPY_MODEL_43289d434e2d412f91b9fc6dbecb9ca8"
          }
        },
        "37dcda9b3fff4a7786985a552079120b": {
          "model_module": "@jupyter-widgets/controls",
          "model_name": "FloatProgressModel",
          "model_module_version": "1.5.0",
          "state": {
            "_view_name": "ProgressView",
            "style": "IPY_MODEL_d59a9e78205543bfad948d0cb8ac7d09",
            "_dom_classes": [],
            "description": "",
            "_model_name": "FloatProgressModel",
            "bar_style": "success",
            "max": 8904605,
            "_view_module": "@jupyter-widgets/controls",
            "_model_module_version": "1.5.0",
            "value": 8904605,
            "_view_count": null,
            "_view_module_version": "1.5.0",
            "orientation": "horizontal",
            "min": 0,
            "description_tooltip": null,
            "_model_module": "@jupyter-widgets/controls",
            "layout": "IPY_MODEL_ff99a2bf3f824cb5bd21bdfb8c7843bf"
          }
        },
        "43305fbd971d4c8aa007e8e176b6dbf0": {
          "model_module": "@jupyter-widgets/controls",
          "model_name": "HTMLModel",
          "model_module_version": "1.5.0",
          "state": {
            "_view_name": "HTMLView",
            "style": "IPY_MODEL_1861bec692b84f04a0347d7181ea8b25",
            "_dom_classes": [],
            "description": "",
            "_model_name": "HTMLModel",
            "placeholder": "​",
            "_view_module": "@jupyter-widgets/controls",
            "_model_module_version": "1.5.0",
            "value": " 8.90M/8.90M [00:01&lt;00:00, 13.4MB/s]",
            "_view_count": null,
            "_view_module_version": "1.5.0",
            "description_tooltip": null,
            "_model_module": "@jupyter-widgets/controls",
            "layout": "IPY_MODEL_eca88a05dd3944c1b6bda1564fdc752a"
          }
        },
        "eeb49043b4db4b0396b0a792d8af7d8a": {
          "model_module": "@jupyter-widgets/controls",
          "model_name": "DescriptionStyleModel",
          "model_module_version": "1.5.0",
          "state": {
            "_view_name": "StyleView",
            "_model_name": "DescriptionStyleModel",
            "description_width": "",
            "_view_module": "@jupyter-widgets/base",
            "_model_module_version": "1.5.0",
            "_view_count": null,
            "_view_module_version": "1.2.0",
            "_model_module": "@jupyter-widgets/controls"
          }
        },
        "43289d434e2d412f91b9fc6dbecb9ca8": {
          "model_module": "@jupyter-widgets/base",
          "model_name": "LayoutModel",
          "model_module_version": "1.2.0",
          "state": {
            "_view_name": "LayoutView",
            "grid_template_rows": null,
            "right": null,
            "justify_content": null,
            "_view_module": "@jupyter-widgets/base",
            "overflow": null,
            "_model_module_version": "1.2.0",
            "_view_count": null,
            "flex_flow": null,
            "width": null,
            "min_width": null,
            "border": null,
            "align_items": null,
            "bottom": null,
            "_model_module": "@jupyter-widgets/base",
            "top": null,
            "grid_column": null,
            "overflow_y": null,
            "overflow_x": null,
            "grid_auto_flow": null,
            "grid_area": null,
            "grid_template_columns": null,
            "flex": null,
            "_model_name": "LayoutModel",
            "justify_items": null,
            "grid_row": null,
            "max_height": null,
            "align_content": null,
            "visibility": null,
            "align_self": null,
            "height": null,
            "min_height": null,
            "padding": null,
            "grid_auto_rows": null,
            "grid_gap": null,
            "max_width": null,
            "order": null,
            "_view_module_version": "1.2.0",
            "grid_template_areas": null,
            "object_position": null,
            "object_fit": null,
            "grid_auto_columns": null,
            "margin": null,
            "display": null,
            "left": null
          }
        },
        "d59a9e78205543bfad948d0cb8ac7d09": {
          "model_module": "@jupyter-widgets/controls",
          "model_name": "ProgressStyleModel",
          "model_module_version": "1.5.0",
          "state": {
            "_view_name": "StyleView",
            "_model_name": "ProgressStyleModel",
            "description_width": "",
            "_view_module": "@jupyter-widgets/base",
            "_model_module_version": "1.5.0",
            "_view_count": null,
            "_view_module_version": "1.2.0",
            "bar_color": null,
            "_model_module": "@jupyter-widgets/controls"
          }
        },
        "ff99a2bf3f824cb5bd21bdfb8c7843bf": {
          "model_module": "@jupyter-widgets/base",
          "model_name": "LayoutModel",
          "model_module_version": "1.2.0",
          "state": {
            "_view_name": "LayoutView",
            "grid_template_rows": null,
            "right": null,
            "justify_content": null,
            "_view_module": "@jupyter-widgets/base",
            "overflow": null,
            "_model_module_version": "1.2.0",
            "_view_count": null,
            "flex_flow": null,
            "width": null,
            "min_width": null,
            "border": null,
            "align_items": null,
            "bottom": null,
            "_model_module": "@jupyter-widgets/base",
            "top": null,
            "grid_column": null,
            "overflow_y": null,
            "overflow_x": null,
            "grid_auto_flow": null,
            "grid_area": null,
            "grid_template_columns": null,
            "flex": null,
            "_model_name": "LayoutModel",
            "justify_items": null,
            "grid_row": null,
            "max_height": null,
            "align_content": null,
            "visibility": null,
            "align_self": null,
            "height": null,
            "min_height": null,
            "padding": null,
            "grid_auto_rows": null,
            "grid_gap": null,
            "max_width": null,
            "order": null,
            "_view_module_version": "1.2.0",
            "grid_template_areas": null,
            "object_position": null,
            "object_fit": null,
            "grid_auto_columns": null,
            "margin": null,
            "display": null,
            "left": null
          }
        },
        "1861bec692b84f04a0347d7181ea8b25": {
          "model_module": "@jupyter-widgets/controls",
          "model_name": "DescriptionStyleModel",
          "model_module_version": "1.5.0",
          "state": {
            "_view_name": "StyleView",
            "_model_name": "DescriptionStyleModel",
            "description_width": "",
            "_view_module": "@jupyter-widgets/base",
            "_model_module_version": "1.5.0",
            "_view_count": null,
            "_view_module_version": "1.2.0",
            "_model_module": "@jupyter-widgets/controls"
          }
        },
        "eca88a05dd3944c1b6bda1564fdc752a": {
          "model_module": "@jupyter-widgets/base",
          "model_name": "LayoutModel",
          "model_module_version": "1.2.0",
          "state": {
            "_view_name": "LayoutView",
            "grid_template_rows": null,
            "right": null,
            "justify_content": null,
            "_view_module": "@jupyter-widgets/base",
            "overflow": null,
            "_model_module_version": "1.2.0",
            "_view_count": null,
            "flex_flow": null,
            "width": null,
            "min_width": null,
            "border": null,
            "align_items": null,
            "bottom": null,
            "_model_module": "@jupyter-widgets/base",
            "top": null,
            "grid_column": null,
            "overflow_y": null,
            "overflow_x": null,
            "grid_auto_flow": null,
            "grid_area": null,
            "grid_template_columns": null,
            "flex": null,
            "_model_name": "LayoutModel",
            "justify_items": null,
            "grid_row": null,
            "max_height": null,
            "align_content": null,
            "visibility": null,
            "align_self": null,
            "height": null,
            "min_height": null,
            "padding": null,
            "grid_auto_rows": null,
            "grid_gap": null,
            "max_width": null,
            "order": null,
            "_view_module_version": "1.2.0",
            "grid_template_areas": null,
            "object_position": null,
            "object_fit": null,
            "grid_auto_columns": null,
            "margin": null,
            "display": null,
            "left": null
          }
        },
        "1b0079ee2a9e412395267d522a016b0d": {
          "model_module": "@jupyter-widgets/controls",
          "model_name": "HBoxModel",
          "model_module_version": "1.5.0",
          "state": {
            "_view_name": "HBoxView",
            "_dom_classes": [],
            "_model_name": "HBoxModel",
            "_view_module": "@jupyter-widgets/controls",
            "_model_module_version": "1.5.0",
            "_view_count": null,
            "_view_module_version": "1.5.0",
            "box_style": "",
            "layout": "IPY_MODEL_4e46025d1b5d48acabc09fe338b48fdc",
            "_model_module": "@jupyter-widgets/controls",
            "children": [
              "IPY_MODEL_eb39fba9160d497c98011d72b35c8d61",
              "IPY_MODEL_08112f8edcb6424f94b9211ed931103a",
              "IPY_MODEL_bd11c540926147b9ad7f66ad4e86f2fa"
            ]
          }
        },
        "4e46025d1b5d48acabc09fe338b48fdc": {
          "model_module": "@jupyter-widgets/base",
          "model_name": "LayoutModel",
          "model_module_version": "1.2.0",
          "state": {
            "_view_name": "LayoutView",
            "grid_template_rows": null,
            "right": null,
            "justify_content": null,
            "_view_module": "@jupyter-widgets/base",
            "overflow": null,
            "_model_module_version": "1.2.0",
            "_view_count": null,
            "flex_flow": null,
            "width": null,
            "min_width": null,
            "border": null,
            "align_items": null,
            "bottom": null,
            "_model_module": "@jupyter-widgets/base",
            "top": null,
            "grid_column": null,
            "overflow_y": null,
            "overflow_x": null,
            "grid_auto_flow": null,
            "grid_area": null,
            "grid_template_columns": null,
            "flex": null,
            "_model_name": "LayoutModel",
            "justify_items": null,
            "grid_row": null,
            "max_height": null,
            "align_content": null,
            "visibility": null,
            "align_self": null,
            "height": null,
            "min_height": null,
            "padding": null,
            "grid_auto_rows": null,
            "grid_gap": null,
            "max_width": null,
            "order": null,
            "_view_module_version": "1.2.0",
            "grid_template_areas": null,
            "object_position": null,
            "object_fit": null,
            "grid_auto_columns": null,
            "margin": null,
            "display": null,
            "left": null
          }
        },
        "eb39fba9160d497c98011d72b35c8d61": {
          "model_module": "@jupyter-widgets/controls",
          "model_name": "HTMLModel",
          "model_module_version": "1.5.0",
          "state": {
            "_view_name": "HTMLView",
            "style": "IPY_MODEL_c355e48eb29f4e668ea1c384654e4790",
            "_dom_classes": [],
            "description": "",
            "_model_name": "HTMLModel",
            "placeholder": "​",
            "_view_module": "@jupyter-widgets/controls",
            "_model_module_version": "1.5.0",
            "value": "",
            "_view_count": null,
            "_view_module_version": "1.5.0",
            "description_tooltip": null,
            "_model_module": "@jupyter-widgets/controls",
            "layout": "IPY_MODEL_d43c9ec1efac49b290981eac0f6177ac"
          }
        },
        "08112f8edcb6424f94b9211ed931103a": {
          "model_module": "@jupyter-widgets/controls",
          "model_name": "FloatProgressModel",
          "model_module_version": "1.5.0",
          "state": {
            "_view_name": "ProgressView",
            "style": "IPY_MODEL_3bbd57969c944726964b7500dd6140bf",
            "_dom_classes": [],
            "description": "",
            "_model_name": "FloatProgressModel",
            "bar_style": "info",
            "max": 1,
            "_view_module": "@jupyter-widgets/controls",
            "_model_module_version": "1.5.0",
            "value": 1,
            "_view_count": null,
            "_view_module_version": "1.5.0",
            "orientation": "horizontal",
            "min": 0,
            "description_tooltip": null,
            "_model_module": "@jupyter-widgets/controls",
            "layout": "IPY_MODEL_5015b7be5ef6411898f3cd68c87ea531"
          }
        },
        "bd11c540926147b9ad7f66ad4e86f2fa": {
          "model_module": "@jupyter-widgets/controls",
          "model_name": "HTMLModel",
          "model_module_version": "1.5.0",
          "state": {
            "_view_name": "HTMLView",
            "style": "IPY_MODEL_594540ee3f05442680ca5db326f35e72",
            "_dom_classes": [],
            "description": "",
            "_model_name": "HTMLModel",
            "placeholder": "​",
            "_view_module": "@jupyter-widgets/controls",
            "_model_module_version": "1.5.0",
            "value": " 1890592/0 [01:32&lt;00:00, 19719.18 examples/s]",
            "_view_count": null,
            "_view_module_version": "1.5.0",
            "description_tooltip": null,
            "_model_module": "@jupyter-widgets/controls",
            "layout": "IPY_MODEL_a3c42da7382f461c8c0aad27ea7930b5"
          }
        },
        "c355e48eb29f4e668ea1c384654e4790": {
          "model_module": "@jupyter-widgets/controls",
          "model_name": "DescriptionStyleModel",
          "model_module_version": "1.5.0",
          "state": {
            "_view_name": "StyleView",
            "_model_name": "DescriptionStyleModel",
            "description_width": "",
            "_view_module": "@jupyter-widgets/base",
            "_model_module_version": "1.5.0",
            "_view_count": null,
            "_view_module_version": "1.2.0",
            "_model_module": "@jupyter-widgets/controls"
          }
        },
        "d43c9ec1efac49b290981eac0f6177ac": {
          "model_module": "@jupyter-widgets/base",
          "model_name": "LayoutModel",
          "model_module_version": "1.2.0",
          "state": {
            "_view_name": "LayoutView",
            "grid_template_rows": null,
            "right": null,
            "justify_content": null,
            "_view_module": "@jupyter-widgets/base",
            "overflow": null,
            "_model_module_version": "1.2.0",
            "_view_count": null,
            "flex_flow": null,
            "width": null,
            "min_width": null,
            "border": null,
            "align_items": null,
            "bottom": null,
            "_model_module": "@jupyter-widgets/base",
            "top": null,
            "grid_column": null,
            "overflow_y": null,
            "overflow_x": null,
            "grid_auto_flow": null,
            "grid_area": null,
            "grid_template_columns": null,
            "flex": null,
            "_model_name": "LayoutModel",
            "justify_items": null,
            "grid_row": null,
            "max_height": null,
            "align_content": null,
            "visibility": null,
            "align_self": null,
            "height": null,
            "min_height": null,
            "padding": null,
            "grid_auto_rows": null,
            "grid_gap": null,
            "max_width": null,
            "order": null,
            "_view_module_version": "1.2.0",
            "grid_template_areas": null,
            "object_position": null,
            "object_fit": null,
            "grid_auto_columns": null,
            "margin": null,
            "display": null,
            "left": null
          }
        },
        "3bbd57969c944726964b7500dd6140bf": {
          "model_module": "@jupyter-widgets/controls",
          "model_name": "ProgressStyleModel",
          "model_module_version": "1.5.0",
          "state": {
            "_view_name": "StyleView",
            "_model_name": "ProgressStyleModel",
            "description_width": "",
            "_view_module": "@jupyter-widgets/base",
            "_model_module_version": "1.5.0",
            "_view_count": null,
            "_view_module_version": "1.2.0",
            "bar_color": null,
            "_model_module": "@jupyter-widgets/controls"
          }
        },
        "5015b7be5ef6411898f3cd68c87ea531": {
          "model_module": "@jupyter-widgets/base",
          "model_name": "LayoutModel",
          "model_module_version": "1.2.0",
          "state": {
            "_view_name": "LayoutView",
            "grid_template_rows": null,
            "right": null,
            "justify_content": null,
            "_view_module": "@jupyter-widgets/base",
            "overflow": null,
            "_model_module_version": "1.2.0",
            "_view_count": null,
            "flex_flow": null,
            "width": "20px",
            "min_width": null,
            "border": null,
            "align_items": null,
            "bottom": null,
            "_model_module": "@jupyter-widgets/base",
            "top": null,
            "grid_column": null,
            "overflow_y": null,
            "overflow_x": null,
            "grid_auto_flow": null,
            "grid_area": null,
            "grid_template_columns": null,
            "flex": null,
            "_model_name": "LayoutModel",
            "justify_items": null,
            "grid_row": null,
            "max_height": null,
            "align_content": null,
            "visibility": null,
            "align_self": null,
            "height": null,
            "min_height": null,
            "padding": null,
            "grid_auto_rows": null,
            "grid_gap": null,
            "max_width": null,
            "order": null,
            "_view_module_version": "1.2.0",
            "grid_template_areas": null,
            "object_position": null,
            "object_fit": null,
            "grid_auto_columns": null,
            "margin": null,
            "display": null,
            "left": null
          }
        },
        "594540ee3f05442680ca5db326f35e72": {
          "model_module": "@jupyter-widgets/controls",
          "model_name": "DescriptionStyleModel",
          "model_module_version": "1.5.0",
          "state": {
            "_view_name": "StyleView",
            "_model_name": "DescriptionStyleModel",
            "description_width": "",
            "_view_module": "@jupyter-widgets/base",
            "_model_module_version": "1.5.0",
            "_view_count": null,
            "_view_module_version": "1.2.0",
            "_model_module": "@jupyter-widgets/controls"
          }
        },
        "a3c42da7382f461c8c0aad27ea7930b5": {
          "model_module": "@jupyter-widgets/base",
          "model_name": "LayoutModel",
          "model_module_version": "1.2.0",
          "state": {
            "_view_name": "LayoutView",
            "grid_template_rows": null,
            "right": null,
            "justify_content": null,
            "_view_module": "@jupyter-widgets/base",
            "overflow": null,
            "_model_module_version": "1.2.0",
            "_view_count": null,
            "flex_flow": null,
            "width": null,
            "min_width": null,
            "border": null,
            "align_items": null,
            "bottom": null,
            "_model_module": "@jupyter-widgets/base",
            "top": null,
            "grid_column": null,
            "overflow_y": null,
            "overflow_x": null,
            "grid_auto_flow": null,
            "grid_area": null,
            "grid_template_columns": null,
            "flex": null,
            "_model_name": "LayoutModel",
            "justify_items": null,
            "grid_row": null,
            "max_height": null,
            "align_content": null,
            "visibility": null,
            "align_self": null,
            "height": null,
            "min_height": null,
            "padding": null,
            "grid_auto_rows": null,
            "grid_gap": null,
            "max_width": null,
            "order": null,
            "_view_module_version": "1.2.0",
            "grid_template_areas": null,
            "object_position": null,
            "object_fit": null,
            "grid_auto_columns": null,
            "margin": null,
            "display": null,
            "left": null
          }
        },
        "e115e1d9b2864d2c87091fba897965d8": {
          "model_module": "@jupyter-widgets/controls",
          "model_name": "HBoxModel",
          "model_module_version": "1.5.0",
          "state": {
            "_view_name": "HBoxView",
            "_dom_classes": [],
            "_model_name": "HBoxModel",
            "_view_module": "@jupyter-widgets/controls",
            "_model_module_version": "1.5.0",
            "_view_count": null,
            "_view_module_version": "1.5.0",
            "box_style": "",
            "layout": "IPY_MODEL_b36451ac8c0144b7bc0541279b880188",
            "_model_module": "@jupyter-widgets/controls",
            "children": [
              "IPY_MODEL_34ccc2f81a1d4670a769167fc7175196",
              "IPY_MODEL_d9d4c0d791f44c48afcf99b99f427912",
              "IPY_MODEL_d759ea9e52d040dd822a4475c5773fef"
            ]
          }
        },
        "b36451ac8c0144b7bc0541279b880188": {
          "model_module": "@jupyter-widgets/base",
          "model_name": "LayoutModel",
          "model_module_version": "1.2.0",
          "state": {
            "_view_name": "LayoutView",
            "grid_template_rows": null,
            "right": null,
            "justify_content": null,
            "_view_module": "@jupyter-widgets/base",
            "overflow": null,
            "_model_module_version": "1.2.0",
            "_view_count": null,
            "flex_flow": null,
            "width": null,
            "min_width": null,
            "border": null,
            "align_items": null,
            "bottom": null,
            "_model_module": "@jupyter-widgets/base",
            "top": null,
            "grid_column": null,
            "overflow_y": null,
            "overflow_x": null,
            "grid_auto_flow": null,
            "grid_area": null,
            "grid_template_columns": null,
            "flex": null,
            "_model_name": "LayoutModel",
            "justify_items": null,
            "grid_row": null,
            "max_height": null,
            "align_content": null,
            "visibility": null,
            "align_self": null,
            "height": null,
            "min_height": null,
            "padding": null,
            "grid_auto_rows": null,
            "grid_gap": null,
            "max_width": null,
            "order": null,
            "_view_module_version": "1.2.0",
            "grid_template_areas": null,
            "object_position": null,
            "object_fit": null,
            "grid_auto_columns": null,
            "margin": null,
            "display": null,
            "left": null
          }
        },
        "34ccc2f81a1d4670a769167fc7175196": {
          "model_module": "@jupyter-widgets/controls",
          "model_name": "HTMLModel",
          "model_module_version": "1.5.0",
          "state": {
            "_view_name": "HTMLView",
            "style": "IPY_MODEL_a2fab072164c4f7e8466fc9cf945ec98",
            "_dom_classes": [],
            "description": "",
            "_model_name": "HTMLModel",
            "placeholder": "​",
            "_view_module": "@jupyter-widgets/controls",
            "_model_module_version": "1.5.0",
            "value": "100%",
            "_view_count": null,
            "_view_module_version": "1.5.0",
            "description_tooltip": null,
            "_model_module": "@jupyter-widgets/controls",
            "layout": "IPY_MODEL_d57756aba46d423091cb837a6e77bdac"
          }
        },
        "d9d4c0d791f44c48afcf99b99f427912": {
          "model_module": "@jupyter-widgets/controls",
          "model_name": "FloatProgressModel",
          "model_module_version": "1.5.0",
          "state": {
            "_view_name": "ProgressView",
            "style": "IPY_MODEL_6be621402dee403e9ddeb2a27b2ae963",
            "_dom_classes": [],
            "description": "",
            "_model_name": "FloatProgressModel",
            "bar_style": "success",
            "max": 1892723,
            "_view_module": "@jupyter-widgets/controls",
            "_model_module_version": "1.5.0",
            "value": 1892723,
            "_view_count": null,
            "_view_module_version": "1.5.0",
            "orientation": "horizontal",
            "min": 0,
            "description_tooltip": null,
            "_model_module": "@jupyter-widgets/controls",
            "layout": "IPY_MODEL_ca051e7845d243829c472b09625632ae"
          }
        },
        "d759ea9e52d040dd822a4475c5773fef": {
          "model_module": "@jupyter-widgets/controls",
          "model_name": "HTMLModel",
          "model_module_version": "1.5.0",
          "state": {
            "_view_name": "HTMLView",
            "style": "IPY_MODEL_f2bde039b42245c8b5550760c0bd852e",
            "_dom_classes": [],
            "description": "",
            "_model_name": "HTMLModel",
            "placeholder": "​",
            "_view_module": "@jupyter-widgets/controls",
            "_model_module_version": "1.5.0",
            "value": " 1892723/1892723 [03:22&lt;00:00, 7963.88ex/s]",
            "_view_count": null,
            "_view_module_version": "1.5.0",
            "description_tooltip": null,
            "_model_module": "@jupyter-widgets/controls",
            "layout": "IPY_MODEL_4966fdb14c814e969b2fc4495ddf5fbf"
          }
        },
        "a2fab072164c4f7e8466fc9cf945ec98": {
          "model_module": "@jupyter-widgets/controls",
          "model_name": "DescriptionStyleModel",
          "model_module_version": "1.5.0",
          "state": {
            "_view_name": "StyleView",
            "_model_name": "DescriptionStyleModel",
            "description_width": "",
            "_view_module": "@jupyter-widgets/base",
            "_model_module_version": "1.5.0",
            "_view_count": null,
            "_view_module_version": "1.2.0",
            "_model_module": "@jupyter-widgets/controls"
          }
        },
        "d57756aba46d423091cb837a6e77bdac": {
          "model_module": "@jupyter-widgets/base",
          "model_name": "LayoutModel",
          "model_module_version": "1.2.0",
          "state": {
            "_view_name": "LayoutView",
            "grid_template_rows": null,
            "right": null,
            "justify_content": null,
            "_view_module": "@jupyter-widgets/base",
            "overflow": null,
            "_model_module_version": "1.2.0",
            "_view_count": null,
            "flex_flow": null,
            "width": null,
            "min_width": null,
            "border": null,
            "align_items": null,
            "bottom": null,
            "_model_module": "@jupyter-widgets/base",
            "top": null,
            "grid_column": null,
            "overflow_y": null,
            "overflow_x": null,
            "grid_auto_flow": null,
            "grid_area": null,
            "grid_template_columns": null,
            "flex": null,
            "_model_name": "LayoutModel",
            "justify_items": null,
            "grid_row": null,
            "max_height": null,
            "align_content": null,
            "visibility": null,
            "align_self": null,
            "height": null,
            "min_height": null,
            "padding": null,
            "grid_auto_rows": null,
            "grid_gap": null,
            "max_width": null,
            "order": null,
            "_view_module_version": "1.2.0",
            "grid_template_areas": null,
            "object_position": null,
            "object_fit": null,
            "grid_auto_columns": null,
            "margin": null,
            "display": null,
            "left": null
          }
        },
        "6be621402dee403e9ddeb2a27b2ae963": {
          "model_module": "@jupyter-widgets/controls",
          "model_name": "ProgressStyleModel",
          "model_module_version": "1.5.0",
          "state": {
            "_view_name": "StyleView",
            "_model_name": "ProgressStyleModel",
            "description_width": "",
            "_view_module": "@jupyter-widgets/base",
            "_model_module_version": "1.5.0",
            "_view_count": null,
            "_view_module_version": "1.2.0",
            "bar_color": null,
            "_model_module": "@jupyter-widgets/controls"
          }
        },
        "ca051e7845d243829c472b09625632ae": {
          "model_module": "@jupyter-widgets/base",
          "model_name": "LayoutModel",
          "model_module_version": "1.2.0",
          "state": {
            "_view_name": "LayoutView",
            "grid_template_rows": null,
            "right": null,
            "justify_content": null,
            "_view_module": "@jupyter-widgets/base",
            "overflow": null,
            "_model_module_version": "1.2.0",
            "_view_count": null,
            "flex_flow": null,
            "width": null,
            "min_width": null,
            "border": null,
            "align_items": null,
            "bottom": null,
            "_model_module": "@jupyter-widgets/base",
            "top": null,
            "grid_column": null,
            "overflow_y": null,
            "overflow_x": null,
            "grid_auto_flow": null,
            "grid_area": null,
            "grid_template_columns": null,
            "flex": null,
            "_model_name": "LayoutModel",
            "justify_items": null,
            "grid_row": null,
            "max_height": null,
            "align_content": null,
            "visibility": null,
            "align_self": null,
            "height": null,
            "min_height": null,
            "padding": null,
            "grid_auto_rows": null,
            "grid_gap": null,
            "max_width": null,
            "order": null,
            "_view_module_version": "1.2.0",
            "grid_template_areas": null,
            "object_position": null,
            "object_fit": null,
            "grid_auto_columns": null,
            "margin": null,
            "display": null,
            "left": null
          }
        },
        "f2bde039b42245c8b5550760c0bd852e": {
          "model_module": "@jupyter-widgets/controls",
          "model_name": "DescriptionStyleModel",
          "model_module_version": "1.5.0",
          "state": {
            "_view_name": "StyleView",
            "_model_name": "DescriptionStyleModel",
            "description_width": "",
            "_view_module": "@jupyter-widgets/base",
            "_model_module_version": "1.5.0",
            "_view_count": null,
            "_view_module_version": "1.2.0",
            "_model_module": "@jupyter-widgets/controls"
          }
        },
        "4966fdb14c814e969b2fc4495ddf5fbf": {
          "model_module": "@jupyter-widgets/base",
          "model_name": "LayoutModel",
          "model_module_version": "1.2.0",
          "state": {
            "_view_name": "LayoutView",
            "grid_template_rows": null,
            "right": null,
            "justify_content": null,
            "_view_module": "@jupyter-widgets/base",
            "overflow": null,
            "_model_module_version": "1.2.0",
            "_view_count": null,
            "flex_flow": null,
            "width": null,
            "min_width": null,
            "border": null,
            "align_items": null,
            "bottom": null,
            "_model_module": "@jupyter-widgets/base",
            "top": null,
            "grid_column": null,
            "overflow_y": null,
            "overflow_x": null,
            "grid_auto_flow": null,
            "grid_area": null,
            "grid_template_columns": null,
            "flex": null,
            "_model_name": "LayoutModel",
            "justify_items": null,
            "grid_row": null,
            "max_height": null,
            "align_content": null,
            "visibility": null,
            "align_self": null,
            "height": null,
            "min_height": null,
            "padding": null,
            "grid_auto_rows": null,
            "grid_gap": null,
            "max_width": null,
            "order": null,
            "_view_module_version": "1.2.0",
            "grid_template_areas": null,
            "object_position": null,
            "object_fit": null,
            "grid_auto_columns": null,
            "margin": null,
            "display": null,
            "left": null
          }
        },
        "8bffcb75f5504c11982df20cc1436d30": {
          "model_module": "@jupyter-widgets/controls",
          "model_name": "HBoxModel",
          "model_module_version": "1.5.0",
          "state": {
            "_view_name": "HBoxView",
            "_dom_classes": [],
            "_model_name": "HBoxModel",
            "_view_module": "@jupyter-widgets/controls",
            "_model_module_version": "1.5.0",
            "_view_count": null,
            "_view_module_version": "1.5.0",
            "box_style": "",
            "layout": "IPY_MODEL_77ba8b5340a04af5afac93c8c5404e85",
            "_model_module": "@jupyter-widgets/controls",
            "children": [
              "IPY_MODEL_340eb2d5aea641e48b345c5ffcb7f9a2",
              "IPY_MODEL_0e7f8a31a247414387b986f17bf38534",
              "IPY_MODEL_42d9c84e3621405da37d711e2549f680"
            ]
          }
        },
        "77ba8b5340a04af5afac93c8c5404e85": {
          "model_module": "@jupyter-widgets/base",
          "model_name": "LayoutModel",
          "model_module_version": "1.2.0",
          "state": {
            "_view_name": "LayoutView",
            "grid_template_rows": null,
            "right": null,
            "justify_content": null,
            "_view_module": "@jupyter-widgets/base",
            "overflow": null,
            "_model_module_version": "1.2.0",
            "_view_count": null,
            "flex_flow": null,
            "width": null,
            "min_width": null,
            "border": null,
            "align_items": null,
            "bottom": null,
            "_model_module": "@jupyter-widgets/base",
            "top": null,
            "grid_column": null,
            "overflow_y": null,
            "overflow_x": null,
            "grid_auto_flow": null,
            "grid_area": null,
            "grid_template_columns": null,
            "flex": null,
            "_model_name": "LayoutModel",
            "justify_items": null,
            "grid_row": null,
            "max_height": null,
            "align_content": null,
            "visibility": null,
            "align_self": null,
            "height": null,
            "min_height": null,
            "padding": null,
            "grid_auto_rows": null,
            "grid_gap": null,
            "max_width": null,
            "order": null,
            "_view_module_version": "1.2.0",
            "grid_template_areas": null,
            "object_position": null,
            "object_fit": null,
            "grid_auto_columns": null,
            "margin": null,
            "display": null,
            "left": null
          }
        },
        "340eb2d5aea641e48b345c5ffcb7f9a2": {
          "model_module": "@jupyter-widgets/controls",
          "model_name": "HTMLModel",
          "model_module_version": "1.5.0",
          "state": {
            "_view_name": "HTMLView",
            "style": "IPY_MODEL_2e08b650bc8646968e45d0e920617ce4",
            "_dom_classes": [],
            "description": "",
            "_model_name": "HTMLModel",
            "placeholder": "​",
            "_view_module": "@jupyter-widgets/controls",
            "_model_module_version": "1.5.0",
            "value": "Pushing dataset shards to the dataset hub: 100%",
            "_view_count": null,
            "_view_module_version": "1.5.0",
            "description_tooltip": null,
            "_model_module": "@jupyter-widgets/controls",
            "layout": "IPY_MODEL_3b8341f7d3f442888004ea42f16132be"
          }
        },
        "0e7f8a31a247414387b986f17bf38534": {
          "model_module": "@jupyter-widgets/controls",
          "model_name": "FloatProgressModel",
          "model_module_version": "1.5.0",
          "state": {
            "_view_name": "ProgressView",
            "style": "IPY_MODEL_383b49eca642495ca017eacc7792b594",
            "_dom_classes": [],
            "description": "",
            "_model_name": "FloatProgressModel",
            "bar_style": "success",
            "max": 1,
            "_view_module": "@jupyter-widgets/controls",
            "_model_module_version": "1.5.0",
            "value": 1,
            "_view_count": null,
            "_view_module_version": "1.5.0",
            "orientation": "horizontal",
            "min": 0,
            "description_tooltip": null,
            "_model_module": "@jupyter-widgets/controls",
            "layout": "IPY_MODEL_b477e813af844dab8aafaeb53f1f5614"
          }
        },
        "42d9c84e3621405da37d711e2549f680": {
          "model_module": "@jupyter-widgets/controls",
          "model_name": "HTMLModel",
          "model_module_version": "1.5.0",
          "state": {
            "_view_name": "HTMLView",
            "style": "IPY_MODEL_84caa42de4fd4a3291db82c18243230f",
            "_dom_classes": [],
            "description": "",
            "_model_name": "HTMLModel",
            "placeholder": "​",
            "_view_module": "@jupyter-widgets/controls",
            "_model_module_version": "1.5.0",
            "value": " 1/1 [00:19&lt;00:00, 19.72s/it]",
            "_view_count": null,
            "_view_module_version": "1.5.0",
            "description_tooltip": null,
            "_model_module": "@jupyter-widgets/controls",
            "layout": "IPY_MODEL_0098eec4256f43b69a057304fcf5269d"
          }
        },
        "2e08b650bc8646968e45d0e920617ce4": {
          "model_module": "@jupyter-widgets/controls",
          "model_name": "DescriptionStyleModel",
          "model_module_version": "1.5.0",
          "state": {
            "_view_name": "StyleView",
            "_model_name": "DescriptionStyleModel",
            "description_width": "",
            "_view_module": "@jupyter-widgets/base",
            "_model_module_version": "1.5.0",
            "_view_count": null,
            "_view_module_version": "1.2.0",
            "_model_module": "@jupyter-widgets/controls"
          }
        },
        "3b8341f7d3f442888004ea42f16132be": {
          "model_module": "@jupyter-widgets/base",
          "model_name": "LayoutModel",
          "model_module_version": "1.2.0",
          "state": {
            "_view_name": "LayoutView",
            "grid_template_rows": null,
            "right": null,
            "justify_content": null,
            "_view_module": "@jupyter-widgets/base",
            "overflow": null,
            "_model_module_version": "1.2.0",
            "_view_count": null,
            "flex_flow": null,
            "width": null,
            "min_width": null,
            "border": null,
            "align_items": null,
            "bottom": null,
            "_model_module": "@jupyter-widgets/base",
            "top": null,
            "grid_column": null,
            "overflow_y": null,
            "overflow_x": null,
            "grid_auto_flow": null,
            "grid_area": null,
            "grid_template_columns": null,
            "flex": null,
            "_model_name": "LayoutModel",
            "justify_items": null,
            "grid_row": null,
            "max_height": null,
            "align_content": null,
            "visibility": null,
            "align_self": null,
            "height": null,
            "min_height": null,
            "padding": null,
            "grid_auto_rows": null,
            "grid_gap": null,
            "max_width": null,
            "order": null,
            "_view_module_version": "1.2.0",
            "grid_template_areas": null,
            "object_position": null,
            "object_fit": null,
            "grid_auto_columns": null,
            "margin": null,
            "display": null,
            "left": null
          }
        },
        "383b49eca642495ca017eacc7792b594": {
          "model_module": "@jupyter-widgets/controls",
          "model_name": "ProgressStyleModel",
          "model_module_version": "1.5.0",
          "state": {
            "_view_name": "StyleView",
            "_model_name": "ProgressStyleModel",
            "description_width": "",
            "_view_module": "@jupyter-widgets/base",
            "_model_module_version": "1.5.0",
            "_view_count": null,
            "_view_module_version": "1.2.0",
            "bar_color": null,
            "_model_module": "@jupyter-widgets/controls"
          }
        },
        "b477e813af844dab8aafaeb53f1f5614": {
          "model_module": "@jupyter-widgets/base",
          "model_name": "LayoutModel",
          "model_module_version": "1.2.0",
          "state": {
            "_view_name": "LayoutView",
            "grid_template_rows": null,
            "right": null,
            "justify_content": null,
            "_view_module": "@jupyter-widgets/base",
            "overflow": null,
            "_model_module_version": "1.2.0",
            "_view_count": null,
            "flex_flow": null,
            "width": null,
            "min_width": null,
            "border": null,
            "align_items": null,
            "bottom": null,
            "_model_module": "@jupyter-widgets/base",
            "top": null,
            "grid_column": null,
            "overflow_y": null,
            "overflow_x": null,
            "grid_auto_flow": null,
            "grid_area": null,
            "grid_template_columns": null,
            "flex": null,
            "_model_name": "LayoutModel",
            "justify_items": null,
            "grid_row": null,
            "max_height": null,
            "align_content": null,
            "visibility": null,
            "align_self": null,
            "height": null,
            "min_height": null,
            "padding": null,
            "grid_auto_rows": null,
            "grid_gap": null,
            "max_width": null,
            "order": null,
            "_view_module_version": "1.2.0",
            "grid_template_areas": null,
            "object_position": null,
            "object_fit": null,
            "grid_auto_columns": null,
            "margin": null,
            "display": null,
            "left": null
          }
        },
        "84caa42de4fd4a3291db82c18243230f": {
          "model_module": "@jupyter-widgets/controls",
          "model_name": "DescriptionStyleModel",
          "model_module_version": "1.5.0",
          "state": {
            "_view_name": "StyleView",
            "_model_name": "DescriptionStyleModel",
            "description_width": "",
            "_view_module": "@jupyter-widgets/base",
            "_model_module_version": "1.5.0",
            "_view_count": null,
            "_view_module_version": "1.2.0",
            "_model_module": "@jupyter-widgets/controls"
          }
        },
        "0098eec4256f43b69a057304fcf5269d": {
          "model_module": "@jupyter-widgets/base",
          "model_name": "LayoutModel",
          "model_module_version": "1.2.0",
          "state": {
            "_view_name": "LayoutView",
            "grid_template_rows": null,
            "right": null,
            "justify_content": null,
            "_view_module": "@jupyter-widgets/base",
            "overflow": null,
            "_model_module_version": "1.2.0",
            "_view_count": null,
            "flex_flow": null,
            "width": null,
            "min_width": null,
            "border": null,
            "align_items": null,
            "bottom": null,
            "_model_module": "@jupyter-widgets/base",
            "top": null,
            "grid_column": null,
            "overflow_y": null,
            "overflow_x": null,
            "grid_auto_flow": null,
            "grid_area": null,
            "grid_template_columns": null,
            "flex": null,
            "_model_name": "LayoutModel",
            "justify_items": null,
            "grid_row": null,
            "max_height": null,
            "align_content": null,
            "visibility": null,
            "align_self": null,
            "height": null,
            "min_height": null,
            "padding": null,
            "grid_auto_rows": null,
            "grid_gap": null,
            "max_width": null,
            "order": null,
            "_view_module_version": "1.2.0",
            "grid_template_areas": null,
            "object_position": null,
            "object_fit": null,
            "grid_auto_columns": null,
            "margin": null,
            "display": null,
            "left": null
          }
        },
        "1c53d909594943bbb5d0fd94336e411f": {
          "model_module": "@jupyter-widgets/controls",
          "model_name": "VBoxModel",
          "model_module_version": "1.5.0",
          "state": {
            "_view_name": "VBoxView",
            "_dom_classes": [],
            "_model_name": "VBoxModel",
            "_view_module": "@jupyter-widgets/controls",
            "_model_module_version": "1.5.0",
            "_view_count": null,
            "_view_module_version": "1.5.0",
            "box_style": "",
            "layout": "IPY_MODEL_d77dd37b636f4783b95b6537d8d4894e",
            "_model_module": "@jupyter-widgets/controls",
            "children": [
              "IPY_MODEL_b08e4c16c4a54d3dafdb3d8600790f79",
              "IPY_MODEL_655d33db040f4d3cb9e456e4d2d8e3db",
              "IPY_MODEL_371907ecea7246e2934c661e98055686",
              "IPY_MODEL_379aa4cd65b445bf9ff515db85cf3f1d",
              "IPY_MODEL_e0ddf72b3bf649ab9a39541e23b1c9f6"
            ]
          }
        },
        "d77dd37b636f4783b95b6537d8d4894e": {
          "model_module": "@jupyter-widgets/base",
          "model_name": "LayoutModel",
          "model_module_version": "1.2.0",
          "state": {
            "_view_name": "LayoutView",
            "grid_template_rows": null,
            "right": null,
            "justify_content": null,
            "_view_module": "@jupyter-widgets/base",
            "overflow": null,
            "_model_module_version": "1.2.0",
            "_view_count": null,
            "flex_flow": "column",
            "width": "50%",
            "min_width": null,
            "border": null,
            "align_items": "center",
            "bottom": null,
            "_model_module": "@jupyter-widgets/base",
            "top": null,
            "grid_column": null,
            "overflow_y": null,
            "overflow_x": null,
            "grid_auto_flow": null,
            "grid_area": null,
            "grid_template_columns": null,
            "flex": null,
            "_model_name": "LayoutModel",
            "justify_items": null,
            "grid_row": null,
            "max_height": null,
            "align_content": null,
            "visibility": null,
            "align_self": null,
            "height": null,
            "min_height": null,
            "padding": null,
            "grid_auto_rows": null,
            "grid_gap": null,
            "max_width": null,
            "order": null,
            "_view_module_version": "1.2.0",
            "grid_template_areas": null,
            "object_position": null,
            "object_fit": null,
            "grid_auto_columns": null,
            "margin": null,
            "display": "flex",
            "left": null
          }
        },
        "b08e4c16c4a54d3dafdb3d8600790f79": {
          "model_module": "@jupyter-widgets/controls",
          "model_name": "HTMLModel",
          "model_module_version": "1.5.0",
          "state": {
            "_view_name": "HTMLView",
            "style": "IPY_MODEL_313a41a947dc4d3d86ff7f5d4e89f5d6",
            "_dom_classes": [],
            "description": "",
            "_model_name": "HTMLModel",
            "placeholder": "​",
            "_view_module": "@jupyter-widgets/controls",
            "_model_module_version": "1.5.0",
            "value": "<center>\n<img src=https://huggingface.co/front/assets/huggingface_logo-noborder.svg alt='Hugging Face'>\n<br>\nCopy a token from <a href=\"https://huggingface.co/settings/token\" target=\"_blank\">your Hugging Face tokens page</a> and paste it below.\n<br>\nImmediately click login after copying your token or it might be stored in plain text in this notebook file.\n</center>",
            "_view_count": null,
            "_view_module_version": "1.5.0",
            "description_tooltip": null,
            "_model_module": "@jupyter-widgets/controls",
            "layout": "IPY_MODEL_5cefdf99e20040aeafa856c6aa902edf"
          }
        },
        "655d33db040f4d3cb9e456e4d2d8e3db": {
          "model_module": "@jupyter-widgets/controls",
          "model_name": "PasswordModel",
          "model_module_version": "1.5.0",
          "state": {
            "_view_name": "PasswordView",
            "style": "IPY_MODEL_b9e50d3799ee44e7bd1b7be9705ac042",
            "_dom_classes": [],
            "description": "Token:",
            "_model_name": "PasswordModel",
            "placeholder": "​",
            "_view_module": "@jupyter-widgets/controls",
            "_model_module_version": "1.5.0",
            "value": "",
            "_view_count": null,
            "disabled": false,
            "_view_module_version": "1.5.0",
            "continuous_update": true,
            "description_tooltip": null,
            "_model_module": "@jupyter-widgets/controls",
            "layout": "IPY_MODEL_ac5f844a04434e46bf2985c577b9cb9c"
          }
        },
        "371907ecea7246e2934c661e98055686": {
          "model_module": "@jupyter-widgets/controls",
          "model_name": "ButtonModel",
          "model_module_version": "1.5.0",
          "state": {
            "_view_name": "ButtonView",
            "style": "IPY_MODEL_34bd900b5ffe4460b7665d2bde94ffe5",
            "_dom_classes": [],
            "description": "Login",
            "_model_name": "ButtonModel",
            "button_style": "",
            "_view_module": "@jupyter-widgets/controls",
            "_model_module_version": "1.5.0",
            "tooltip": "",
            "_view_count": null,
            "disabled": false,
            "_view_module_version": "1.5.0",
            "layout": "IPY_MODEL_3a6add3b73464e539a8234162785c167",
            "_model_module": "@jupyter-widgets/controls",
            "icon": ""
          }
        },
        "379aa4cd65b445bf9ff515db85cf3f1d": {
          "model_module": "@jupyter-widgets/controls",
          "model_name": "HTMLModel",
          "model_module_version": "1.5.0",
          "state": {
            "_view_name": "HTMLView",
            "style": "IPY_MODEL_1404882a362d400eb75d1b8fbd46a8c9",
            "_dom_classes": [],
            "description": "",
            "_model_name": "HTMLModel",
            "placeholder": "​",
            "_view_module": "@jupyter-widgets/controls",
            "_model_module_version": "1.5.0",
            "value": "\n<b>Pro Tip:</b> If you don't already have one, you can create a dedicated 'notebooks' token with 'write' access, that you can then easily reuse for all notebooks.\n<br>\n<i>Logging in with your username and password is deprecated and won't be possible anymore in the near future. You can still use them for now by clicking below.</i>\n</center>",
            "_view_count": null,
            "_view_module_version": "1.5.0",
            "description_tooltip": null,
            "_model_module": "@jupyter-widgets/controls",
            "layout": "IPY_MODEL_36b339d43e4b4a329ca5847aad396995"
          }
        },
        "e0ddf72b3bf649ab9a39541e23b1c9f6": {
          "model_module": "@jupyter-widgets/controls",
          "model_name": "ButtonModel",
          "model_module_version": "1.5.0",
          "state": {
            "_view_name": "ButtonView",
            "style": "IPY_MODEL_81304f8552ad4017b7a1455d9bcf94a0",
            "_dom_classes": [],
            "description": "Use password",
            "_model_name": "ButtonModel",
            "button_style": "",
            "_view_module": "@jupyter-widgets/controls",
            "_model_module_version": "1.5.0",
            "tooltip": "",
            "_view_count": null,
            "disabled": false,
            "_view_module_version": "1.5.0",
            "layout": "IPY_MODEL_37f9d57c745d4d45afc5e44a6065c831",
            "_model_module": "@jupyter-widgets/controls",
            "icon": ""
          }
        },
        "313a41a947dc4d3d86ff7f5d4e89f5d6": {
          "model_module": "@jupyter-widgets/controls",
          "model_name": "DescriptionStyleModel",
          "model_module_version": "1.5.0",
          "state": {
            "_view_name": "StyleView",
            "_model_name": "DescriptionStyleModel",
            "description_width": "",
            "_view_module": "@jupyter-widgets/base",
            "_model_module_version": "1.5.0",
            "_view_count": null,
            "_view_module_version": "1.2.0",
            "_model_module": "@jupyter-widgets/controls"
          }
        },
        "5cefdf99e20040aeafa856c6aa902edf": {
          "model_module": "@jupyter-widgets/base",
          "model_name": "LayoutModel",
          "model_module_version": "1.2.0",
          "state": {
            "_view_name": "LayoutView",
            "grid_template_rows": null,
            "right": null,
            "justify_content": null,
            "_view_module": "@jupyter-widgets/base",
            "overflow": null,
            "_model_module_version": "1.2.0",
            "_view_count": null,
            "flex_flow": null,
            "width": null,
            "min_width": null,
            "border": null,
            "align_items": null,
            "bottom": null,
            "_model_module": "@jupyter-widgets/base",
            "top": null,
            "grid_column": null,
            "overflow_y": null,
            "overflow_x": null,
            "grid_auto_flow": null,
            "grid_area": null,
            "grid_template_columns": null,
            "flex": null,
            "_model_name": "LayoutModel",
            "justify_items": null,
            "grid_row": null,
            "max_height": null,
            "align_content": null,
            "visibility": null,
            "align_self": null,
            "height": null,
            "min_height": null,
            "padding": null,
            "grid_auto_rows": null,
            "grid_gap": null,
            "max_width": null,
            "order": null,
            "_view_module_version": "1.2.0",
            "grid_template_areas": null,
            "object_position": null,
            "object_fit": null,
            "grid_auto_columns": null,
            "margin": null,
            "display": null,
            "left": null
          }
        },
        "b9e50d3799ee44e7bd1b7be9705ac042": {
          "model_module": "@jupyter-widgets/controls",
          "model_name": "DescriptionStyleModel",
          "model_module_version": "1.5.0",
          "state": {
            "_view_name": "StyleView",
            "_model_name": "DescriptionStyleModel",
            "description_width": "",
            "_view_module": "@jupyter-widgets/base",
            "_model_module_version": "1.5.0",
            "_view_count": null,
            "_view_module_version": "1.2.0",
            "_model_module": "@jupyter-widgets/controls"
          }
        },
        "ac5f844a04434e46bf2985c577b9cb9c": {
          "model_module": "@jupyter-widgets/base",
          "model_name": "LayoutModel",
          "model_module_version": "1.2.0",
          "state": {
            "_view_name": "LayoutView",
            "grid_template_rows": null,
            "right": null,
            "justify_content": null,
            "_view_module": "@jupyter-widgets/base",
            "overflow": null,
            "_model_module_version": "1.2.0",
            "_view_count": null,
            "flex_flow": null,
            "width": null,
            "min_width": null,
            "border": null,
            "align_items": null,
            "bottom": null,
            "_model_module": "@jupyter-widgets/base",
            "top": null,
            "grid_column": null,
            "overflow_y": null,
            "overflow_x": null,
            "grid_auto_flow": null,
            "grid_area": null,
            "grid_template_columns": null,
            "flex": null,
            "_model_name": "LayoutModel",
            "justify_items": null,
            "grid_row": null,
            "max_height": null,
            "align_content": null,
            "visibility": null,
            "align_self": null,
            "height": null,
            "min_height": null,
            "padding": null,
            "grid_auto_rows": null,
            "grid_gap": null,
            "max_width": null,
            "order": null,
            "_view_module_version": "1.2.0",
            "grid_template_areas": null,
            "object_position": null,
            "object_fit": null,
            "grid_auto_columns": null,
            "margin": null,
            "display": null,
            "left": null
          }
        },
        "34bd900b5ffe4460b7665d2bde94ffe5": {
          "model_module": "@jupyter-widgets/controls",
          "model_name": "ButtonStyleModel",
          "model_module_version": "1.5.0",
          "state": {
            "_view_name": "StyleView",
            "_model_name": "ButtonStyleModel",
            "_view_module": "@jupyter-widgets/base",
            "_model_module_version": "1.5.0",
            "_view_count": null,
            "button_color": null,
            "font_weight": "",
            "_view_module_version": "1.2.0",
            "_model_module": "@jupyter-widgets/controls"
          }
        },
        "3a6add3b73464e539a8234162785c167": {
          "model_module": "@jupyter-widgets/base",
          "model_name": "LayoutModel",
          "model_module_version": "1.2.0",
          "state": {
            "_view_name": "LayoutView",
            "grid_template_rows": null,
            "right": null,
            "justify_content": null,
            "_view_module": "@jupyter-widgets/base",
            "overflow": null,
            "_model_module_version": "1.2.0",
            "_view_count": null,
            "flex_flow": null,
            "width": null,
            "min_width": null,
            "border": null,
            "align_items": null,
            "bottom": null,
            "_model_module": "@jupyter-widgets/base",
            "top": null,
            "grid_column": null,
            "overflow_y": null,
            "overflow_x": null,
            "grid_auto_flow": null,
            "grid_area": null,
            "grid_template_columns": null,
            "flex": null,
            "_model_name": "LayoutModel",
            "justify_items": null,
            "grid_row": null,
            "max_height": null,
            "align_content": null,
            "visibility": null,
            "align_self": null,
            "height": null,
            "min_height": null,
            "padding": null,
            "grid_auto_rows": null,
            "grid_gap": null,
            "max_width": null,
            "order": null,
            "_view_module_version": "1.2.0",
            "grid_template_areas": null,
            "object_position": null,
            "object_fit": null,
            "grid_auto_columns": null,
            "margin": null,
            "display": null,
            "left": null
          }
        },
        "1404882a362d400eb75d1b8fbd46a8c9": {
          "model_module": "@jupyter-widgets/controls",
          "model_name": "DescriptionStyleModel",
          "model_module_version": "1.5.0",
          "state": {
            "_view_name": "StyleView",
            "_model_name": "DescriptionStyleModel",
            "description_width": "",
            "_view_module": "@jupyter-widgets/base",
            "_model_module_version": "1.5.0",
            "_view_count": null,
            "_view_module_version": "1.2.0",
            "_model_module": "@jupyter-widgets/controls"
          }
        },
        "36b339d43e4b4a329ca5847aad396995": {
          "model_module": "@jupyter-widgets/base",
          "model_name": "LayoutModel",
          "model_module_version": "1.2.0",
          "state": {
            "_view_name": "LayoutView",
            "grid_template_rows": null,
            "right": null,
            "justify_content": null,
            "_view_module": "@jupyter-widgets/base",
            "overflow": null,
            "_model_module_version": "1.2.0",
            "_view_count": null,
            "flex_flow": null,
            "width": null,
            "min_width": null,
            "border": null,
            "align_items": null,
            "bottom": null,
            "_model_module": "@jupyter-widgets/base",
            "top": null,
            "grid_column": null,
            "overflow_y": null,
            "overflow_x": null,
            "grid_auto_flow": null,
            "grid_area": null,
            "grid_template_columns": null,
            "flex": null,
            "_model_name": "LayoutModel",
            "justify_items": null,
            "grid_row": null,
            "max_height": null,
            "align_content": null,
            "visibility": null,
            "align_self": null,
            "height": null,
            "min_height": null,
            "padding": null,
            "grid_auto_rows": null,
            "grid_gap": null,
            "max_width": null,
            "order": null,
            "_view_module_version": "1.2.0",
            "grid_template_areas": null,
            "object_position": null,
            "object_fit": null,
            "grid_auto_columns": null,
            "margin": null,
            "display": null,
            "left": null
          }
        },
        "81304f8552ad4017b7a1455d9bcf94a0": {
          "model_module": "@jupyter-widgets/controls",
          "model_name": "ButtonStyleModel",
          "model_module_version": "1.5.0",
          "state": {
            "_view_name": "StyleView",
            "_model_name": "ButtonStyleModel",
            "_view_module": "@jupyter-widgets/base",
            "_model_module_version": "1.5.0",
            "_view_count": null,
            "button_color": null,
            "font_weight": "",
            "_view_module_version": "1.2.0",
            "_model_module": "@jupyter-widgets/controls"
          }
        },
        "37f9d57c745d4d45afc5e44a6065c831": {
          "model_module": "@jupyter-widgets/base",
          "model_name": "LayoutModel",
          "model_module_version": "1.2.0",
          "state": {
            "_view_name": "LayoutView",
            "grid_template_rows": null,
            "right": null,
            "justify_content": null,
            "_view_module": "@jupyter-widgets/base",
            "overflow": null,
            "_model_module_version": "1.2.0",
            "_view_count": null,
            "flex_flow": null,
            "width": null,
            "min_width": null,
            "border": null,
            "align_items": null,
            "bottom": null,
            "_model_module": "@jupyter-widgets/base",
            "top": null,
            "grid_column": null,
            "overflow_y": null,
            "overflow_x": null,
            "grid_auto_flow": null,
            "grid_area": null,
            "grid_template_columns": null,
            "flex": null,
            "_model_name": "LayoutModel",
            "justify_items": null,
            "grid_row": null,
            "max_height": null,
            "align_content": null,
            "visibility": null,
            "align_self": null,
            "height": null,
            "min_height": null,
            "padding": null,
            "grid_auto_rows": null,
            "grid_gap": null,
            "max_width": null,
            "order": null,
            "_view_module_version": "1.2.0",
            "grid_template_areas": null,
            "object_position": null,
            "object_fit": null,
            "grid_auto_columns": null,
            "margin": null,
            "display": null,
            "left": null
          }
        },
        "96f376c685c64d8e98339400cb48863e": {
          "model_module": "@jupyter-widgets/controls",
          "model_name": "HBoxModel",
          "model_module_version": "1.5.0",
          "state": {
            "_dom_classes": [],
            "_model_module": "@jupyter-widgets/controls",
            "_model_module_version": "1.5.0",
            "_model_name": "HBoxModel",
            "_view_count": null,
            "_view_module": "@jupyter-widgets/controls",
            "_view_module_version": "1.5.0",
            "_view_name": "HBoxView",
            "box_style": "",
            "children": [
              "IPY_MODEL_c3d87748d1404cf9ade042e3a761f05a",
              "IPY_MODEL_e1e314c10d7f4793b1e7a0b732a2e6a8",
              "IPY_MODEL_74f1d773c7f04c64bf8624ae4d9e5a7d"
            ],
            "layout": "IPY_MODEL_9b0852846c7d4ad7bd734d50ee3cbfbd"
          }
        },
        "c3d87748d1404cf9ade042e3a761f05a": {
          "model_module": "@jupyter-widgets/controls",
          "model_name": "HTMLModel",
          "model_module_version": "1.5.0",
          "state": {
            "_dom_classes": [],
            "_model_module": "@jupyter-widgets/controls",
            "_model_module_version": "1.5.0",
            "_model_name": "HTMLModel",
            "_view_count": null,
            "_view_module": "@jupyter-widgets/controls",
            "_view_module_version": "1.5.0",
            "_view_name": "HTMLView",
            "description": "",
            "description_tooltip": null,
            "layout": "IPY_MODEL_c7a932912ca643eeb8c56b26533e82aa",
            "placeholder": "​",
            "style": "IPY_MODEL_718fc7dd86b847a78b522872bc04ec16",
            "value": "Downloading: 100%"
          }
        },
        "e1e314c10d7f4793b1e7a0b732a2e6a8": {
          "model_module": "@jupyter-widgets/controls",
          "model_name": "FloatProgressModel",
          "model_module_version": "1.5.0",
          "state": {
            "_dom_classes": [],
            "_model_module": "@jupyter-widgets/controls",
            "_model_module_version": "1.5.0",
            "_model_name": "FloatProgressModel",
            "_view_count": null,
            "_view_module": "@jupyter-widgets/controls",
            "_view_module_version": "1.5.0",
            "_view_name": "ProgressView",
            "bar_style": "success",
            "description": "",
            "description_tooltip": null,
            "layout": "IPY_MODEL_b4e3403e9d33487596531b247cb48bb3",
            "max": 263,
            "min": 0,
            "orientation": "horizontal",
            "style": "IPY_MODEL_328f0c4b85924fa3bb02da9b2309ce91",
            "value": 263
          }
        },
        "74f1d773c7f04c64bf8624ae4d9e5a7d": {
          "model_module": "@jupyter-widgets/controls",
          "model_name": "HTMLModel",
          "model_module_version": "1.5.0",
          "state": {
            "_dom_classes": [],
            "_model_module": "@jupyter-widgets/controls",
            "_model_module_version": "1.5.0",
            "_model_name": "HTMLModel",
            "_view_count": null,
            "_view_module": "@jupyter-widgets/controls",
            "_view_module_version": "1.5.0",
            "_view_name": "HTMLView",
            "description": "",
            "description_tooltip": null,
            "layout": "IPY_MODEL_99138bf4facc4f74a5a0d49c895747ea",
            "placeholder": "​",
            "style": "IPY_MODEL_945f7c38b28542a5994f1ffdf1829e0f",
            "value": " 263/263 [00:00&lt;00:00, 2.35kB/s]"
          }
        },
        "9b0852846c7d4ad7bd734d50ee3cbfbd": {
          "model_module": "@jupyter-widgets/base",
          "model_name": "LayoutModel",
          "model_module_version": "1.2.0",
          "state": {
            "_model_module": "@jupyter-widgets/base",
            "_model_module_version": "1.2.0",
            "_model_name": "LayoutModel",
            "_view_count": null,
            "_view_module": "@jupyter-widgets/base",
            "_view_module_version": "1.2.0",
            "_view_name": "LayoutView",
            "align_content": null,
            "align_items": null,
            "align_self": null,
            "border": null,
            "bottom": null,
            "display": null,
            "flex": null,
            "flex_flow": null,
            "grid_area": null,
            "grid_auto_columns": null,
            "grid_auto_flow": null,
            "grid_auto_rows": null,
            "grid_column": null,
            "grid_gap": null,
            "grid_row": null,
            "grid_template_areas": null,
            "grid_template_columns": null,
            "grid_template_rows": null,
            "height": null,
            "justify_content": null,
            "justify_items": null,
            "left": null,
            "margin": null,
            "max_height": null,
            "max_width": null,
            "min_height": null,
            "min_width": null,
            "object_fit": null,
            "object_position": null,
            "order": null,
            "overflow": null,
            "overflow_x": null,
            "overflow_y": null,
            "padding": null,
            "right": null,
            "top": null,
            "visibility": null,
            "width": null
          }
        },
        "c7a932912ca643eeb8c56b26533e82aa": {
          "model_module": "@jupyter-widgets/base",
          "model_name": "LayoutModel",
          "model_module_version": "1.2.0",
          "state": {
            "_model_module": "@jupyter-widgets/base",
            "_model_module_version": "1.2.0",
            "_model_name": "LayoutModel",
            "_view_count": null,
            "_view_module": "@jupyter-widgets/base",
            "_view_module_version": "1.2.0",
            "_view_name": "LayoutView",
            "align_content": null,
            "align_items": null,
            "align_self": null,
            "border": null,
            "bottom": null,
            "display": null,
            "flex": null,
            "flex_flow": null,
            "grid_area": null,
            "grid_auto_columns": null,
            "grid_auto_flow": null,
            "grid_auto_rows": null,
            "grid_column": null,
            "grid_gap": null,
            "grid_row": null,
            "grid_template_areas": null,
            "grid_template_columns": null,
            "grid_template_rows": null,
            "height": null,
            "justify_content": null,
            "justify_items": null,
            "left": null,
            "margin": null,
            "max_height": null,
            "max_width": null,
            "min_height": null,
            "min_width": null,
            "object_fit": null,
            "object_position": null,
            "order": null,
            "overflow": null,
            "overflow_x": null,
            "overflow_y": null,
            "padding": null,
            "right": null,
            "top": null,
            "visibility": null,
            "width": null
          }
        },
        "718fc7dd86b847a78b522872bc04ec16": {
          "model_module": "@jupyter-widgets/controls",
          "model_name": "DescriptionStyleModel",
          "model_module_version": "1.5.0",
          "state": {
            "_model_module": "@jupyter-widgets/controls",
            "_model_module_version": "1.5.0",
            "_model_name": "DescriptionStyleModel",
            "_view_count": null,
            "_view_module": "@jupyter-widgets/base",
            "_view_module_version": "1.2.0",
            "_view_name": "StyleView",
            "description_width": ""
          }
        },
        "b4e3403e9d33487596531b247cb48bb3": {
          "model_module": "@jupyter-widgets/base",
          "model_name": "LayoutModel",
          "model_module_version": "1.2.0",
          "state": {
            "_model_module": "@jupyter-widgets/base",
            "_model_module_version": "1.2.0",
            "_model_name": "LayoutModel",
            "_view_count": null,
            "_view_module": "@jupyter-widgets/base",
            "_view_module_version": "1.2.0",
            "_view_name": "LayoutView",
            "align_content": null,
            "align_items": null,
            "align_self": null,
            "border": null,
            "bottom": null,
            "display": null,
            "flex": null,
            "flex_flow": null,
            "grid_area": null,
            "grid_auto_columns": null,
            "grid_auto_flow": null,
            "grid_auto_rows": null,
            "grid_column": null,
            "grid_gap": null,
            "grid_row": null,
            "grid_template_areas": null,
            "grid_template_columns": null,
            "grid_template_rows": null,
            "height": null,
            "justify_content": null,
            "justify_items": null,
            "left": null,
            "margin": null,
            "max_height": null,
            "max_width": null,
            "min_height": null,
            "min_width": null,
            "object_fit": null,
            "object_position": null,
            "order": null,
            "overflow": null,
            "overflow_x": null,
            "overflow_y": null,
            "padding": null,
            "right": null,
            "top": null,
            "visibility": null,
            "width": null
          }
        },
        "328f0c4b85924fa3bb02da9b2309ce91": {
          "model_module": "@jupyter-widgets/controls",
          "model_name": "ProgressStyleModel",
          "model_module_version": "1.5.0",
          "state": {
            "_model_module": "@jupyter-widgets/controls",
            "_model_module_version": "1.5.0",
            "_model_name": "ProgressStyleModel",
            "_view_count": null,
            "_view_module": "@jupyter-widgets/base",
            "_view_module_version": "1.2.0",
            "_view_name": "StyleView",
            "bar_color": null,
            "description_width": ""
          }
        },
        "99138bf4facc4f74a5a0d49c895747ea": {
          "model_module": "@jupyter-widgets/base",
          "model_name": "LayoutModel",
          "model_module_version": "1.2.0",
          "state": {
            "_model_module": "@jupyter-widgets/base",
            "_model_module_version": "1.2.0",
            "_model_name": "LayoutModel",
            "_view_count": null,
            "_view_module": "@jupyter-widgets/base",
            "_view_module_version": "1.2.0",
            "_view_name": "LayoutView",
            "align_content": null,
            "align_items": null,
            "align_self": null,
            "border": null,
            "bottom": null,
            "display": null,
            "flex": null,
            "flex_flow": null,
            "grid_area": null,
            "grid_auto_columns": null,
            "grid_auto_flow": null,
            "grid_auto_rows": null,
            "grid_column": null,
            "grid_gap": null,
            "grid_row": null,
            "grid_template_areas": null,
            "grid_template_columns": null,
            "grid_template_rows": null,
            "height": null,
            "justify_content": null,
            "justify_items": null,
            "left": null,
            "margin": null,
            "max_height": null,
            "max_width": null,
            "min_height": null,
            "min_width": null,
            "object_fit": null,
            "object_position": null,
            "order": null,
            "overflow": null,
            "overflow_x": null,
            "overflow_y": null,
            "padding": null,
            "right": null,
            "top": null,
            "visibility": null,
            "width": null
          }
        },
        "945f7c38b28542a5994f1ffdf1829e0f": {
          "model_module": "@jupyter-widgets/controls",
          "model_name": "DescriptionStyleModel",
          "model_module_version": "1.5.0",
          "state": {
            "_model_module": "@jupyter-widgets/controls",
            "_model_module_version": "1.5.0",
            "_model_name": "DescriptionStyleModel",
            "_view_count": null,
            "_view_module": "@jupyter-widgets/base",
            "_view_module_version": "1.2.0",
            "_view_name": "StyleView",
            "description_width": ""
          }
        },
        "e4b6451778094174a53313d6ff4d39b6": {
          "model_module": "@jupyter-widgets/controls",
          "model_name": "HBoxModel",
          "model_module_version": "1.5.0",
          "state": {
            "_dom_classes": [],
            "_model_module": "@jupyter-widgets/controls",
            "_model_module_version": "1.5.0",
            "_model_name": "HBoxModel",
            "_view_count": null,
            "_view_module": "@jupyter-widgets/controls",
            "_view_module_version": "1.5.0",
            "_view_name": "HBoxView",
            "box_style": "",
            "children": [
              "IPY_MODEL_010cdfa4f9ae4980828656d64207185d",
              "IPY_MODEL_e1e2bc27655b49759bd66c5ec129757d",
              "IPY_MODEL_6eca73d6a640428682c9a04f8f7bcaa2"
            ],
            "layout": "IPY_MODEL_372d784034624673b4d97d0ea5907102"
          }
        },
        "010cdfa4f9ae4980828656d64207185d": {
          "model_module": "@jupyter-widgets/controls",
          "model_name": "HTMLModel",
          "model_module_version": "1.5.0",
          "state": {
            "_dom_classes": [],
            "_model_module": "@jupyter-widgets/controls",
            "_model_module_version": "1.5.0",
            "_model_name": "HTMLModel",
            "_view_count": null,
            "_view_module": "@jupyter-widgets/controls",
            "_view_module_version": "1.5.0",
            "_view_name": "HTMLView",
            "description": "",
            "description_tooltip": null,
            "layout": "IPY_MODEL_a7ea1b13443b4cdb82481930bd0f319c",
            "placeholder": "​",
            "style": "IPY_MODEL_f8b38a4dfe684dd7863cf1c5486d806c",
            "value": "Downloading: 100%"
          }
        },
        "e1e2bc27655b49759bd66c5ec129757d": {
          "model_module": "@jupyter-widgets/controls",
          "model_name": "FloatProgressModel",
          "model_module_version": "1.5.0",
          "state": {
            "_dom_classes": [],
            "_model_module": "@jupyter-widgets/controls",
            "_model_module_version": "1.5.0",
            "_model_name": "FloatProgressModel",
            "_view_count": null,
            "_view_module": "@jupyter-widgets/controls",
            "_view_module_version": "1.5.0",
            "_view_name": "ProgressView",
            "bar_style": "success",
            "description": "",
            "description_tooltip": null,
            "layout": "IPY_MODEL_d529526b8a984edf8e8ce5ca36b9f9f2",
            "max": 291,
            "min": 0,
            "orientation": "horizontal",
            "style": "IPY_MODEL_ab6475fb9aef4556a7eee2a0ae721a20",
            "value": 291
          }
        },
        "6eca73d6a640428682c9a04f8f7bcaa2": {
          "model_module": "@jupyter-widgets/controls",
          "model_name": "HTMLModel",
          "model_module_version": "1.5.0",
          "state": {
            "_dom_classes": [],
            "_model_module": "@jupyter-widgets/controls",
            "_model_module_version": "1.5.0",
            "_model_name": "HTMLModel",
            "_view_count": null,
            "_view_module": "@jupyter-widgets/controls",
            "_view_module_version": "1.5.0",
            "_view_name": "HTMLView",
            "description": "",
            "description_tooltip": null,
            "layout": "IPY_MODEL_edac4976ba7c40c5937ec603a9ffe83b",
            "placeholder": "​",
            "style": "IPY_MODEL_df493c247f7043a1a9eca22a8b6cd0e4",
            "value": " 291/291 [00:00&lt;00:00, 2.05kB/s]"
          }
        },
        "372d784034624673b4d97d0ea5907102": {
          "model_module": "@jupyter-widgets/base",
          "model_name": "LayoutModel",
          "model_module_version": "1.2.0",
          "state": {
            "_model_module": "@jupyter-widgets/base",
            "_model_module_version": "1.2.0",
            "_model_name": "LayoutModel",
            "_view_count": null,
            "_view_module": "@jupyter-widgets/base",
            "_view_module_version": "1.2.0",
            "_view_name": "LayoutView",
            "align_content": null,
            "align_items": null,
            "align_self": null,
            "border": null,
            "bottom": null,
            "display": null,
            "flex": null,
            "flex_flow": null,
            "grid_area": null,
            "grid_auto_columns": null,
            "grid_auto_flow": null,
            "grid_auto_rows": null,
            "grid_column": null,
            "grid_gap": null,
            "grid_row": null,
            "grid_template_areas": null,
            "grid_template_columns": null,
            "grid_template_rows": null,
            "height": null,
            "justify_content": null,
            "justify_items": null,
            "left": null,
            "margin": null,
            "max_height": null,
            "max_width": null,
            "min_height": null,
            "min_width": null,
            "object_fit": null,
            "object_position": null,
            "order": null,
            "overflow": null,
            "overflow_x": null,
            "overflow_y": null,
            "padding": null,
            "right": null,
            "top": null,
            "visibility": null,
            "width": null
          }
        },
        "a7ea1b13443b4cdb82481930bd0f319c": {
          "model_module": "@jupyter-widgets/base",
          "model_name": "LayoutModel",
          "model_module_version": "1.2.0",
          "state": {
            "_model_module": "@jupyter-widgets/base",
            "_model_module_version": "1.2.0",
            "_model_name": "LayoutModel",
            "_view_count": null,
            "_view_module": "@jupyter-widgets/base",
            "_view_module_version": "1.2.0",
            "_view_name": "LayoutView",
            "align_content": null,
            "align_items": null,
            "align_self": null,
            "border": null,
            "bottom": null,
            "display": null,
            "flex": null,
            "flex_flow": null,
            "grid_area": null,
            "grid_auto_columns": null,
            "grid_auto_flow": null,
            "grid_auto_rows": null,
            "grid_column": null,
            "grid_gap": null,
            "grid_row": null,
            "grid_template_areas": null,
            "grid_template_columns": null,
            "grid_template_rows": null,
            "height": null,
            "justify_content": null,
            "justify_items": null,
            "left": null,
            "margin": null,
            "max_height": null,
            "max_width": null,
            "min_height": null,
            "min_width": null,
            "object_fit": null,
            "object_position": null,
            "order": null,
            "overflow": null,
            "overflow_x": null,
            "overflow_y": null,
            "padding": null,
            "right": null,
            "top": null,
            "visibility": null,
            "width": null
          }
        },
        "f8b38a4dfe684dd7863cf1c5486d806c": {
          "model_module": "@jupyter-widgets/controls",
          "model_name": "DescriptionStyleModel",
          "model_module_version": "1.5.0",
          "state": {
            "_model_module": "@jupyter-widgets/controls",
            "_model_module_version": "1.5.0",
            "_model_name": "DescriptionStyleModel",
            "_view_count": null,
            "_view_module": "@jupyter-widgets/base",
            "_view_module_version": "1.2.0",
            "_view_name": "StyleView",
            "description_width": ""
          }
        },
        "d529526b8a984edf8e8ce5ca36b9f9f2": {
          "model_module": "@jupyter-widgets/base",
          "model_name": "LayoutModel",
          "model_module_version": "1.2.0",
          "state": {
            "_model_module": "@jupyter-widgets/base",
            "_model_module_version": "1.2.0",
            "_model_name": "LayoutModel",
            "_view_count": null,
            "_view_module": "@jupyter-widgets/base",
            "_view_module_version": "1.2.0",
            "_view_name": "LayoutView",
            "align_content": null,
            "align_items": null,
            "align_self": null,
            "border": null,
            "bottom": null,
            "display": null,
            "flex": null,
            "flex_flow": null,
            "grid_area": null,
            "grid_auto_columns": null,
            "grid_auto_flow": null,
            "grid_auto_rows": null,
            "grid_column": null,
            "grid_gap": null,
            "grid_row": null,
            "grid_template_areas": null,
            "grid_template_columns": null,
            "grid_template_rows": null,
            "height": null,
            "justify_content": null,
            "justify_items": null,
            "left": null,
            "margin": null,
            "max_height": null,
            "max_width": null,
            "min_height": null,
            "min_width": null,
            "object_fit": null,
            "object_position": null,
            "order": null,
            "overflow": null,
            "overflow_x": null,
            "overflow_y": null,
            "padding": null,
            "right": null,
            "top": null,
            "visibility": null,
            "width": null
          }
        },
        "ab6475fb9aef4556a7eee2a0ae721a20": {
          "model_module": "@jupyter-widgets/controls",
          "model_name": "ProgressStyleModel",
          "model_module_version": "1.5.0",
          "state": {
            "_model_module": "@jupyter-widgets/controls",
            "_model_module_version": "1.5.0",
            "_model_name": "ProgressStyleModel",
            "_view_count": null,
            "_view_module": "@jupyter-widgets/base",
            "_view_module_version": "1.2.0",
            "_view_name": "StyleView",
            "bar_color": null,
            "description_width": ""
          }
        },
        "edac4976ba7c40c5937ec603a9ffe83b": {
          "model_module": "@jupyter-widgets/base",
          "model_name": "LayoutModel",
          "model_module_version": "1.2.0",
          "state": {
            "_model_module": "@jupyter-widgets/base",
            "_model_module_version": "1.2.0",
            "_model_name": "LayoutModel",
            "_view_count": null,
            "_view_module": "@jupyter-widgets/base",
            "_view_module_version": "1.2.0",
            "_view_name": "LayoutView",
            "align_content": null,
            "align_items": null,
            "align_self": null,
            "border": null,
            "bottom": null,
            "display": null,
            "flex": null,
            "flex_flow": null,
            "grid_area": null,
            "grid_auto_columns": null,
            "grid_auto_flow": null,
            "grid_auto_rows": null,
            "grid_column": null,
            "grid_gap": null,
            "grid_row": null,
            "grid_template_areas": null,
            "grid_template_columns": null,
            "grid_template_rows": null,
            "height": null,
            "justify_content": null,
            "justify_items": null,
            "left": null,
            "margin": null,
            "max_height": null,
            "max_width": null,
            "min_height": null,
            "min_width": null,
            "object_fit": null,
            "object_position": null,
            "order": null,
            "overflow": null,
            "overflow_x": null,
            "overflow_y": null,
            "padding": null,
            "right": null,
            "top": null,
            "visibility": null,
            "width": null
          }
        },
        "df493c247f7043a1a9eca22a8b6cd0e4": {
          "model_module": "@jupyter-widgets/controls",
          "model_name": "DescriptionStyleModel",
          "model_module_version": "1.5.0",
          "state": {
            "_model_module": "@jupyter-widgets/controls",
            "_model_module_version": "1.5.0",
            "_model_name": "DescriptionStyleModel",
            "_view_count": null,
            "_view_module": "@jupyter-widgets/base",
            "_view_module_version": "1.2.0",
            "_view_name": "StyleView",
            "description_width": ""
          }
        },
        "2b26ae98af2f4e5d82feece8e5234470": {
          "model_module": "@jupyter-widgets/controls",
          "model_name": "HBoxModel",
          "model_module_version": "1.5.0",
          "state": {
            "_dom_classes": [],
            "_model_module": "@jupyter-widgets/controls",
            "_model_module_version": "1.5.0",
            "_model_name": "HBoxModel",
            "_view_count": null,
            "_view_module": "@jupyter-widgets/controls",
            "_view_module_version": "1.5.0",
            "_view_name": "HBoxView",
            "box_style": "",
            "children": [
              "IPY_MODEL_1542d8fd4a8c416085bf9bae38122c3f",
              "IPY_MODEL_02cf6c8e3bdd4bd6a89da84845b94477",
              "IPY_MODEL_ec2398c26559439ab01f871bf8de8be4"
            ],
            "layout": "IPY_MODEL_d3f7990e70514eee89b2d3d9ca82207b"
          }
        },
        "1542d8fd4a8c416085bf9bae38122c3f": {
          "model_module": "@jupyter-widgets/controls",
          "model_name": "HTMLModel",
          "model_module_version": "1.5.0",
          "state": {
            "_dom_classes": [],
            "_model_module": "@jupyter-widgets/controls",
            "_model_module_version": "1.5.0",
            "_model_name": "HTMLModel",
            "_view_count": null,
            "_view_module": "@jupyter-widgets/controls",
            "_view_module_version": "1.5.0",
            "_view_name": "HTMLView",
            "description": "",
            "description_tooltip": null,
            "layout": "IPY_MODEL_ea1c2c55bc0d43238a013d5233d5109f",
            "placeholder": "​",
            "style": "IPY_MODEL_8ffca73d393c45879a5883217f0e21a0",
            "value": "Downloading: 100%"
          }
        },
        "02cf6c8e3bdd4bd6a89da84845b94477": {
          "model_module": "@jupyter-widgets/controls",
          "model_name": "FloatProgressModel",
          "model_module_version": "1.5.0",
          "state": {
            "_dom_classes": [],
            "_model_module": "@jupyter-widgets/controls",
            "_model_module_version": "1.5.0",
            "_model_name": "FloatProgressModel",
            "_view_count": null,
            "_view_module": "@jupyter-widgets/controls",
            "_view_module_version": "1.5.0",
            "_view_name": "ProgressView",
            "bar_style": "success",
            "description": "",
            "description_tooltip": null,
            "layout": "IPY_MODEL_55763327bc6d4e0e9d8b55f5d9b9905e",
            "max": 559,
            "min": 0,
            "orientation": "horizontal",
            "style": "IPY_MODEL_522851bc2aa44be9a749cae18d9b8813",
            "value": 559
          }
        },
        "ec2398c26559439ab01f871bf8de8be4": {
          "model_module": "@jupyter-widgets/controls",
          "model_name": "HTMLModel",
          "model_module_version": "1.5.0",
          "state": {
            "_dom_classes": [],
            "_model_module": "@jupyter-widgets/controls",
            "_model_module_version": "1.5.0",
            "_model_name": "HTMLModel",
            "_view_count": null,
            "_view_module": "@jupyter-widgets/controls",
            "_view_module_version": "1.5.0",
            "_view_name": "HTMLView",
            "description": "",
            "description_tooltip": null,
            "layout": "IPY_MODEL_a42ffec892364b8c817ce15ff74496de",
            "placeholder": "​",
            "style": "IPY_MODEL_2cc3c596d3cf4209922ef93c48572acb",
            "value": " 559/559 [00:00&lt;00:00, 5.52kB/s]"
          }
        },
        "d3f7990e70514eee89b2d3d9ca82207b": {
          "model_module": "@jupyter-widgets/base",
          "model_name": "LayoutModel",
          "model_module_version": "1.2.0",
          "state": {
            "_model_module": "@jupyter-widgets/base",
            "_model_module_version": "1.2.0",
            "_model_name": "LayoutModel",
            "_view_count": null,
            "_view_module": "@jupyter-widgets/base",
            "_view_module_version": "1.2.0",
            "_view_name": "LayoutView",
            "align_content": null,
            "align_items": null,
            "align_self": null,
            "border": null,
            "bottom": null,
            "display": null,
            "flex": null,
            "flex_flow": null,
            "grid_area": null,
            "grid_auto_columns": null,
            "grid_auto_flow": null,
            "grid_auto_rows": null,
            "grid_column": null,
            "grid_gap": null,
            "grid_row": null,
            "grid_template_areas": null,
            "grid_template_columns": null,
            "grid_template_rows": null,
            "height": null,
            "justify_content": null,
            "justify_items": null,
            "left": null,
            "margin": null,
            "max_height": null,
            "max_width": null,
            "min_height": null,
            "min_width": null,
            "object_fit": null,
            "object_position": null,
            "order": null,
            "overflow": null,
            "overflow_x": null,
            "overflow_y": null,
            "padding": null,
            "right": null,
            "top": null,
            "visibility": null,
            "width": null
          }
        },
        "ea1c2c55bc0d43238a013d5233d5109f": {
          "model_module": "@jupyter-widgets/base",
          "model_name": "LayoutModel",
          "model_module_version": "1.2.0",
          "state": {
            "_model_module": "@jupyter-widgets/base",
            "_model_module_version": "1.2.0",
            "_model_name": "LayoutModel",
            "_view_count": null,
            "_view_module": "@jupyter-widgets/base",
            "_view_module_version": "1.2.0",
            "_view_name": "LayoutView",
            "align_content": null,
            "align_items": null,
            "align_self": null,
            "border": null,
            "bottom": null,
            "display": null,
            "flex": null,
            "flex_flow": null,
            "grid_area": null,
            "grid_auto_columns": null,
            "grid_auto_flow": null,
            "grid_auto_rows": null,
            "grid_column": null,
            "grid_gap": null,
            "grid_row": null,
            "grid_template_areas": null,
            "grid_template_columns": null,
            "grid_template_rows": null,
            "height": null,
            "justify_content": null,
            "justify_items": null,
            "left": null,
            "margin": null,
            "max_height": null,
            "max_width": null,
            "min_height": null,
            "min_width": null,
            "object_fit": null,
            "object_position": null,
            "order": null,
            "overflow": null,
            "overflow_x": null,
            "overflow_y": null,
            "padding": null,
            "right": null,
            "top": null,
            "visibility": null,
            "width": null
          }
        },
        "8ffca73d393c45879a5883217f0e21a0": {
          "model_module": "@jupyter-widgets/controls",
          "model_name": "DescriptionStyleModel",
          "model_module_version": "1.5.0",
          "state": {
            "_model_module": "@jupyter-widgets/controls",
            "_model_module_version": "1.5.0",
            "_model_name": "DescriptionStyleModel",
            "_view_count": null,
            "_view_module": "@jupyter-widgets/base",
            "_view_module_version": "1.2.0",
            "_view_name": "StyleView",
            "description_width": ""
          }
        },
        "55763327bc6d4e0e9d8b55f5d9b9905e": {
          "model_module": "@jupyter-widgets/base",
          "model_name": "LayoutModel",
          "model_module_version": "1.2.0",
          "state": {
            "_model_module": "@jupyter-widgets/base",
            "_model_module_version": "1.2.0",
            "_model_name": "LayoutModel",
            "_view_count": null,
            "_view_module": "@jupyter-widgets/base",
            "_view_module_version": "1.2.0",
            "_view_name": "LayoutView",
            "align_content": null,
            "align_items": null,
            "align_self": null,
            "border": null,
            "bottom": null,
            "display": null,
            "flex": null,
            "flex_flow": null,
            "grid_area": null,
            "grid_auto_columns": null,
            "grid_auto_flow": null,
            "grid_auto_rows": null,
            "grid_column": null,
            "grid_gap": null,
            "grid_row": null,
            "grid_template_areas": null,
            "grid_template_columns": null,
            "grid_template_rows": null,
            "height": null,
            "justify_content": null,
            "justify_items": null,
            "left": null,
            "margin": null,
            "max_height": null,
            "max_width": null,
            "min_height": null,
            "min_width": null,
            "object_fit": null,
            "object_position": null,
            "order": null,
            "overflow": null,
            "overflow_x": null,
            "overflow_y": null,
            "padding": null,
            "right": null,
            "top": null,
            "visibility": null,
            "width": null
          }
        },
        "522851bc2aa44be9a749cae18d9b8813": {
          "model_module": "@jupyter-widgets/controls",
          "model_name": "ProgressStyleModel",
          "model_module_version": "1.5.0",
          "state": {
            "_model_module": "@jupyter-widgets/controls",
            "_model_module_version": "1.5.0",
            "_model_name": "ProgressStyleModel",
            "_view_count": null,
            "_view_module": "@jupyter-widgets/base",
            "_view_module_version": "1.2.0",
            "_view_name": "StyleView",
            "bar_color": null,
            "description_width": ""
          }
        },
        "a42ffec892364b8c817ce15ff74496de": {
          "model_module": "@jupyter-widgets/base",
          "model_name": "LayoutModel",
          "model_module_version": "1.2.0",
          "state": {
            "_model_module": "@jupyter-widgets/base",
            "_model_module_version": "1.2.0",
            "_model_name": "LayoutModel",
            "_view_count": null,
            "_view_module": "@jupyter-widgets/base",
            "_view_module_version": "1.2.0",
            "_view_name": "LayoutView",
            "align_content": null,
            "align_items": null,
            "align_self": null,
            "border": null,
            "bottom": null,
            "display": null,
            "flex": null,
            "flex_flow": null,
            "grid_area": null,
            "grid_auto_columns": null,
            "grid_auto_flow": null,
            "grid_auto_rows": null,
            "grid_column": null,
            "grid_gap": null,
            "grid_row": null,
            "grid_template_areas": null,
            "grid_template_columns": null,
            "grid_template_rows": null,
            "height": null,
            "justify_content": null,
            "justify_items": null,
            "left": null,
            "margin": null,
            "max_height": null,
            "max_width": null,
            "min_height": null,
            "min_width": null,
            "object_fit": null,
            "object_position": null,
            "order": null,
            "overflow": null,
            "overflow_x": null,
            "overflow_y": null,
            "padding": null,
            "right": null,
            "top": null,
            "visibility": null,
            "width": null
          }
        },
        "2cc3c596d3cf4209922ef93c48572acb": {
          "model_module": "@jupyter-widgets/controls",
          "model_name": "DescriptionStyleModel",
          "model_module_version": "1.5.0",
          "state": {
            "_model_module": "@jupyter-widgets/controls",
            "_model_module_version": "1.5.0",
            "_model_name": "DescriptionStyleModel",
            "_view_count": null,
            "_view_module": "@jupyter-widgets/base",
            "_view_module_version": "1.2.0",
            "_view_name": "StyleView",
            "description_width": ""
          }
        },
        "cad0cec9f90f44feb4d182cbaeb92756": {
          "model_module": "@jupyter-widgets/controls",
          "model_name": "HBoxModel",
          "model_module_version": "1.5.0",
          "state": {
            "_dom_classes": [],
            "_model_module": "@jupyter-widgets/controls",
            "_model_module_version": "1.5.0",
            "_model_name": "HBoxModel",
            "_view_count": null,
            "_view_module": "@jupyter-widgets/controls",
            "_view_module_version": "1.5.0",
            "_view_name": "HBoxView",
            "box_style": "",
            "children": [
              "IPY_MODEL_ba86e563d8ba474380422b2ec922cdd3",
              "IPY_MODEL_328d42d807c548dfbf5e953fd324e2ca",
              "IPY_MODEL_d392836f92d842f881c7e0d2e66e4864"
            ],
            "layout": "IPY_MODEL_639c04787d774ab180ac0d6a840cebdc"
          }
        },
        "ba86e563d8ba474380422b2ec922cdd3": {
          "model_module": "@jupyter-widgets/controls",
          "model_name": "HTMLModel",
          "model_module_version": "1.5.0",
          "state": {
            "_dom_classes": [],
            "_model_module": "@jupyter-widgets/controls",
            "_model_module_version": "1.5.0",
            "_model_name": "HTMLModel",
            "_view_count": null,
            "_view_module": "@jupyter-widgets/controls",
            "_view_module_version": "1.5.0",
            "_view_name": "HTMLView",
            "description": "",
            "description_tooltip": null,
            "layout": "IPY_MODEL_7872b74e2313463c8b7f61ec56114fcb",
            "placeholder": "​",
            "style": "IPY_MODEL_ee776a5c5be0419c85f03864797d3778",
            "value": "Downloading: 100%"
          }
        },
        "328d42d807c548dfbf5e953fd324e2ca": {
          "model_module": "@jupyter-widgets/controls",
          "model_name": "FloatProgressModel",
          "model_module_version": "1.5.0",
          "state": {
            "_dom_classes": [],
            "_model_module": "@jupyter-widgets/controls",
            "_model_module_version": "1.5.0",
            "_model_name": "FloatProgressModel",
            "_view_count": null,
            "_view_module": "@jupyter-widgets/controls",
            "_view_module_version": "1.5.0",
            "_view_name": "ProgressView",
            "bar_style": "success",
            "description": "",
            "description_tooltip": null,
            "layout": "IPY_MODEL_db88a7e261f74b22b60cb2f997cf5452",
            "max": 85,
            "min": 0,
            "orientation": "horizontal",
            "style": "IPY_MODEL_c0b606059871498794bd1ad8dc55e23e",
            "value": 85
          }
        },
        "d392836f92d842f881c7e0d2e66e4864": {
          "model_module": "@jupyter-widgets/controls",
          "model_name": "HTMLModel",
          "model_module_version": "1.5.0",
          "state": {
            "_dom_classes": [],
            "_model_module": "@jupyter-widgets/controls",
            "_model_module_version": "1.5.0",
            "_model_name": "HTMLModel",
            "_view_count": null,
            "_view_module": "@jupyter-widgets/controls",
            "_view_module_version": "1.5.0",
            "_view_name": "HTMLView",
            "description": "",
            "description_tooltip": null,
            "layout": "IPY_MODEL_3fcaf685ad764fbd9c1156d384e1bd6a",
            "placeholder": "​",
            "style": "IPY_MODEL_eceaea60e83a48fe910fc988b75d4a5a",
            "value": " 85.0/85.0 [00:00&lt;00:00, 1.95kB/s]"
          }
        },
        "639c04787d774ab180ac0d6a840cebdc": {
          "model_module": "@jupyter-widgets/base",
          "model_name": "LayoutModel",
          "model_module_version": "1.2.0",
          "state": {
            "_model_module": "@jupyter-widgets/base",
            "_model_module_version": "1.2.0",
            "_model_name": "LayoutModel",
            "_view_count": null,
            "_view_module": "@jupyter-widgets/base",
            "_view_module_version": "1.2.0",
            "_view_name": "LayoutView",
            "align_content": null,
            "align_items": null,
            "align_self": null,
            "border": null,
            "bottom": null,
            "display": null,
            "flex": null,
            "flex_flow": null,
            "grid_area": null,
            "grid_auto_columns": null,
            "grid_auto_flow": null,
            "grid_auto_rows": null,
            "grid_column": null,
            "grid_gap": null,
            "grid_row": null,
            "grid_template_areas": null,
            "grid_template_columns": null,
            "grid_template_rows": null,
            "height": null,
            "justify_content": null,
            "justify_items": null,
            "left": null,
            "margin": null,
            "max_height": null,
            "max_width": null,
            "min_height": null,
            "min_width": null,
            "object_fit": null,
            "object_position": null,
            "order": null,
            "overflow": null,
            "overflow_x": null,
            "overflow_y": null,
            "padding": null,
            "right": null,
            "top": null,
            "visibility": null,
            "width": null
          }
        },
        "7872b74e2313463c8b7f61ec56114fcb": {
          "model_module": "@jupyter-widgets/base",
          "model_name": "LayoutModel",
          "model_module_version": "1.2.0",
          "state": {
            "_model_module": "@jupyter-widgets/base",
            "_model_module_version": "1.2.0",
            "_model_name": "LayoutModel",
            "_view_count": null,
            "_view_module": "@jupyter-widgets/base",
            "_view_module_version": "1.2.0",
            "_view_name": "LayoutView",
            "align_content": null,
            "align_items": null,
            "align_self": null,
            "border": null,
            "bottom": null,
            "display": null,
            "flex": null,
            "flex_flow": null,
            "grid_area": null,
            "grid_auto_columns": null,
            "grid_auto_flow": null,
            "grid_auto_rows": null,
            "grid_column": null,
            "grid_gap": null,
            "grid_row": null,
            "grid_template_areas": null,
            "grid_template_columns": null,
            "grid_template_rows": null,
            "height": null,
            "justify_content": null,
            "justify_items": null,
            "left": null,
            "margin": null,
            "max_height": null,
            "max_width": null,
            "min_height": null,
            "min_width": null,
            "object_fit": null,
            "object_position": null,
            "order": null,
            "overflow": null,
            "overflow_x": null,
            "overflow_y": null,
            "padding": null,
            "right": null,
            "top": null,
            "visibility": null,
            "width": null
          }
        },
        "ee776a5c5be0419c85f03864797d3778": {
          "model_module": "@jupyter-widgets/controls",
          "model_name": "DescriptionStyleModel",
          "model_module_version": "1.5.0",
          "state": {
            "_model_module": "@jupyter-widgets/controls",
            "_model_module_version": "1.5.0",
            "_model_name": "DescriptionStyleModel",
            "_view_count": null,
            "_view_module": "@jupyter-widgets/base",
            "_view_module_version": "1.2.0",
            "_view_name": "StyleView",
            "description_width": ""
          }
        },
        "db88a7e261f74b22b60cb2f997cf5452": {
          "model_module": "@jupyter-widgets/base",
          "model_name": "LayoutModel",
          "model_module_version": "1.2.0",
          "state": {
            "_model_module": "@jupyter-widgets/base",
            "_model_module_version": "1.2.0",
            "_model_name": "LayoutModel",
            "_view_count": null,
            "_view_module": "@jupyter-widgets/base",
            "_view_module_version": "1.2.0",
            "_view_name": "LayoutView",
            "align_content": null,
            "align_items": null,
            "align_self": null,
            "border": null,
            "bottom": null,
            "display": null,
            "flex": null,
            "flex_flow": null,
            "grid_area": null,
            "grid_auto_columns": null,
            "grid_auto_flow": null,
            "grid_auto_rows": null,
            "grid_column": null,
            "grid_gap": null,
            "grid_row": null,
            "grid_template_areas": null,
            "grid_template_columns": null,
            "grid_template_rows": null,
            "height": null,
            "justify_content": null,
            "justify_items": null,
            "left": null,
            "margin": null,
            "max_height": null,
            "max_width": null,
            "min_height": null,
            "min_width": null,
            "object_fit": null,
            "object_position": null,
            "order": null,
            "overflow": null,
            "overflow_x": null,
            "overflow_y": null,
            "padding": null,
            "right": null,
            "top": null,
            "visibility": null,
            "width": null
          }
        },
        "c0b606059871498794bd1ad8dc55e23e": {
          "model_module": "@jupyter-widgets/controls",
          "model_name": "ProgressStyleModel",
          "model_module_version": "1.5.0",
          "state": {
            "_model_module": "@jupyter-widgets/controls",
            "_model_module_version": "1.5.0",
            "_model_name": "ProgressStyleModel",
            "_view_count": null,
            "_view_module": "@jupyter-widgets/base",
            "_view_module_version": "1.2.0",
            "_view_name": "StyleView",
            "bar_color": null,
            "description_width": ""
          }
        },
        "3fcaf685ad764fbd9c1156d384e1bd6a": {
          "model_module": "@jupyter-widgets/base",
          "model_name": "LayoutModel",
          "model_module_version": "1.2.0",
          "state": {
            "_model_module": "@jupyter-widgets/base",
            "_model_module_version": "1.2.0",
            "_model_name": "LayoutModel",
            "_view_count": null,
            "_view_module": "@jupyter-widgets/base",
            "_view_module_version": "1.2.0",
            "_view_name": "LayoutView",
            "align_content": null,
            "align_items": null,
            "align_self": null,
            "border": null,
            "bottom": null,
            "display": null,
            "flex": null,
            "flex_flow": null,
            "grid_area": null,
            "grid_auto_columns": null,
            "grid_auto_flow": null,
            "grid_auto_rows": null,
            "grid_column": null,
            "grid_gap": null,
            "grid_row": null,
            "grid_template_areas": null,
            "grid_template_columns": null,
            "grid_template_rows": null,
            "height": null,
            "justify_content": null,
            "justify_items": null,
            "left": null,
            "margin": null,
            "max_height": null,
            "max_width": null,
            "min_height": null,
            "min_width": null,
            "object_fit": null,
            "object_position": null,
            "order": null,
            "overflow": null,
            "overflow_x": null,
            "overflow_y": null,
            "padding": null,
            "right": null,
            "top": null,
            "visibility": null,
            "width": null
          }
        },
        "eceaea60e83a48fe910fc988b75d4a5a": {
          "model_module": "@jupyter-widgets/controls",
          "model_name": "DescriptionStyleModel",
          "model_module_version": "1.5.0",
          "state": {
            "_model_module": "@jupyter-widgets/controls",
            "_model_module_version": "1.5.0",
            "_model_name": "DescriptionStyleModel",
            "_view_count": null,
            "_view_module": "@jupyter-widgets/base",
            "_view_module_version": "1.2.0",
            "_view_name": "StyleView",
            "description_width": ""
          }
        },
        "a9b39595a29f45159381f8251664cfe1": {
          "model_module": "@jupyter-widgets/controls",
          "model_name": "HBoxModel",
          "model_module_version": "1.5.0",
          "state": {
            "_dom_classes": [],
            "_model_module": "@jupyter-widgets/controls",
            "_model_module_version": "1.5.0",
            "_model_name": "HBoxModel",
            "_view_count": null,
            "_view_module": "@jupyter-widgets/controls",
            "_view_module_version": "1.5.0",
            "_view_name": "HBoxView",
            "box_style": "",
            "children": [
              "IPY_MODEL_2ce10965f67749c3b4976a475dd5bc35",
              "IPY_MODEL_82d868a96bf0403b935d6efac2eb7e9f",
              "IPY_MODEL_1f5d30e2ab624afbb7589e45c1f61eca"
            ],
            "layout": "IPY_MODEL_42c7e935d74c46aebac5277edca44db5"
          }
        },
        "2ce10965f67749c3b4976a475dd5bc35": {
          "model_module": "@jupyter-widgets/controls",
          "model_name": "HTMLModel",
          "model_module_version": "1.5.0",
          "state": {
            "_dom_classes": [],
            "_model_module": "@jupyter-widgets/controls",
            "_model_module_version": "1.5.0",
            "_model_name": "HTMLModel",
            "_view_count": null,
            "_view_module": "@jupyter-widgets/controls",
            "_view_module_version": "1.5.0",
            "_view_name": "HTMLView",
            "description": "",
            "description_tooltip": null,
            "layout": "IPY_MODEL_d4cdeda49c354f76a385a4b9be1a2ba1",
            "placeholder": "​",
            "style": "IPY_MODEL_7664b2cd2a5849088c753105b4b24bc7",
            "value": "Downloading: 100%"
          }
        },
        "82d868a96bf0403b935d6efac2eb7e9f": {
          "model_module": "@jupyter-widgets/controls",
          "model_name": "FloatProgressModel",
          "model_module_version": "1.5.0",
          "state": {
            "_dom_classes": [],
            "_model_module": "@jupyter-widgets/controls",
            "_model_module_version": "1.5.0",
            "_model_name": "FloatProgressModel",
            "_view_count": null,
            "_view_module": "@jupyter-widgets/controls",
            "_view_module_version": "1.5.0",
            "_view_name": "ProgressView",
            "bar_style": "success",
            "description": "",
            "description_tooltip": null,
            "layout": "IPY_MODEL_c998068ffb2a45fabf864a11687242fc",
            "max": 198,
            "min": 0,
            "orientation": "horizontal",
            "style": "IPY_MODEL_504ecfffa2db4e03950251c44b8a7a68",
            "value": 198
          }
        },
        "1f5d30e2ab624afbb7589e45c1f61eca": {
          "model_module": "@jupyter-widgets/controls",
          "model_name": "HTMLModel",
          "model_module_version": "1.5.0",
          "state": {
            "_dom_classes": [],
            "_model_module": "@jupyter-widgets/controls",
            "_model_module_version": "1.5.0",
            "_model_name": "HTMLModel",
            "_view_count": null,
            "_view_module": "@jupyter-widgets/controls",
            "_view_module_version": "1.5.0",
            "_view_name": "HTMLView",
            "description": "",
            "description_tooltip": null,
            "layout": "IPY_MODEL_c07b6c1883324149acff30fecc197b44",
            "placeholder": "​",
            "style": "IPY_MODEL_2782036729d146c786829e8ac686c8f4",
            "value": " 198/198 [00:00&lt;00:00, 4.25kB/s]"
          }
        },
        "42c7e935d74c46aebac5277edca44db5": {
          "model_module": "@jupyter-widgets/base",
          "model_name": "LayoutModel",
          "model_module_version": "1.2.0",
          "state": {
            "_model_module": "@jupyter-widgets/base",
            "_model_module_version": "1.2.0",
            "_model_name": "LayoutModel",
            "_view_count": null,
            "_view_module": "@jupyter-widgets/base",
            "_view_module_version": "1.2.0",
            "_view_name": "LayoutView",
            "align_content": null,
            "align_items": null,
            "align_self": null,
            "border": null,
            "bottom": null,
            "display": null,
            "flex": null,
            "flex_flow": null,
            "grid_area": null,
            "grid_auto_columns": null,
            "grid_auto_flow": null,
            "grid_auto_rows": null,
            "grid_column": null,
            "grid_gap": null,
            "grid_row": null,
            "grid_template_areas": null,
            "grid_template_columns": null,
            "grid_template_rows": null,
            "height": null,
            "justify_content": null,
            "justify_items": null,
            "left": null,
            "margin": null,
            "max_height": null,
            "max_width": null,
            "min_height": null,
            "min_width": null,
            "object_fit": null,
            "object_position": null,
            "order": null,
            "overflow": null,
            "overflow_x": null,
            "overflow_y": null,
            "padding": null,
            "right": null,
            "top": null,
            "visibility": null,
            "width": null
          }
        },
        "d4cdeda49c354f76a385a4b9be1a2ba1": {
          "model_module": "@jupyter-widgets/base",
          "model_name": "LayoutModel",
          "model_module_version": "1.2.0",
          "state": {
            "_model_module": "@jupyter-widgets/base",
            "_model_module_version": "1.2.0",
            "_model_name": "LayoutModel",
            "_view_count": null,
            "_view_module": "@jupyter-widgets/base",
            "_view_module_version": "1.2.0",
            "_view_name": "LayoutView",
            "align_content": null,
            "align_items": null,
            "align_self": null,
            "border": null,
            "bottom": null,
            "display": null,
            "flex": null,
            "flex_flow": null,
            "grid_area": null,
            "grid_auto_columns": null,
            "grid_auto_flow": null,
            "grid_auto_rows": null,
            "grid_column": null,
            "grid_gap": null,
            "grid_row": null,
            "grid_template_areas": null,
            "grid_template_columns": null,
            "grid_template_rows": null,
            "height": null,
            "justify_content": null,
            "justify_items": null,
            "left": null,
            "margin": null,
            "max_height": null,
            "max_width": null,
            "min_height": null,
            "min_width": null,
            "object_fit": null,
            "object_position": null,
            "order": null,
            "overflow": null,
            "overflow_x": null,
            "overflow_y": null,
            "padding": null,
            "right": null,
            "top": null,
            "visibility": null,
            "width": null
          }
        },
        "7664b2cd2a5849088c753105b4b24bc7": {
          "model_module": "@jupyter-widgets/controls",
          "model_name": "DescriptionStyleModel",
          "model_module_version": "1.5.0",
          "state": {
            "_model_module": "@jupyter-widgets/controls",
            "_model_module_version": "1.5.0",
            "_model_name": "DescriptionStyleModel",
            "_view_count": null,
            "_view_module": "@jupyter-widgets/base",
            "_view_module_version": "1.2.0",
            "_view_name": "StyleView",
            "description_width": ""
          }
        },
        "c998068ffb2a45fabf864a11687242fc": {
          "model_module": "@jupyter-widgets/base",
          "model_name": "LayoutModel",
          "model_module_version": "1.2.0",
          "state": {
            "_model_module": "@jupyter-widgets/base",
            "_model_module_version": "1.2.0",
            "_model_name": "LayoutModel",
            "_view_count": null,
            "_view_module": "@jupyter-widgets/base",
            "_view_module_version": "1.2.0",
            "_view_name": "LayoutView",
            "align_content": null,
            "align_items": null,
            "align_self": null,
            "border": null,
            "bottom": null,
            "display": null,
            "flex": null,
            "flex_flow": null,
            "grid_area": null,
            "grid_auto_columns": null,
            "grid_auto_flow": null,
            "grid_auto_rows": null,
            "grid_column": null,
            "grid_gap": null,
            "grid_row": null,
            "grid_template_areas": null,
            "grid_template_columns": null,
            "grid_template_rows": null,
            "height": null,
            "justify_content": null,
            "justify_items": null,
            "left": null,
            "margin": null,
            "max_height": null,
            "max_width": null,
            "min_height": null,
            "min_width": null,
            "object_fit": null,
            "object_position": null,
            "order": null,
            "overflow": null,
            "overflow_x": null,
            "overflow_y": null,
            "padding": null,
            "right": null,
            "top": null,
            "visibility": null,
            "width": null
          }
        },
        "504ecfffa2db4e03950251c44b8a7a68": {
          "model_module": "@jupyter-widgets/controls",
          "model_name": "ProgressStyleModel",
          "model_module_version": "1.5.0",
          "state": {
            "_model_module": "@jupyter-widgets/controls",
            "_model_module_version": "1.5.0",
            "_model_name": "ProgressStyleModel",
            "_view_count": null,
            "_view_module": "@jupyter-widgets/base",
            "_view_module_version": "1.2.0",
            "_view_name": "StyleView",
            "bar_color": null,
            "description_width": ""
          }
        },
        "c07b6c1883324149acff30fecc197b44": {
          "model_module": "@jupyter-widgets/base",
          "model_name": "LayoutModel",
          "model_module_version": "1.2.0",
          "state": {
            "_model_module": "@jupyter-widgets/base",
            "_model_module_version": "1.2.0",
            "_model_name": "LayoutModel",
            "_view_count": null,
            "_view_module": "@jupyter-widgets/base",
            "_view_module_version": "1.2.0",
            "_view_name": "LayoutView",
            "align_content": null,
            "align_items": null,
            "align_self": null,
            "border": null,
            "bottom": null,
            "display": null,
            "flex": null,
            "flex_flow": null,
            "grid_area": null,
            "grid_auto_columns": null,
            "grid_auto_flow": null,
            "grid_auto_rows": null,
            "grid_column": null,
            "grid_gap": null,
            "grid_row": null,
            "grid_template_areas": null,
            "grid_template_columns": null,
            "grid_template_rows": null,
            "height": null,
            "justify_content": null,
            "justify_items": null,
            "left": null,
            "margin": null,
            "max_height": null,
            "max_width": null,
            "min_height": null,
            "min_width": null,
            "object_fit": null,
            "object_position": null,
            "order": null,
            "overflow": null,
            "overflow_x": null,
            "overflow_y": null,
            "padding": null,
            "right": null,
            "top": null,
            "visibility": null,
            "width": null
          }
        },
        "2782036729d146c786829e8ac686c8f4": {
          "model_module": "@jupyter-widgets/controls",
          "model_name": "DescriptionStyleModel",
          "model_module_version": "1.5.0",
          "state": {
            "_model_module": "@jupyter-widgets/controls",
            "_model_module_version": "1.5.0",
            "_model_name": "DescriptionStyleModel",
            "_view_count": null,
            "_view_module": "@jupyter-widgets/base",
            "_view_module_version": "1.2.0",
            "_view_name": "StyleView",
            "description_width": ""
          }
        },
        "42e3199c0c5f44919af3c8875faecfee": {
          "model_module": "@jupyter-widgets/controls",
          "model_name": "HBoxModel",
          "model_module_version": "1.5.0",
          "state": {
            "_dom_classes": [],
            "_model_module": "@jupyter-widgets/controls",
            "_model_module_version": "1.5.0",
            "_model_name": "HBoxModel",
            "_view_count": null,
            "_view_module": "@jupyter-widgets/controls",
            "_view_module_version": "1.5.0",
            "_view_name": "HBoxView",
            "box_style": "",
            "children": [
              "IPY_MODEL_92b6a8e6b80a46839865a33114ce2cce",
              "IPY_MODEL_8149dadae80d4ed996d5d796eb7d2acc",
              "IPY_MODEL_e33ac4664d2d42f88f22e1b9c82b4b41"
            ],
            "layout": "IPY_MODEL_9b59644acd7d4999b1f41f042effc5db"
          }
        },
        "92b6a8e6b80a46839865a33114ce2cce": {
          "model_module": "@jupyter-widgets/controls",
          "model_name": "HTMLModel",
          "model_module_version": "1.5.0",
          "state": {
            "_dom_classes": [],
            "_model_module": "@jupyter-widgets/controls",
            "_model_module_version": "1.5.0",
            "_model_name": "HTMLModel",
            "_view_count": null,
            "_view_module": "@jupyter-widgets/controls",
            "_view_module_version": "1.5.0",
            "_view_name": "HTMLView",
            "description": "",
            "description_tooltip": null,
            "layout": "IPY_MODEL_ba4cc579763f443ebfd03bad4817544d",
            "placeholder": "​",
            "style": "IPY_MODEL_783329bcbeb94f41a2894e9574b17fbc",
            "value": "Downloading: 100%"
          }
        },
        "8149dadae80d4ed996d5d796eb7d2acc": {
          "model_module": "@jupyter-widgets/controls",
          "model_name": "FloatProgressModel",
          "model_module_version": "1.5.0",
          "state": {
            "_dom_classes": [],
            "_model_module": "@jupyter-widgets/controls",
            "_model_module_version": "1.5.0",
            "_model_name": "FloatProgressModel",
            "_view_count": null,
            "_view_module": "@jupyter-widgets/controls",
            "_view_module_version": "1.5.0",
            "_view_name": "ProgressView",
            "bar_style": "success",
            "description": "",
            "description_tooltip": null,
            "layout": "IPY_MODEL_f68da7106d6f47c1a7340b27a8f76b5f",
            "max": 3124591979,
            "min": 0,
            "orientation": "horizontal",
            "style": "IPY_MODEL_0e31652ee1714df9b47cd9aa9e4a0ce9",
            "value": 3124591979
          }
        },
        "e33ac4664d2d42f88f22e1b9c82b4b41": {
          "model_module": "@jupyter-widgets/controls",
          "model_name": "HTMLModel",
          "model_module_version": "1.5.0",
          "state": {
            "_dom_classes": [],
            "_model_module": "@jupyter-widgets/controls",
            "_model_module_version": "1.5.0",
            "_model_name": "HTMLModel",
            "_view_count": null,
            "_view_module": "@jupyter-widgets/controls",
            "_view_module_version": "1.5.0",
            "_view_name": "HTMLView",
            "description": "",
            "description_tooltip": null,
            "layout": "IPY_MODEL_de0aac4c130a4ab78fdd8c8a7b0c1f16",
            "placeholder": "​",
            "style": "IPY_MODEL_395969406e414589b36ffff375809095",
            "value": " 3.12G/3.12G [01:29&lt;00:00, 20.2MB/s]"
          }
        },
        "9b59644acd7d4999b1f41f042effc5db": {
          "model_module": "@jupyter-widgets/base",
          "model_name": "LayoutModel",
          "model_module_version": "1.2.0",
          "state": {
            "_model_module": "@jupyter-widgets/base",
            "_model_module_version": "1.2.0",
            "_model_name": "LayoutModel",
            "_view_count": null,
            "_view_module": "@jupyter-widgets/base",
            "_view_module_version": "1.2.0",
            "_view_name": "LayoutView",
            "align_content": null,
            "align_items": null,
            "align_self": null,
            "border": null,
            "bottom": null,
            "display": null,
            "flex": null,
            "flex_flow": null,
            "grid_area": null,
            "grid_auto_columns": null,
            "grid_auto_flow": null,
            "grid_auto_rows": null,
            "grid_column": null,
            "grid_gap": null,
            "grid_row": null,
            "grid_template_areas": null,
            "grid_template_columns": null,
            "grid_template_rows": null,
            "height": null,
            "justify_content": null,
            "justify_items": null,
            "left": null,
            "margin": null,
            "max_height": null,
            "max_width": null,
            "min_height": null,
            "min_width": null,
            "object_fit": null,
            "object_position": null,
            "order": null,
            "overflow": null,
            "overflow_x": null,
            "overflow_y": null,
            "padding": null,
            "right": null,
            "top": null,
            "visibility": null,
            "width": null
          }
        },
        "ba4cc579763f443ebfd03bad4817544d": {
          "model_module": "@jupyter-widgets/base",
          "model_name": "LayoutModel",
          "model_module_version": "1.2.0",
          "state": {
            "_model_module": "@jupyter-widgets/base",
            "_model_module_version": "1.2.0",
            "_model_name": "LayoutModel",
            "_view_count": null,
            "_view_module": "@jupyter-widgets/base",
            "_view_module_version": "1.2.0",
            "_view_name": "LayoutView",
            "align_content": null,
            "align_items": null,
            "align_self": null,
            "border": null,
            "bottom": null,
            "display": null,
            "flex": null,
            "flex_flow": null,
            "grid_area": null,
            "grid_auto_columns": null,
            "grid_auto_flow": null,
            "grid_auto_rows": null,
            "grid_column": null,
            "grid_gap": null,
            "grid_row": null,
            "grid_template_areas": null,
            "grid_template_columns": null,
            "grid_template_rows": null,
            "height": null,
            "justify_content": null,
            "justify_items": null,
            "left": null,
            "margin": null,
            "max_height": null,
            "max_width": null,
            "min_height": null,
            "min_width": null,
            "object_fit": null,
            "object_position": null,
            "order": null,
            "overflow": null,
            "overflow_x": null,
            "overflow_y": null,
            "padding": null,
            "right": null,
            "top": null,
            "visibility": null,
            "width": null
          }
        },
        "783329bcbeb94f41a2894e9574b17fbc": {
          "model_module": "@jupyter-widgets/controls",
          "model_name": "DescriptionStyleModel",
          "model_module_version": "1.5.0",
          "state": {
            "_model_module": "@jupyter-widgets/controls",
            "_model_module_version": "1.5.0",
            "_model_name": "DescriptionStyleModel",
            "_view_count": null,
            "_view_module": "@jupyter-widgets/base",
            "_view_module_version": "1.2.0",
            "_view_name": "StyleView",
            "description_width": ""
          }
        },
        "f68da7106d6f47c1a7340b27a8f76b5f": {
          "model_module": "@jupyter-widgets/base",
          "model_name": "LayoutModel",
          "model_module_version": "1.2.0",
          "state": {
            "_model_module": "@jupyter-widgets/base",
            "_model_module_version": "1.2.0",
            "_model_name": "LayoutModel",
            "_view_count": null,
            "_view_module": "@jupyter-widgets/base",
            "_view_module_version": "1.2.0",
            "_view_name": "LayoutView",
            "align_content": null,
            "align_items": null,
            "align_self": null,
            "border": null,
            "bottom": null,
            "display": null,
            "flex": null,
            "flex_flow": null,
            "grid_area": null,
            "grid_auto_columns": null,
            "grid_auto_flow": null,
            "grid_auto_rows": null,
            "grid_column": null,
            "grid_gap": null,
            "grid_row": null,
            "grid_template_areas": null,
            "grid_template_columns": null,
            "grid_template_rows": null,
            "height": null,
            "justify_content": null,
            "justify_items": null,
            "left": null,
            "margin": null,
            "max_height": null,
            "max_width": null,
            "min_height": null,
            "min_width": null,
            "object_fit": null,
            "object_position": null,
            "order": null,
            "overflow": null,
            "overflow_x": null,
            "overflow_y": null,
            "padding": null,
            "right": null,
            "top": null,
            "visibility": null,
            "width": null
          }
        },
        "0e31652ee1714df9b47cd9aa9e4a0ce9": {
          "model_module": "@jupyter-widgets/controls",
          "model_name": "ProgressStyleModel",
          "model_module_version": "1.5.0",
          "state": {
            "_model_module": "@jupyter-widgets/controls",
            "_model_module_version": "1.5.0",
            "_model_name": "ProgressStyleModel",
            "_view_count": null,
            "_view_module": "@jupyter-widgets/base",
            "_view_module_version": "1.2.0",
            "_view_name": "StyleView",
            "bar_color": null,
            "description_width": ""
          }
        },
        "de0aac4c130a4ab78fdd8c8a7b0c1f16": {
          "model_module": "@jupyter-widgets/base",
          "model_name": "LayoutModel",
          "model_module_version": "1.2.0",
          "state": {
            "_model_module": "@jupyter-widgets/base",
            "_model_module_version": "1.2.0",
            "_model_name": "LayoutModel",
            "_view_count": null,
            "_view_module": "@jupyter-widgets/base",
            "_view_module_version": "1.2.0",
            "_view_name": "LayoutView",
            "align_content": null,
            "align_items": null,
            "align_self": null,
            "border": null,
            "bottom": null,
            "display": null,
            "flex": null,
            "flex_flow": null,
            "grid_area": null,
            "grid_auto_columns": null,
            "grid_auto_flow": null,
            "grid_auto_rows": null,
            "grid_column": null,
            "grid_gap": null,
            "grid_row": null,
            "grid_template_areas": null,
            "grid_template_columns": null,
            "grid_template_rows": null,
            "height": null,
            "justify_content": null,
            "justify_items": null,
            "left": null,
            "margin": null,
            "max_height": null,
            "max_width": null,
            "min_height": null,
            "min_width": null,
            "object_fit": null,
            "object_position": null,
            "order": null,
            "overflow": null,
            "overflow_x": null,
            "overflow_y": null,
            "padding": null,
            "right": null,
            "top": null,
            "visibility": null,
            "width": null
          }
        },
        "395969406e414589b36ffff375809095": {
          "model_module": "@jupyter-widgets/controls",
          "model_name": "DescriptionStyleModel",
          "model_module_version": "1.5.0",
          "state": {
            "_model_module": "@jupyter-widgets/controls",
            "_model_module_version": "1.5.0",
            "_model_name": "DescriptionStyleModel",
            "_view_count": null,
            "_view_module": "@jupyter-widgets/base",
            "_view_module_version": "1.2.0",
            "_view_name": "StyleView",
            "description_width": ""
          }
        },
        "b801d2d42e05482984f758c1539668f6": {
          "model_module": "@jupyter-widgets/controls",
          "model_name": "HBoxModel",
          "model_module_version": "1.5.0",
          "state": {
            "_dom_classes": [],
            "_model_module": "@jupyter-widgets/controls",
            "_model_module_version": "1.5.0",
            "_model_name": "HBoxModel",
            "_view_count": null,
            "_view_module": "@jupyter-widgets/controls",
            "_view_module_version": "1.5.0",
            "_view_name": "HBoxView",
            "box_style": "",
            "children": [
              "IPY_MODEL_675a3c51a29f4c3699e372fb3f52d059",
              "IPY_MODEL_92ac1bcd60864bfba67653ac094c89b9",
              "IPY_MODEL_2021480fd00d4f45886b75f44e2846a5"
            ],
            "layout": "IPY_MODEL_5c847c7b73f0433abee048173cbe8e0e"
          }
        },
        "675a3c51a29f4c3699e372fb3f52d059": {
          "model_module": "@jupyter-widgets/controls",
          "model_name": "HTMLModel",
          "model_module_version": "1.5.0",
          "state": {
            "_dom_classes": [],
            "_model_module": "@jupyter-widgets/controls",
            "_model_module_version": "1.5.0",
            "_model_name": "HTMLModel",
            "_view_count": null,
            "_view_module": "@jupyter-widgets/controls",
            "_view_module_version": "1.5.0",
            "_view_name": "HTMLView",
            "description": "",
            "description_tooltip": null,
            "layout": "IPY_MODEL_6177fa41b07d43ca8476ec27205804eb",
            "placeholder": "​",
            "style": "IPY_MODEL_db56493aa510438cbd35ce2e32eb3054",
            "value": "Downloading: 100%"
          }
        },
        "92ac1bcd60864bfba67653ac094c89b9": {
          "model_module": "@jupyter-widgets/controls",
          "model_name": "FloatProgressModel",
          "model_module_version": "1.5.0",
          "state": {
            "_dom_classes": [],
            "_model_module": "@jupyter-widgets/controls",
            "_model_module_version": "1.5.0",
            "_model_name": "FloatProgressModel",
            "_view_count": null,
            "_view_module": "@jupyter-widgets/controls",
            "_view_module_version": "1.5.0",
            "_view_name": "ProgressView",
            "bar_style": "success",
            "description": "",
            "description_tooltip": null,
            "layout": "IPY_MODEL_006e30bbbe3942db9f7e5febf424679a",
            "max": 78,
            "min": 0,
            "orientation": "horizontal",
            "style": "IPY_MODEL_99e5dc456ba2475186d8a07baffedcdd",
            "value": 78
          }
        },
        "2021480fd00d4f45886b75f44e2846a5": {
          "model_module": "@jupyter-widgets/controls",
          "model_name": "HTMLModel",
          "model_module_version": "1.5.0",
          "state": {
            "_dom_classes": [],
            "_model_module": "@jupyter-widgets/controls",
            "_model_module_version": "1.5.0",
            "_model_name": "HTMLModel",
            "_view_count": null,
            "_view_module": "@jupyter-widgets/controls",
            "_view_module_version": "1.5.0",
            "_view_name": "HTMLView",
            "description": "",
            "description_tooltip": null,
            "layout": "IPY_MODEL_d61f5693575d4f7fb8525d48b2f29543",
            "placeholder": "​",
            "style": "IPY_MODEL_f8e168af7df043b7853fdf63b567e022",
            "value": " 78.0/78.0 [00:00&lt;00:00, 1.41kB/s]"
          }
        },
        "5c847c7b73f0433abee048173cbe8e0e": {
          "model_module": "@jupyter-widgets/base",
          "model_name": "LayoutModel",
          "model_module_version": "1.2.0",
          "state": {
            "_model_module": "@jupyter-widgets/base",
            "_model_module_version": "1.2.0",
            "_model_name": "LayoutModel",
            "_view_count": null,
            "_view_module": "@jupyter-widgets/base",
            "_view_module_version": "1.2.0",
            "_view_name": "LayoutView",
            "align_content": null,
            "align_items": null,
            "align_self": null,
            "border": null,
            "bottom": null,
            "display": null,
            "flex": null,
            "flex_flow": null,
            "grid_area": null,
            "grid_auto_columns": null,
            "grid_auto_flow": null,
            "grid_auto_rows": null,
            "grid_column": null,
            "grid_gap": null,
            "grid_row": null,
            "grid_template_areas": null,
            "grid_template_columns": null,
            "grid_template_rows": null,
            "height": null,
            "justify_content": null,
            "justify_items": null,
            "left": null,
            "margin": null,
            "max_height": null,
            "max_width": null,
            "min_height": null,
            "min_width": null,
            "object_fit": null,
            "object_position": null,
            "order": null,
            "overflow": null,
            "overflow_x": null,
            "overflow_y": null,
            "padding": null,
            "right": null,
            "top": null,
            "visibility": null,
            "width": null
          }
        },
        "6177fa41b07d43ca8476ec27205804eb": {
          "model_module": "@jupyter-widgets/base",
          "model_name": "LayoutModel",
          "model_module_version": "1.2.0",
          "state": {
            "_model_module": "@jupyter-widgets/base",
            "_model_module_version": "1.2.0",
            "_model_name": "LayoutModel",
            "_view_count": null,
            "_view_module": "@jupyter-widgets/base",
            "_view_module_version": "1.2.0",
            "_view_name": "LayoutView",
            "align_content": null,
            "align_items": null,
            "align_self": null,
            "border": null,
            "bottom": null,
            "display": null,
            "flex": null,
            "flex_flow": null,
            "grid_area": null,
            "grid_auto_columns": null,
            "grid_auto_flow": null,
            "grid_auto_rows": null,
            "grid_column": null,
            "grid_gap": null,
            "grid_row": null,
            "grid_template_areas": null,
            "grid_template_columns": null,
            "grid_template_rows": null,
            "height": null,
            "justify_content": null,
            "justify_items": null,
            "left": null,
            "margin": null,
            "max_height": null,
            "max_width": null,
            "min_height": null,
            "min_width": null,
            "object_fit": null,
            "object_position": null,
            "order": null,
            "overflow": null,
            "overflow_x": null,
            "overflow_y": null,
            "padding": null,
            "right": null,
            "top": null,
            "visibility": null,
            "width": null
          }
        },
        "db56493aa510438cbd35ce2e32eb3054": {
          "model_module": "@jupyter-widgets/controls",
          "model_name": "DescriptionStyleModel",
          "model_module_version": "1.5.0",
          "state": {
            "_model_module": "@jupyter-widgets/controls",
            "_model_module_version": "1.5.0",
            "_model_name": "DescriptionStyleModel",
            "_view_count": null,
            "_view_module": "@jupyter-widgets/base",
            "_view_module_version": "1.2.0",
            "_view_name": "StyleView",
            "description_width": ""
          }
        },
        "006e30bbbe3942db9f7e5febf424679a": {
          "model_module": "@jupyter-widgets/base",
          "model_name": "LayoutModel",
          "model_module_version": "1.2.0",
          "state": {
            "_model_module": "@jupyter-widgets/base",
            "_model_module_version": "1.2.0",
            "_model_name": "LayoutModel",
            "_view_count": null,
            "_view_module": "@jupyter-widgets/base",
            "_view_module_version": "1.2.0",
            "_view_name": "LayoutView",
            "align_content": null,
            "align_items": null,
            "align_self": null,
            "border": null,
            "bottom": null,
            "display": null,
            "flex": null,
            "flex_flow": null,
            "grid_area": null,
            "grid_auto_columns": null,
            "grid_auto_flow": null,
            "grid_auto_rows": null,
            "grid_column": null,
            "grid_gap": null,
            "grid_row": null,
            "grid_template_areas": null,
            "grid_template_columns": null,
            "grid_template_rows": null,
            "height": null,
            "justify_content": null,
            "justify_items": null,
            "left": null,
            "margin": null,
            "max_height": null,
            "max_width": null,
            "min_height": null,
            "min_width": null,
            "object_fit": null,
            "object_position": null,
            "order": null,
            "overflow": null,
            "overflow_x": null,
            "overflow_y": null,
            "padding": null,
            "right": null,
            "top": null,
            "visibility": null,
            "width": null
          }
        },
        "99e5dc456ba2475186d8a07baffedcdd": {
          "model_module": "@jupyter-widgets/controls",
          "model_name": "ProgressStyleModel",
          "model_module_version": "1.5.0",
          "state": {
            "_model_module": "@jupyter-widgets/controls",
            "_model_module_version": "1.5.0",
            "_model_name": "ProgressStyleModel",
            "_view_count": null,
            "_view_module": "@jupyter-widgets/base",
            "_view_module_version": "1.2.0",
            "_view_name": "StyleView",
            "bar_color": null,
            "description_width": ""
          }
        },
        "d61f5693575d4f7fb8525d48b2f29543": {
          "model_module": "@jupyter-widgets/base",
          "model_name": "LayoutModel",
          "model_module_version": "1.2.0",
          "state": {
            "_model_module": "@jupyter-widgets/base",
            "_model_module_version": "1.2.0",
            "_model_name": "LayoutModel",
            "_view_count": null,
            "_view_module": "@jupyter-widgets/base",
            "_view_module_version": "1.2.0",
            "_view_name": "LayoutView",
            "align_content": null,
            "align_items": null,
            "align_self": null,
            "border": null,
            "bottom": null,
            "display": null,
            "flex": null,
            "flex_flow": null,
            "grid_area": null,
            "grid_auto_columns": null,
            "grid_auto_flow": null,
            "grid_auto_rows": null,
            "grid_column": null,
            "grid_gap": null,
            "grid_row": null,
            "grid_template_areas": null,
            "grid_template_columns": null,
            "grid_template_rows": null,
            "height": null,
            "justify_content": null,
            "justify_items": null,
            "left": null,
            "margin": null,
            "max_height": null,
            "max_width": null,
            "min_height": null,
            "min_width": null,
            "object_fit": null,
            "object_position": null,
            "order": null,
            "overflow": null,
            "overflow_x": null,
            "overflow_y": null,
            "padding": null,
            "right": null,
            "top": null,
            "visibility": null,
            "width": null
          }
        },
        "f8e168af7df043b7853fdf63b567e022": {
          "model_module": "@jupyter-widgets/controls",
          "model_name": "DescriptionStyleModel",
          "model_module_version": "1.5.0",
          "state": {
            "_model_module": "@jupyter-widgets/controls",
            "_model_module_version": "1.5.0",
            "_model_name": "DescriptionStyleModel",
            "_view_count": null,
            "_view_module": "@jupyter-widgets/base",
            "_view_module_version": "1.2.0",
            "_view_name": "StyleView",
            "description_width": ""
          }
        },
        "4b0a6722113847b6b162deb42949fb8f": {
          "model_module": "@jupyter-widgets/controls",
          "model_name": "HBoxModel",
          "model_module_version": "1.5.0",
          "state": {
            "_dom_classes": [],
            "_model_module": "@jupyter-widgets/controls",
            "_model_module_version": "1.5.0",
            "_model_name": "HBoxModel",
            "_view_count": null,
            "_view_module": "@jupyter-widgets/controls",
            "_view_module_version": "1.5.0",
            "_view_name": "HBoxView",
            "box_style": "",
            "children": [
              "IPY_MODEL_38f7c79f463640d39e7d731e1d0cf59c",
              "IPY_MODEL_474cf37344164f3395f8e097277a2e7a",
              "IPY_MODEL_06d2c793d75043a1ae5143f873e49484"
            ],
            "layout": "IPY_MODEL_735dd2fb679042d39f88ae6733a515bb"
          }
        },
        "38f7c79f463640d39e7d731e1d0cf59c": {
          "model_module": "@jupyter-widgets/controls",
          "model_name": "HTMLModel",
          "model_module_version": "1.5.0",
          "state": {
            "_dom_classes": [],
            "_model_module": "@jupyter-widgets/controls",
            "_model_module_version": "1.5.0",
            "_model_name": "HTMLModel",
            "_view_count": null,
            "_view_module": "@jupyter-widgets/controls",
            "_view_module_version": "1.5.0",
            "_view_name": "HTMLView",
            "description": "",
            "description_tooltip": null,
            "layout": "IPY_MODEL_918c819e7a464c3d9062d02b91f1824a",
            "placeholder": "​",
            "style": "IPY_MODEL_0cf0f93c86614050975617aa276c9573",
            "value": "Downloading: 100%"
          }
        },
        "474cf37344164f3395f8e097277a2e7a": {
          "model_module": "@jupyter-widgets/controls",
          "model_name": "FloatProgressModel",
          "model_module_version": "1.5.0",
          "state": {
            "_dom_classes": [],
            "_model_module": "@jupyter-widgets/controls",
            "_model_module_version": "1.5.0",
            "_model_name": "FloatProgressModel",
            "_view_count": null,
            "_view_module": "@jupyter-widgets/controls",
            "_view_module_version": "1.5.0",
            "_view_name": "ProgressView",
            "bar_style": "success",
            "description": "",
            "description_tooltip": null,
            "layout": "IPY_MODEL_474d517b11114ad3af7349b1a6270241",
            "max": 1737592,
            "min": 0,
            "orientation": "horizontal",
            "style": "IPY_MODEL_aa33545861d94112adcd931355c81ee1",
            "value": 1737592
          }
        },
        "06d2c793d75043a1ae5143f873e49484": {
          "model_module": "@jupyter-widgets/controls",
          "model_name": "HTMLModel",
          "model_module_version": "1.5.0",
          "state": {
            "_dom_classes": [],
            "_model_module": "@jupyter-widgets/controls",
            "_model_module_version": "1.5.0",
            "_model_name": "HTMLModel",
            "_view_count": null,
            "_view_module": "@jupyter-widgets/controls",
            "_view_module_version": "1.5.0",
            "_view_name": "HTMLView",
            "description": "",
            "description_tooltip": null,
            "layout": "IPY_MODEL_a55f14b3cadb400bbdddf18191c7aca8",
            "placeholder": "​",
            "style": "IPY_MODEL_94cea41ffbfb42ac913daa242266ff2c",
            "value": " 1.74M/1.74M [00:00&lt;00:00, 17.5MB/s]"
          }
        },
        "735dd2fb679042d39f88ae6733a515bb": {
          "model_module": "@jupyter-widgets/base",
          "model_name": "LayoutModel",
          "model_module_version": "1.2.0",
          "state": {
            "_model_module": "@jupyter-widgets/base",
            "_model_module_version": "1.2.0",
            "_model_name": "LayoutModel",
            "_view_count": null,
            "_view_module": "@jupyter-widgets/base",
            "_view_module_version": "1.2.0",
            "_view_name": "LayoutView",
            "align_content": null,
            "align_items": null,
            "align_self": null,
            "border": null,
            "bottom": null,
            "display": null,
            "flex": null,
            "flex_flow": null,
            "grid_area": null,
            "grid_auto_columns": null,
            "grid_auto_flow": null,
            "grid_auto_rows": null,
            "grid_column": null,
            "grid_gap": null,
            "grid_row": null,
            "grid_template_areas": null,
            "grid_template_columns": null,
            "grid_template_rows": null,
            "height": null,
            "justify_content": null,
            "justify_items": null,
            "left": null,
            "margin": null,
            "max_height": null,
            "max_width": null,
            "min_height": null,
            "min_width": null,
            "object_fit": null,
            "object_position": null,
            "order": null,
            "overflow": null,
            "overflow_x": null,
            "overflow_y": null,
            "padding": null,
            "right": null,
            "top": null,
            "visibility": null,
            "width": null
          }
        },
        "918c819e7a464c3d9062d02b91f1824a": {
          "model_module": "@jupyter-widgets/base",
          "model_name": "LayoutModel",
          "model_module_version": "1.2.0",
          "state": {
            "_model_module": "@jupyter-widgets/base",
            "_model_module_version": "1.2.0",
            "_model_name": "LayoutModel",
            "_view_count": null,
            "_view_module": "@jupyter-widgets/base",
            "_view_module_version": "1.2.0",
            "_view_name": "LayoutView",
            "align_content": null,
            "align_items": null,
            "align_self": null,
            "border": null,
            "bottom": null,
            "display": null,
            "flex": null,
            "flex_flow": null,
            "grid_area": null,
            "grid_auto_columns": null,
            "grid_auto_flow": null,
            "grid_auto_rows": null,
            "grid_column": null,
            "grid_gap": null,
            "grid_row": null,
            "grid_template_areas": null,
            "grid_template_columns": null,
            "grid_template_rows": null,
            "height": null,
            "justify_content": null,
            "justify_items": null,
            "left": null,
            "margin": null,
            "max_height": null,
            "max_width": null,
            "min_height": null,
            "min_width": null,
            "object_fit": null,
            "object_position": null,
            "order": null,
            "overflow": null,
            "overflow_x": null,
            "overflow_y": null,
            "padding": null,
            "right": null,
            "top": null,
            "visibility": null,
            "width": null
          }
        },
        "0cf0f93c86614050975617aa276c9573": {
          "model_module": "@jupyter-widgets/controls",
          "model_name": "DescriptionStyleModel",
          "model_module_version": "1.5.0",
          "state": {
            "_model_module": "@jupyter-widgets/controls",
            "_model_module_version": "1.5.0",
            "_model_name": "DescriptionStyleModel",
            "_view_count": null,
            "_view_module": "@jupyter-widgets/base",
            "_view_module_version": "1.2.0",
            "_view_name": "StyleView",
            "description_width": ""
          }
        },
        "474d517b11114ad3af7349b1a6270241": {
          "model_module": "@jupyter-widgets/base",
          "model_name": "LayoutModel",
          "model_module_version": "1.2.0",
          "state": {
            "_model_module": "@jupyter-widgets/base",
            "_model_module_version": "1.2.0",
            "_model_name": "LayoutModel",
            "_view_count": null,
            "_view_module": "@jupyter-widgets/base",
            "_view_module_version": "1.2.0",
            "_view_name": "LayoutView",
            "align_content": null,
            "align_items": null,
            "align_self": null,
            "border": null,
            "bottom": null,
            "display": null,
            "flex": null,
            "flex_flow": null,
            "grid_area": null,
            "grid_auto_columns": null,
            "grid_auto_flow": null,
            "grid_auto_rows": null,
            "grid_column": null,
            "grid_gap": null,
            "grid_row": null,
            "grid_template_areas": null,
            "grid_template_columns": null,
            "grid_template_rows": null,
            "height": null,
            "justify_content": null,
            "justify_items": null,
            "left": null,
            "margin": null,
            "max_height": null,
            "max_width": null,
            "min_height": null,
            "min_width": null,
            "object_fit": null,
            "object_position": null,
            "order": null,
            "overflow": null,
            "overflow_x": null,
            "overflow_y": null,
            "padding": null,
            "right": null,
            "top": null,
            "visibility": null,
            "width": null
          }
        },
        "aa33545861d94112adcd931355c81ee1": {
          "model_module": "@jupyter-widgets/controls",
          "model_name": "ProgressStyleModel",
          "model_module_version": "1.5.0",
          "state": {
            "_model_module": "@jupyter-widgets/controls",
            "_model_module_version": "1.5.0",
            "_model_name": "ProgressStyleModel",
            "_view_count": null,
            "_view_module": "@jupyter-widgets/base",
            "_view_module_version": "1.2.0",
            "_view_name": "StyleView",
            "bar_color": null,
            "description_width": ""
          }
        },
        "a55f14b3cadb400bbdddf18191c7aca8": {
          "model_module": "@jupyter-widgets/base",
          "model_name": "LayoutModel",
          "model_module_version": "1.2.0",
          "state": {
            "_model_module": "@jupyter-widgets/base",
            "_model_module_version": "1.2.0",
            "_model_name": "LayoutModel",
            "_view_count": null,
            "_view_module": "@jupyter-widgets/base",
            "_view_module_version": "1.2.0",
            "_view_name": "LayoutView",
            "align_content": null,
            "align_items": null,
            "align_self": null,
            "border": null,
            "bottom": null,
            "display": null,
            "flex": null,
            "flex_flow": null,
            "grid_area": null,
            "grid_auto_columns": null,
            "grid_auto_flow": null,
            "grid_auto_rows": null,
            "grid_column": null,
            "grid_gap": null,
            "grid_row": null,
            "grid_template_areas": null,
            "grid_template_columns": null,
            "grid_template_rows": null,
            "height": null,
            "justify_content": null,
            "justify_items": null,
            "left": null,
            "margin": null,
            "max_height": null,
            "max_width": null,
            "min_height": null,
            "min_width": null,
            "object_fit": null,
            "object_position": null,
            "order": null,
            "overflow": null,
            "overflow_x": null,
            "overflow_y": null,
            "padding": null,
            "right": null,
            "top": null,
            "visibility": null,
            "width": null
          }
        },
        "94cea41ffbfb42ac913daa242266ff2c": {
          "model_module": "@jupyter-widgets/controls",
          "model_name": "DescriptionStyleModel",
          "model_module_version": "1.5.0",
          "state": {
            "_model_module": "@jupyter-widgets/controls",
            "_model_module_version": "1.5.0",
            "_model_name": "DescriptionStyleModel",
            "_view_count": null,
            "_view_module": "@jupyter-widgets/base",
            "_view_module_version": "1.2.0",
            "_view_name": "StyleView",
            "description_width": ""
          }
        }
      }
    }
  },
  "cells": [
    {
      "cell_type": "markdown",
      "metadata": {
        "id": "view-in-github",
        "colab_type": "text"
      },
      "source": [
        "<a href=\"https://colab.research.google.com/github/patrickvonplaten/notebooks/blob/master/Boosting_Wav2Vec2_with_n_grams_in_Transformers.ipynb\" target=\"_parent\"><img src=\"https://colab.research.google.com/assets/colab-badge.svg\" alt=\"Open In Colab\"/></a>"
      ]
    },
    {
      "cell_type": "markdown",
      "source": [
        "# **Boosting Wav2Vec2 with n-grams in 🤗 Transformers**\n",
        "\n",
        "**Wav2Vec2** is a popular pre-trained model for speech recognition. Released in [September 2020](https://ai.facebook.com/blog/wav2vec-20-learning-the-structure-of-speech-from-raw-audio/) by Meta AI Research, the novel architecture catalyzed progress in self-supervised pretraining for speech recognition, *e.g.* [*G. Ng et al.*, 2021](https://arxiv.org/pdf/2104.03416.pdf), [*Chen et al*, 2021](https://arxiv.org/abs/2110.13900), [*Hsu et al.*, 2021](https://arxiv.org/abs/2106.07447) and [*Babu et al.*, 2021](https://arxiv.org/abs/2111.09296). On the Hugging Face Hub, Wav2Vec2's most popular pre-trained checkpoint currently amounts to over [**250,000** monthly downloads](https://huggingface.co/facebook/wav2vec2-base-960h).\n",
        "\n",
        "Using Connectionist Temporal Classification (CTC), pre-trained Wav2Vec2-like checkpoints are extremely easy to fine-tune on downstream speech recognition tasks.\n",
        "In a nutshell, fine-tuning pre-trained Wav2Vec2 checkpoints works as follows: \n",
        "\n",
        "A single randomly initialized linear layer is stacked on top of the pre-trained checkpoint and trained to classify raw audio input to a sequence of letters. It does so by:\n",
        "\n",
        "1.  extracting audio representations from the raw audio (using CNN layers),\n",
        "2. processing the sequence of audio representations with a stack of transformer layers, and,\n",
        "3. classifying the processed audio representations into a sequence of output letters.\n",
        "\n",
        "Previously audio classification models required an additional language model (LM) and a dictionary to transform the sequence of classified audio frames to a coherent transcription.\n",
        "Wav2Vec2's architecture is based on transformer layers, thus giving each processed audio representation context \n",
        "from all other audio representations. In addition, \n",
        "Wav2Vec2 leverages the [CTC algorithm](https://distill.pub/2017/ctc/) for fine-tuning, which solves the problem of alignment between a varying \"input audio length\"-to-\"output text length\" ratio.\n",
        "\n",
        "Having contextualized audio classifications and no alignment problems, Wav2Vec2 does not require \n",
        "an external language model or dictionary to yield acceptable audio transcriptions.\n",
        "\n",
        "As can be seen in Appendix C of the [official paper](https://arxiv.org/abs/2006.11477), Wav2Vec2 gives impressive downstream performances on [LibriSpeech]((https://huggingface.co/datasets/librispeech_asr)) without using a language model at all. However, from the appendix, it also becomes clear that using Wav2Vec2 in combination with a language model can yield a significant improvement, especially when the model was trained on only 10 minutes of transcribed audio.\n",
        "\n",
        "Until recently, the 🤗 Transformers library did not offer a simple user interface to decode audio files with a fine-tuned Wav2Vec2 **and** a language model. This has thankfully changed. 🤗 Transformers now offers an easy-to-use integration with *Kensho Technologies'* [pyctcdecode library](https://github.com/kensho-technologies/pyctcdecode). This blog post is a step-by-step **technical** guide to explain how one can create an **n-gram** language model and combine it with an existing fine-tuned Wav2Vec2 checkpoint using 🤗 Datasets and 🤗 Transformers.\n",
        "\n",
        "We start by:\n",
        "\n",
        "1. How does decoding audio with an LM differ from decoding audio without an LM?\n",
        "2. How to get suitable data for a language model?\n",
        "3. How to build an *n-gram* with KenLM?\n",
        "4. How to combine the *n-gram* with a fine-tuned Wav2Vec2 checkpoint?\n",
        "\n",
        "For a deep dive into how Wav2Vec2 functions - which is not necessary for this blog post - the reader is advised to consult the following material:\n",
        "\n",
        "- [wav2vec 2.0: A Framework for Self-Supervised Learning of Speech Representations](https://arxiv.org/abs/2006.11477)\n",
        "- [Fine-Tune Wav2Vec2 for English ASR with 🤗 Transformers](https://huggingface.co/blog/fine-tune-wav2vec2-english)\n",
        "- [An Illustrated Tour of Wav2vec 2.0](https://jonathanbgn.com/2021/09/30/illustrated-wav2vec-2.html)"
      ],
      "metadata": {
        "id": "1LrJXl6HY3xO"
      }
    },
    {
      "cell_type": "markdown",
      "source": [
        "## **1. Decoding audio data with Wav2Vec2 and a language model**\n",
        "\n",
        "As shown in 🤗 Transformers [exemple docs of Wav2Vec2](https://huggingface.co/docs/transformers/master/en/model_doc/wav2vec2#transformers.Wav2Vec2ForCTC), audio can be transcribed as follows.\n",
        "\n",
        "We install `datasets` and `transformers` as well as `pyctcdecode` and `kenLM`'s Python bindings to be able to run the language model integration.\n",
        "\n"
      ],
      "metadata": {
        "id": "nu5oeVSvprSp"
      }
    },
    {
      "cell_type": "code",
      "source": [
        "!pip install https://github.com/kpu/kenlm/archive/master.zip \n",
        "!pip install pyctcdecode==0.3.0\n",
        "!pip install datasets==2.0.0\n",
        "!pip install transformers==4.18.0"
      ],
      "metadata": {
        "id": "OWGc_zfyq5_T",
        "outputId": "dc2cc24a-48c9-4e40-bba4-29dea7b4b377",
        "colab": {
          "base_uri": "https://localhost:8080/"
        }
      },
      "execution_count": 1,
      "outputs": [
        {
          "output_type": "stream",
          "name": "stdout",
          "text": [
            "Collecting https://github.com/kpu/kenlm/archive/master.zip\n",
            "  Using cached https://github.com/kpu/kenlm/archive/master.zip (542 kB)\n",
            "\u001b[31mERROR: Invalid requirement: 'datasets=2.0.0'\n",
            "Hint: = is not a valid operator. Did you mean == ?\u001b[0m\n",
            "ERROR: unknown command \"transformers==4.18.0\"\n"
          ]
        }
      ]
    },
    {
      "cell_type": "markdown",
      "source": [
        "Let's load a small excerpt of the [Librispeech dataset](https://huggingface.co/datasets/librispeech_asr) to demonstrate Wav2Vec2's speech transcription capabilities."
      ],
      "metadata": {
        "id": "ZzcM5yC5rICZ"
      }
    },
    {
      "cell_type": "code",
      "source": [
        "from datasets import load_dataset\n",
        "\n",
        "dataset = load_dataset(\"hf-internal-testing/librispeech_asr_demo\", \"clean\", split=\"validation\")\n",
        "dataset"
      ],
      "metadata": {
        "colab": {
          "base_uri": "https://localhost:8080/"
        },
        "id": "dAerOhydrNFR",
        "outputId": "e583d892-8ac6-4853-d93d-f4cc38df4cf5"
      },
      "execution_count": 2,
      "outputs": [
        {
          "output_type": "stream",
          "name": "stderr",
          "text": [
            "Reusing dataset librispeech_asr (/root/.cache/huggingface/datasets/hf-internal-testing___librispeech_asr/clean/2.1.0/d3bc4c2bc2078fcde3ad0f0f635862e4c0fef78ba94c4a34c4c250a097af240b)\n"
          ]
        },
        {
          "output_type": "execute_result",
          "data": {
            "text/plain": [
              "Dataset({\n",
              "    features: ['file', 'audio', 'text', 'speaker_id', 'chapter_id', 'id'],\n",
              "    num_rows: 73\n",
              "})"
            ]
          },
          "metadata": {},
          "execution_count": 2
        }
      ]
    },
    {
      "cell_type": "markdown",
      "source": [
        "We can pick one of the 73 audio samples and listen to it."
      ],
      "metadata": {
        "id": "-AkdbAlyrszm"
      }
    },
    {
      "cell_type": "code",
      "source": [
        "import IPython.display as ipd\n",
        "\n",
        "audio_sample = dataset[2]\n",
        "print(audio_sample[\"text\"].lower())\n",
        "ipd.Audio(data=audio_sample[\"audio\"][\"array\"], autoplay=True, rate=audio_sample[\"audio\"][\"sampling_rate\"])"
      ],
      "metadata": {
        "colab": {
          "base_uri": "https://localhost:8080/",
          "height": 94
        },
        "id": "pSomT7k_r1QX",
        "outputId": "3ec38ba3-addd-409b-938f-9449c97796f2"
      },
      "execution_count": 3,
      "outputs": [
        {
          "output_type": "stream",
          "name": "stdout",
          "text": [
            "he tells us that at this festive season of the year with christmas and roast beef looming before us similes drawn from eating and its results occur most readily to the mind\n"
          ]
        },
        {
          "output_type": "execute_result",
          "data": {
            "text/plain": [
              "<IPython.lib.display.Audio object>"
            ],
            "text/html": [
              "\n",
              "                <audio controls=\"controls\" autoplay=\"autoplay\">\n",
              "                    <source src=\"data:audio/wav;base64,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\" type=\"audio/wav\" />\n",
              "                    Your browser does not support the audio element.\n",
              "                </audio>\n",
              "              "
            ]
          },
          "metadata": {},
          "execution_count": 3
        }
      ]
    },
    {
      "cell_type": "markdown",
      "source": [
        "Having chosen a data sample, we now load the fine-tuned model and processor."
      ],
      "metadata": {
        "id": "ZbBGOqQusdO6"
      }
    },
    {
      "cell_type": "code",
      "source": [
        "from transformers import Wav2Vec2Processor, Wav2Vec2ForCTC\n",
        "\n",
        "processor = Wav2Vec2Processor.from_pretrained(\"facebook/wav2vec2-base-100h\")\n",
        "model = Wav2Vec2ForCTC.from_pretrained(\"facebook/wav2vec2-base-100h\")"
      ],
      "metadata": {
        "id": "5FUPvu0crmsY",
        "outputId": "51417f7d-2b29-4d62-fbb1-c2e3fb4a2bf3",
        "colab": {
          "base_uri": "https://localhost:8080/"
        }
      },
      "execution_count": 4,
      "outputs": [
        {
          "output_type": "stream",
          "name": "stderr",
          "text": [
            "Some weights of the model checkpoint at facebook/wav2vec2-base-100h were not used when initializing Wav2Vec2ForCTC: ['wav2vec2.mask_time_emb_vector']\n",
            "- This IS expected if you are initializing Wav2Vec2ForCTC from the checkpoint of a model trained on another task or with another architecture (e.g. initializing a BertForSequenceClassification model from a BertForPreTraining model).\n",
            "- This IS NOT expected if you are initializing Wav2Vec2ForCTC from the checkpoint of a model that you expect to be exactly identical (initializing a BertForSequenceClassification model from a BertForSequenceClassification model).\n",
            "Some weights of Wav2Vec2ForCTC were not initialized from the model checkpoint at facebook/wav2vec2-base-100h and are newly initialized: ['wav2vec2.masked_spec_embed']\n",
            "You should probably TRAIN this model on a down-stream task to be able to use it for predictions and inference.\n"
          ]
        }
      ]
    },
    {
      "cell_type": "markdown",
      "source": [
        "Next, we process the data"
      ],
      "metadata": {
        "id": "7L8Th_yTslta"
      }
    },
    {
      "cell_type": "code",
      "source": [
        "inputs = processor(audio_sample[\"audio\"][\"array\"], sampling_rate=16_000, return_tensors=\"pt\")"
      ],
      "metadata": {
        "id": "6NoMX8qfssuw"
      },
      "execution_count": 5,
      "outputs": []
    },
    {
      "cell_type": "markdown",
      "source": [
        "forward it to the model"
      ],
      "metadata": {
        "id": "xyM2MqwEs1p7"
      }
    },
    {
      "cell_type": "code",
      "source": [
        "import torch\n",
        "\n",
        "with torch.no_grad():\n",
        "  logits = model(**inputs).logits"
      ],
      "metadata": {
        "id": "4KWDRrG0s27p"
      },
      "execution_count": 6,
      "outputs": []
    },
    {
      "cell_type": "markdown",
      "source": [
        "and decode it"
      ],
      "metadata": {
        "id": "pEHhf_1os4rZ"
      }
    },
    {
      "cell_type": "code",
      "source": [
        "predicted_ids = torch.argmax(logits, dim=-1)\n",
        "transcription = processor.batch_decode(predicted_ids)\n",
        "\n",
        "transcription[0].lower()"
      ],
      "metadata": {
        "colab": {
          "base_uri": "https://localhost:8080/",
          "height": 36
        },
        "id": "aJREUIdqs5ak",
        "outputId": "da21757f-7a6a-4501-9c6d-cb30fc9966f1"
      },
      "execution_count": 7,
      "outputs": [
        {
          "output_type": "execute_result",
          "data": {
            "text/plain": [
              "'he tells us that at this festive season of the year with christmaus and rose beef looming before us simalyis drawn from eating and its results occur most readily to the mind'"
            ],
            "application/vnd.google.colaboratory.intrinsic+json": {
              "type": "string"
            }
          },
          "metadata": {},
          "execution_count": 7
        }
      ]
    },
    {
      "cell_type": "markdown",
      "source": [
        "Comparing the transcription to the target transcription above, we can see that some words *sound* correct, but are not *spelled* correctly, *e.g.*:\n",
        "\n",
        "- *christmaus* vs. *christmas*\n",
        "- *rose* vs. *roast*\n",
        "- *simalyis* vs. *similes*\n",
        "\n",
        "Let's see whether combining Wav2Vec2 with an ***n-gram*** lnguage model can help here."
      ],
      "metadata": {
        "id": "ifBW-tM0yWhS"
      }
    },
    {
      "cell_type": "markdown",
      "source": [
        "For demonstration purposes, we have prepared a new model repository [patrickvonplaten/wav2vec2-base-100h-with-lm](https://huggingface.co/patrickvonplaten/wav2vec2-base-100h-with-lm) which contains the same Wav2Vec2 checkpoint but has an additional **4-gram** language model for English.\n",
        "\n",
        "Instead of using `Wav2Vec2Processor`, this time we use `Wav2Vec2ProcessorWithLM` to load the **4-gram** model in addition to the feature extractor and tokenizer."
      ],
      "metadata": {
        "id": "ak_X8SHqzjOY"
      }
    },
    {
      "cell_type": "code",
      "source": [
        "from transformers import Wav2Vec2ProcessorWithLM\n",
        "\n",
        "processor = Wav2Vec2ProcessorWithLM.from_pretrained(\"patrickvonplaten/wav2vec2-base-100h-with-lm\")"
      ],
      "metadata": {
        "id": "UydQ00uI0OEG",
        "outputId": "1f48c320-9f05-47f8-89ba-a0f8c1b5849f",
        "colab": {
          "base_uri": "https://localhost:8080/",
          "height": 273,
          "referenced_widgets": [
            "96f376c685c64d8e98339400cb48863e",
            "c3d87748d1404cf9ade042e3a761f05a",
            "e1e314c10d7f4793b1e7a0b732a2e6a8",
            "74f1d773c7f04c64bf8624ae4d9e5a7d",
            "9b0852846c7d4ad7bd734d50ee3cbfbd",
            "c7a932912ca643eeb8c56b26533e82aa",
            "718fc7dd86b847a78b522872bc04ec16",
            "b4e3403e9d33487596531b247cb48bb3",
            "328f0c4b85924fa3bb02da9b2309ce91",
            "99138bf4facc4f74a5a0d49c895747ea",
            "945f7c38b28542a5994f1ffdf1829e0f",
            "e4b6451778094174a53313d6ff4d39b6",
            "010cdfa4f9ae4980828656d64207185d",
            "e1e2bc27655b49759bd66c5ec129757d",
            "6eca73d6a640428682c9a04f8f7bcaa2",
            "372d784034624673b4d97d0ea5907102",
            "a7ea1b13443b4cdb82481930bd0f319c",
            "f8b38a4dfe684dd7863cf1c5486d806c",
            "d529526b8a984edf8e8ce5ca36b9f9f2",
            "ab6475fb9aef4556a7eee2a0ae721a20",
            "edac4976ba7c40c5937ec603a9ffe83b",
            "df493c247f7043a1a9eca22a8b6cd0e4",
            "2b26ae98af2f4e5d82feece8e5234470",
            "1542d8fd4a8c416085bf9bae38122c3f",
            "02cf6c8e3bdd4bd6a89da84845b94477",
            "ec2398c26559439ab01f871bf8de8be4",
            "d3f7990e70514eee89b2d3d9ca82207b",
            "ea1c2c55bc0d43238a013d5233d5109f",
            "8ffca73d393c45879a5883217f0e21a0",
            "55763327bc6d4e0e9d8b55f5d9b9905e",
            "522851bc2aa44be9a749cae18d9b8813",
            "a42ffec892364b8c817ce15ff74496de",
            "2cc3c596d3cf4209922ef93c48572acb",
            "cad0cec9f90f44feb4d182cbaeb92756",
            "ba86e563d8ba474380422b2ec922cdd3",
            "328d42d807c548dfbf5e953fd324e2ca",
            "d392836f92d842f881c7e0d2e66e4864",
            "639c04787d774ab180ac0d6a840cebdc",
            "7872b74e2313463c8b7f61ec56114fcb",
            "ee776a5c5be0419c85f03864797d3778",
            "db88a7e261f74b22b60cb2f997cf5452",
            "c0b606059871498794bd1ad8dc55e23e",
            "3fcaf685ad764fbd9c1156d384e1bd6a",
            "eceaea60e83a48fe910fc988b75d4a5a",
            "a9b39595a29f45159381f8251664cfe1",
            "2ce10965f67749c3b4976a475dd5bc35",
            "82d868a96bf0403b935d6efac2eb7e9f",
            "1f5d30e2ab624afbb7589e45c1f61eca",
            "42c7e935d74c46aebac5277edca44db5",
            "d4cdeda49c354f76a385a4b9be1a2ba1",
            "7664b2cd2a5849088c753105b4b24bc7",
            "c998068ffb2a45fabf864a11687242fc",
            "504ecfffa2db4e03950251c44b8a7a68",
            "c07b6c1883324149acff30fecc197b44",
            "2782036729d146c786829e8ac686c8f4",
            "42e3199c0c5f44919af3c8875faecfee",
            "92b6a8e6b80a46839865a33114ce2cce",
            "8149dadae80d4ed996d5d796eb7d2acc",
            "e33ac4664d2d42f88f22e1b9c82b4b41",
            "9b59644acd7d4999b1f41f042effc5db",
            "ba4cc579763f443ebfd03bad4817544d",
            "783329bcbeb94f41a2894e9574b17fbc",
            "f68da7106d6f47c1a7340b27a8f76b5f",
            "0e31652ee1714df9b47cd9aa9e4a0ce9",
            "de0aac4c130a4ab78fdd8c8a7b0c1f16",
            "395969406e414589b36ffff375809095",
            "b801d2d42e05482984f758c1539668f6",
            "675a3c51a29f4c3699e372fb3f52d059",
            "92ac1bcd60864bfba67653ac094c89b9",
            "2021480fd00d4f45886b75f44e2846a5",
            "5c847c7b73f0433abee048173cbe8e0e",
            "6177fa41b07d43ca8476ec27205804eb",
            "db56493aa510438cbd35ce2e32eb3054",
            "006e30bbbe3942db9f7e5febf424679a",
            "99e5dc456ba2475186d8a07baffedcdd",
            "d61f5693575d4f7fb8525d48b2f29543",
            "f8e168af7df043b7853fdf63b567e022",
            "4b0a6722113847b6b162deb42949fb8f",
            "38f7c79f463640d39e7d731e1d0cf59c",
            "474cf37344164f3395f8e097277a2e7a",
            "06d2c793d75043a1ae5143f873e49484",
            "735dd2fb679042d39f88ae6733a515bb",
            "918c819e7a464c3d9062d02b91f1824a",
            "0cf0f93c86614050975617aa276c9573",
            "474d517b11114ad3af7349b1a6270241",
            "aa33545861d94112adcd931355c81ee1",
            "a55f14b3cadb400bbdddf18191c7aca8",
            "94cea41ffbfb42ac913daa242266ff2c"
          ]
        }
      },
      "execution_count": 8,
      "outputs": [
        {
          "output_type": "display_data",
          "data": {
            "text/plain": [
              "Downloading:   0%|          | 0.00/263 [00:00<?, ?B/s]"
            ],
            "application/vnd.jupyter.widget-view+json": {
              "version_major": 2,
              "version_minor": 0,
              "model_id": "96f376c685c64d8e98339400cb48863e"
            }
          },
          "metadata": {}
        },
        {
          "output_type": "display_data",
          "data": {
            "text/plain": [
              "Downloading:   0%|          | 0.00/291 [00:00<?, ?B/s]"
            ],
            "application/vnd.jupyter.widget-view+json": {
              "version_major": 2,
              "version_minor": 0,
              "model_id": "e4b6451778094174a53313d6ff4d39b6"
            }
          },
          "metadata": {}
        },
        {
          "output_type": "display_data",
          "data": {
            "text/plain": [
              "Downloading:   0%|          | 0.00/559 [00:00<?, ?B/s]"
            ],
            "application/vnd.jupyter.widget-view+json": {
              "version_major": 2,
              "version_minor": 0,
              "model_id": "2b26ae98af2f4e5d82feece8e5234470"
            }
          },
          "metadata": {}
        },
        {
          "output_type": "display_data",
          "data": {
            "text/plain": [
              "Downloading:   0%|          | 0.00/85.0 [00:00<?, ?B/s]"
            ],
            "application/vnd.jupyter.widget-view+json": {
              "version_major": 2,
              "version_minor": 0,
              "model_id": "cad0cec9f90f44feb4d182cbaeb92756"
            }
          },
          "metadata": {}
        },
        {
          "output_type": "display_data",
          "data": {
            "text/plain": [
              "Downloading:   0%|          | 0.00/198 [00:00<?, ?B/s]"
            ],
            "application/vnd.jupyter.widget-view+json": {
              "version_major": 2,
              "version_minor": 0,
              "model_id": "a9b39595a29f45159381f8251664cfe1"
            }
          },
          "metadata": {}
        },
        {
          "output_type": "display_data",
          "data": {
            "text/plain": [
              "Downloading:   0%|          | 0.00/3.12G [00:00<?, ?B/s]"
            ],
            "application/vnd.jupyter.widget-view+json": {
              "version_major": 2,
              "version_minor": 0,
              "model_id": "42e3199c0c5f44919af3c8875faecfee"
            }
          },
          "metadata": {}
        },
        {
          "output_type": "display_data",
          "data": {
            "text/plain": [
              "Downloading:   0%|          | 0.00/78.0 [00:00<?, ?B/s]"
            ],
            "application/vnd.jupyter.widget-view+json": {
              "version_major": 2,
              "version_minor": 0,
              "model_id": "b801d2d42e05482984f758c1539668f6"
            }
          },
          "metadata": {}
        },
        {
          "output_type": "display_data",
          "data": {
            "text/plain": [
              "Downloading:   0%|          | 0.00/1.74M [00:00<?, ?B/s]"
            ],
            "application/vnd.jupyter.widget-view+json": {
              "version_major": 2,
              "version_minor": 0,
              "model_id": "4b0a6722113847b6b162deb42949fb8f"
            }
          },
          "metadata": {}
        }
      ]
    },
    {
      "cell_type": "markdown",
      "source": [
        "In constrast to decoding the audio without language model, the processor now directly receives the model's output `logits` instead of the `argmax(logits)` (called `predicted_ids`) above. The reason is that when decoding with a language model, at each time step, the processor takes the probabilities of all possible output characters into account. Let's take a look at the dimension of the `logits` output."
      ],
      "metadata": {
        "id": "cYZrzLQ02U4y"
      }
    },
    {
      "cell_type": "code",
      "source": [
        "logits.shape"
      ],
      "metadata": {
        "colab": {
          "base_uri": "https://localhost:8080/"
        },
        "id": "WJvldi0C5OaW",
        "outputId": "ef6210a9-9652-4fc0-dc61-007dc85de5f5"
      },
      "execution_count": null,
      "outputs": [
        {
          "output_type": "execute_result",
          "data": {
            "text/plain": [
              "torch.Size([1, 624, 32])"
            ]
          },
          "metadata": {},
          "execution_count": 11
        }
      ]
    },
    {
      "cell_type": "markdown",
      "source": [
        "We can see that the `logits` correspond to a sequence of 624 vectors each having 32 entries. Each of the 32 entries thereby stands for the logit probability of one of the 32 possible output characters of the model:"
      ],
      "metadata": {
        "id": "ySU0i3oZ5Vdm"
      }
    },
    {
      "cell_type": "code",
      "source": [
        "\" \".join(sorted(processor.tokenizer.get_vocab()))"
      ],
      "metadata": {
        "colab": {
          "base_uri": "https://localhost:8080/",
          "height": 35
        },
        "id": "rRz0_vm95i6E",
        "outputId": "0b076acf-c839-4a66-8059-e7261e9f0024"
      },
      "execution_count": null,
      "outputs": [
        {
          "output_type": "execute_result",
          "data": {
            "application/vnd.google.colaboratory.intrinsic+json": {
              "type": "string"
            },
            "text/plain": [
              "\"' </s> <pad> <s> <unk> A B C D E F G H I J K L M N O P Q R S T U V W X Y Z |\""
            ]
          },
          "metadata": {},
          "execution_count": 12
        }
      ]
    },
    {
      "cell_type": "markdown",
      "source": [
        "Intuitively, one can understand the decoding process of `Wav2Vec2ProcessorWithLM` as applying beam search through a matrix of size 624 $\\times$ 32 probabilities while leveraging the probabilities of the next letters as given by the *n-gram* language model.\n",
        "\n",
        "OK, let's run the decoding step again. `pyctcdecode` language model decoder does not automatically convert `torch` tensors to `numpy` so we'll have to convert them ourselves before."
      ],
      "metadata": {
        "id": "u60UcdWL5ub-"
      }
    },
    {
      "cell_type": "code",
      "source": [
        "transcription = processor.batch_decode(logits.numpy()).text\n",
        "transcription[0].lower()"
      ],
      "metadata": {
        "colab": {
          "base_uri": "https://localhost:8080/",
          "height": 35
        },
        "id": "DFRgWyuUAZI4",
        "outputId": "45b35f41-bc95-4297-e8a7-30d7c3980ac9"
      },
      "execution_count": null,
      "outputs": [
        {
          "output_type": "execute_result",
          "data": {
            "application/vnd.google.colaboratory.intrinsic+json": {
              "type": "string"
            },
            "text/plain": [
              "'he tells us that at this festive season of the year with christmas and rose beef looming before us similes drawn from eating and its results occur most readily to the mind'"
            ]
          },
          "metadata": {},
          "execution_count": 62
        }
      ]
    },
    {
      "cell_type": "markdown",
      "source": [
        "Cool! Recalling the words `facebook/wav2vec2-base-100h` without a language model transcribed incorrectly previously, *e.g.*,\n",
        "\n",
        "> - *christmaus* vs. *christmas*\n",
        "- *rose* vs. *roast*\n",
        "- *simalyis* vs. *similes*\n",
        "\n",
        "we can take another look at the transcription of `facebook/wav2vec2-base-100h` **with** a 4-gram language model. 2 out of 3 errors are corrected; *christmas* and *similes* have been correctly transcribed.\n",
        "\n",
        "Interestingly, the incorrect transcription of *rose* persists. However, this should not surprise us very much. Decoding audio without a language model is much more prone to yield spelling mistakes, such as *christmaus* or *similes* (those words don't exist in the English language as far as I know). This is because the speech recognition system almost solely bases its prediction on the acoustic input it was given and not really on the language modeling context of previous and successive predicted letters ${}^1$. \n",
        "If on the other hand, we add a language model, we can be fairly sure that the speech recognition system will heavily reduce spelling errors since a well-trained *n-gram* model will surely not predict a word that has spelling errors. But the word *rose* is a valid English word and therefore the 4-gram will predict this word with a probability that is not insignificant. \n",
        "\n",
        "The language model on its own most likely does favor the correct word *roast* since the word sequence *roast beef* is much more common in English than *rose beef*. Because the final transcription is derived from a weighted combination of `facebook/wav2vec2-base-100h` output probabilities and those of the *n-gram* language model, it is quite common to see incorrectly transcribed words such as *rose*.\n",
        "\n",
        "For more information on how you can tweak different parameters when decoding with `Wav2Vec2ProcessorWithLM`, please take a look at the official documentation [here](https://huggingface.co/docs/transformers/master/en/model_doc/wav2vec2#transformers.Wav2Vec2ProcessorWithLM.batch_decode).\n",
        "\n",
        "---\n",
        "${}^1$ Some research shows that a model such as `facebook/wav2vec2-base-100h` - when sufficiently large and trained on enough data - can learn language modeling dependencies between intermediate audio representations similar to a language model.\n"
      ],
      "metadata": {
        "id": "E4CiVIftDEMd"
      }
    },
    {
      "cell_type": "markdown",
      "source": [
        "Great, now that you have seen the advantages adding an *n-gram* language model can bring, let's dive into how to create an *n-gram* and `Wav2Vec2ProcessorWithLM` from scratch."
      ],
      "metadata": {
        "id": "9FKW9cqzKMMo"
      }
    },
    {
      "cell_type": "markdown",
      "source": [
        "## **2. Getting data for your language model**\n",
        "\n",
        "A language model that is useful for a speech recognition system should support the acoustic model, *e.g.* Wav2Vec2, in predicting the next word (or token, letter) and therefore model the following distribution:\n",
        "\n",
        "$\\mathbf{P}(w_n | \\mathbf{w}_0^{t-1})$ with $w_n$ being the next word and $\\mathbf{w}_0^{t-1}$ being the sequence of all previous words since the beginning of the utterance. Simply said, the language model should be good at predicting the next word given all previously transcribed words regardless of the audio input given to the speech recognition system.\n",
        "\n",
        "As always a language model is only as good as the data it is trained on. In the case of speech recognition, we should therefore ask ourselves for what kind of data, the speech recognition will be used for: *conversations*, *audiobooks*, *movies*, *speeches*, *, etc*, ...?\n",
        "\n",
        "The language model should be good at modeling language that corresponds to the \n",
        "target transcriptions of the speech recognition system. \n",
        "For demonstration purposes, we assume here that we have fine-tuned a pre-trained [`facebook/wav2vec2-xls-r-300m`](https://huggingface.co/facebook/wav2vec2-xls-r-300m) on [Common Voice 7](https://huggingface.co/datasets/mozilla-foundation/common_voice_7_0) in Swedish. The fine-tuned checkpoint can \n",
        "be found [here](https://huggingface.co/hf-test/xls-r-300m-sv).\n",
        "Common Voice 7 is a relatively crowd-sourced read-out audio dataset and we will evaluate the model on its test data.\n",
        "\n",
        "Let's now look for suitable text data on the Hugging Face Hub. We search all datasets for those [that contain Swedish data](https://huggingface.co/datasets?languages=languages:sv&sort=downloads). \n",
        "Browsing a bit through the datasets, we are looking for a dataset that is similar to Common Voice's read-out audio data. The obvious choices of [oscar](https://huggingface.co/datasets/oscar) and [mc4](https://huggingface.co/datasets/mc4) might not be the most suitable here because they:\n",
        "\n",
        "- are generated from crawling the web, which might not be very clean and correspond well to spoken language\n",
        "- require a lot of pre-processing\n",
        "- are very large which is not ideal for demonstration purposes here 😉\n",
        "\n",
        "A dataset that seems sensible here and which is relatively clean and easy to pre-process is [europarl_bilingual](https://huggingface.co/datasets/europarl_bilingual) as it's a dataset that is based on discussions and talks of the European parliament. It should therefore be relatively clean and correspond well to read-out audio data. The dataset is originally designed for machine translation and can therefore only be accessed in translation pairs. We will only extract the text of the target language, Swedish (`sv`), from the *English-to-Swedish* translations."
      ],
      "metadata": {
        "id": "QEz599PfmPeG"
      }
    },
    {
      "cell_type": "code",
      "source": [
        "target_lang=\"sv\"  # change to your target lang"
      ],
      "metadata": {
        "id": "chZw03lUVAnr"
      },
      "execution_count": null,
      "outputs": []
    },
    {
      "cell_type": "markdown",
      "source": [
        "Let's download the data."
      ],
      "metadata": {
        "id": "cOLruPJsVS98"
      }
    },
    {
      "cell_type": "code",
      "source": [
        "from datasets import load_dataset\n",
        "\n",
        "dataset = load_dataset(\"europarl_bilingual\", lang1=\"en\", lang2=target_lang, split=\"train\")\n",
        "dataset"
      ],
      "metadata": {
        "colab": {
          "base_uri": "https://localhost:8080/",
          "height": 249,
          "referenced_widgets": [
            "7830943670c647e2acc786e9a7ef103e",
            "d99f9340c4934c4499f36e4ad3b6e058",
            "c774e4b19776448f96c52bc10c8c0f14",
            "5d390778f917446baa13022eac784d2b",
            "f3ae537bfceb4f31b51aaeaa18005375",
            "0ccb0717dcfd4190bd9d1eb7c7960346",
            "3f6896738e7747f1b98944cc1a992f2d",
            "bdc026a9eead4f2cbd91dc8e87d6429b",
            "ff5acc78c9ef4de7b3b885a99e24ca7a",
            "5d3ae82cc5a84f7c82d09ab2133ec27a",
            "f3cb069591e74375832a4a3c5f14e37f",
            "700d5a80528741a99a23446b754ae63b",
            "6b67eb50c94e4223aa19a3b7ff9e000b",
            "0b38debae1fe49179c0618a8345f7edd",
            "b92dc5b737234642992c24ab51c3a618",
            "db94e0efc80748fc9a250a19ed228055",
            "50416acba7e2414ebc038cab753810d5",
            "5567471b84404f4daae83ede67e4e683",
            "7afb72afa7ae463c9c0e2066b0d394c9",
            "83fe3a36a08d4fbbbdfa9fd9c8adfadb",
            "a19388b2d8a94eee865c7a5dcfb25ad0",
            "35c82d7720d54545964631502b3acea1",
            "6818b169b69c4c689f382449666f9090",
            "f59853fe53754a46a16bc483d63567ca",
            "5f68506b6e394d3d9cd89898032c52b4",
            "adb99f5d7fab4fe5bc8cb21a94b84ca1",
            "cc5b87a2c3804058977f281d410c03c2",
            "0d9493bb59f74df19801c8cee4b30f86",
            "cb030d4e259a4125821848c7e88b8ea4",
            "5fde4fda09524af8ac11b6a3b8c080a6",
            "4d037c9b9c0044d8a3c10781afef2ead",
            "6d5d8e2ca10f4dc7920a75dc7f8c2044",
            "842acfadced34c90a6b90e974d4de536",
            "32101323a7a648ff87a3348da0a1a997",
            "28a1463958874651b13793a404d7821e",
            "a80248b900504fbdbfc850a5af86a902",
            "d2000fb6441740179384584dafd25557",
            "18407378be464639995c442035481ef2",
            "9d8f1345c4ee4c4f8fd9863784a8287a",
            "c60dfab7b8cf4f489a77c687e33c3c6e",
            "463796a8f34b49ca8c5c55c026150fb5",
            "7c68506bcef74a97a4abacfa21581c88",
            "6fdd4d8527ae48028d7e692e8df31fe0",
            "27ac434d28f942f3952710ebf6a53727",
            "d19500bd258e45179242d1292e0c2a6a",
            "b35f4164c9a6424ca6cb00a4bd2b2e3f",
            "db4d149310d44c2990e42f1ddcd7324e",
            "37dcda9b3fff4a7786985a552079120b",
            "43305fbd971d4c8aa007e8e176b6dbf0",
            "eeb49043b4db4b0396b0a792d8af7d8a",
            "43289d434e2d412f91b9fc6dbecb9ca8",
            "d59a9e78205543bfad948d0cb8ac7d09",
            "ff99a2bf3f824cb5bd21bdfb8c7843bf",
            "1861bec692b84f04a0347d7181ea8b25",
            "eca88a05dd3944c1b6bda1564fdc752a",
            "1b0079ee2a9e412395267d522a016b0d",
            "4e46025d1b5d48acabc09fe338b48fdc",
            "eb39fba9160d497c98011d72b35c8d61",
            "08112f8edcb6424f94b9211ed931103a",
            "bd11c540926147b9ad7f66ad4e86f2fa",
            "c355e48eb29f4e668ea1c384654e4790",
            "d43c9ec1efac49b290981eac0f6177ac",
            "3bbd57969c944726964b7500dd6140bf",
            "5015b7be5ef6411898f3cd68c87ea531",
            "594540ee3f05442680ca5db326f35e72",
            "a3c42da7382f461c8c0aad27ea7930b5"
          ]
        },
        "id": "IrAzjWc3Ok2l",
        "outputId": "ab3b43f5-e7f7-41a7-bff5-b1d68929b740"
      },
      "execution_count": null,
      "outputs": [
        {
          "output_type": "display_data",
          "data": {
            "application/vnd.jupyter.widget-view+json": {
              "model_id": "7830943670c647e2acc786e9a7ef103e",
              "version_minor": 0,
              "version_major": 2
            },
            "text/plain": [
              "Downloading:   0%|          | 0.00/2.60k [00:00<?, ?B/s]"
            ]
          },
          "metadata": {}
        },
        {
          "output_type": "display_data",
          "data": {
            "application/vnd.jupyter.widget-view+json": {
              "model_id": "700d5a80528741a99a23446b754ae63b",
              "version_minor": 0,
              "version_major": 2
            },
            "text/plain": [
              "Downloading:   0%|          | 0.00/29.6k [00:00<?, ?B/s]"
            ]
          },
          "metadata": {}
        },
        {
          "output_type": "stream",
          "name": "stderr",
          "text": [
            "Using custom data configuration en-sv-lang1=en,lang2=sv\n"
          ]
        },
        {
          "output_type": "stream",
          "name": "stdout",
          "text": [
            "Downloading and preparing dataset europarl_bilingual/en-sv (download: 264.89 MiB, generated: 556.15 MiB, post-processed: Unknown size, total: 821.04 MiB) to /root/.cache/huggingface/datasets/europarl_bilingual/en-sv-lang1=en,lang2=sv/8.0.0/2ab0200e7729616bfd4a4df6bfb29b31746ceb5a59f8c75c02ca35e1ebead950...\n"
          ]
        },
        {
          "output_type": "display_data",
          "data": {
            "application/vnd.jupyter.widget-view+json": {
              "model_id": "6818b169b69c4c689f382449666f9090",
              "version_minor": 0,
              "version_major": 2
            },
            "text/plain": [
              "Downloading:   0%|          | 0.00/142M [00:00<?, ?B/s]"
            ]
          },
          "metadata": {}
        },
        {
          "output_type": "display_data",
          "data": {
            "application/vnd.jupyter.widget-view+json": {
              "model_id": "32101323a7a648ff87a3348da0a1a997",
              "version_minor": 0,
              "version_major": 2
            },
            "text/plain": [
              "Downloading:   0%|          | 0.00/127M [00:00<?, ?B/s]"
            ]
          },
          "metadata": {}
        },
        {
          "output_type": "display_data",
          "data": {
            "application/vnd.jupyter.widget-view+json": {
              "model_id": "d19500bd258e45179242d1292e0c2a6a",
              "version_minor": 0,
              "version_major": 2
            },
            "text/plain": [
              "Downloading:   0%|          | 0.00/8.90M [00:00<?, ?B/s]"
            ]
          },
          "metadata": {}
        },
        {
          "output_type": "display_data",
          "data": {
            "application/vnd.jupyter.widget-view+json": {
              "model_id": "1b0079ee2a9e412395267d522a016b0d",
              "version_minor": 0,
              "version_major": 2
            },
            "text/plain": [
              "0 examples [00:00, ? examples/s]"
            ]
          },
          "metadata": {}
        },
        {
          "output_type": "stream",
          "name": "stdout",
          "text": [
            "Dataset europarl_bilingual downloaded and prepared to /root/.cache/huggingface/datasets/europarl_bilingual/en-sv-lang1=en,lang2=sv/8.0.0/2ab0200e7729616bfd4a4df6bfb29b31746ceb5a59f8c75c02ca35e1ebead950. Subsequent calls will reuse this data.\n"
          ]
        }
      ]
    },
    {
      "cell_type": "markdown",
      "source": [
        "We see that the data is quite large - it has over a million translations. Since it's only text data, it should be relatively easy to process though.\n",
        "\n",
        "Next, let's look at how the data was preprocessed when training the fine-tuned *XLS-R* checkpoint in Swedish. Looking at the [`run.sh` file](https://huggingface.co/hf-test/xls-r-300m-sv/blob/main/run.sh), we can see that the following characters were removed from the official transcriptions:"
      ],
      "metadata": {
        "id": "9eNZuRBxqpo4"
      }
    },
    {
      "cell_type": "code",
      "source": [
        "chars_to_ignore_regex = '[,?.!\\-\\;\\:\\\"“%‘”�—’…–]'  # change to the ignored characters of your fine-tuned model"
      ],
      "metadata": {
        "id": "xu_ijSi7X4C4"
      },
      "execution_count": null,
      "outputs": []
    },
    {
      "cell_type": "markdown",
      "source": [
        "Let's do the same here so that the alphabet of our language model matches the one of the fine-tuned acoustic checkpoints.\n",
        "\n",
        "We can write a single map function to extract the Swedish text and process it right away."
      ],
      "metadata": {
        "id": "pqSMaIG-rLKG"
      }
    },
    {
      "cell_type": "code",
      "source": [
        "import re\n",
        "\n",
        "def extract_text(batch):\n",
        "  text = batch[\"translation\"][target_lang]\n",
        "  batch[\"text\"] = re.sub(chars_to_ignore_regex, \"\", text.lower())\n",
        "  return batch"
      ],
      "metadata": {
        "id": "WFIU8e8AR3tW"
      },
      "execution_count": null,
      "outputs": []
    },
    {
      "cell_type": "markdown",
      "source": [
        "Let's apply the `.map()` function. This should take roughly 5 minutes."
      ],
      "metadata": {
        "id": "pJ1HrbGBrdUT"
      }
    },
    {
      "cell_type": "code",
      "source": [
        "dataset = dataset.map(extract_text, remove_columns=dataset.column_names)\n",
        "dataset"
      ],
      "metadata": {
        "colab": {
          "base_uri": "https://localhost:8080/",
          "height": 49,
          "referenced_widgets": [
            "e115e1d9b2864d2c87091fba897965d8",
            "b36451ac8c0144b7bc0541279b880188",
            "34ccc2f81a1d4670a769167fc7175196",
            "d9d4c0d791f44c48afcf99b99f427912",
            "d759ea9e52d040dd822a4475c5773fef",
            "a2fab072164c4f7e8466fc9cf945ec98",
            "d57756aba46d423091cb837a6e77bdac",
            "6be621402dee403e9ddeb2a27b2ae963",
            "ca051e7845d243829c472b09625632ae",
            "f2bde039b42245c8b5550760c0bd852e",
            "4966fdb14c814e969b2fc4495ddf5fbf"
          ]
        },
        "id": "fniFT4aARiBf",
        "outputId": "ec877c89-4776-4618-92f9-c21d0ed99b2c"
      },
      "execution_count": null,
      "outputs": [
        {
          "output_type": "display_data",
          "data": {
            "application/vnd.jupyter.widget-view+json": {
              "model_id": "e115e1d9b2864d2c87091fba897965d8",
              "version_minor": 0,
              "version_major": 2
            },
            "text/plain": [
              "  0%|          | 0/1892723 [00:00<?, ?ex/s]"
            ]
          },
          "metadata": {}
        }
      ]
    },
    {
      "cell_type": "markdown",
      "source": [
        "Great. Our dataset is already finished. Let's upload it to the Hub so that we can inspect and reuse it better.\n",
        "\n",
        "You can log in by executing the following cell."
      ],
      "metadata": {
        "id": "a-S979j9rh43"
      }
    },
    {
      "cell_type": "code",
      "source": [
        "from huggingface_hub import notebook_login\n",
        "\n",
        "notebook_login()"
      ],
      "metadata": {
        "colab": {
          "base_uri": "https://localhost:8080/",
          "height": 359,
          "referenced_widgets": [
            "1c53d909594943bbb5d0fd94336e411f",
            "d77dd37b636f4783b95b6537d8d4894e",
            "b08e4c16c4a54d3dafdb3d8600790f79",
            "655d33db040f4d3cb9e456e4d2d8e3db",
            "371907ecea7246e2934c661e98055686",
            "379aa4cd65b445bf9ff515db85cf3f1d",
            "e0ddf72b3bf649ab9a39541e23b1c9f6",
            "313a41a947dc4d3d86ff7f5d4e89f5d6",
            "5cefdf99e20040aeafa856c6aa902edf",
            "b9e50d3799ee44e7bd1b7be9705ac042",
            "ac5f844a04434e46bf2985c577b9cb9c",
            "34bd900b5ffe4460b7665d2bde94ffe5",
            "3a6add3b73464e539a8234162785c167",
            "1404882a362d400eb75d1b8fbd46a8c9",
            "36b339d43e4b4a329ca5847aad396995",
            "81304f8552ad4017b7a1455d9bcf94a0",
            "37f9d57c745d4d45afc5e44a6065c831"
          ]
        },
        "id": "JHTeonOGXiGq",
        "outputId": "7feac7dd-dc83-4a7c-e411-99358598a0ad"
      },
      "execution_count": null,
      "outputs": [
        {
          "output_type": "stream",
          "name": "stdout",
          "text": [
            "Login successful\n",
            "Your token has been saved to /root/.huggingface/token\n",
            "\u001b[1m\u001b[31mAuthenticated through git-credential store but this isn't the helper defined on your machine.\n",
            "You might have to re-authenticate when pushing to the Hugging Face Hub. Run the following command in your terminal in case you want to set this credential helper as the default\n",
            "\n",
            "git config --global credential.helper store\u001b[0m\n"
          ]
        }
      ]
    },
    {
      "cell_type": "markdown",
      "source": [
        "Next, we call 🤗 Hugging Face's [`push_to_hub`](https://huggingface.co/docs/datasets/package_reference/main_classes.html?highlight=push#datasets.Dataset.push_to_hub) method to upload the dataset to the repo `\"swedish_corpora_parliament_processed\"`."
      ],
      "metadata": {
        "id": "_93BHiJyrtKa"
      }
    },
    {
      "cell_type": "code",
      "source": [
        "dataset.push_to_hub(f\"{target_lang}_corpora_parliament_processed\", split=\"train\")"
      ],
      "metadata": {
        "colab": {
          "base_uri": "https://localhost:8080/",
          "height": 66,
          "referenced_widgets": [
            "8bffcb75f5504c11982df20cc1436d30",
            "77ba8b5340a04af5afac93c8c5404e85",
            "340eb2d5aea641e48b345c5ffcb7f9a2",
            "0e7f8a31a247414387b986f17bf38534",
            "42d9c84e3621405da37d711e2549f680",
            "2e08b650bc8646968e45d0e920617ce4",
            "3b8341f7d3f442888004ea42f16132be",
            "383b49eca642495ca017eacc7792b594",
            "b477e813af844dab8aafaeb53f1f5614",
            "84caa42de4fd4a3291db82c18243230f",
            "0098eec4256f43b69a057304fcf5269d"
          ]
        },
        "id": "Lv9qvqXob-HS",
        "outputId": "36145f9d-f3c1-42f6-b2f5-0c9081f981ad"
      },
      "execution_count": null,
      "outputs": [
        {
          "output_type": "stream",
          "name": "stderr",
          "text": [
            "The repository already exists: the `private` keyword argument will be ignored.\n"
          ]
        },
        {
          "output_type": "display_data",
          "data": {
            "application/vnd.jupyter.widget-view+json": {
              "model_id": "8bffcb75f5504c11982df20cc1436d30",
              "version_minor": 0,
              "version_major": 2
            },
            "text/plain": [
              "Pushing dataset shards to the dataset hub:   0%|          | 0/1 [00:00<?, ?it/s]"
            ]
          },
          "metadata": {}
        }
      ]
    },
    {
      "cell_type": "markdown",
      "source": [
        "That was easy! The dataset viewer is automatically enabled when uploading a new dataset, which is very convenient. You can now directly inspect the dataset online. \n",
        "\n",
        "Feel free to look through our preprocessed dataset directly on [`hf-test/sv_corpora_parliament_processed`](https://huggingface.co/datasets/hf-test/sv_corpora_parliament_processed). Even if we are not a native speaker in Swedish, we can see that the data is well processed and seems clean.\n",
        "\n",
        "Next, let's use the data to build a language model."
      ],
      "metadata": {
        "id": "A_lrje4kr6u6"
      }
    },
    {
      "cell_type": "markdown",
      "source": [
        "## **3. Build an *n-gram* with KenLM**\n",
        "\n",
        "While large language models based on the [Transformer architecture](https://jalammar.github.io/illustrated-transformer/) have become the standard in NLP, it is still very common to use an ***n-gram*** LM to boost speech recognition systems - as shown in Section 1.\n",
        "\n",
        "Looking again at Table 9 of Appendix C of the [official Wav2Vec2 paper](https://arxiv.org/abs/2006.11477), it can be noticed that using a *Transformer*-based LM for decoding clearly yields better results than using an *n-gram* model, but the difference between *n-gram* and *Transformer*-based LM is much less significant than the difference between *n-gram* and no LM. \n",
        "\n",
        "*E.g.*, for the large Wav2Vec2 checkpoint that was fine-tuned on 10min only, an *n-gram* reduces the word error rate (WER) compared to no LM by *ca.* 80% while a *Transformer*-based LM *only* reduces the WER by another 23% compared to the *n-gram*. This relative WER reduction becomes less, the more data the acoustic model has been trained on. *E.g.*, for the large checkpoint a *Transformer*-based LM reduces the WER by merely 8% compared to an *n-gram* LM whereas the *n-gram* still yields a 21% WER reduction compared to no language model.\n",
        "\n",
        "The reason why an *n-gram* is preferred over a *Transformer*-based LM is that *n-grams* come at a significantly smaller computational cost. For an *n-gram*, retrieving the probability of a word given previous words is almost only as computationally expensive as querying a look-up table or tree-like data storage - *i.e.* it's very fast compared to modern *Transformer*-based language models that would require a full forward pass to retrieve the next word probabilities.\n",
        "\n",
        "For more information on how *n-grams* function and why they are (still) so useful for speech recognition, the reader is advised to take a look at [this excellent summary](https://web.stanford.edu/~jurafsky/slp3/3.pdf) from Stanford."
      ],
      "metadata": {
        "id": "OHQXHWZIFN6_"
      }
    },
    {
      "cell_type": "markdown",
      "source": [
        "Great, let's see step-by-step how to build an *n-gram*. We will use the popular [KenLM library](https://github.com/kpu/kenlm) to do so. Let's start by installing the Ubuntu library prerequisites:"
      ],
      "metadata": {
        "id": "B4pX7mEXOH_7"
      }
    },
    {
      "cell_type": "code",
      "source": [
        "!sudo apt install build-essential cmake libboost-system-dev libboost-thread-dev libboost-program-options-dev libboost-test-dev libeigen3-dev zlib1g-dev libbz2-dev liblzma-dev"
      ],
      "metadata": {
        "id": "FKMMWfVQp_gP"
      },
      "execution_count": null,
      "outputs": []
    },
    {
      "cell_type": "markdown",
      "source": [
        "before downloading and unpacking the KenLM repo."
      ],
      "metadata": {
        "id": "JzHiJPg6OqvA"
      }
    },
    {
      "cell_type": "code",
      "source": [
        "!wget -O - https://kheafield.com/code/kenlm.tar.gz | tar xz"
      ],
      "metadata": {
        "id": "J8mm4ExzqIaZ"
      },
      "execution_count": null,
      "outputs": []
    },
    {
      "cell_type": "markdown",
      "source": [
        "KenLM is written in C++, so we'll make use of `cmake` to build the binaries."
      ],
      "metadata": {
        "id": "TKpjSxiDPKK-"
      }
    },
    {
      "cell_type": "code",
      "source": [
        "!mkdir kenlm/build && cd kenlm/build && cmake .. && make -j2\n",
        "!ls kenlm/build/bin"
      ],
      "metadata": {
        "id": "MS4mqMyZqVAI"
      },
      "execution_count": null,
      "outputs": []
    },
    {
      "cell_type": "markdown",
      "source": [
        "Great, as we can see, the executable functions have successfully been built under `kenlm/build/bin/`.\n",
        "\n",
        "KenLM by default computes an *n-gram* with [Kneser-Ney smooting](https://en.wikipedia.org/wiki/Kneser%E2%80%93Ney_smoothing). All text data used to create the *n-gram* is expected to be stored in a text file.\n",
        "We download our dataset and save it as a `.txt` file."
      ],
      "metadata": {
        "id": "N9D7JvVuPTOz"
      }
    },
    {
      "cell_type": "code",
      "source": [
        "from datasets import load_dataset\n",
        "\n",
        "username = \"hf-test\"  # change to your username\n",
        "\n",
        "dataset = load_dataset(f\"{username}/{target_lang}_corpora_parliament_processed\", split=\"train\")\n",
        "\n",
        "with open(\"text.txt\", \"w\") as file:\n",
        "  file.write(\" \".join(dataset[\"text\"]))"
      ],
      "metadata": {
        "id": "VIgErMqApENm"
      },
      "execution_count": null,
      "outputs": []
    },
    {
      "cell_type": "markdown",
      "source": [
        "Now, we just have to run KenLM's `lmplz` command to build our *n-gram*, called `\"5gram.arpa\"`. As it's relatively common in speech recognition, we build a *5-gram* by passing the `-o 5` parameter.\n",
        "For more information on the different *n-gram* LM that can be built \n",
        "with KenLM, one can take a look at the [official website of KenLM](https://kheafield.com/code/kenlm/).\n",
        "\n",
        "Executing the command below might take a minute or so."
      ],
      "metadata": {
        "id": "5SAQ0NszQyFC"
      }
    },
    {
      "cell_type": "code",
      "source": [
        "\n",
        "!kenlm/build/bin/lmplz -o 5 <\"text.txt\" > \"5gram.arpa\""
      ],
      "metadata": {
        "colab": {
          "base_uri": "https://localhost:8080/"
        },
        "id": "_MdDNBlZrPOm",
        "outputId": "2fedb568-ee37-4e9c-af8f-0456ac160e45"
      },
      "execution_count": null,
      "outputs": [
        {
          "output_type": "stream",
          "name": "stdout",
          "text": [
            "=== 1/5 Counting and sorting n-grams ===\n",
            "Reading /content/swedish_text.txt\n",
            "----5---10---15---20---25---30---35---40---45---50---55---60---65---70---75---80---85---90---95--100\n",
            "tcmalloc: large alloc 1918697472 bytes == 0x55d40d0f0000 @  0x7fdccb1a91e7 0x55d40b2f17a2 0x55d40b28c51e 0x55d40b26b2eb 0x55d40b257066 0x7fdcc9342bf7 0x55d40b258baa\n",
            "tcmalloc: large alloc 8953896960 bytes == 0x55d47f6c0000 @  0x7fdccb1a91e7 0x55d40b2f17a2 0x55d40b2e07ca 0x55d40b2e1208 0x55d40b26b308 0x55d40b257066 0x7fdcc9342bf7 0x55d40b258baa\n",
            "****************************************************************************************************\n",
            "Unigram tokens 42153890 types 360209\n",
            "=== 2/5 Calculating and sorting adjusted counts ===\n",
            "Chain sizes: 1:4322508 2:1062772928 3:1992699264 4:3188318720 5:4649631744\n",
            "tcmalloc: large alloc 4649631744 bytes == 0x55d40d0f0000 @  0x7fdccb1a91e7 0x55d40b2f17a2 0x55d40b2e07ca 0x55d40b2e1208 0x55d40b26b8d7 0x55d40b257066 0x7fdcc9342bf7 0x55d40b258baa\n",
            "tcmalloc: large alloc 1992704000 bytes == 0x55d561ce0000 @  0x7fdccb1a91e7 0x55d40b2f17a2 0x55d40b2e07ca 0x55d40b2e1208 0x55d40b26bcdd 0x55d40b257066 0x7fdcc9342bf7 0x55d40b258baa\n",
            "tcmalloc: large alloc 3188326400 bytes == 0x55d695a86000 @  0x7fdccb1a91e7 0x55d40b2f17a2 0x55d40b2e07ca 0x55d40b2e1208 0x55d40b26bcdd 0x55d40b257066 0x7fdcc9342bf7 0x55d40b258baa\n",
            "Statistics:\n",
            "1 360208 D1=0.686222 D2=1.01595 D3+=1.33685\n",
            "2 5476741 D1=0.761523 D2=1.06735 D3+=1.32559\n",
            "3 18177681 D1=0.839918 D2=1.12061 D3+=1.33794\n",
            "4 30374983 D1=0.909146 D2=1.20496 D3+=1.37235\n",
            "5 37231651 D1=0.944104 D2=1.25164 D3+=1.344\n",
            "Memory estimate for binary LM:\n",
            "type      MB\n",
            "probing 1884 assuming -p 1.5\n",
            "probing 2195 assuming -r models -p 1.5\n",
            "trie     922 without quantization\n",
            "trie     518 assuming -q 8 -b 8 quantization \n",
            "trie     806 assuming -a 22 array pointer compression\n",
            "trie     401 assuming -a 22 -q 8 -b 8 array pointer compression and quantization\n",
            "=== 3/5 Calculating and sorting initial probabilities ===\n",
            "Chain sizes: 1:4322496 2:87627856 3:363553620 4:728999592 5:1042486228\n",
            "----5---10---15---20---25---30---35---40---45---50---55---60---65---70---75---80---85---90---95--100\n",
            "####################################################################################################\n",
            "=== 4/5 Calculating and writing order-interpolated probabilities ===\n",
            "Chain sizes: 1:4322496 2:87627856 3:363553620 4:728999592 5:1042486228\n",
            "----5---10---15---20---25---30---35---40---45---50---55---60---65---70---75---80---85---90---95--100\n",
            "####################################################################################################\n",
            "=== 5/5 Writing ARPA model ===\n",
            "----5---10---15---20---25---30---35---40---45---50---55---60---65---70---75---80---85---90---95--100\n",
            "****************************************************************************************************\n",
            "Name:lmplz\tVmPeak:14181536 kB\tVmRSS:2199260 kB\tRSSMax:4160328 kB\tuser:120.598\tsys:26.6659\tCPU:147.264\treal:136.344\n"
          ]
        }
      ]
    },
    {
      "cell_type": "markdown",
      "source": [
        "Great, we have built a *5-gram* LM! Let's inspect the first couple of lines."
      ],
      "metadata": {
        "id": "1_58ktqcTBYi"
      }
    },
    {
      "cell_type": "code",
      "source": [
        "!head -20 5gram.arpa"
      ],
      "metadata": {
        "colab": {
          "base_uri": "https://localhost:8080/"
        },
        "id": "TRnV8Miusl--",
        "outputId": "b7a64d04-b3aa-47b9-f971-817f9e762ac2"
      },
      "execution_count": null,
      "outputs": [
        {
          "output_type": "stream",
          "name": "stdout",
          "text": [
            "\\data\\\n",
            "ngram 1=360208\n",
            "ngram 2=5476741\n",
            "ngram 3=18177681\n",
            "ngram 4=30374983\n",
            "ngram 5=37231651\n",
            "\n",
            "\\1-grams:\n",
            "-6.770219\t<unk>\t0\n",
            "0\t<s>\t-0.11831701\n",
            "-4.6095004\tåterupptagande\t-1.2174699\n",
            "-2.2361007\tav\t-0.79668784\n",
            "-4.8163533\tsessionen\t-0.37327805\n",
            "-2.2251768\tjag\t-1.4205662\n",
            "-4.181505\tförklarar\t-0.56261665\n",
            "-3.5790775\teuropaparlamentets\t-0.63611007\n",
            "-4.771945\tsession\t-0.3647111\n",
            "-5.8043895\tåterupptagen\t-0.3058712\n",
            "-2.8580177\tefter\t-0.7557702\n",
            "-5.199537\tavbrottet\t-0.43322718\n"
          ]
        }
      ]
    },
    {
      "cell_type": "markdown",
      "source": [
        "There is a small problem that 🤗 Transformers will not be happy about later on.\n",
        "The *5-gram* correctly includes a \"Unknown\" or `<unk>`, as well as a *begin-of-sentence*, `<s>` token, but no *end-of-sentence*, `</s>` token.\n",
        "This sadly has to be corrected currently after the build.\n",
        "\n",
        "We can simply add the *end-of-sentence* token by adding the line `0 </s>  -0.11831701` below the *begin-of-sentence* token and increasing the `ngram 1` count by 1. Because the file has roughly 100 million lines, this command will take *ca.* 2 minutes."
      ],
      "metadata": {
        "id": "l3jfwr2RTKPn"
      }
    },
    {
      "cell_type": "code",
      "source": [
        "with open(\"5gram.arpa\", \"r\") as read_file, open(\"5gram_correct.arpa\", \"w\") as write_file:\n",
        "  has_added_eos = False\n",
        "  for line in read_file:\n",
        "    if not has_added_eos and \"ngram 1=\" in line:\n",
        "      count=line.strip().split(\"=\")[-1]\n",
        "      write_file.write(line.replace(f\"{count}\", f\"{int(count)+1}\"))\n",
        "    elif not has_added_eos and \"<s>\" in line:\n",
        "      write_file.write(line)\n",
        "      write_file.write(line.replace(\"<s>\", \"</s>\"))\n",
        "      has_added_eos = True\n",
        "    else:\n",
        "      write_file.write(line)"
      ],
      "metadata": {
        "id": "_7u7dVPkvyRZ"
      },
      "execution_count": null,
      "outputs": []
    },
    {
      "cell_type": "markdown",
      "source": [
        "Let's now inspect the corrected *5-gram*."
      ],
      "metadata": {
        "id": "u9Y8uC3VW5vc"
      }
    },
    {
      "cell_type": "code",
      "source": [
        "!head -20 5gram_correct.arpa"
      ],
      "metadata": {
        "colab": {
          "base_uri": "https://localhost:8080/"
        },
        "id": "YF1RSm-Pxst5",
        "outputId": "551ba880-d0b0-4e3f-8edb-c53cd9fababa"
      },
      "execution_count": null,
      "outputs": [
        {
          "output_type": "stream",
          "name": "stdout",
          "text": [
            "\\data\\\n",
            "ngram 1=360209\n",
            "ngram 2=5476741\n",
            "ngram 3=18177681\n",
            "ngram 4=30374983\n",
            "ngram 5=37231651\n",
            "\n",
            "\\1-grams:\n",
            "-6.770219\t<unk>\t0\n",
            "0\t<s>\t-0.11831701\n",
            "0\t</s>\t-0.11831701\n",
            "-4.6095004\tåterupptagande\t-1.2174699\n",
            "-2.2361007\tav\t-0.79668784\n",
            "-4.8163533\tsessionen\t-0.37327805\n",
            "-2.2251768\tjag\t-1.4205662\n",
            "-4.181505\tförklarar\t-0.56261665\n",
            "-3.5790775\teuropaparlamentets\t-0.63611007\n",
            "-4.771945\tsession\t-0.3647111\n",
            "-5.8043895\tåterupptagen\t-0.3058712\n",
            "-2.8580177\tefter\t-0.7557702\n"
          ]
        }
      ]
    },
    {
      "cell_type": "markdown",
      "source": [
        "Great, this looks better! We're done at this point and all that is left to do is to correctly integrate the `\"ngram\"` with [`pyctcdecode`](https://github.com/kensho-technologies/pyctcdecode) and 🤗 Transformers."
      ],
      "metadata": {
        "id": "m7NfKtyjXCiE"
      }
    },
    {
      "cell_type": "markdown",
      "source": [
        "## **4. Combine an *n-gram* with Wav2Vec2**"
      ],
      "metadata": {
        "id": "kPImHXzDG8aH"
      }
    },
    {
      "cell_type": "markdown",
      "source": [
        "In a final step, we want to wrap the *5-gram* into a `Wav2Vec2ProcessorWithLM` object to make the *5-gram* boosted decoding as seamless as shown in Section 1.\n",
        "We start by downloading the currently \"LM-less\" processor of [`xls-r-300m-sv`](https://huggingface.co/hf-test/xls-r-300m-sv)."
      ],
      "metadata": {
        "id": "kfZ7qYvMXfSV"
      }
    },
    {
      "cell_type": "code",
      "source": [
        "from transformers import AutoProcessor\n",
        "\n",
        "processor = AutoProcessor.from_pretrained(\"hf-test/xls-r-300m-sv\")"
      ],
      "metadata": {
        "id": "paV71gdAtkDC"
      },
      "execution_count": null,
      "outputs": []
    },
    {
      "cell_type": "markdown",
      "source": [
        "Next, we extract the vocabulary of its tokenizer as it represents the `\"labels\"` of `pyctcdecode`'s `BeamSearchDecoder` class."
      ],
      "metadata": {
        "id": "sT0pDUmdYOx6"
      }
    },
    {
      "cell_type": "code",
      "source": [
        "vocab_dict = processor.tokenizer.get_vocab()\n",
        "sorted_vocab_dict = {k.lower(): v for k, v in sorted(vocab_dict.items(), key=lambda item: item[1])}"
      ],
      "metadata": {
        "id": "ZKwKxMoitoGS"
      },
      "execution_count": null,
      "outputs": []
    },
    {
      "cell_type": "markdown",
      "source": [
        "The `\"labels\"` and the previously built `5gram_correct.arpa` file is all that's needed to build the decoder. "
      ],
      "metadata": {
        "id": "o-jUBzFXYyCZ"
      }
    },
    {
      "cell_type": "code",
      "source": [
        "from pyctcdecode import build_ctcdecoder\n",
        "\n",
        "decoder = build_ctcdecoder(\n",
        "    labels=list(sorted_vocab_dict.keys()),\n",
        "    kenlm_model_path=\"5gram_correct.arpa\",\n",
        ")"
      ],
      "metadata": {
        "colab": {
          "base_uri": "https://localhost:8080/"
        },
        "id": "zTLzCLB2tQP7",
        "outputId": "cfe9bd47-7671-414b-9292-54e53dc6ed95"
      },
      "execution_count": null,
      "outputs": [
        {
          "output_type": "stream",
          "name": "stderr",
          "text": [
            "Found entries of length > 1 in alphabet. This is unusual unless style is BPE, but the alphabet was not recognized as BPE type. Is this correct?\n",
            "Unigrams and labels don't seem to agree.\n"
          ]
        }
      ]
    },
    {
      "cell_type": "markdown",
      "source": [
        "We can safely ignore the warning and all that is left to do now is to wrap the just created `decoder`, together with the processor's `tokenizer` and `feature_extractor` into a `Wav2Vec2ProcessorWithLM` class."
      ],
      "metadata": {
        "id": "IzJYQsSdZQ4-"
      }
    },
    {
      "cell_type": "code",
      "source": [
        "from transformers import Wav2Vec2ProcessorWithLM\n",
        "\n",
        "processor_with_lm = Wav2Vec2ProcessorWithLM(\n",
        "    feature_extractor=processor.feature_extractor,\n",
        "    tokenizer=processor.tokenizer,\n",
        "    decoder=decoder\n",
        ")"
      ],
      "metadata": {
        "id": "VBVf50EzZgAQ"
      },
      "execution_count": null,
      "outputs": []
    },
    {
      "cell_type": "markdown",
      "source": [
        "We want to directly upload the LM-boosted processor into \n",
        "the model folder of [`xls-r-300m-sv`](https://huggingface.co/hf-test/xls-r-300m-sv) to have all relevant files in one place.\n",
        "\n",
        "Let's clone the repo, add the new decoder files and upload them afterward.\n",
        "First, we need to install `git-lfs`."
      ],
      "metadata": {
        "id": "enhS2VRNZ79c"
      }
    },
    {
      "cell_type": "code",
      "source": [
        "!sudo apt-get install git-lfs tree"
      ],
      "metadata": {
        "id": "BZZm3ECc5TMP"
      },
      "execution_count": null,
      "outputs": []
    },
    {
      "cell_type": "markdown",
      "source": [
        "Cloning and uploading of modeling files can be done conveniently with the `huggingface_hub`'s `Repository` class. \n",
        "\n",
        "More information on how to use the `huggingface_hub` to upload any files, please take a look at the [official docs](https://huggingface.co/docs/hub/how-to-upstream)."
      ],
      "metadata": {
        "id": "bvo2rUbfa367"
      }
    },
    {
      "cell_type": "code",
      "source": [
        "from huggingface_hub import Repository\n",
        "\n",
        "repo = Repository(local_dir=\"xls-r-300m-sv\", clone_from=\"hf-test/xls-r-300m-sv\")"
      ],
      "metadata": {
        "colab": {
          "base_uri": "https://localhost:8080/"
        },
        "id": "fIfcunhF4YM6",
        "outputId": "5e014d6c-02b4-4ef4-9342-4078aebe8075"
      },
      "execution_count": null,
      "outputs": [
        {
          "output_type": "stream",
          "name": "stderr",
          "text": [
            "Cloning https://huggingface.co/hf-test/xls-r-300m-sv into local empty directory.\n"
          ]
        }
      ]
    },
    {
      "cell_type": "markdown",
      "source": [
        "Having cloned `xls-r-300m-sv`, let's save the new processor with LM into it."
      ],
      "metadata": {
        "id": "OaD20PvHbakc"
      }
    },
    {
      "cell_type": "code",
      "source": [
        "processor_with_lm.save_pretrained(\"xls-r-300m-sv\")"
      ],
      "metadata": {
        "id": "UZ1sWfPH2oce"
      },
      "execution_count": null,
      "outputs": []
    },
    {
      "cell_type": "markdown",
      "source": [
        "Let's inspect the local repository. The `tree` command conveniently can also show the size of the different files."
      ],
      "metadata": {
        "id": "TnkJ0iXvcITB"
      }
    },
    {
      "cell_type": "code",
      "source": [
        "!tree -h xls-r-300m-sv/"
      ],
      "metadata": {
        "colab": {
          "base_uri": "https://localhost:8080/"
        },
        "id": "ClyENOYFcC_C",
        "outputId": "7b6450af-b3ca-4976-965d-b47c6a4bda52"
      },
      "execution_count": null,
      "outputs": [
        {
          "output_type": "stream",
          "name": "stdout",
          "text": [
            "xls-r-300m-sv/\n",
            "├── [  23]  added_tokens.json\n",
            "├── [ 401]  all_results.json\n",
            "├── [ 253]  alphabet.json\n",
            "├── [2.0K]  config.json\n",
            "├── [ 304]  emissions.csv\n",
            "├── [ 226]  eval_results.json\n",
            "├── [4.0K]  language_model\n",
            "│   ├── [4.1G]  5gram_correct.arpa\n",
            "│   ├── [  78]  attrs.json\n",
            "│   └── [4.9M]  unigrams.txt\n",
            "├── [ 240]  preprocessor_config.json\n",
            "├── [1.2G]  pytorch_model.bin\n",
            "├── [3.5K]  README.md\n",
            "├── [4.0K]  runs\n",
            "│   └── [4.0K]  Jan09_22-00-50_brutasse\n",
            "│       ├── [4.0K]  1641765760.8871996\n",
            "│       │   └── [4.6K]  events.out.tfevents.1641765760.brutasse.31164.1\n",
            "│       ├── [ 42K]  events.out.tfevents.1641765760.brutasse.31164.0\n",
            "│       └── [ 364]  events.out.tfevents.1641794162.brutasse.31164.2\n",
            "├── [1.2K]  run.sh\n",
            "├── [ 30K]  run_speech_recognition_ctc.py\n",
            "├── [ 502]  special_tokens_map.json\n",
            "├── [ 279]  tokenizer_config.json\n",
            "├── [ 29K]  trainer_state.json\n",
            "├── [2.9K]  training_args.bin\n",
            "├── [ 196]  train_results.json\n",
            "├── [ 319]  vocab.json\n",
            "└── [4.0K]  wandb\n",
            "    ├── [  52]  debug-internal.log -> run-20220109_220240-1g372i3v/logs/debug-internal.log\n",
            "    ├── [  43]  debug.log -> run-20220109_220240-1g372i3v/logs/debug.log\n",
            "    ├── [  28]  latest-run -> run-20220109_220240-1g372i3v\n",
            "    └── [4.0K]  run-20220109_220240-1g372i3v\n",
            "        ├── [4.0K]  files\n",
            "        │   ├── [8.8K]  conda-environment.yaml\n",
            "        │   ├── [140K]  config.yaml\n",
            "        │   ├── [4.7M]  output.log\n",
            "        │   ├── [5.4K]  requirements.txt\n",
            "        │   ├── [2.1K]  wandb-metadata.json\n",
            "        │   └── [653K]  wandb-summary.json\n",
            "        ├── [4.0K]  logs\n",
            "        │   ├── [3.4M]  debug-internal.log\n",
            "        │   └── [8.2K]  debug.log\n",
            "        └── [113M]  run-1g372i3v.wandb\n",
            "\n",
            "9 directories, 34 files\n"
          ]
        }
      ]
    },
    {
      "cell_type": "markdown",
      "source": [
        "As can be seen the *5-gram* LM is quite large - it amounts to more than 4 GB.\n",
        "To reduce the size of the *n-gram* and make loading faster, `kenLM` allows converting `.arpa` files to binary ones using the `build_binary` executable.\n",
        "\n",
        "Let's make use of it here."
      ],
      "metadata": {
        "id": "kIRC6UcOcRMP"
      }
    },
    {
      "cell_type": "code",
      "source": [
        "!kenlm/build/bin/build_binary xls-r-300m-sv/language_model/5gram_correct.arpa xls-r-300m-sv/language_model/5gram.bin"
      ],
      "metadata": {
        "colab": {
          "base_uri": "https://localhost:8080/"
        },
        "id": "X9qg4FPt2zi8",
        "outputId": "16608710-30b3-4a0e-d07c-73a8373da7b8"
      },
      "execution_count": null,
      "outputs": [
        {
          "output_type": "stream",
          "name": "stdout",
          "text": [
            "Reading xls-r-300m-sv/language_model/5gram_correct.arpa\n",
            "----5---10---15---20---25---30---35---40---45---50---55---60---65---70---75---80---85---90---95--100\n",
            "****************************************************************************************************\n",
            "SUCCESS\n"
          ]
        }
      ]
    },
    {
      "cell_type": "markdown",
      "source": [
        "Great, it worked! Let's remove the `.arpa` file and check the size of the binary *5-gram* LM."
      ],
      "metadata": {
        "id": "fY2M8k2KdCNM"
      }
    },
    {
      "cell_type": "code",
      "source": [
        "!rm xls-r-300m-sv/language_model/5gram_correct.arpa && tree -h xls-r-300m-sv/"
      ],
      "metadata": {
        "colab": {
          "base_uri": "https://localhost:8080/"
        },
        "id": "Zn4J-4OZdMPc",
        "outputId": "e6a0c124-9cab-4f13-82c5-aa00e6a58a84"
      },
      "execution_count": null,
      "outputs": [
        {
          "output_type": "stream",
          "name": "stdout",
          "text": [
            "xls-r-300m-sv/\n",
            "├── [  23]  added_tokens.json\n",
            "├── [ 401]  all_results.json\n",
            "├── [ 253]  alphabet.json\n",
            "├── [2.0K]  config.json\n",
            "├── [ 304]  emissions.csv\n",
            "├── [ 226]  eval_results.json\n",
            "├── [4.0K]  language_model\n",
            "│   ├── [1.8G]  5gram.bin\n",
            "│   ├── [  78]  attrs.json\n",
            "│   └── [4.9M]  unigrams.txt\n",
            "├── [ 240]  preprocessor_config.json\n",
            "├── [1.2G]  pytorch_model.bin\n",
            "├── [3.5K]  README.md\n",
            "├── [4.0K]  runs\n",
            "│   └── [4.0K]  Jan09_22-00-50_brutasse\n",
            "│       ├── [4.0K]  1641765760.8871996\n",
            "│       │   └── [4.6K]  events.out.tfevents.1641765760.brutasse.31164.1\n",
            "│       ├── [ 42K]  events.out.tfevents.1641765760.brutasse.31164.0\n",
            "│       └── [ 364]  events.out.tfevents.1641794162.brutasse.31164.2\n",
            "├── [1.2K]  run.sh\n",
            "├── [ 30K]  run_speech_recognition_ctc.py\n",
            "├── [ 502]  special_tokens_map.json\n",
            "├── [ 279]  tokenizer_config.json\n",
            "├── [ 29K]  trainer_state.json\n",
            "├── [2.9K]  training_args.bin\n",
            "├── [ 196]  train_results.json\n",
            "├── [ 319]  vocab.json\n",
            "└── [4.0K]  wandb\n",
            "    ├── [  52]  debug-internal.log -> run-20220109_220240-1g372i3v/logs/debug-internal.log\n",
            "    ├── [  43]  debug.log -> run-20220109_220240-1g372i3v/logs/debug.log\n",
            "    ├── [  28]  latest-run -> run-20220109_220240-1g372i3v\n",
            "    └── [4.0K]  run-20220109_220240-1g372i3v\n",
            "        ├── [4.0K]  files\n",
            "        │   ├── [8.8K]  conda-environment.yaml\n",
            "        │   ├── [140K]  config.yaml\n",
            "        │   ├── [4.7M]  output.log\n",
            "        │   ├── [5.4K]  requirements.txt\n",
            "        │   ├── [2.1K]  wandb-metadata.json\n",
            "        │   └── [653K]  wandb-summary.json\n",
            "        ├── [4.0K]  logs\n",
            "        │   ├── [3.4M]  debug-internal.log\n",
            "        │   └── [8.2K]  debug.log\n",
            "        └── [113M]  run-1g372i3v.wandb\n",
            "\n",
            "9 directories, 34 files\n"
          ]
        }
      ]
    },
    {
      "cell_type": "markdown",
      "source": [
        "Nice, we reduced the *n-gram* by more than half to less than 2GB now. In the final step, let's upload all files."
      ],
      "metadata": {
        "id": "4g112tF_dgIc"
      }
    },
    {
      "cell_type": "code",
      "source": [
        "repo.push_to_hub(commit_message=\"Upload lm-boosted decoder\")"
      ],
      "metadata": {
        "colab": {
          "base_uri": "https://localhost:8080/"
        },
        "id": "WEV1sx6ee3aT",
        "outputId": "18c021dc-66a3-4736-ee42-609207739abc"
      },
      "execution_count": null,
      "outputs": [
        {
          "output_type": "stream",
          "name": "stdout",
          "text": [
            "Git LFS: (1 of 1 files) 1.85 GB / 1.85 GB\n",
            "Counting objects: 9, done.\n",
            "Delta compression using up to 2 threads.\n",
            "Compressing objects: 100% (9/9), done.\n",
            "Writing objects: 100% (9/9), 1.23 MiB | 1.92 MiB/s, done.\n",
            "Total 9 (delta 3), reused 0 (delta 0)\n",
            "To https://huggingface.co/hf-test/xls-r-300m-sv\n",
            "   27d0c57..5a191e2  main -> main\n"
          ]
        }
      ]
    },
    {
      "cell_type": "markdown",
      "source": [
        "That's it. Now you should be able to use the *5gram* for LM-boosted decoding as shown in Section 1.\n",
        "\n",
        "As can be seen on [`xls-r-300m-sv`'s model card](https://huggingface.co/hf-test/xls-r-300m-sv#inference-with-lm) our *5gram* LM-boosted decoder yields a WER of 18.85% on Common Voice's 7 test set which is a relative performance of *ca.* 30% 🔥."
      ],
      "metadata": {
        "id": "gUPAx3_MdyQv"
      }
    }
  ]
}
